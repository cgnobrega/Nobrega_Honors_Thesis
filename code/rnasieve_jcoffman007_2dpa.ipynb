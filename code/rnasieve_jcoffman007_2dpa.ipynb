{
 "cells": [
  {
   "cell_type": "code",
   "execution_count": 1,
   "metadata": {},
   "outputs": [
    {
     "name": "stdout",
     "output_type": "stream",
     "text": [
      "0.7.8\n"
     ]
    }
   ],
   "source": [
    "import numpy as np\n",
    "import pandas as pd\n",
    "#!pip install anndata --target D:/usr/local/lib/python3.8/dist-packages\n",
    "import anndata as ad\n",
    "from collections import defaultdict\n",
    "from rnasieve.preprocessing import model_from_raw_counts\n",
    "print(ad.__version__)"
   ]
  },
  {
   "cell_type": "markdown",
   "metadata": {},
   "source": [
    "This file uses guidance from https://github.com/theislab/anndata-tutorials/blob/master/getting-started.ipynb\n",
    " to get the jcoffman008 data as an AnnData structure so that it can be used for RNAsieve as in https://github.com/songlab-cal/rna-sieve\n"
   ]
  },
  {
   "cell_type": "code",
   "execution_count": 2,
   "metadata": {},
   "outputs": [],
   "source": [
    "##-----loading in jcoffman007 expression and design data -----\n",
    "#load in jcoffman007 count data (raw counts)\n",
    "widejcoffman007_count = pd.read_csv(\"bulk_count_2dpa.csv.gz\", compression=\"gzip\")\n",
    "#changing GeneID_genename format to just GeneID\n",
    "# widejcoffman007_count[\"gene_id\"]=widejcoffman007_count[\"gene_id\"].str[:18]\n",
    "#load in design file. note that each row is a sample that matches up with the \"data\" dataframe  \n",
    "jcoffman007_design= pd.read_csv(\"bulk_design_2dpa.csv.gz\", compression=\"gzip\",index_col=0)\n",
    "\n",
    "\n",
    "##-----loading in atlas expression and design data----- \n",
    "#uploading the expression data for the reference (atlas)\n",
    "wideatlas_count = pd.read_csv(\"single_count_2dpa.csv.gz\", compression=\"gzip\")\n",
    "#changing GeneID|genename format to just GeneID\n",
    "# wideatlas_count[\"gene\"]=wideatlas_count[\"gene\"].str[:18]\n",
    "#uploading the meta/\"obs\" for the reference (atlas)\n",
    "''' \n",
    "atlas_meta_alldpf = pd.read_csv(\"meta.tsv\", sep=\"\\t\",index_col=0)\n",
    "#restricting meta to only 5dpf \n",
    "sample_names_5dpf= ['5a_5dpf', '5b_5dpf']\n",
    "atlas_meta= atlas_meta_alldpf[atlas_meta_alldpf['sample_name'].isin(sample_names_5dpf)]\n",
    "'''\n",
    "atlas_design = pd.read_csv(\"single_design_2dpa.csv.gz\", compression=\"gzip\",index_col=0)\n"
   ]
  },
  {
   "cell_type": "code",
   "execution_count": 3,
   "metadata": {},
   "outputs": [
    {
     "name": "stdout",
     "output_type": "stream",
     "text": [
      "there are 24324 genes that are in both the atlas and jcoffman007 count data\n"
     ]
    }
   ],
   "source": [
    "#altering both expression datasets to contain identical sets of genes \n",
    "jcoffman007_genes= widejcoffman007_count[\"genes\"].tolist()\n",
    "atlas_genes= wideatlas_count[\"genes\"].tolist()\n",
    "genes_in_both= list(set(jcoffman007_genes) & set(atlas_genes))\n",
    "print(\"there are\",len(genes_in_both),\"genes that are in both the atlas and jcoffman007 count data\") \n",
    "widejcoffman007_count=widejcoffman007_count[widejcoffman007_count[\"genes\"].isin(genes_in_both)]\n",
    "wideatlas_count=wideatlas_count[wideatlas_count[\"genes\"].isin(genes_in_both)]\n",
    "#sorting to be in same order\n",
    "widejcoffman007_count=widejcoffman007_count.sort_values(by=['genes'])\n",
    "wideatlas_count=wideatlas_count.sort_values(by=['genes'])"
   ]
  },
  {
   "cell_type": "code",
   "execution_count": 4,
   "metadata": {},
   "outputs": [],
   "source": [
    "#------making annData structure that holds the counts and meta for jcoffman007-----\n",
    "#convert to having genes as columns, samples as rows (first have to make the gene ID the row label)\n",
    "widejcoffman007_count= widejcoffman007_count.set_index(\"genes\")\n",
    "jcoffman007_count= widejcoffman007_count.transpose()\n",
    "jcoffman007 = ad.AnnData(jcoffman007_count, obs=jcoffman007_design)\n",
    "\n",
    "#-----making annData structure that holds the counts and meta for atlas----- \n",
    "wideatlas_count=wideatlas_count.set_index(\"genes\")\n",
    "atlas_count= wideatlas_count.transpose()\n",
    "atlas = ad.AnnData(atlas_count, obs=atlas_design)"
   ]
  },
  {
   "cell_type": "code",
   "execution_count": 5,
   "metadata": {},
   "outputs": [
    {
     "name": "stdout",
     "output_type": "stream",
     "text": [
      "Aggregating by cluster...\n",
      "Aggregating bulks by name...\n",
      "Done!\n"
     ]
    }
   ],
   "source": [
    "#modeling off of the raw counts prep section from example.ipynb from song lab github\n",
    "\n",
    "# grouping the cells in the reference data by cluster \n",
    "print('Aggregating by cluster...')\n",
    "counts_by_cluster = {}\n",
    "for i in range(len(atlas)):\n",
    "    sc = atlas[i]\n",
    "    if len(sc.obs['major.cl']) == 0:\n",
    "        continue\n",
    "    cell_cluster = sc.obs['major.cl'][0]\n",
    "    if cell_cluster not in counts_by_cluster:\n",
    "        counts_by_cluster[cell_cluster] = np.empty((sc.X.shape[1], 0), dtype=np.float32)\n",
    "    counts_by_cluster[cell_cluster] = np.hstack(\n",
    "        (counts_by_cluster[cell_cluster], sc.X.toarray().reshape(-1, 1)))\n",
    "    \n",
    "\n",
    "# Bulk prep\n",
    "print('Aggregating bulks by name...')\n",
    "G = jcoffman007.n_vars\n",
    "bulk_by_time = defaultdict(list)\n",
    "for i in range(len(jcoffman007)):\n",
    "    bulk = jcoffman007[i]\n",
    "    if len(bulk.obs['name']) == 0:\n",
    "        continue\n",
    "    time = bulk.obs['name'][0]\n",
    "    bulk_by_time[time].append(bulk.X.toarray().reshape(-1, 1))\n",
    "\n",
    "bulk_labels = []\n",
    "psis = np.empty((G, 0), dtype=np.float32)\n",
    "for name in sorted(bulk_by_time.keys()):\n",
    "    bulks = bulk_by_time[name]\n",
    "    for i in range(len(bulks)):\n",
    "        bulk_labels.append(\"{} name, subject {}\".format(name, i))\n",
    "        psis = np.hstack((psis, bulks[i]))\n",
    "        \n",
    "print('Done!')"
   ]
  },
  {
   "cell_type": "code",
   "execution_count": 6,
   "metadata": {},
   "outputs": [
    {
     "data": {
      "text/plain": [
       "(24324, 2572)"
      ]
     },
     "execution_count": 6,
     "metadata": {},
     "output_type": "execute_result"
    }
   ],
   "source": [
    "counts_by_cluster['Intermediate Epithelial'].shape"
   ]
  },
  {
   "cell_type": "code",
   "execution_count": 7,
   "metadata": {},
   "outputs": [],
   "source": [
    "model, cleaned_psis = model_from_raw_counts(counts_by_cluster, psis[:, :18])"
   ]
  },
  {
   "cell_type": "code",
   "execution_count": 8,
   "metadata": {},
   "outputs": [
    {
     "data": {
      "text/html": [
       "<div>\n",
       "<style scoped>\n",
       "    .dataframe tbody tr th:only-of-type {\n",
       "        vertical-align: middle;\n",
       "    }\n",
       "\n",
       "    .dataframe tbody tr th {\n",
       "        vertical-align: top;\n",
       "    }\n",
       "\n",
       "    .dataframe thead th {\n",
       "        text-align: right;\n",
       "    }\n",
       "</style>\n",
       "<table border=\"1\" class=\"dataframe\">\n",
       "  <thead>\n",
       "    <tr style=\"text-align: right;\">\n",
       "      <th></th>\n",
       "      <th>Bulk 0</th>\n",
       "      <th>Bulk 1</th>\n",
       "      <th>Bulk 2</th>\n",
       "      <th>Bulk 3</th>\n",
       "      <th>Bulk 4</th>\n",
       "      <th>Bulk 5</th>\n",
       "    </tr>\n",
       "  </thead>\n",
       "  <tbody>\n",
       "    <tr>\n",
       "      <th>0</th>\n",
       "      <td>3169.714111</td>\n",
       "      <td>2648.003418</td>\n",
       "      <td>3220.527832</td>\n",
       "      <td>2571.190918</td>\n",
       "      <td>2599.433105</td>\n",
       "      <td>2772.922852</td>\n",
       "    </tr>\n",
       "    <tr>\n",
       "      <th>1</th>\n",
       "      <td>1028.000000</td>\n",
       "      <td>922.000000</td>\n",
       "      <td>997.000000</td>\n",
       "      <td>853.000000</td>\n",
       "      <td>834.000000</td>\n",
       "      <td>815.000000</td>\n",
       "    </tr>\n",
       "    <tr>\n",
       "      <th>2</th>\n",
       "      <td>3111.187256</td>\n",
       "      <td>2748.340088</td>\n",
       "      <td>3177.886719</td>\n",
       "      <td>3509.776855</td>\n",
       "      <td>3487.701904</td>\n",
       "      <td>2715.402588</td>\n",
       "    </tr>\n",
       "    <tr>\n",
       "      <th>3</th>\n",
       "      <td>173177.500000</td>\n",
       "      <td>162114.765625</td>\n",
       "      <td>183359.062500</td>\n",
       "      <td>158043.296875</td>\n",
       "      <td>128596.046875</td>\n",
       "      <td>121123.156250</td>\n",
       "    </tr>\n",
       "    <tr>\n",
       "      <th>4</th>\n",
       "      <td>1127.342651</td>\n",
       "      <td>1007.000000</td>\n",
       "      <td>1176.000000</td>\n",
       "      <td>1362.000000</td>\n",
       "      <td>1084.214111</td>\n",
       "      <td>1094.000000</td>\n",
       "    </tr>\n",
       "    <tr>\n",
       "      <th>...</th>\n",
       "      <td>...</td>\n",
       "      <td>...</td>\n",
       "      <td>...</td>\n",
       "      <td>...</td>\n",
       "      <td>...</td>\n",
       "      <td>...</td>\n",
       "    </tr>\n",
       "    <tr>\n",
       "      <th>6176</th>\n",
       "      <td>421.000000</td>\n",
       "      <td>348.000000</td>\n",
       "      <td>452.000000</td>\n",
       "      <td>219.000000</td>\n",
       "      <td>225.000000</td>\n",
       "      <td>234.000000</td>\n",
       "    </tr>\n",
       "    <tr>\n",
       "      <th>6177</th>\n",
       "      <td>7920.672363</td>\n",
       "      <td>5529.533691</td>\n",
       "      <td>7514.861816</td>\n",
       "      <td>5661.808105</td>\n",
       "      <td>6905.750977</td>\n",
       "      <td>5512.356445</td>\n",
       "    </tr>\n",
       "    <tr>\n",
       "      <th>6178</th>\n",
       "      <td>921.379761</td>\n",
       "      <td>827.557495</td>\n",
       "      <td>966.561523</td>\n",
       "      <td>810.771240</td>\n",
       "      <td>815.942383</td>\n",
       "      <td>760.369873</td>\n",
       "    </tr>\n",
       "    <tr>\n",
       "      <th>6179</th>\n",
       "      <td>2319.089600</td>\n",
       "      <td>2001.473755</td>\n",
       "      <td>2300.756104</td>\n",
       "      <td>1894.161743</td>\n",
       "      <td>1949.288330</td>\n",
       "      <td>1831.039551</td>\n",
       "    </tr>\n",
       "    <tr>\n",
       "      <th>6180</th>\n",
       "      <td>31.585661</td>\n",
       "      <td>20.397648</td>\n",
       "      <td>33.140999</td>\n",
       "      <td>36.029999</td>\n",
       "      <td>45.525566</td>\n",
       "      <td>40.161247</td>\n",
       "    </tr>\n",
       "  </tbody>\n",
       "</table>\n",
       "<p>6181 rows × 6 columns</p>\n",
       "</div>"
      ],
      "text/plain": [
       "             Bulk 0         Bulk 1         Bulk 2         Bulk 3  \\\n",
       "0       3169.714111    2648.003418    3220.527832    2571.190918   \n",
       "1       1028.000000     922.000000     997.000000     853.000000   \n",
       "2       3111.187256    2748.340088    3177.886719    3509.776855   \n",
       "3     173177.500000  162114.765625  183359.062500  158043.296875   \n",
       "4       1127.342651    1007.000000    1176.000000    1362.000000   \n",
       "...             ...            ...            ...            ...   \n",
       "6176     421.000000     348.000000     452.000000     219.000000   \n",
       "6177    7920.672363    5529.533691    7514.861816    5661.808105   \n",
       "6178     921.379761     827.557495     966.561523     810.771240   \n",
       "6179    2319.089600    2001.473755    2300.756104    1894.161743   \n",
       "6180      31.585661      20.397648      33.140999      36.029999   \n",
       "\n",
       "             Bulk 4         Bulk 5  \n",
       "0       2599.433105    2772.922852  \n",
       "1        834.000000     815.000000  \n",
       "2       3487.701904    2715.402588  \n",
       "3     128596.046875  121123.156250  \n",
       "4       1084.214111    1094.000000  \n",
       "...             ...            ...  \n",
       "6176     225.000000     234.000000  \n",
       "6177    6905.750977    5512.356445  \n",
       "6178     815.942383     760.369873  \n",
       "6179    1949.288330    1831.039551  \n",
       "6180      45.525566      40.161247  \n",
       "\n",
       "[6181 rows x 6 columns]"
      ]
     },
     "execution_count": 8,
     "metadata": {},
     "output_type": "execute_result"
    }
   ],
   "source": [
    "cleaned_psis"
   ]
  },
  {
   "cell_type": "code",
   "execution_count": 9,
   "metadata": {},
   "outputs": [],
   "source": [
    "output_table= model.predict(cleaned_psis) #this takes a minute ... \n",
    "output_table.to_csv('rnasieve_jcoffman007_2dpa.csv')"
   ]
  },
  {
   "cell_type": "code",
   "execution_count": 10,
   "metadata": {},
   "outputs": [
    {
     "data": {
      "text/plain": [
       "[[(0.39279904904862045, 0.4339203598266686),\n",
       "  (0.013543772263789241, 0.02122437598862047),\n",
       "  (0.03354331621423261, 0.0791739657618851),\n",
       "  (0.1868903603033549, 0.2105979045726495),\n",
       "  (0.023811115050614957, 0.044052833240915974),\n",
       "  (0.25933282957994214, 0.30111011814870575)],\n",
       " [(0.39523212355206416, 0.43509272822748724),\n",
       "  (0.014397424306273585, 0.021662071882900747),\n",
       "  (0.04724168701029156, 0.09263505173123268),\n",
       "  (0.18895122244120732, 0.21227417464374565),\n",
       "  (0.027345830234615277, 0.0427759011426959),\n",
       "  (0.24079961565798308, 0.28159216916950275)],\n",
       " [(0.0, 1.0), (0.0, 1.0), (0.0, 1.0), (0.0, 1.0), (0.0, 1.0), (0.0, 1.0)],\n",
       " [(0.3825627347521914, 0.42460667723098044),\n",
       "  (0.042236935317331595, 0.059114815400906365),\n",
       "  (0.0, 0.0031438711640459824),\n",
       "  (0.1639263419085366, 0.18934736279739767),\n",
       "  (0.02120754169009811, 0.047722006368559805),\n",
       "  (0.3136193980423656, 0.3556561864916322)],\n",
       " [(0.3692754126893953, 0.41000420294547885),\n",
       "  (0.035122619082586765, 0.04904958533089812),\n",
       "  (0.0, 0.006322513494321348),\n",
       "  (0.19892975719422057, 0.22608866557989793),\n",
       "  (0.021918462988668636, 0.044544029428394846),\n",
       "  (0.30240298610372024, 0.3426642786567388)],\n",
       " [(0.0, 1.0), (0.0, 1.0), (0.0, 1.0), (0.0, 1.0), (0.0, 1.0), (0.0, 1.0)]]"
      ]
     },
     "execution_count": 10,
     "metadata": {},
     "output_type": "execute_result"
    }
   ],
   "source": [
    "# In this example, the intervals at a significance level of 0.05 indicate the estimate is poor.\n",
    "# We set sig=0.9999 for the sake of visualization.\n",
    "model.compute_marginal_confidence_intervals(sig=0.2)"
   ]
  },
  {
   "cell_type": "code",
   "execution_count": 11,
   "metadata": {},
   "outputs": [
    {
     "data": {
      "text/html": [
       "\n",
       "<div id=\"altair-viz-b1e6787027f04e0a9b50bd17627fd072\"></div>\n",
       "<script type=\"text/javascript\">\n",
       "  var VEGA_DEBUG = (typeof VEGA_DEBUG == \"undefined\") ? {} : VEGA_DEBUG;\n",
       "  (function(spec, embedOpt){\n",
       "    let outputDiv = document.currentScript.previousElementSibling;\n",
       "    if (outputDiv.id !== \"altair-viz-b1e6787027f04e0a9b50bd17627fd072\") {\n",
       "      outputDiv = document.getElementById(\"altair-viz-b1e6787027f04e0a9b50bd17627fd072\");\n",
       "    }\n",
       "    const paths = {\n",
       "      \"vega\": \"https://cdn.jsdelivr.net/npm//vega@5?noext\",\n",
       "      \"vega-lib\": \"https://cdn.jsdelivr.net/npm//vega-lib?noext\",\n",
       "      \"vega-lite\": \"https://cdn.jsdelivr.net/npm//vega-lite@4.17.0?noext\",\n",
       "      \"vega-embed\": \"https://cdn.jsdelivr.net/npm//vega-embed@6?noext\",\n",
       "    };\n",
       "\n",
       "    function maybeLoadScript(lib, version) {\n",
       "      var key = `${lib.replace(\"-\", \"\")}_version`;\n",
       "      return (VEGA_DEBUG[key] == version) ?\n",
       "        Promise.resolve(paths[lib]) :\n",
       "        new Promise(function(resolve, reject) {\n",
       "          var s = document.createElement('script');\n",
       "          document.getElementsByTagName(\"head\")[0].appendChild(s);\n",
       "          s.async = true;\n",
       "          s.onload = () => {\n",
       "            VEGA_DEBUG[key] = version;\n",
       "            return resolve(paths[lib]);\n",
       "          };\n",
       "          s.onerror = () => reject(`Error loading script: ${paths[lib]}`);\n",
       "          s.src = paths[lib];\n",
       "        });\n",
       "    }\n",
       "\n",
       "    function showError(err) {\n",
       "      outputDiv.innerHTML = `<div class=\"error\" style=\"color:red;\">${err}</div>`;\n",
       "      throw err;\n",
       "    }\n",
       "\n",
       "    function displayChart(vegaEmbed) {\n",
       "      vegaEmbed(outputDiv, spec, embedOpt)\n",
       "        .catch(err => showError(`Javascript Error: ${err.message}<br>This usually means there's a typo in your chart specification. See the javascript console for the full traceback.`));\n",
       "    }\n",
       "\n",
       "    if(typeof define === \"function\" && define.amd) {\n",
       "      requirejs.config({paths});\n",
       "      require([\"vega-embed\"], displayChart, err => showError(`Error loading script: ${err.message}`));\n",
       "    } else {\n",
       "      maybeLoadScript(\"vega\", \"5\")\n",
       "        .then(() => maybeLoadScript(\"vega-lite\", \"4.17.0\"))\n",
       "        .then(() => maybeLoadScript(\"vega-embed\", \"6\"))\n",
       "        .catch(showError)\n",
       "        .then(() => displayChart(vegaEmbed));\n",
       "    }\n",
       "  })({\"config\": {\"view\": {\"continuousWidth\": 400, \"continuousHeight\": 300}}, \"data\": {\"name\": \"data-b073ded25fb3da4830ee53681942ce66\"}, \"facet\": {\"column\": {\"field\": \"index\", \"title\": \"Bulk\", \"type\": \"nominal\"}}, \"spec\": {\"layer\": [{\"mark\": \"bar\", \"encoding\": {\"color\": {\"field\": \"cell_type\", \"type\": \"nominal\"}, \"x\": {\"axis\": {\"labels\": false, \"title\": \"Cell Type\"}, \"field\": \"cell_type\", \"type\": \"nominal\"}, \"y\": {\"axis\": {\"title\": \"Proportion\"}, \"field\": \"proportion\", \"type\": \"quantitative\"}}}, {\"mark\": \"errorbar\", \"encoding\": {\"x\": {\"axis\": {\"labels\": false, \"title\": \"Cell Type\"}, \"field\": \"cell_type\", \"type\": \"nominal\"}, \"y\": {\"field\": \"ci_low\", \"type\": \"quantitative\"}, \"y2\": {\"field\": \"ci_high\"}}}]}, \"title\": \"Bar visualization \", \"$schema\": \"https://vega.github.io/schema/vega-lite/v4.17.0.json\", \"datasets\": {\"data-b073ded25fb3da4830ee53681942ce66\": [{\"index\": \"Bulk 0\", \"cell_type\": \"Basal Epithelial\", \"proportion\": 0.4133597044376445, \"ci_err\": 0.020560655389024074, \"ci_low\": 0.39279904904862045, \"ci_high\": 0.4339203598266686}, {\"index\": \"Bulk 1\", \"cell_type\": \"Basal Epithelial\", \"proportion\": 0.4151624258897757, \"ci_err\": 0.019930302337711536, \"ci_low\": 0.39523212355206416, \"ci_high\": 0.43509272822748724}, {\"index\": \"Bulk 2\", \"cell_type\": \"Basal Epithelial\", \"proportion\": 0.41334547812735867, \"ci_err\": 0.5, \"ci_low\": 0.0, \"ci_high\": 0.9133454781273587}, {\"index\": \"Bulk 3\", \"cell_type\": \"Basal Epithelial\", \"proportion\": 0.4035847059915859, \"ci_err\": 0.021021971239394532, \"ci_low\": 0.3825627347521914, \"ci_high\": 0.42460667723098044}, {\"index\": \"Bulk 4\", \"cell_type\": \"Basal Epithelial\", \"proportion\": 0.38963980781743707, \"ci_err\": 0.02036439512804178, \"ci_low\": 0.3692754126893953, \"ci_high\": 0.41000420294547885}, {\"index\": \"Bulk 5\", \"cell_type\": \"Basal Epithelial\", \"proportion\": 0.38613558961313005, \"ci_err\": 0.5, \"ci_low\": 0.0, \"ci_high\": 0.88613558961313}, {\"index\": \"Bulk 0\", \"cell_type\": \"Hematopoietic\", \"proportion\": 0.017384074126204855, \"ci_err\": 0.0038403018624156146, \"ci_low\": 0.01354377226378924, \"ci_high\": 0.02122437598862047}, {\"index\": \"Bulk 1\", \"cell_type\": \"Hematopoietic\", \"proportion\": 0.018029748094587166, \"ci_err\": 0.003632323788313581, \"ci_low\": 0.014397424306273585, \"ci_high\": 0.021662071882900747}, {\"index\": \"Bulk 2\", \"cell_type\": \"Hematopoietic\", \"proportion\": 0.01410949532551442, \"ci_err\": 0.5, \"ci_low\": 0.0, \"ci_high\": 0.5141094953255144}, {\"index\": \"Bulk 3\", \"cell_type\": \"Hematopoietic\", \"proportion\": 0.05067587535911898, \"ci_err\": 0.008438940041787385, \"ci_low\": 0.042236935317331595, \"ci_high\": 0.059114815400906365}, {\"index\": \"Bulk 4\", \"cell_type\": \"Hematopoietic\", \"proportion\": 0.04208610220674244, \"ci_err\": 0.006963483124155678, \"ci_low\": 0.035122619082586765, \"ci_high\": 0.04904958533089812}, {\"index\": \"Bulk 5\", \"cell_type\": \"Hematopoietic\", \"proportion\": 0.02623267417409448, \"ci_err\": 0.5, \"ci_low\": 0.0, \"ci_high\": 0.5262326741740945}, {\"index\": \"Bulk 0\", \"cell_type\": \"Intermediate Epithelial\", \"proportion\": 0.05635864098805885, \"ci_err\": 0.022815324773826244, \"ci_low\": 0.03354331621423261, \"ci_high\": 0.0791739657618851}, {\"index\": \"Bulk 1\", \"cell_type\": \"Intermediate Epithelial\", \"proportion\": 0.06993836937076212, \"ci_err\": 0.022696682360470562, \"ci_low\": 0.04724168701029155, \"ci_high\": 0.09263505173123268}, {\"index\": \"Bulk 2\", \"cell_type\": \"Intermediate Epithelial\", \"proportion\": 0.07313350450973517, \"ci_err\": 0.5, \"ci_low\": 0.0, \"ci_high\": 0.5731335045097352}, {\"index\": \"Bulk 3\", \"cell_type\": \"Intermediate Epithelial\", \"proportion\": 0.0, \"ci_err\": 0.0015719355820229912, \"ci_low\": 0.0, \"ci_high\": 0.0015719355820229912}, {\"index\": \"Bulk 4\", \"cell_type\": \"Intermediate Epithelial\", \"proportion\": 0.0, \"ci_err\": 0.003161256747160674, \"ci_low\": 0.0, \"ci_high\": 0.003161256747160674}, {\"index\": \"Bulk 5\", \"cell_type\": \"Intermediate Epithelial\", \"proportion\": 0.0, \"ci_err\": 0.5, \"ci_low\": 0.0, \"ci_high\": 0.5}, {\"index\": \"Bulk 0\", \"cell_type\": \"Mesenchymal\", \"proportion\": 0.1987441324380022, \"ci_err\": 0.011853772134647306, \"ci_low\": 0.1868903603033549, \"ci_high\": 0.2105979045726495}, {\"index\": \"Bulk 1\", \"cell_type\": \"Mesenchymal\", \"proportion\": 0.2006126985424765, \"ci_err\": 0.011661476101269164, \"ci_low\": 0.18895122244120732, \"ci_high\": 0.21227417464374565}, {\"index\": \"Bulk 2\", \"cell_type\": \"Mesenchymal\", \"proportion\": 0.19628584775450836, \"ci_err\": 0.5, \"ci_low\": 0.0, \"ci_high\": 0.6962858477545084}, {\"index\": \"Bulk 3\", \"cell_type\": \"Mesenchymal\", \"proportion\": 0.17663685235296714, \"ci_err\": 0.012710510444430528, \"ci_low\": 0.1639263419085366, \"ci_high\": 0.18934736279739767}, {\"index\": \"Bulk 4\", \"cell_type\": \"Mesenchymal\", \"proportion\": 0.21250921138705925, \"ci_err\": 0.01357945419283868, \"ci_low\": 0.19892975719422057, \"ci_high\": 0.22608866557989793}, {\"index\": \"Bulk 5\", \"cell_type\": \"Mesenchymal\", \"proportion\": 0.21685528047800648, \"ci_err\": 0.5, \"ci_low\": 0.0, \"ci_high\": 0.7168552804780065}, {\"index\": \"Bulk 0\", \"cell_type\": \"Mucosal-like\", \"proportion\": 0.033931974145765466, \"ci_err\": 0.010120859095150508, \"ci_low\": 0.023811115050614957, \"ci_high\": 0.044052833240915974}, {\"index\": \"Bulk 1\", \"cell_type\": \"Mucosal-like\", \"proportion\": 0.03506086568865559, \"ci_err\": 0.007715035454040313, \"ci_low\": 0.027345830234615273, \"ci_high\": 0.0427759011426959}, {\"index\": \"Bulk 2\", \"cell_type\": \"Mucosal-like\", \"proportion\": 0.0335659140184747, \"ci_err\": 0.5, \"ci_low\": 0.0, \"ci_high\": 0.5335659140184748}, {\"index\": \"Bulk 3\", \"cell_type\": \"Mucosal-like\", \"proportion\": 0.03446477402932896, \"ci_err\": 0.013257232339230847, \"ci_low\": 0.021207541690098114, \"ci_high\": 0.047722006368559805}, {\"index\": \"Bulk 4\", \"cell_type\": \"Mucosal-like\", \"proportion\": 0.03323124620853174, \"ci_err\": 0.011312783219863105, \"ci_low\": 0.021918462988668633, \"ci_high\": 0.044544029428394846}, {\"index\": \"Bulk 5\", \"cell_type\": \"Mucosal-like\", \"proportion\": 0.031034205542251527, \"ci_err\": 0.5, \"ci_low\": 0.0, \"ci_high\": 0.5310342055422516}, {\"index\": \"Bulk 0\", \"cell_type\": \"Superficial Epithelial\", \"proportion\": 0.28022147386432394, \"ci_err\": 0.020888644284381808, \"ci_low\": 0.25933282957994214, \"ci_high\": 0.30111011814870575}, {\"index\": \"Bulk 1\", \"cell_type\": \"Superficial Epithelial\", \"proportion\": 0.2611958924137429, \"ci_err\": 0.020396276755759835, \"ci_low\": 0.24079961565798308, \"ci_high\": 0.28159216916950275}, {\"index\": \"Bulk 2\", \"cell_type\": \"Superficial Epithelial\", \"proportion\": 0.2695597602644087, \"ci_err\": 0.5, \"ci_low\": 0.0, \"ci_high\": 0.7695597602644086}, {\"index\": \"Bulk 3\", \"cell_type\": \"Superficial Epithelial\", \"proportion\": 0.3346377922669989, \"ci_err\": 0.021018394224633308, \"ci_low\": 0.3136193980423656, \"ci_high\": 0.3556561864916322}, {\"index\": \"Bulk 4\", \"cell_type\": \"Superficial Epithelial\", \"proportion\": 0.32253363238022953, \"ci_err\": 0.02013064627650929, \"ci_low\": 0.30240298610372024, \"ci_high\": 0.3426642786567388}, {\"index\": \"Bulk 5\", \"cell_type\": \"Superficial Epithelial\", \"proportion\": 0.33974225019251736, \"ci_err\": 0.5, \"ci_low\": 0.0, \"ci_high\": 0.8397422501925174}]}}, {\"mode\": \"vega-lite\"});\n",
       "</script>"
      ],
      "text/plain": [
       "alt.FacetChart(...)"
      ]
     },
     "execution_count": 11,
     "metadata": {},
     "output_type": "execute_result"
    }
   ],
   "source": [
    "model.plot_proportions('bar').properties(title=\"Bar visualization \")"
   ]
  },
  {
   "cell_type": "code",
   "execution_count": 12,
   "metadata": {},
   "outputs": [
    {
     "data": {
      "text/html": [
       "\n",
       "<div id=\"altair-viz-2fdc57a8356d45048db6938024c69ed3\"></div>\n",
       "<script type=\"text/javascript\">\n",
       "  var VEGA_DEBUG = (typeof VEGA_DEBUG == \"undefined\") ? {} : VEGA_DEBUG;\n",
       "  (function(spec, embedOpt){\n",
       "    let outputDiv = document.currentScript.previousElementSibling;\n",
       "    if (outputDiv.id !== \"altair-viz-2fdc57a8356d45048db6938024c69ed3\") {\n",
       "      outputDiv = document.getElementById(\"altair-viz-2fdc57a8356d45048db6938024c69ed3\");\n",
       "    }\n",
       "    const paths = {\n",
       "      \"vega\": \"https://cdn.jsdelivr.net/npm//vega@5?noext\",\n",
       "      \"vega-lib\": \"https://cdn.jsdelivr.net/npm//vega-lib?noext\",\n",
       "      \"vega-lite\": \"https://cdn.jsdelivr.net/npm//vega-lite@4.17.0?noext\",\n",
       "      \"vega-embed\": \"https://cdn.jsdelivr.net/npm//vega-embed@6?noext\",\n",
       "    };\n",
       "\n",
       "    function maybeLoadScript(lib, version) {\n",
       "      var key = `${lib.replace(\"-\", \"\")}_version`;\n",
       "      return (VEGA_DEBUG[key] == version) ?\n",
       "        Promise.resolve(paths[lib]) :\n",
       "        new Promise(function(resolve, reject) {\n",
       "          var s = document.createElement('script');\n",
       "          document.getElementsByTagName(\"head\")[0].appendChild(s);\n",
       "          s.async = true;\n",
       "          s.onload = () => {\n",
       "            VEGA_DEBUG[key] = version;\n",
       "            return resolve(paths[lib]);\n",
       "          };\n",
       "          s.onerror = () => reject(`Error loading script: ${paths[lib]}`);\n",
       "          s.src = paths[lib];\n",
       "        });\n",
       "    }\n",
       "\n",
       "    function showError(err) {\n",
       "      outputDiv.innerHTML = `<div class=\"error\" style=\"color:red;\">${err}</div>`;\n",
       "      throw err;\n",
       "    }\n",
       "\n",
       "    function displayChart(vegaEmbed) {\n",
       "      vegaEmbed(outputDiv, spec, embedOpt)\n",
       "        .catch(err => showError(`Javascript Error: ${err.message}<br>This usually means there's a typo in your chart specification. See the javascript console for the full traceback.`));\n",
       "    }\n",
       "\n",
       "    if(typeof define === \"function\" && define.amd) {\n",
       "      requirejs.config({paths});\n",
       "      require([\"vega-embed\"], displayChart, err => showError(`Error loading script: ${err.message}`));\n",
       "    } else {\n",
       "      maybeLoadScript(\"vega\", \"5\")\n",
       "        .then(() => maybeLoadScript(\"vega-lite\", \"4.17.0\"))\n",
       "        .then(() => maybeLoadScript(\"vega-embed\", \"6\"))\n",
       "        .catch(showError)\n",
       "        .then(() => displayChart(vegaEmbed));\n",
       "    }\n",
       "  })({\"config\": {\"view\": {\"continuousWidth\": 400, \"continuousHeight\": 300}}, \"data\": {\"name\": \"data-b073ded25fb3da4830ee53681942ce66\"}, \"mark\": \"bar\", \"encoding\": {\"color\": {\"field\": \"cell_type\", \"type\": \"nominal\"}, \"x\": {\"axis\": {\"title\": \"Bulk\"}, \"field\": \"index\", \"type\": \"nominal\"}, \"y\": {\"aggregate\": \"sum\", \"axis\": {\"title\": \"Proportion\"}, \"field\": \"proportion\", \"stack\": \"normalize\", \"type\": \"quantitative\"}}, \"title\": \"Stacked visualization\", \"$schema\": \"https://vega.github.io/schema/vega-lite/v4.17.0.json\", \"datasets\": {\"data-b073ded25fb3da4830ee53681942ce66\": [{\"index\": \"Bulk 0\", \"cell_type\": \"Basal Epithelial\", \"proportion\": 0.4133597044376445, \"ci_err\": 0.020560655389024074, \"ci_low\": 0.39279904904862045, \"ci_high\": 0.4339203598266686}, {\"index\": \"Bulk 1\", \"cell_type\": \"Basal Epithelial\", \"proportion\": 0.4151624258897757, \"ci_err\": 0.019930302337711536, \"ci_low\": 0.39523212355206416, \"ci_high\": 0.43509272822748724}, {\"index\": \"Bulk 2\", \"cell_type\": \"Basal Epithelial\", \"proportion\": 0.41334547812735867, \"ci_err\": 0.5, \"ci_low\": 0.0, \"ci_high\": 0.9133454781273587}, {\"index\": \"Bulk 3\", \"cell_type\": \"Basal Epithelial\", \"proportion\": 0.4035847059915859, \"ci_err\": 0.021021971239394532, \"ci_low\": 0.3825627347521914, \"ci_high\": 0.42460667723098044}, {\"index\": \"Bulk 4\", \"cell_type\": \"Basal Epithelial\", \"proportion\": 0.38963980781743707, \"ci_err\": 0.02036439512804178, \"ci_low\": 0.3692754126893953, \"ci_high\": 0.41000420294547885}, {\"index\": \"Bulk 5\", \"cell_type\": \"Basal Epithelial\", \"proportion\": 0.38613558961313005, \"ci_err\": 0.5, \"ci_low\": 0.0, \"ci_high\": 0.88613558961313}, {\"index\": \"Bulk 0\", \"cell_type\": \"Hematopoietic\", \"proportion\": 0.017384074126204855, \"ci_err\": 0.0038403018624156146, \"ci_low\": 0.01354377226378924, \"ci_high\": 0.02122437598862047}, {\"index\": \"Bulk 1\", \"cell_type\": \"Hematopoietic\", \"proportion\": 0.018029748094587166, \"ci_err\": 0.003632323788313581, \"ci_low\": 0.014397424306273585, \"ci_high\": 0.021662071882900747}, {\"index\": \"Bulk 2\", \"cell_type\": \"Hematopoietic\", \"proportion\": 0.01410949532551442, \"ci_err\": 0.5, \"ci_low\": 0.0, \"ci_high\": 0.5141094953255144}, {\"index\": \"Bulk 3\", \"cell_type\": \"Hematopoietic\", \"proportion\": 0.05067587535911898, \"ci_err\": 0.008438940041787385, \"ci_low\": 0.042236935317331595, \"ci_high\": 0.059114815400906365}, {\"index\": \"Bulk 4\", \"cell_type\": \"Hematopoietic\", \"proportion\": 0.04208610220674244, \"ci_err\": 0.006963483124155678, \"ci_low\": 0.035122619082586765, \"ci_high\": 0.04904958533089812}, {\"index\": \"Bulk 5\", \"cell_type\": \"Hematopoietic\", \"proportion\": 0.02623267417409448, \"ci_err\": 0.5, \"ci_low\": 0.0, \"ci_high\": 0.5262326741740945}, {\"index\": \"Bulk 0\", \"cell_type\": \"Intermediate Epithelial\", \"proportion\": 0.05635864098805885, \"ci_err\": 0.022815324773826244, \"ci_low\": 0.03354331621423261, \"ci_high\": 0.0791739657618851}, {\"index\": \"Bulk 1\", \"cell_type\": \"Intermediate Epithelial\", \"proportion\": 0.06993836937076212, \"ci_err\": 0.022696682360470562, \"ci_low\": 0.04724168701029155, \"ci_high\": 0.09263505173123268}, {\"index\": \"Bulk 2\", \"cell_type\": \"Intermediate Epithelial\", \"proportion\": 0.07313350450973517, \"ci_err\": 0.5, \"ci_low\": 0.0, \"ci_high\": 0.5731335045097352}, {\"index\": \"Bulk 3\", \"cell_type\": \"Intermediate Epithelial\", \"proportion\": 0.0, \"ci_err\": 0.0015719355820229912, \"ci_low\": 0.0, \"ci_high\": 0.0015719355820229912}, {\"index\": \"Bulk 4\", \"cell_type\": \"Intermediate Epithelial\", \"proportion\": 0.0, \"ci_err\": 0.003161256747160674, \"ci_low\": 0.0, \"ci_high\": 0.003161256747160674}, {\"index\": \"Bulk 5\", \"cell_type\": \"Intermediate Epithelial\", \"proportion\": 0.0, \"ci_err\": 0.5, \"ci_low\": 0.0, \"ci_high\": 0.5}, {\"index\": \"Bulk 0\", \"cell_type\": \"Mesenchymal\", \"proportion\": 0.1987441324380022, \"ci_err\": 0.011853772134647306, \"ci_low\": 0.1868903603033549, \"ci_high\": 0.2105979045726495}, {\"index\": \"Bulk 1\", \"cell_type\": \"Mesenchymal\", \"proportion\": 0.2006126985424765, \"ci_err\": 0.011661476101269164, \"ci_low\": 0.18895122244120732, \"ci_high\": 0.21227417464374565}, {\"index\": \"Bulk 2\", \"cell_type\": \"Mesenchymal\", \"proportion\": 0.19628584775450836, \"ci_err\": 0.5, \"ci_low\": 0.0, \"ci_high\": 0.6962858477545084}, {\"index\": \"Bulk 3\", \"cell_type\": \"Mesenchymal\", \"proportion\": 0.17663685235296714, \"ci_err\": 0.012710510444430528, \"ci_low\": 0.1639263419085366, \"ci_high\": 0.18934736279739767}, {\"index\": \"Bulk 4\", \"cell_type\": \"Mesenchymal\", \"proportion\": 0.21250921138705925, \"ci_err\": 0.01357945419283868, \"ci_low\": 0.19892975719422057, \"ci_high\": 0.22608866557989793}, {\"index\": \"Bulk 5\", \"cell_type\": \"Mesenchymal\", \"proportion\": 0.21685528047800648, \"ci_err\": 0.5, \"ci_low\": 0.0, \"ci_high\": 0.7168552804780065}, {\"index\": \"Bulk 0\", \"cell_type\": \"Mucosal-like\", \"proportion\": 0.033931974145765466, \"ci_err\": 0.010120859095150508, \"ci_low\": 0.023811115050614957, \"ci_high\": 0.044052833240915974}, {\"index\": \"Bulk 1\", \"cell_type\": \"Mucosal-like\", \"proportion\": 0.03506086568865559, \"ci_err\": 0.007715035454040313, \"ci_low\": 0.027345830234615273, \"ci_high\": 0.0427759011426959}, {\"index\": \"Bulk 2\", \"cell_type\": \"Mucosal-like\", \"proportion\": 0.0335659140184747, \"ci_err\": 0.5, \"ci_low\": 0.0, \"ci_high\": 0.5335659140184748}, {\"index\": \"Bulk 3\", \"cell_type\": \"Mucosal-like\", \"proportion\": 0.03446477402932896, \"ci_err\": 0.013257232339230847, \"ci_low\": 0.021207541690098114, \"ci_high\": 0.047722006368559805}, {\"index\": \"Bulk 4\", \"cell_type\": \"Mucosal-like\", \"proportion\": 0.03323124620853174, \"ci_err\": 0.011312783219863105, \"ci_low\": 0.021918462988668633, \"ci_high\": 0.044544029428394846}, {\"index\": \"Bulk 5\", \"cell_type\": \"Mucosal-like\", \"proportion\": 0.031034205542251527, \"ci_err\": 0.5, \"ci_low\": 0.0, \"ci_high\": 0.5310342055422516}, {\"index\": \"Bulk 0\", \"cell_type\": \"Superficial Epithelial\", \"proportion\": 0.28022147386432394, \"ci_err\": 0.020888644284381808, \"ci_low\": 0.25933282957994214, \"ci_high\": 0.30111011814870575}, {\"index\": \"Bulk 1\", \"cell_type\": \"Superficial Epithelial\", \"proportion\": 0.2611958924137429, \"ci_err\": 0.020396276755759835, \"ci_low\": 0.24079961565798308, \"ci_high\": 0.28159216916950275}, {\"index\": \"Bulk 2\", \"cell_type\": \"Superficial Epithelial\", \"proportion\": 0.2695597602644087, \"ci_err\": 0.5, \"ci_low\": 0.0, \"ci_high\": 0.7695597602644086}, {\"index\": \"Bulk 3\", \"cell_type\": \"Superficial Epithelial\", \"proportion\": 0.3346377922669989, \"ci_err\": 0.021018394224633308, \"ci_low\": 0.3136193980423656, \"ci_high\": 0.3556561864916322}, {\"index\": \"Bulk 4\", \"cell_type\": \"Superficial Epithelial\", \"proportion\": 0.32253363238022953, \"ci_err\": 0.02013064627650929, \"ci_low\": 0.30240298610372024, \"ci_high\": 0.3426642786567388}, {\"index\": \"Bulk 5\", \"cell_type\": \"Superficial Epithelial\", \"proportion\": 0.33974225019251736, \"ci_err\": 0.5, \"ci_low\": 0.0, \"ci_high\": 0.8397422501925174}]}}, {\"mode\": \"vega-lite\"});\n",
       "</script>"
      ],
      "text/plain": [
       "alt.Chart(...)"
      ]
     },
     "execution_count": 12,
     "metadata": {},
     "output_type": "execute_result"
    }
   ],
   "source": [
    "model.plot_proportions('stacked').properties(title=\"Stacked visualization\")"
   ]
  },
  {
   "cell_type": "code",
   "execution_count": null,
   "metadata": {},
   "outputs": [],
   "source": []
  }
 ],
 "metadata": {
  "kernelspec": {
   "display_name": "Python 3",
   "language": "python",
   "name": "python3"
  },
  "language_info": {
   "codemirror_mode": {
    "name": "ipython",
    "version": 3
   },
   "file_extension": ".py",
   "mimetype": "text/x-python",
   "name": "python",
   "nbconvert_exporter": "python",
   "pygments_lexer": "ipython3",
   "version": "3.7.0"
  }
 },
 "nbformat": 4,
 "nbformat_minor": 5
}

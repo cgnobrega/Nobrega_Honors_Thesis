{
 "cells": [
  {
   "cell_type": "markdown",
   "metadata": {
    "collapsed": true,
    "pycharm": {
     "name": "#%% md\n"
    }
   },
   "source": [
    "## TODO:\n",
    "- make column1 of the GSM DGE matrix files for the single cell\n",
    "data match column1 of the cell to cluster assignment file\n",
    "- transpose the GSM DGE matrix files so that the gene names are now column 1\n",
    "- join replicates (samp1+samp2, 1dpa1+1dpa2, 2dpa1+2dpa2, 4dpa1+4dpa2) on the gene name column\n",
    "- join all files together"
   ]
  },
  {
   "cell_type": "code",
   "execution_count": 81,
   "outputs": [],
   "source": [
    "import pandas as pd"
   ],
   "metadata": {
    "collapsed": false,
    "pycharm": {
     "name": "#%%\n"
    }
   }
  },
  {
   "cell_type": "markdown",
   "source": [
    "### Initialize samples and files\n",
    "Below are the sample names and the file names as arrays to be used later in the script."
   ],
   "metadata": {
    "collapsed": false
   }
  },
  {
   "cell_type": "code",
   "execution_count": 82,
   "outputs": [],
   "source": [
    "samples = ['samp1',\n",
    "           'samp2',\n",
    "           '1dpa1',\n",
    "           '1dpa2',\n",
    "           '2dpa1',\n",
    "           '2dpa2',\n",
    "           '4dpa1',\n",
    "           '4dpa2']\n",
    "files = ['\\GSM4095393_samp1_DGEmatrix.csv',\n",
    "         '\\GSM4095394_samp2_DGEmatrix.csv',\n",
    "         '\\GSM4095395_1dpa1_DGEmatrix.csv',\n",
    "         '\\GSM4095396_1dpa2_DGEmatrix.csv',\n",
    "         '\\GSM4095397_2dpa1_DGEmatrix.csv',\n",
    "         '\\GSM4095398_2dpa2_DGEmatrix.csv',\n",
    "         '\\GSM4095399_4dpa1_DGEmatrix.csv',\n",
    "         '\\GSM4095400_4dpa2_DGEmatrix.csv']"
   ],
   "metadata": {
    "collapsed": false,
    "pycharm": {
     "name": "#%%\n"
    }
   }
  },
  {
   "cell_type": "markdown",
   "source": [
    "### `clean_matrix` function\n",
    "This funtion iterates over the rows of the dataframe and parses column 1 to get rid of\n",
    "the \"-1\" at the end, leaving the 16bp barcode. Then, it concatenates the sample identifier to the beginning.\n",
    "Next, outside the for loop, the dataframe is transposed. The transposition sets the index [0, 1, 2, ...]\n",
    "as column names, and the gene names as the indices. The next 3 lines set row 1 as the header\n",
    "so that the barcodes become the column names. Then, the last 2 lines before returning the final\n",
    "cleaned matrix resets the indices so that the gene names become their own column called \"genes\" and\n",
    "the indices are back to [0, 1, 2, ...]."
   ],
   "metadata": {
    "collapsed": false
   }
  },
  {
   "cell_type": "code",
   "execution_count": 83,
   "outputs": [],
   "source": [
    "def clean_matrix(exp, sample):\n",
    "    for index, row in exp.iterrows():\n",
    "        col1 = row['Barcodes']\n",
    "        col1 = col1[:16]\n",
    "        col1 = sample+col1\n",
    "        exp.at[index,'Barcodes'] = col1\n",
    "    exp = exp.transpose()\n",
    "    new_header = exp.iloc[0] #grab the first row for the header\n",
    "    exp = exp[1:] #take the data less the header row\n",
    "    exp.columns = new_header\n",
    "    exp.reset_index(inplace=True)\n",
    "    exp = exp.rename(columns = {'index':'genes'})\n",
    "    return exp"
   ],
   "metadata": {
    "collapsed": false,
    "pycharm": {
     "name": "#%%\n"
    }
   }
  },
  {
   "cell_type": "markdown",
   "source": [
    "### PreInjury samples\n",
    "The two preinjury files are processed and joined, then exported to a `csv.gz` file.\n",
    "The two matrices are joined in such a way that if a gene name is in one sample but\n",
    "not the other, the columns for that sample are filled with a `NaN` value."
   ],
   "metadata": {
    "collapsed": false
   }
  },
  {
   "cell_type": "code",
   "execution_count": 84,
   "outputs": [],
   "source": [
    "file = files[0]\n",
    "sample = samples[0]\n",
    "filepath = '..\\data\\Hou_Data_raw' + file\n",
    "samp1 = pd.read_csv(filepath)\n",
    "samp1 = clean_matrix(samp1, sample)\n",
    "\n",
    "file = files[1]\n",
    "sample = samples[1]\n",
    "filepath = '..\\data\\Hou_Data_raw' + file\n",
    "samp2 = pd.read_csv(filepath)\n",
    "samp2 = clean_matrix(samp2, sample)\n",
    "\n",
    "preinjury = pd.merge(samp1, samp2, left_on='genes', right_on='genes', how='outer')\n",
    "preinjury.to_csv(\"..\\data\\Hou_expression_matrices\\preinjury_merged.csv.gz\",\n",
    "           index=False,\n",
    "           compression=\"gzip\")"
   ],
   "metadata": {
    "collapsed": false,
    "pycharm": {
     "name": "#%%\n"
    }
   }
  },
  {
   "cell_type": "markdown",
   "source": [
    "### 1dpa samples\n",
    "The two 1dpa files are processed and joined, then exported to a `csv.gz` file.\n",
    "The two matrices are joined in such a way that if a gene name is in one sample but\n",
    "not the other, the columns for that sample are filled with a `NaN` value."
   ],
   "metadata": {
    "collapsed": false,
    "pycharm": {
     "name": "#%% md\n"
    }
   }
  },
  {
   "cell_type": "code",
   "execution_count": 88,
   "outputs": [],
   "source": [
    "file = files[2]\n",
    "sample = samples[2]\n",
    "filepath = '..\\data\\Hou_Data_raw' + file\n",
    "samp1 = pd.read_csv(filepath)\n",
    "samp1 = clean_matrix(samp1, sample)\n",
    "\n",
    "file = files[3]\n",
    "sample = samples[3]\n",
    "filepath = '..\\data\\Hou_Data_raw' + file\n",
    "samp2 = pd.read_csv(filepath)\n",
    "samp2 = clean_matrix(samp2, sample)\n",
    "\n",
    "onedpa = pd.merge(samp1, samp2, left_on='genes', right_on='genes', how='outer')\n",
    "onedpa.to_csv(\"..\\data\\Hou_expression_matrices\\_1dpa_merged.csv.gz\",\n",
    "           index=False,\n",
    "           compression=\"gzip\")"
   ],
   "metadata": {
    "collapsed": false,
    "pycharm": {
     "name": "#%%\n"
    }
   }
  },
  {
   "cell_type": "markdown",
   "source": [
    "### 2dpa samples\n",
    "The two 2dpa files are processed and joined, then exported to a `csv.gz` file.\n",
    "The two matrices are joined in such a way that if a gene name is in one sample but\n",
    "not the other, the columns for that sample are filled with a `NaN` value."
   ],
   "metadata": {
    "collapsed": false,
    "pycharm": {
     "name": "#%% md\n"
    }
   }
  },
  {
   "cell_type": "code",
   "execution_count": 90,
   "outputs": [
    {
     "ename": "MemoryError",
     "evalue": "Unable to allocate 543. MiB for an array with shape (21212, 3353) and data type object",
     "output_type": "error",
     "traceback": [
      "\u001B[1;31m---------------------------------------------------------------------------\u001B[0m",
      "\u001B[1;31mMemoryError\u001B[0m                               Traceback (most recent call last)",
      "\u001B[1;32m<ipython-input-90-b35f3cfd9834>\u001B[0m in \u001B[0;36m<module>\u001B[1;34m\u001B[0m\n\u001B[0;32m      3\u001B[0m \u001B[0mfilepath\u001B[0m \u001B[1;33m=\u001B[0m \u001B[1;34m'..\\data\\Hou_Data_raw'\u001B[0m \u001B[1;33m+\u001B[0m \u001B[0mfile\u001B[0m\u001B[1;33m\u001B[0m\u001B[1;33m\u001B[0m\u001B[0m\n\u001B[0;32m      4\u001B[0m \u001B[0msamp1\u001B[0m \u001B[1;33m=\u001B[0m \u001B[0mpd\u001B[0m\u001B[1;33m.\u001B[0m\u001B[0mread_csv\u001B[0m\u001B[1;33m(\u001B[0m\u001B[0mfilepath\u001B[0m\u001B[1;33m)\u001B[0m\u001B[1;33m\u001B[0m\u001B[1;33m\u001B[0m\u001B[0m\n\u001B[1;32m----> 5\u001B[1;33m \u001B[0msamp1\u001B[0m \u001B[1;33m=\u001B[0m \u001B[0mclean_matrix\u001B[0m\u001B[1;33m(\u001B[0m\u001B[0msamp1\u001B[0m\u001B[1;33m,\u001B[0m \u001B[0msample\u001B[0m\u001B[1;33m)\u001B[0m\u001B[1;33m\u001B[0m\u001B[1;33m\u001B[0m\u001B[0m\n\u001B[0m\u001B[0;32m      6\u001B[0m \u001B[1;33m\u001B[0m\u001B[0m\n\u001B[0;32m      7\u001B[0m \u001B[0mfile\u001B[0m \u001B[1;33m=\u001B[0m \u001B[0mfiles\u001B[0m\u001B[1;33m[\u001B[0m\u001B[1;36m5\u001B[0m\u001B[1;33m]\u001B[0m\u001B[1;33m\u001B[0m\u001B[1;33m\u001B[0m\u001B[0m\n",
      "\u001B[1;32m<ipython-input-83-d3600a88d37f>\u001B[0m in \u001B[0;36mclean_matrix\u001B[1;34m(exp, sample)\u001B[0m\n\u001B[0;32m      5\u001B[0m         \u001B[0mcol1\u001B[0m \u001B[1;33m=\u001B[0m \u001B[0msample\u001B[0m\u001B[1;33m+\u001B[0m\u001B[0mcol1\u001B[0m\u001B[1;33m\u001B[0m\u001B[1;33m\u001B[0m\u001B[0m\n\u001B[0;32m      6\u001B[0m         \u001B[0mexp\u001B[0m\u001B[1;33m.\u001B[0m\u001B[0mat\u001B[0m\u001B[1;33m[\u001B[0m\u001B[0mindex\u001B[0m\u001B[1;33m,\u001B[0m\u001B[1;34m'Barcodes'\u001B[0m\u001B[1;33m]\u001B[0m \u001B[1;33m=\u001B[0m \u001B[0mcol1\u001B[0m\u001B[1;33m\u001B[0m\u001B[1;33m\u001B[0m\u001B[0m\n\u001B[1;32m----> 7\u001B[1;33m     \u001B[0mexp\u001B[0m \u001B[1;33m=\u001B[0m \u001B[0mexp\u001B[0m\u001B[1;33m.\u001B[0m\u001B[0mtranspose\u001B[0m\u001B[1;33m(\u001B[0m\u001B[1;33m)\u001B[0m\u001B[1;33m\u001B[0m\u001B[1;33m\u001B[0m\u001B[0m\n\u001B[0m\u001B[0;32m      8\u001B[0m     \u001B[0mnew_header\u001B[0m \u001B[1;33m=\u001B[0m \u001B[0mexp\u001B[0m\u001B[1;33m.\u001B[0m\u001B[0miloc\u001B[0m\u001B[1;33m[\u001B[0m\u001B[1;36m0\u001B[0m\u001B[1;33m]\u001B[0m \u001B[1;31m#grab the first row for the header\u001B[0m\u001B[1;33m\u001B[0m\u001B[1;33m\u001B[0m\u001B[0m\n\u001B[0;32m      9\u001B[0m     \u001B[0mexp\u001B[0m \u001B[1;33m=\u001B[0m \u001B[0mexp\u001B[0m\u001B[1;33m[\u001B[0m\u001B[1;36m1\u001B[0m\u001B[1;33m:\u001B[0m\u001B[1;33m]\u001B[0m \u001B[1;31m#take the data less the header row\u001B[0m\u001B[1;33m\u001B[0m\u001B[1;33m\u001B[0m\u001B[0m\n",
      "\u001B[1;32m~\\anaconda3\\lib\\site-packages\\pandas\\core\\frame.py\u001B[0m in \u001B[0;36mtranspose\u001B[1;34m(self, copy, *args)\u001B[0m\n\u001B[0;32m   2916\u001B[0m \u001B[1;33m\u001B[0m\u001B[0m\n\u001B[0;32m   2917\u001B[0m         \u001B[1;32melse\u001B[0m\u001B[1;33m:\u001B[0m\u001B[1;33m\u001B[0m\u001B[1;33m\u001B[0m\u001B[0m\n\u001B[1;32m-> 2918\u001B[1;33m             \u001B[0mnew_values\u001B[0m \u001B[1;33m=\u001B[0m \u001B[0mself\u001B[0m\u001B[1;33m.\u001B[0m\u001B[0mvalues\u001B[0m\u001B[1;33m.\u001B[0m\u001B[0mT\u001B[0m\u001B[1;33m\u001B[0m\u001B[1;33m\u001B[0m\u001B[0m\n\u001B[0m\u001B[0;32m   2919\u001B[0m             \u001B[1;32mif\u001B[0m \u001B[0mcopy\u001B[0m\u001B[1;33m:\u001B[0m\u001B[1;33m\u001B[0m\u001B[1;33m\u001B[0m\u001B[0m\n\u001B[0;32m   2920\u001B[0m                 \u001B[0mnew_values\u001B[0m \u001B[1;33m=\u001B[0m \u001B[0mnew_values\u001B[0m\u001B[1;33m.\u001B[0m\u001B[0mcopy\u001B[0m\u001B[1;33m(\u001B[0m\u001B[1;33m)\u001B[0m\u001B[1;33m\u001B[0m\u001B[1;33m\u001B[0m\u001B[0m\n",
      "\u001B[1;32m~\\anaconda3\\lib\\site-packages\\pandas\\core\\generic.py\u001B[0m in \u001B[0;36mvalues\u001B[1;34m(self)\u001B[0m\n\u001B[0;32m   5671\u001B[0m         \"\"\"\n\u001B[0;32m   5672\u001B[0m         \u001B[0mself\u001B[0m\u001B[1;33m.\u001B[0m\u001B[0m_consolidate_inplace\u001B[0m\u001B[1;33m(\u001B[0m\u001B[1;33m)\u001B[0m\u001B[1;33m\u001B[0m\u001B[1;33m\u001B[0m\u001B[0m\n\u001B[1;32m-> 5673\u001B[1;33m         \u001B[1;32mreturn\u001B[0m \u001B[0mself\u001B[0m\u001B[1;33m.\u001B[0m\u001B[0m_mgr\u001B[0m\u001B[1;33m.\u001B[0m\u001B[0mas_array\u001B[0m\u001B[1;33m(\u001B[0m\u001B[0mtranspose\u001B[0m\u001B[1;33m=\u001B[0m\u001B[0mself\u001B[0m\u001B[1;33m.\u001B[0m\u001B[0m_AXIS_REVERSED\u001B[0m\u001B[1;33m)\u001B[0m\u001B[1;33m\u001B[0m\u001B[1;33m\u001B[0m\u001B[0m\n\u001B[0m\u001B[0;32m   5674\u001B[0m \u001B[1;33m\u001B[0m\u001B[0m\n\u001B[0;32m   5675\u001B[0m     \u001B[1;33m@\u001B[0m\u001B[0mproperty\u001B[0m\u001B[1;33m\u001B[0m\u001B[1;33m\u001B[0m\u001B[0m\n",
      "\u001B[1;32m~\\anaconda3\\lib\\site-packages\\pandas\\core\\internals\\managers.py\u001B[0m in \u001B[0;36mas_array\u001B[1;34m(self, transpose, dtype, copy, na_value)\u001B[0m\n\u001B[0;32m    870\u001B[0m                     \u001B[0marr\u001B[0m \u001B[1;33m=\u001B[0m \u001B[0marr\u001B[0m\u001B[1;33m.\u001B[0m\u001B[0mastype\u001B[0m\u001B[1;33m(\u001B[0m\u001B[0mdtype\u001B[0m\u001B[1;33m,\u001B[0m \u001B[0mcopy\u001B[0m\u001B[1;33m=\u001B[0m\u001B[1;32mFalse\u001B[0m\u001B[1;33m)\u001B[0m\u001B[1;33m\u001B[0m\u001B[1;33m\u001B[0m\u001B[0m\n\u001B[0;32m    871\u001B[0m         \u001B[1;32melse\u001B[0m\u001B[1;33m:\u001B[0m\u001B[1;33m\u001B[0m\u001B[1;33m\u001B[0m\u001B[0m\n\u001B[1;32m--> 872\u001B[1;33m             \u001B[0marr\u001B[0m \u001B[1;33m=\u001B[0m \u001B[0mself\u001B[0m\u001B[1;33m.\u001B[0m\u001B[0m_interleave\u001B[0m\u001B[1;33m(\u001B[0m\u001B[0mdtype\u001B[0m\u001B[1;33m=\u001B[0m\u001B[0mdtype\u001B[0m\u001B[1;33m,\u001B[0m \u001B[0mna_value\u001B[0m\u001B[1;33m=\u001B[0m\u001B[0mna_value\u001B[0m\u001B[1;33m)\u001B[0m\u001B[1;33m\u001B[0m\u001B[1;33m\u001B[0m\u001B[0m\n\u001B[0m\u001B[0;32m    873\u001B[0m             \u001B[1;31m# The underlying data was copied within _interleave\u001B[0m\u001B[1;33m\u001B[0m\u001B[1;33m\u001B[0m\u001B[1;33m\u001B[0m\u001B[0m\n\u001B[0;32m    874\u001B[0m             \u001B[0mcopy\u001B[0m \u001B[1;33m=\u001B[0m \u001B[1;32mFalse\u001B[0m\u001B[1;33m\u001B[0m\u001B[1;33m\u001B[0m\u001B[0m\n",
      "\u001B[1;32m~\\anaconda3\\lib\\site-packages\\pandas\\core\\internals\\managers.py\u001B[0m in \u001B[0;36m_interleave\u001B[1;34m(self, dtype, na_value)\u001B[0m\n\u001B[0;32m    909\u001B[0m                 \u001B[0marr\u001B[0m \u001B[1;33m=\u001B[0m \u001B[0mblk\u001B[0m\u001B[1;33m.\u001B[0m\u001B[0mvalues\u001B[0m\u001B[1;33m.\u001B[0m\u001B[0mto_numpy\u001B[0m\u001B[1;33m(\u001B[0m\u001B[0mdtype\u001B[0m\u001B[1;33m=\u001B[0m\u001B[0mdtype\u001B[0m\u001B[1;33m,\u001B[0m \u001B[0mna_value\u001B[0m\u001B[1;33m=\u001B[0m\u001B[0mna_value\u001B[0m\u001B[1;33m)\u001B[0m\u001B[1;33m\u001B[0m\u001B[1;33m\u001B[0m\u001B[0m\n\u001B[0;32m    910\u001B[0m             \u001B[1;32melse\u001B[0m\u001B[1;33m:\u001B[0m\u001B[1;33m\u001B[0m\u001B[1;33m\u001B[0m\u001B[0m\n\u001B[1;32m--> 911\u001B[1;33m                 \u001B[0marr\u001B[0m \u001B[1;33m=\u001B[0m \u001B[0mblk\u001B[0m\u001B[1;33m.\u001B[0m\u001B[0mget_values\u001B[0m\u001B[1;33m(\u001B[0m\u001B[0mdtype\u001B[0m\u001B[1;33m)\u001B[0m\u001B[1;33m\u001B[0m\u001B[1;33m\u001B[0m\u001B[0m\n\u001B[0m\u001B[0;32m    912\u001B[0m             \u001B[0mresult\u001B[0m\u001B[1;33m[\u001B[0m\u001B[0mrl\u001B[0m\u001B[1;33m.\u001B[0m\u001B[0mindexer\u001B[0m\u001B[1;33m]\u001B[0m \u001B[1;33m=\u001B[0m \u001B[0marr\u001B[0m\u001B[1;33m\u001B[0m\u001B[1;33m\u001B[0m\u001B[0m\n\u001B[0;32m    913\u001B[0m             \u001B[0mitemmask\u001B[0m\u001B[1;33m[\u001B[0m\u001B[0mrl\u001B[0m\u001B[1;33m.\u001B[0m\u001B[0mindexer\u001B[0m\u001B[1;33m]\u001B[0m \u001B[1;33m=\u001B[0m \u001B[1;36m1\u001B[0m\u001B[1;33m\u001B[0m\u001B[1;33m\u001B[0m\u001B[0m\n",
      "\u001B[1;32m~\\anaconda3\\lib\\site-packages\\pandas\\core\\internals\\blocks.py\u001B[0m in \u001B[0;36mget_values\u001B[1;34m(self, dtype)\u001B[0m\n\u001B[0;32m    249\u001B[0m         \"\"\"\n\u001B[0;32m    250\u001B[0m         \u001B[1;32mif\u001B[0m \u001B[0mis_object_dtype\u001B[0m\u001B[1;33m(\u001B[0m\u001B[0mdtype\u001B[0m\u001B[1;33m)\u001B[0m\u001B[1;33m:\u001B[0m\u001B[1;33m\u001B[0m\u001B[1;33m\u001B[0m\u001B[0m\n\u001B[1;32m--> 251\u001B[1;33m             \u001B[1;32mreturn\u001B[0m \u001B[0mself\u001B[0m\u001B[1;33m.\u001B[0m\u001B[0mvalues\u001B[0m\u001B[1;33m.\u001B[0m\u001B[0mastype\u001B[0m\u001B[1;33m(\u001B[0m\u001B[0mobject\u001B[0m\u001B[1;33m)\u001B[0m\u001B[1;33m\u001B[0m\u001B[1;33m\u001B[0m\u001B[0m\n\u001B[0m\u001B[0;32m    252\u001B[0m         \u001B[1;32mreturn\u001B[0m \u001B[0mself\u001B[0m\u001B[1;33m.\u001B[0m\u001B[0mvalues\u001B[0m\u001B[1;33m\u001B[0m\u001B[1;33m\u001B[0m\u001B[0m\n\u001B[0;32m    253\u001B[0m \u001B[1;33m\u001B[0m\u001B[0m\n",
      "\u001B[1;31mMemoryError\u001B[0m: Unable to allocate 543. MiB for an array with shape (21212, 3353) and data type object"
     ]
    }
   ],
   "source": [
    "file = files[4]\n",
    "sample = samples[4]\n",
    "filepath = '..\\data\\Hou_Data_raw' + file\n",
    "samp1 = pd.read_csv(filepath)\n",
    "samp1 = clean_matrix(samp1, sample)\n",
    "\n",
    "file = files[5]\n",
    "sample = samples[5]\n",
    "filepath = '..\\data\\Hou_Data_raw' + file\n",
    "samp2 = pd.read_csv(filepath)\n",
    "samp2 = clean_matrix(samp2, sample)\n",
    "\n",
    "twodpa = pd.merge(samp1, samp2, left_on='genes', right_on='genes', how='outer')\n",
    "twodpa.to_csv(\"..\\data\\Hou_expression_matrices\\_2dpa_merged.csv.gz\",\n",
    "           index=False,\n",
    "           compression=\"gzip\")"
   ],
   "metadata": {
    "collapsed": false,
    "pycharm": {
     "name": "#%%\n"
    }
   }
  },
  {
   "cell_type": "markdown",
   "source": [
    "### 4dpa samples\n",
    "The two 4dpa files are processed and joined, then exported to a `csv.gz` file.\n",
    "The two matrices are joined in such a way that if a gene name is in one sample but\n",
    "not the other, the columns for that sample are filled with a `NaN` value."
   ],
   "metadata": {
    "collapsed": false
   }
  },
  {
   "cell_type": "code",
   "execution_count": null,
   "outputs": [],
   "source": [
    "file = files[6]\n",
    "sample = samples[6]\n",
    "filepath = '..\\data\\Hou_Data_raw' + file\n",
    "samp1 = pd.read_csv(filepath)\n",
    "samp1 = clean_matrix(samp1, sample)\n",
    "\n",
    "file = files[7]\n",
    "sample = samples[7]\n",
    "filepath = '..\\data\\Hou_Data_raw' + file\n",
    "samp2 = pd.read_csv(filepath)\n",
    "samp2 = clean_matrix(samp2, sample)\n",
    "\n",
    "fourdpa = pd.merge(samp1, samp2, left_on='genes', right_on='genes', how='outer')\n",
    "fourdpa.to_csv(\"..\\data\\Hou_expression_matrices\\_4dpa_merged.csv.gz\",\n",
    "           index=False,\n",
    "           compression=\"gzip\")\n"
   ],
   "metadata": {
    "collapsed": false,
    "pycharm": {
     "name": "#%%\n"
    }
   }
  }
 ],
 "metadata": {
  "kernelspec": {
   "display_name": "Python 3",
   "language": "python",
   "name": "python3"
  },
  "language_info": {
   "codemirror_mode": {
    "name": "ipython",
    "version": 2
   },
   "file_extension": ".py",
   "mimetype": "text/x-python",
   "name": "python",
   "nbconvert_exporter": "python",
   "pygments_lexer": "ipython2",
   "version": "2.7.6"
  }
 },
 "nbformat": 4,
 "nbformat_minor": 0
}
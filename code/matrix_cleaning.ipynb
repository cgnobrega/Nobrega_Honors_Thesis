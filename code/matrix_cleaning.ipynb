{
 "cells": [
  {
   "cell_type": "code",
   "execution_count": 2,
   "metadata": {
    "collapsed": true
   },
   "outputs": [
    {
     "name": "stdout",
     "output_type": "stream",
     "text": [
      "hello world\n"
     ]
    }
   ],
   "source": [
    "\"\"\"\n",
    "TODO:\n",
    "- make column1 of the GSM DGE matrix files for the single cell\n",
    "data match column1 of the cell to cluster assignment file\n",
    "- transpose the GSM DGE matrix files so that the gene names are now column 1\n",
    "- join replicates (samp1+samp2, 1dpa1+1dpa2, 2dpa1+2dpa2, 4dpa1+4dpa2) on the gene name column\n",
    "- join all files together\n",
    "\"\"\"\n",
    "print(\"hello world\")"
   ]
  },
  {
   "cell_type": "code",
   "execution_count": null,
   "outputs": [],
   "source": [],
   "metadata": {
    "collapsed": false,
    "pycharm": {
     "name": "#%%\n"
    }
   }
  }
 ],
 "metadata": {
  "kernelspec": {
   "display_name": "Python 3",
   "language": "python",
   "name": "python3"
  },
  "language_info": {
   "codemirror_mode": {
    "name": "ipython",
    "version": 2
   },
   "file_extension": ".py",
   "mimetype": "text/x-python",
   "name": "python",
   "nbconvert_exporter": "python",
   "pygments_lexer": "ipython2",
   "version": "2.7.6"
  }
 },
 "nbformat": 4,
 "nbformat_minor": 0
}
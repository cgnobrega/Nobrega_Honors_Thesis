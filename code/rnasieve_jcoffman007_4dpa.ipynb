{
 "cells": [
  {
   "cell_type": "code",
   "execution_count": 1,
   "metadata": {},
   "outputs": [
    {
     "name": "stdout",
     "output_type": "stream",
     "text": [
      "0.7.8\n"
     ]
    }
   ],
   "source": [
    "import numpy as np\n",
    "import pandas as pd\n",
    "#!pip install anndata --target D:/usr/local/lib/python3.8/dist-packages\n",
    "import anndata as ad\n",
    "from collections import defaultdict\n",
    "from rnasieve.preprocessing import model_from_raw_counts\n",
    "print(ad.__version__)"
   ]
  },
  {
   "cell_type": "markdown",
   "metadata": {},
   "source": [
    "This file uses guidance from https://github.com/theislab/anndata-tutorials/blob/master/getting-started.ipynb\n",
    " to get the jcoffman008 data as an AnnData structure so that it can be used for RNAsieve as in https://github.com/songlab-cal/rna-sieve\n"
   ]
  },
  {
   "cell_type": "code",
   "execution_count": 2,
   "metadata": {},
   "outputs": [],
   "source": [
    "##-----loading in jcoffman007 expression and design data -----\n",
    "#load in jcoffman007 count data (raw counts)\n",
    "widejcoffman007_count = pd.read_csv(\"bulk_count_4dpa.csv.gz\", compression=\"gzip\")\n",
    "#changing GeneID_genename format to just GeneID\n",
    "# widejcoffman007_count[\"gene_id\"]=widejcoffman007_count[\"gene_id\"].str[:18]\n",
    "#load in design file. note that each row is a sample that matches up with the \"data\" dataframe  \n",
    "jcoffman007_design= pd.read_csv(\"bulk_design_4dpa.csv.gz\", compression=\"gzip\",index_col=0)\n",
    "\n",
    "\n",
    "##-----loading in atlas expression and design data----- \n",
    "#uploading the expression data for the reference (atlas)\n",
    "wideatlas_count = pd.read_csv(\"single_count_4dpa.csv.gz\", compression=\"gzip\")\n",
    "#changing GeneID|genename format to just GeneID\n",
    "# wideatlas_count[\"gene\"]=wideatlas_count[\"gene\"].str[:18]\n",
    "#uploading the meta/\"obs\" for the reference (atlas)\n",
    "''' \n",
    "atlas_meta_alldpf = pd.read_csv(\"meta.tsv\", sep=\"\\t\",index_col=0)\n",
    "#restricting meta to only 5dpf \n",
    "sample_names_5dpf= ['5a_5dpf', '5b_5dpf']\n",
    "atlas_meta= atlas_meta_alldpf[atlas_meta_alldpf['sample_name'].isin(sample_names_5dpf)]\n",
    "'''\n",
    "atlas_design = pd.read_csv(\"single_design_4dpa.csv.gz\", compression=\"gzip\",index_col=0)\n"
   ]
  },
  {
   "cell_type": "code",
   "execution_count": 3,
   "metadata": {},
   "outputs": [
    {
     "name": "stdout",
     "output_type": "stream",
     "text": [
      "there are 24324 genes that are in both the atlas and jcoffman007 count data\n"
     ]
    }
   ],
   "source": [
    "#altering both expression datasets to contain identical sets of genes \n",
    "jcoffman007_genes= widejcoffman007_count[\"genes\"].tolist()\n",
    "atlas_genes= wideatlas_count[\"genes\"].tolist()\n",
    "genes_in_both= list(set(jcoffman007_genes) & set(atlas_genes))\n",
    "print(\"there are\",len(genes_in_both),\"genes that are in both the atlas and jcoffman007 count data\") \n",
    "widejcoffman007_count=widejcoffman007_count[widejcoffman007_count[\"genes\"].isin(genes_in_both)]\n",
    "wideatlas_count=wideatlas_count[wideatlas_count[\"genes\"].isin(genes_in_both)]\n",
    "#sorting to be in same order\n",
    "widejcoffman007_count=widejcoffman007_count.sort_values(by=['genes'])\n",
    "wideatlas_count=wideatlas_count.sort_values(by=['genes'])"
   ]
  },
  {
   "cell_type": "code",
   "execution_count": 4,
   "metadata": {},
   "outputs": [],
   "source": [
    "#------making annData structure that holds the counts and meta for jcoffman007-----\n",
    "#convert to having genes as columns, samples as rows (first have to make the gene ID the row label)\n",
    "widejcoffman007_count= widejcoffman007_count.set_index(\"genes\")\n",
    "jcoffman007_count= widejcoffman007_count.transpose()\n",
    "jcoffman007 = ad.AnnData(jcoffman007_count, obs=jcoffman007_design)\n",
    "\n",
    "#-----making annData structure that holds the counts and meta for atlas----- \n",
    "wideatlas_count=wideatlas_count.set_index(\"genes\")\n",
    "atlas_count= wideatlas_count.transpose()\n",
    "atlas = ad.AnnData(atlas_count, obs=atlas_design)"
   ]
  },
  {
   "cell_type": "code",
   "execution_count": 5,
   "metadata": {},
   "outputs": [
    {
     "name": "stdout",
     "output_type": "stream",
     "text": [
      "Aggregating by cluster...\n",
      "Aggregating bulks by name...\n",
      "Done!\n"
     ]
    }
   ],
   "source": [
    "#modeling off of the raw counts prep section from example.ipynb from song lab github\n",
    "\n",
    "# grouping the cells in the reference data by cluster \n",
    "print('Aggregating by cluster...')\n",
    "counts_by_cluster = {}\n",
    "for i in range(len(atlas)):\n",
    "    sc = atlas[i]\n",
    "    if len(sc.obs['major.cl']) == 0:\n",
    "        continue\n",
    "    cell_cluster = sc.obs['major.cl'][0]\n",
    "    if cell_cluster not in counts_by_cluster:\n",
    "        counts_by_cluster[cell_cluster] = np.empty((sc.X.shape[1], 0), dtype=np.float32)\n",
    "    counts_by_cluster[cell_cluster] = np.hstack(\n",
    "        (counts_by_cluster[cell_cluster], sc.X.toarray().reshape(-1, 1)))\n",
    "    \n",
    "\n",
    "# Bulk prep\n",
    "print('Aggregating bulks by name...')\n",
    "G = jcoffman007.n_vars\n",
    "bulk_by_time = defaultdict(list)\n",
    "for i in range(len(jcoffman007)):\n",
    "    bulk = jcoffman007[i]\n",
    "    if len(bulk.obs['name']) == 0:\n",
    "        continue\n",
    "    time = bulk.obs['name'][0]\n",
    "    bulk_by_time[time].append(bulk.X.toarray().reshape(-1, 1))\n",
    "\n",
    "bulk_labels = []\n",
    "psis = np.empty((G, 0), dtype=np.float32)\n",
    "for name in sorted(bulk_by_time.keys()):\n",
    "    bulks = bulk_by_time[name]\n",
    "    for i in range(len(bulks)):\n",
    "        bulk_labels.append(\"{} name, subject {}\".format(name, i))\n",
    "        psis = np.hstack((psis, bulks[i]))\n",
    "        \n",
    "print('Done!')"
   ]
  },
  {
   "cell_type": "code",
   "execution_count": 6,
   "metadata": {},
   "outputs": [
    {
     "data": {
      "text/plain": [
       "(24324, 1624)"
      ]
     },
     "execution_count": 6,
     "metadata": {},
     "output_type": "execute_result"
    }
   ],
   "source": [
    "counts_by_cluster['Intermediate Epithelial'].shape"
   ]
  },
  {
   "cell_type": "code",
   "execution_count": 7,
   "metadata": {},
   "outputs": [],
   "source": [
    "model, cleaned_psis = model_from_raw_counts(counts_by_cluster, psis[:, :18])"
   ]
  },
  {
   "cell_type": "code",
   "execution_count": 8,
   "metadata": {},
   "outputs": [
    {
     "data": {
      "text/html": [
       "<div>\n",
       "<style scoped>\n",
       "    .dataframe tbody tr th:only-of-type {\n",
       "        vertical-align: middle;\n",
       "    }\n",
       "\n",
       "    .dataframe tbody tr th {\n",
       "        vertical-align: top;\n",
       "    }\n",
       "\n",
       "    .dataframe thead th {\n",
       "        text-align: right;\n",
       "    }\n",
       "</style>\n",
       "<table border=\"1\" class=\"dataframe\">\n",
       "  <thead>\n",
       "    <tr style=\"text-align: right;\">\n",
       "      <th></th>\n",
       "      <th>Bulk 0</th>\n",
       "      <th>Bulk 1</th>\n",
       "      <th>Bulk 2</th>\n",
       "      <th>Bulk 3</th>\n",
       "      <th>Bulk 4</th>\n",
       "      <th>Bulk 5</th>\n",
       "    </tr>\n",
       "  </thead>\n",
       "  <tbody>\n",
       "    <tr>\n",
       "      <th>0</th>\n",
       "      <td>2109.773926</td>\n",
       "      <td>1063.652344</td>\n",
       "      <td>2008.970703</td>\n",
       "      <td>1910.241577</td>\n",
       "      <td>1787.114746</td>\n",
       "      <td>1869.955444</td>\n",
       "    </tr>\n",
       "    <tr>\n",
       "      <th>1</th>\n",
       "      <td>649.000000</td>\n",
       "      <td>653.000000</td>\n",
       "      <td>828.000000</td>\n",
       "      <td>680.000000</td>\n",
       "      <td>643.000000</td>\n",
       "      <td>666.000000</td>\n",
       "    </tr>\n",
       "    <tr>\n",
       "      <th>2</th>\n",
       "      <td>3795.539307</td>\n",
       "      <td>3543.188232</td>\n",
       "      <td>3726.367188</td>\n",
       "      <td>3590.147705</td>\n",
       "      <td>3809.764160</td>\n",
       "      <td>3905.987305</td>\n",
       "    </tr>\n",
       "    <tr>\n",
       "      <th>3</th>\n",
       "      <td>24562.027344</td>\n",
       "      <td>27122.585938</td>\n",
       "      <td>29532.625000</td>\n",
       "      <td>46315.144531</td>\n",
       "      <td>49794.390625</td>\n",
       "      <td>48282.339844</td>\n",
       "    </tr>\n",
       "    <tr>\n",
       "      <th>4</th>\n",
       "      <td>3692.000000</td>\n",
       "      <td>2993.000000</td>\n",
       "      <td>3664.000000</td>\n",
       "      <td>3676.000000</td>\n",
       "      <td>4086.000000</td>\n",
       "      <td>3835.000000</td>\n",
       "    </tr>\n",
       "    <tr>\n",
       "      <th>...</th>\n",
       "      <td>...</td>\n",
       "      <td>...</td>\n",
       "      <td>...</td>\n",
       "      <td>...</td>\n",
       "      <td>...</td>\n",
       "      <td>...</td>\n",
       "    </tr>\n",
       "    <tr>\n",
       "      <th>5587</th>\n",
       "      <td>135.618866</td>\n",
       "      <td>85.306786</td>\n",
       "      <td>182.375183</td>\n",
       "      <td>116.164589</td>\n",
       "      <td>113.046349</td>\n",
       "      <td>155.259827</td>\n",
       "    </tr>\n",
       "    <tr>\n",
       "      <th>5588</th>\n",
       "      <td>344.000000</td>\n",
       "      <td>275.000000</td>\n",
       "      <td>304.000000</td>\n",
       "      <td>119.000000</td>\n",
       "      <td>164.000000</td>\n",
       "      <td>241.000000</td>\n",
       "    </tr>\n",
       "    <tr>\n",
       "      <th>5589</th>\n",
       "      <td>17459.433594</td>\n",
       "      <td>7870.057617</td>\n",
       "      <td>11492.776367</td>\n",
       "      <td>10270.350586</td>\n",
       "      <td>10393.014648</td>\n",
       "      <td>9425.689453</td>\n",
       "    </tr>\n",
       "    <tr>\n",
       "      <th>5590</th>\n",
       "      <td>1060.946777</td>\n",
       "      <td>1000.886414</td>\n",
       "      <td>1333.324097</td>\n",
       "      <td>1090.449951</td>\n",
       "      <td>1124.683105</td>\n",
       "      <td>1085.885254</td>\n",
       "    </tr>\n",
       "    <tr>\n",
       "      <th>5591</th>\n",
       "      <td>1841.462158</td>\n",
       "      <td>1767.765991</td>\n",
       "      <td>1776.844727</td>\n",
       "      <td>1979.868896</td>\n",
       "      <td>2149.755127</td>\n",
       "      <td>1995.775024</td>\n",
       "    </tr>\n",
       "  </tbody>\n",
       "</table>\n",
       "<p>5592 rows × 6 columns</p>\n",
       "</div>"
      ],
      "text/plain": [
       "            Bulk 0        Bulk 1        Bulk 2        Bulk 3        Bulk 4  \\\n",
       "0      2109.773926   1063.652344   2008.970703   1910.241577   1787.114746   \n",
       "1       649.000000    653.000000    828.000000    680.000000    643.000000   \n",
       "2      3795.539307   3543.188232   3726.367188   3590.147705   3809.764160   \n",
       "3     24562.027344  27122.585938  29532.625000  46315.144531  49794.390625   \n",
       "4      3692.000000   2993.000000   3664.000000   3676.000000   4086.000000   \n",
       "...            ...           ...           ...           ...           ...   \n",
       "5587    135.618866     85.306786    182.375183    116.164589    113.046349   \n",
       "5588    344.000000    275.000000    304.000000    119.000000    164.000000   \n",
       "5589  17459.433594   7870.057617  11492.776367  10270.350586  10393.014648   \n",
       "5590   1060.946777   1000.886414   1333.324097   1090.449951   1124.683105   \n",
       "5591   1841.462158   1767.765991   1776.844727   1979.868896   2149.755127   \n",
       "\n",
       "            Bulk 5  \n",
       "0      1869.955444  \n",
       "1       666.000000  \n",
       "2      3905.987305  \n",
       "3     48282.339844  \n",
       "4      3835.000000  \n",
       "...            ...  \n",
       "5587    155.259827  \n",
       "5588    241.000000  \n",
       "5589   9425.689453  \n",
       "5590   1085.885254  \n",
       "5591   1995.775024  \n",
       "\n",
       "[5592 rows x 6 columns]"
      ]
     },
     "execution_count": 8,
     "metadata": {},
     "output_type": "execute_result"
    }
   ],
   "source": [
    "cleaned_psis"
   ]
  },
  {
   "cell_type": "code",
   "execution_count": 9,
   "metadata": {},
   "outputs": [],
   "source": [
    "output_table= model.predict(cleaned_psis) #this takes a minute ... \n",
    "output_table.to_csv('rnasieve_jcoffman007_4dpa.csv')"
   ]
  },
  {
   "cell_type": "code",
   "execution_count": 10,
   "metadata": {},
   "outputs": [
    {
     "data": {
      "text/plain": [
       "[[(0.0, 1.0), (0.0, 1.0), (0.0, 1.0), (0.0, 1.0), (0.0, 1.0), (0.0, 1.0)],\n",
       " [(0.0, 1.0), (0.0, 1.0), (0.0, 1.0), (0.0, 1.0), (0.0, 1.0), (0.0, 1.0)],\n",
       " [(0.0, 1.0), (0.0, 1.0), (0.0, 1.0), (0.0, 1.0), (0.0, 1.0), (0.0, 1.0)],\n",
       " [(0.0, 1.0), (0.0, 1.0), (0.0, 1.0), (0.0, 1.0), (0.0, 1.0), (0.0, 1.0)],\n",
       " [(0.0, 1.0), (0.0, 1.0), (0.0, 1.0), (0.0, 1.0), (0.0, 1.0), (0.0, 1.0)],\n",
       " [(0.0, 1.0), (0.0, 1.0), (0.0, 1.0), (0.0, 1.0), (0.0, 1.0), (0.0, 1.0)]]"
      ]
     },
     "execution_count": 10,
     "metadata": {},
     "output_type": "execute_result"
    }
   ],
   "source": [
    "# In this example, the intervals at a significance level of 0.05 indicate the estimate is poor.\n",
    "# We set sig=0.9999 for the sake of visualization.\n",
    "model.compute_marginal_confidence_intervals(sig=0.2)"
   ]
  },
  {
   "cell_type": "code",
   "execution_count": 11,
   "metadata": {},
   "outputs": [
    {
     "data": {
      "text/html": [
       "\n",
       "<div id=\"altair-viz-a147cec336444c3eb89bae2274005196\"></div>\n",
       "<script type=\"text/javascript\">\n",
       "  var VEGA_DEBUG = (typeof VEGA_DEBUG == \"undefined\") ? {} : VEGA_DEBUG;\n",
       "  (function(spec, embedOpt){\n",
       "    let outputDiv = document.currentScript.previousElementSibling;\n",
       "    if (outputDiv.id !== \"altair-viz-a147cec336444c3eb89bae2274005196\") {\n",
       "      outputDiv = document.getElementById(\"altair-viz-a147cec336444c3eb89bae2274005196\");\n",
       "    }\n",
       "    const paths = {\n",
       "      \"vega\": \"https://cdn.jsdelivr.net/npm//vega@5?noext\",\n",
       "      \"vega-lib\": \"https://cdn.jsdelivr.net/npm//vega-lib?noext\",\n",
       "      \"vega-lite\": \"https://cdn.jsdelivr.net/npm//vega-lite@4.17.0?noext\",\n",
       "      \"vega-embed\": \"https://cdn.jsdelivr.net/npm//vega-embed@6?noext\",\n",
       "    };\n",
       "\n",
       "    function maybeLoadScript(lib, version) {\n",
       "      var key = `${lib.replace(\"-\", \"\")}_version`;\n",
       "      return (VEGA_DEBUG[key] == version) ?\n",
       "        Promise.resolve(paths[lib]) :\n",
       "        new Promise(function(resolve, reject) {\n",
       "          var s = document.createElement('script');\n",
       "          document.getElementsByTagName(\"head\")[0].appendChild(s);\n",
       "          s.async = true;\n",
       "          s.onload = () => {\n",
       "            VEGA_DEBUG[key] = version;\n",
       "            return resolve(paths[lib]);\n",
       "          };\n",
       "          s.onerror = () => reject(`Error loading script: ${paths[lib]}`);\n",
       "          s.src = paths[lib];\n",
       "        });\n",
       "    }\n",
       "\n",
       "    function showError(err) {\n",
       "      outputDiv.innerHTML = `<div class=\"error\" style=\"color:red;\">${err}</div>`;\n",
       "      throw err;\n",
       "    }\n",
       "\n",
       "    function displayChart(vegaEmbed) {\n",
       "      vegaEmbed(outputDiv, spec, embedOpt)\n",
       "        .catch(err => showError(`Javascript Error: ${err.message}<br>This usually means there's a typo in your chart specification. See the javascript console for the full traceback.`));\n",
       "    }\n",
       "\n",
       "    if(typeof define === \"function\" && define.amd) {\n",
       "      requirejs.config({paths});\n",
       "      require([\"vega-embed\"], displayChart, err => showError(`Error loading script: ${err.message}`));\n",
       "    } else {\n",
       "      maybeLoadScript(\"vega\", \"5\")\n",
       "        .then(() => maybeLoadScript(\"vega-lite\", \"4.17.0\"))\n",
       "        .then(() => maybeLoadScript(\"vega-embed\", \"6\"))\n",
       "        .catch(showError)\n",
       "        .then(() => displayChart(vegaEmbed));\n",
       "    }\n",
       "  })({\"config\": {\"view\": {\"continuousWidth\": 400, \"continuousHeight\": 300}}, \"data\": {\"name\": \"data-6c92d27cb95caa5477fabf672f5daad5\"}, \"facet\": {\"column\": {\"field\": \"index\", \"title\": \"Bulk\", \"type\": \"nominal\"}}, \"spec\": {\"layer\": [{\"mark\": \"bar\", \"encoding\": {\"color\": {\"field\": \"cell_type\", \"type\": \"nominal\"}, \"x\": {\"axis\": {\"labels\": false, \"title\": \"Cell Type\"}, \"field\": \"cell_type\", \"type\": \"nominal\"}, \"y\": {\"axis\": {\"title\": \"Proportion\"}, \"field\": \"proportion\", \"type\": \"quantitative\"}}}, {\"mark\": \"errorbar\", \"encoding\": {\"x\": {\"axis\": {\"labels\": false, \"title\": \"Cell Type\"}, \"field\": \"cell_type\", \"type\": \"nominal\"}, \"y\": {\"field\": \"ci_low\", \"type\": \"quantitative\"}, \"y2\": {\"field\": \"ci_high\"}}}]}, \"title\": \"Bar visualization \", \"$schema\": \"https://vega.github.io/schema/vega-lite/v4.17.0.json\", \"datasets\": {\"data-6c92d27cb95caa5477fabf672f5daad5\": [{\"index\": \"Bulk 0\", \"cell_type\": \"Basal Epithelial\", \"proportion\": 0.3997187836291208, \"ci_err\": 0.5, \"ci_low\": 0.0, \"ci_high\": 0.8997187836291207}, {\"index\": \"Bulk 1\", \"cell_type\": \"Basal Epithelial\", \"proportion\": 0.4111247732611398, \"ci_err\": 0.5, \"ci_low\": 0.0, \"ci_high\": 0.9111247732611398}, {\"index\": \"Bulk 2\", \"cell_type\": \"Basal Epithelial\", \"proportion\": 0.4031218458246704, \"ci_err\": 0.5, \"ci_low\": 0.0, \"ci_high\": 0.9031218458246704}, {\"index\": \"Bulk 3\", \"cell_type\": \"Basal Epithelial\", \"proportion\": 0.5416835394127753, \"ci_err\": 0.5, \"ci_low\": 0.04168353941277525, \"ci_high\": 1.0}, {\"index\": \"Bulk 4\", \"cell_type\": \"Basal Epithelial\", \"proportion\": 0.5348854624400047, \"ci_err\": 0.5, \"ci_low\": 0.03488546244000468, \"ci_high\": 1.0}, {\"index\": \"Bulk 5\", \"cell_type\": \"Basal Epithelial\", \"proportion\": 0.5015890483643476, \"ci_err\": 0.5, \"ci_low\": 0.0015890483643475894, \"ci_high\": 1.0}, {\"index\": \"Bulk 0\", \"cell_type\": \"Hematopoietic\", \"proportion\": 0.04171880610637231, \"ci_err\": 0.5, \"ci_low\": 0.0, \"ci_high\": 0.5417188061063724}, {\"index\": \"Bulk 1\", \"cell_type\": \"Hematopoietic\", \"proportion\": 0.034540295298283, \"ci_err\": 0.5, \"ci_low\": 0.0, \"ci_high\": 0.534540295298283}, {\"index\": \"Bulk 2\", \"cell_type\": \"Hematopoietic\", \"proportion\": 0.04093057123752693, \"ci_err\": 0.5, \"ci_low\": 0.0, \"ci_high\": 0.540930571237527}, {\"index\": \"Bulk 3\", \"cell_type\": \"Hematopoietic\", \"proportion\": 0.008451909712725884, \"ci_err\": 0.5, \"ci_low\": 0.0, \"ci_high\": 0.5084519097127259}, {\"index\": \"Bulk 4\", \"cell_type\": \"Hematopoietic\", \"proportion\": 0.010178388148144316, \"ci_err\": 0.5, \"ci_low\": 0.0, \"ci_high\": 0.5101783881481443}, {\"index\": \"Bulk 5\", \"cell_type\": \"Hematopoietic\", \"proportion\": 0.02406001582949172, \"ci_err\": 0.5, \"ci_low\": 0.0, \"ci_high\": 0.5240600158294917}, {\"index\": \"Bulk 0\", \"cell_type\": \"Intermediate Epithelial\", \"proportion\": 0.0, \"ci_err\": 0.5, \"ci_low\": 0.0, \"ci_high\": 0.5}, {\"index\": \"Bulk 1\", \"cell_type\": \"Intermediate Epithelial\", \"proportion\": 0.0, \"ci_err\": 0.5, \"ci_low\": 0.0, \"ci_high\": 0.5}, {\"index\": \"Bulk 2\", \"cell_type\": \"Intermediate Epithelial\", \"proportion\": 0.0, \"ci_err\": 0.5, \"ci_low\": 0.0, \"ci_high\": 0.5}, {\"index\": \"Bulk 3\", \"cell_type\": \"Intermediate Epithelial\", \"proportion\": 0.0, \"ci_err\": 0.5, \"ci_low\": 0.0, \"ci_high\": 0.5}, {\"index\": \"Bulk 4\", \"cell_type\": \"Intermediate Epithelial\", \"proportion\": 0.0, \"ci_err\": 0.5, \"ci_low\": 0.0, \"ci_high\": 0.5}, {\"index\": \"Bulk 5\", \"cell_type\": \"Intermediate Epithelial\", \"proportion\": 0.0, \"ci_err\": 0.5, \"ci_low\": 0.0, \"ci_high\": 0.5}, {\"index\": \"Bulk 0\", \"cell_type\": \"Mesenchymal\", \"proportion\": 0.23592572383530835, \"ci_err\": 0.5, \"ci_low\": 0.0, \"ci_high\": 0.7359257238353083}, {\"index\": \"Bulk 1\", \"cell_type\": \"Mesenchymal\", \"proportion\": 0.2375632778528878, \"ci_err\": 0.5, \"ci_low\": 0.0, \"ci_high\": 0.7375632778528878}, {\"index\": \"Bulk 2\", \"cell_type\": \"Mesenchymal\", \"proportion\": 0.24186889393280667, \"ci_err\": 0.5, \"ci_low\": 0.0, \"ci_high\": 0.7418688939328066}, {\"index\": \"Bulk 3\", \"cell_type\": \"Mesenchymal\", \"proportion\": 0.1606888079215366, \"ci_err\": 0.5, \"ci_low\": 0.0, \"ci_high\": 0.6606888079215366}, {\"index\": \"Bulk 4\", \"cell_type\": \"Mesenchymal\", \"proportion\": 0.20447717190138273, \"ci_err\": 0.5, \"ci_low\": 0.0, \"ci_high\": 0.7044771719013827}, {\"index\": \"Bulk 5\", \"cell_type\": \"Mesenchymal\", \"proportion\": 0.23184380758317416, \"ci_err\": 0.5, \"ci_low\": 0.0, \"ci_high\": 0.7318438075831741}, {\"index\": \"Bulk 0\", \"cell_type\": \"Mucosal-like\", \"proportion\": 0.03419969645538701, \"ci_err\": 0.5, \"ci_low\": 0.0, \"ci_high\": 0.534199696455387}, {\"index\": \"Bulk 1\", \"cell_type\": \"Mucosal-like\", \"proportion\": 0.03002743422620227, \"ci_err\": 0.5, \"ci_low\": 0.0, \"ci_high\": 0.5300274342262022}, {\"index\": \"Bulk 2\", \"cell_type\": \"Mucosal-like\", \"proportion\": 0.032428090370670966, \"ci_err\": 0.5, \"ci_low\": 0.0, \"ci_high\": 0.532428090370671}, {\"index\": \"Bulk 3\", \"cell_type\": \"Mucosal-like\", \"proportion\": 0.018350479231935633, \"ci_err\": 0.5, \"ci_low\": 0.0, \"ci_high\": 0.5183504792319357}, {\"index\": \"Bulk 4\", \"cell_type\": \"Mucosal-like\", \"proportion\": 0.016945096084888037, \"ci_err\": 0.5, \"ci_low\": 0.0, \"ci_high\": 0.516945096084888}, {\"index\": \"Bulk 5\", \"cell_type\": \"Mucosal-like\", \"proportion\": 0.015509482326682375, \"ci_err\": 0.5, \"ci_low\": 0.0, \"ci_high\": 0.5155094823266824}, {\"index\": \"Bulk 0\", \"cell_type\": \"Superficial Epithelial\", \"proportion\": 0.28843698997381145, \"ci_err\": 0.5, \"ci_low\": 0.0, \"ci_high\": 0.7884369899738115}, {\"index\": \"Bulk 1\", \"cell_type\": \"Superficial Epithelial\", \"proportion\": 0.28674421936148714, \"ci_err\": 0.5, \"ci_low\": 0.0, \"ci_high\": 0.7867442193614871}, {\"index\": \"Bulk 2\", \"cell_type\": \"Superficial Epithelial\", \"proportion\": 0.281650598634325, \"ci_err\": 0.5, \"ci_low\": 0.0, \"ci_high\": 0.781650598634325}, {\"index\": \"Bulk 3\", \"cell_type\": \"Superficial Epithelial\", \"proportion\": 0.2708252637210267, \"ci_err\": 0.5, \"ci_low\": 0.0, \"ci_high\": 0.7708252637210267}, {\"index\": \"Bulk 4\", \"cell_type\": \"Superficial Epithelial\", \"proportion\": 0.23351388142558022, \"ci_err\": 0.5, \"ci_low\": 0.0, \"ci_high\": 0.7335138814255802}, {\"index\": \"Bulk 5\", \"cell_type\": \"Superficial Epithelial\", \"proportion\": 0.22699764589630406, \"ci_err\": 0.5, \"ci_low\": 0.0, \"ci_high\": 0.7269976458963041}]}}, {\"mode\": \"vega-lite\"});\n",
       "</script>"
      ],
      "text/plain": [
       "alt.FacetChart(...)"
      ]
     },
     "execution_count": 11,
     "metadata": {},
     "output_type": "execute_result"
    }
   ],
   "source": [
    "model.plot_proportions('bar').properties(title=\"Bar visualization \")"
   ]
  },
  {
   "cell_type": "code",
   "execution_count": 12,
   "metadata": {},
   "outputs": [
    {
     "data": {
      "text/html": [
       "\n",
       "<div id=\"altair-viz-6f73c72c4e354116828bcb153c5ba0e5\"></div>\n",
       "<script type=\"text/javascript\">\n",
       "  var VEGA_DEBUG = (typeof VEGA_DEBUG == \"undefined\") ? {} : VEGA_DEBUG;\n",
       "  (function(spec, embedOpt){\n",
       "    let outputDiv = document.currentScript.previousElementSibling;\n",
       "    if (outputDiv.id !== \"altair-viz-6f73c72c4e354116828bcb153c5ba0e5\") {\n",
       "      outputDiv = document.getElementById(\"altair-viz-6f73c72c4e354116828bcb153c5ba0e5\");\n",
       "    }\n",
       "    const paths = {\n",
       "      \"vega\": \"https://cdn.jsdelivr.net/npm//vega@5?noext\",\n",
       "      \"vega-lib\": \"https://cdn.jsdelivr.net/npm//vega-lib?noext\",\n",
       "      \"vega-lite\": \"https://cdn.jsdelivr.net/npm//vega-lite@4.17.0?noext\",\n",
       "      \"vega-embed\": \"https://cdn.jsdelivr.net/npm//vega-embed@6?noext\",\n",
       "    };\n",
       "\n",
       "    function maybeLoadScript(lib, version) {\n",
       "      var key = `${lib.replace(\"-\", \"\")}_version`;\n",
       "      return (VEGA_DEBUG[key] == version) ?\n",
       "        Promise.resolve(paths[lib]) :\n",
       "        new Promise(function(resolve, reject) {\n",
       "          var s = document.createElement('script');\n",
       "          document.getElementsByTagName(\"head\")[0].appendChild(s);\n",
       "          s.async = true;\n",
       "          s.onload = () => {\n",
       "            VEGA_DEBUG[key] = version;\n",
       "            return resolve(paths[lib]);\n",
       "          };\n",
       "          s.onerror = () => reject(`Error loading script: ${paths[lib]}`);\n",
       "          s.src = paths[lib];\n",
       "        });\n",
       "    }\n",
       "\n",
       "    function showError(err) {\n",
       "      outputDiv.innerHTML = `<div class=\"error\" style=\"color:red;\">${err}</div>`;\n",
       "      throw err;\n",
       "    }\n",
       "\n",
       "    function displayChart(vegaEmbed) {\n",
       "      vegaEmbed(outputDiv, spec, embedOpt)\n",
       "        .catch(err => showError(`Javascript Error: ${err.message}<br>This usually means there's a typo in your chart specification. See the javascript console for the full traceback.`));\n",
       "    }\n",
       "\n",
       "    if(typeof define === \"function\" && define.amd) {\n",
       "      requirejs.config({paths});\n",
       "      require([\"vega-embed\"], displayChart, err => showError(`Error loading script: ${err.message}`));\n",
       "    } else {\n",
       "      maybeLoadScript(\"vega\", \"5\")\n",
       "        .then(() => maybeLoadScript(\"vega-lite\", \"4.17.0\"))\n",
       "        .then(() => maybeLoadScript(\"vega-embed\", \"6\"))\n",
       "        .catch(showError)\n",
       "        .then(() => displayChart(vegaEmbed));\n",
       "    }\n",
       "  })({\"config\": {\"view\": {\"continuousWidth\": 400, \"continuousHeight\": 300}}, \"data\": {\"name\": \"data-6c92d27cb95caa5477fabf672f5daad5\"}, \"mark\": \"bar\", \"encoding\": {\"color\": {\"field\": \"cell_type\", \"type\": \"nominal\"}, \"x\": {\"axis\": {\"title\": \"Bulk\"}, \"field\": \"index\", \"type\": \"nominal\"}, \"y\": {\"aggregate\": \"sum\", \"axis\": {\"title\": \"Proportion\"}, \"field\": \"proportion\", \"stack\": \"normalize\", \"type\": \"quantitative\"}}, \"title\": \"Stacked visualization\", \"$schema\": \"https://vega.github.io/schema/vega-lite/v4.17.0.json\", \"datasets\": {\"data-6c92d27cb95caa5477fabf672f5daad5\": [{\"index\": \"Bulk 0\", \"cell_type\": \"Basal Epithelial\", \"proportion\": 0.3997187836291208, \"ci_err\": 0.5, \"ci_low\": 0.0, \"ci_high\": 0.8997187836291207}, {\"index\": \"Bulk 1\", \"cell_type\": \"Basal Epithelial\", \"proportion\": 0.4111247732611398, \"ci_err\": 0.5, \"ci_low\": 0.0, \"ci_high\": 0.9111247732611398}, {\"index\": \"Bulk 2\", \"cell_type\": \"Basal Epithelial\", \"proportion\": 0.4031218458246704, \"ci_err\": 0.5, \"ci_low\": 0.0, \"ci_high\": 0.9031218458246704}, {\"index\": \"Bulk 3\", \"cell_type\": \"Basal Epithelial\", \"proportion\": 0.5416835394127753, \"ci_err\": 0.5, \"ci_low\": 0.04168353941277525, \"ci_high\": 1.0}, {\"index\": \"Bulk 4\", \"cell_type\": \"Basal Epithelial\", \"proportion\": 0.5348854624400047, \"ci_err\": 0.5, \"ci_low\": 0.03488546244000468, \"ci_high\": 1.0}, {\"index\": \"Bulk 5\", \"cell_type\": \"Basal Epithelial\", \"proportion\": 0.5015890483643476, \"ci_err\": 0.5, \"ci_low\": 0.0015890483643475894, \"ci_high\": 1.0}, {\"index\": \"Bulk 0\", \"cell_type\": \"Hematopoietic\", \"proportion\": 0.04171880610637231, \"ci_err\": 0.5, \"ci_low\": 0.0, \"ci_high\": 0.5417188061063724}, {\"index\": \"Bulk 1\", \"cell_type\": \"Hematopoietic\", \"proportion\": 0.034540295298283, \"ci_err\": 0.5, \"ci_low\": 0.0, \"ci_high\": 0.534540295298283}, {\"index\": \"Bulk 2\", \"cell_type\": \"Hematopoietic\", \"proportion\": 0.04093057123752693, \"ci_err\": 0.5, \"ci_low\": 0.0, \"ci_high\": 0.540930571237527}, {\"index\": \"Bulk 3\", \"cell_type\": \"Hematopoietic\", \"proportion\": 0.008451909712725884, \"ci_err\": 0.5, \"ci_low\": 0.0, \"ci_high\": 0.5084519097127259}, {\"index\": \"Bulk 4\", \"cell_type\": \"Hematopoietic\", \"proportion\": 0.010178388148144316, \"ci_err\": 0.5, \"ci_low\": 0.0, \"ci_high\": 0.5101783881481443}, {\"index\": \"Bulk 5\", \"cell_type\": \"Hematopoietic\", \"proportion\": 0.02406001582949172, \"ci_err\": 0.5, \"ci_low\": 0.0, \"ci_high\": 0.5240600158294917}, {\"index\": \"Bulk 0\", \"cell_type\": \"Intermediate Epithelial\", \"proportion\": 0.0, \"ci_err\": 0.5, \"ci_low\": 0.0, \"ci_high\": 0.5}, {\"index\": \"Bulk 1\", \"cell_type\": \"Intermediate Epithelial\", \"proportion\": 0.0, \"ci_err\": 0.5, \"ci_low\": 0.0, \"ci_high\": 0.5}, {\"index\": \"Bulk 2\", \"cell_type\": \"Intermediate Epithelial\", \"proportion\": 0.0, \"ci_err\": 0.5, \"ci_low\": 0.0, \"ci_high\": 0.5}, {\"index\": \"Bulk 3\", \"cell_type\": \"Intermediate Epithelial\", \"proportion\": 0.0, \"ci_err\": 0.5, \"ci_low\": 0.0, \"ci_high\": 0.5}, {\"index\": \"Bulk 4\", \"cell_type\": \"Intermediate Epithelial\", \"proportion\": 0.0, \"ci_err\": 0.5, \"ci_low\": 0.0, \"ci_high\": 0.5}, {\"index\": \"Bulk 5\", \"cell_type\": \"Intermediate Epithelial\", \"proportion\": 0.0, \"ci_err\": 0.5, \"ci_low\": 0.0, \"ci_high\": 0.5}, {\"index\": \"Bulk 0\", \"cell_type\": \"Mesenchymal\", \"proportion\": 0.23592572383530835, \"ci_err\": 0.5, \"ci_low\": 0.0, \"ci_high\": 0.7359257238353083}, {\"index\": \"Bulk 1\", \"cell_type\": \"Mesenchymal\", \"proportion\": 0.2375632778528878, \"ci_err\": 0.5, \"ci_low\": 0.0, \"ci_high\": 0.7375632778528878}, {\"index\": \"Bulk 2\", \"cell_type\": \"Mesenchymal\", \"proportion\": 0.24186889393280667, \"ci_err\": 0.5, \"ci_low\": 0.0, \"ci_high\": 0.7418688939328066}, {\"index\": \"Bulk 3\", \"cell_type\": \"Mesenchymal\", \"proportion\": 0.1606888079215366, \"ci_err\": 0.5, \"ci_low\": 0.0, \"ci_high\": 0.6606888079215366}, {\"index\": \"Bulk 4\", \"cell_type\": \"Mesenchymal\", \"proportion\": 0.20447717190138273, \"ci_err\": 0.5, \"ci_low\": 0.0, \"ci_high\": 0.7044771719013827}, {\"index\": \"Bulk 5\", \"cell_type\": \"Mesenchymal\", \"proportion\": 0.23184380758317416, \"ci_err\": 0.5, \"ci_low\": 0.0, \"ci_high\": 0.7318438075831741}, {\"index\": \"Bulk 0\", \"cell_type\": \"Mucosal-like\", \"proportion\": 0.03419969645538701, \"ci_err\": 0.5, \"ci_low\": 0.0, \"ci_high\": 0.534199696455387}, {\"index\": \"Bulk 1\", \"cell_type\": \"Mucosal-like\", \"proportion\": 0.03002743422620227, \"ci_err\": 0.5, \"ci_low\": 0.0, \"ci_high\": 0.5300274342262022}, {\"index\": \"Bulk 2\", \"cell_type\": \"Mucosal-like\", \"proportion\": 0.032428090370670966, \"ci_err\": 0.5, \"ci_low\": 0.0, \"ci_high\": 0.532428090370671}, {\"index\": \"Bulk 3\", \"cell_type\": \"Mucosal-like\", \"proportion\": 0.018350479231935633, \"ci_err\": 0.5, \"ci_low\": 0.0, \"ci_high\": 0.5183504792319357}, {\"index\": \"Bulk 4\", \"cell_type\": \"Mucosal-like\", \"proportion\": 0.016945096084888037, \"ci_err\": 0.5, \"ci_low\": 0.0, \"ci_high\": 0.516945096084888}, {\"index\": \"Bulk 5\", \"cell_type\": \"Mucosal-like\", \"proportion\": 0.015509482326682375, \"ci_err\": 0.5, \"ci_low\": 0.0, \"ci_high\": 0.5155094823266824}, {\"index\": \"Bulk 0\", \"cell_type\": \"Superficial Epithelial\", \"proportion\": 0.28843698997381145, \"ci_err\": 0.5, \"ci_low\": 0.0, \"ci_high\": 0.7884369899738115}, {\"index\": \"Bulk 1\", \"cell_type\": \"Superficial Epithelial\", \"proportion\": 0.28674421936148714, \"ci_err\": 0.5, \"ci_low\": 0.0, \"ci_high\": 0.7867442193614871}, {\"index\": \"Bulk 2\", \"cell_type\": \"Superficial Epithelial\", \"proportion\": 0.281650598634325, \"ci_err\": 0.5, \"ci_low\": 0.0, \"ci_high\": 0.781650598634325}, {\"index\": \"Bulk 3\", \"cell_type\": \"Superficial Epithelial\", \"proportion\": 0.2708252637210267, \"ci_err\": 0.5, \"ci_low\": 0.0, \"ci_high\": 0.7708252637210267}, {\"index\": \"Bulk 4\", \"cell_type\": \"Superficial Epithelial\", \"proportion\": 0.23351388142558022, \"ci_err\": 0.5, \"ci_low\": 0.0, \"ci_high\": 0.7335138814255802}, {\"index\": \"Bulk 5\", \"cell_type\": \"Superficial Epithelial\", \"proportion\": 0.22699764589630406, \"ci_err\": 0.5, \"ci_low\": 0.0, \"ci_high\": 0.7269976458963041}]}}, {\"mode\": \"vega-lite\"});\n",
       "</script>"
      ],
      "text/plain": [
       "alt.Chart(...)"
      ]
     },
     "execution_count": 12,
     "metadata": {},
     "output_type": "execute_result"
    }
   ],
   "source": [
    "model.plot_proportions('stacked').properties(title=\"Stacked visualization\")"
   ]
  },
  {
   "cell_type": "code",
   "execution_count": null,
   "metadata": {},
   "outputs": [],
   "source": []
  }
 ],
 "metadata": {
  "kernelspec": {
   "display_name": "Python 3",
   "language": "python",
   "name": "python3"
  },
  "language_info": {
   "codemirror_mode": {
    "name": "ipython",
    "version": 3
   },
   "file_extension": ".py",
   "mimetype": "text/x-python",
   "name": "python",
   "nbconvert_exporter": "python",
   "pygments_lexer": "ipython3",
   "version": "3.7.0"
  }
 },
 "nbformat": 4,
 "nbformat_minor": 5
}

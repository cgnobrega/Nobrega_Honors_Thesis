{
 "cells": [
  {
   "cell_type": "code",
   "execution_count": 1,
   "metadata": {},
   "outputs": [
    {
     "name": "stdout",
     "output_type": "stream",
     "text": [
      "0.7.8\n"
     ]
    }
   ],
   "source": [
    "import numpy as np\n",
    "import pandas as pd\n",
    "#!pip install anndata --target D:/usr/local/lib/python3.8/dist-packages\n",
    "import anndata as ad\n",
    "from collections import defaultdict\n",
    "from rnasieve.preprocessing import model_from_raw_counts\n",
    "print(ad.__version__)"
   ]
  },
  {
   "cell_type": "markdown",
   "metadata": {},
   "source": [
    "This file uses guidance from https://github.com/theislab/anndata-tutorials/blob/master/getting-started.ipynb\n",
    " to get the jcoffman008 data as an AnnData structure so that it can be used for RNAsieve as in https://github.com/songlab-cal/rna-sieve\n"
   ]
  },
  {
   "cell_type": "code",
   "execution_count": 2,
   "metadata": {},
   "outputs": [],
   "source": [
    "##-----loading in jcoffman007 expression and design data -----\n",
    "#load in jcoffman007 count data (raw counts)\n",
    "widejcoffman007_count = pd.read_csv(\"bulk_count_0dpa.csv.gz\", compression=\"gzip\")\n",
    "#changing GeneID_genename format to just GeneID\n",
    "# widejcoffman007_count[\"gene_id\"]=widejcoffman007_count[\"gene_id\"].str[:18]\n",
    "#load in design file. note that each row is a sample that matches up with the \"data\" dataframe  \n",
    "jcoffman007_design= pd.read_csv(\"bulk_design_0dpa.csv.gz\", compression=\"gzip\",index_col=0)\n",
    "\n",
    "\n",
    "##-----loading in atlas expression and design data----- \n",
    "#uploading the expression data for the reference (atlas)\n",
    "wideatlas_count = pd.read_csv(\"single_count_0dpa.csv.gz\", compression=\"gzip\")\n",
    "#changing GeneID|genename format to just GeneID\n",
    "# wideatlas_count[\"gene\"]=wideatlas_count[\"gene\"].str[:18]\n",
    "#uploading the meta/\"obs\" for the reference (atlas)\n",
    "''' \n",
    "atlas_meta_alldpf = pd.read_csv(\"meta.tsv\", sep=\"\\t\",index_col=0)\n",
    "#restricting meta to only 5dpf \n",
    "sample_names_5dpf= ['5a_5dpf', '5b_5dpf']\n",
    "atlas_meta= atlas_meta_alldpf[atlas_meta_alldpf['sample_name'].isin(sample_names_5dpf)]\n",
    "'''\n",
    "atlas_design = pd.read_csv(\"single_design_0dpa.csv.gz\", compression=\"gzip\",index_col=0)\n"
   ]
  },
  {
   "cell_type": "code",
   "execution_count": 3,
   "metadata": {},
   "outputs": [
    {
     "name": "stdout",
     "output_type": "stream",
     "text": [
      "there are 24324 genes that are in both the atlas and jcoffman007 count data\n"
     ]
    }
   ],
   "source": [
    "#altering both expression datasets to contain identical sets of genes \n",
    "jcoffman007_genes= widejcoffman007_count[\"genes\"].tolist()\n",
    "atlas_genes= wideatlas_count[\"genes\"].tolist()\n",
    "genes_in_both= list(set(jcoffman007_genes) & set(atlas_genes))\n",
    "print(\"there are\",len(genes_in_both),\"genes that are in both the atlas and jcoffman007 count data\") \n",
    "widejcoffman007_count=widejcoffman007_count[widejcoffman007_count[\"genes\"].isin(genes_in_both)]\n",
    "wideatlas_count=wideatlas_count[wideatlas_count[\"genes\"].isin(genes_in_both)]\n",
    "#sorting to be in same order\n",
    "widejcoffman007_count=widejcoffman007_count.sort_values(by=['genes'])\n",
    "wideatlas_count=wideatlas_count.sort_values(by=['genes'])"
   ]
  },
  {
   "cell_type": "code",
   "execution_count": 4,
   "metadata": {},
   "outputs": [],
   "source": [
    "#------making annData structure that holds the counts and meta for jcoffman007-----\n",
    "#convert to having genes as columns, samples as rows (first have to make the gene ID the row label)\n",
    "widejcoffman007_count= widejcoffman007_count.set_index(\"genes\")\n",
    "jcoffman007_count= widejcoffman007_count.transpose()\n",
    "jcoffman007 = ad.AnnData(jcoffman007_count, obs=jcoffman007_design)\n",
    "\n",
    "#-----making annData structure that holds the counts and meta for atlas----- \n",
    "wideatlas_count=wideatlas_count.set_index(\"genes\")\n",
    "atlas_count= wideatlas_count.transpose()\n",
    "atlas = ad.AnnData(atlas_count, obs=atlas_design)"
   ]
  },
  {
   "cell_type": "code",
   "execution_count": 5,
   "metadata": {},
   "outputs": [
    {
     "name": "stdout",
     "output_type": "stream",
     "text": [
      "Aggregating by cluster...\n",
      "Aggregating bulks by name...\n",
      "Done!\n"
     ]
    }
   ],
   "source": [
    "#modeling off of the raw counts prep section from example.ipynb from song lab github\n",
    "\n",
    "# grouping the cells in the reference data by cluster \n",
    "print('Aggregating by cluster...')\n",
    "counts_by_cluster = {}\n",
    "for i in range(len(atlas)):\n",
    "    sc = atlas[i]\n",
    "    if len(sc.obs['major.cl']) == 0:\n",
    "        continue\n",
    "    cell_cluster = sc.obs['major.cl'][0]\n",
    "    if cell_cluster not in counts_by_cluster:\n",
    "        counts_by_cluster[cell_cluster] = np.empty((sc.X.shape[1], 0), dtype=np.float32)\n",
    "    counts_by_cluster[cell_cluster] = np.hstack(\n",
    "        (counts_by_cluster[cell_cluster], sc.X.toarray().reshape(-1, 1)))\n",
    "    \n",
    "\n",
    "# Bulk prep\n",
    "print('Aggregating bulks by name...')\n",
    "G = jcoffman007.n_vars\n",
    "bulk_by_time = defaultdict(list)\n",
    "for i in range(len(jcoffman007)):\n",
    "    bulk = jcoffman007[i]\n",
    "    if len(bulk.obs['name']) == 0:\n",
    "        continue\n",
    "    time = bulk.obs['name'][0]\n",
    "    bulk_by_time[time].append(bulk.X.toarray().reshape(-1, 1))\n",
    "\n",
    "bulk_labels = []\n",
    "psis = np.empty((G, 0), dtype=np.float32)\n",
    "for name in sorted(bulk_by_time.keys()):\n",
    "    bulks = bulk_by_time[name]\n",
    "    for i in range(len(bulks)):\n",
    "        bulk_labels.append(\"{} name, subject {}\".format(name, i))\n",
    "        psis = np.hstack((psis, bulks[i]))\n",
    "        \n",
    "print('Done!')"
   ]
  },
  {
   "cell_type": "code",
   "execution_count": 6,
   "metadata": {},
   "outputs": [
    {
     "data": {
      "text/plain": [
       "(24324, 1166)"
      ]
     },
     "execution_count": 6,
     "metadata": {},
     "output_type": "execute_result"
    }
   ],
   "source": [
    "counts_by_cluster['Intermediate Epithelial'].shape"
   ]
  },
  {
   "cell_type": "code",
   "execution_count": 7,
   "metadata": {},
   "outputs": [],
   "source": [
    "model, cleaned_psis = model_from_raw_counts(counts_by_cluster, psis[:, :18])"
   ]
  },
  {
   "cell_type": "code",
   "execution_count": 8,
   "metadata": {},
   "outputs": [
    {
     "data": {
      "text/html": [
       "<div>\n",
       "<style scoped>\n",
       "    .dataframe tbody tr th:only-of-type {\n",
       "        vertical-align: middle;\n",
       "    }\n",
       "\n",
       "    .dataframe tbody tr th {\n",
       "        vertical-align: top;\n",
       "    }\n",
       "\n",
       "    .dataframe thead th {\n",
       "        text-align: right;\n",
       "    }\n",
       "</style>\n",
       "<table border=\"1\" class=\"dataframe\">\n",
       "  <thead>\n",
       "    <tr style=\"text-align: right;\">\n",
       "      <th></th>\n",
       "      <th>Bulk 0</th>\n",
       "      <th>Bulk 1</th>\n",
       "      <th>Bulk 2</th>\n",
       "      <th>Bulk 3</th>\n",
       "      <th>Bulk 4</th>\n",
       "      <th>Bulk 5</th>\n",
       "    </tr>\n",
       "  </thead>\n",
       "  <tbody>\n",
       "    <tr>\n",
       "      <th>0</th>\n",
       "      <td>1677.378296</td>\n",
       "      <td>2553.272461</td>\n",
       "      <td>2512.293945</td>\n",
       "      <td>4270.180176</td>\n",
       "      <td>4251.043945</td>\n",
       "      <td>3804.370605</td>\n",
       "    </tr>\n",
       "    <tr>\n",
       "      <th>1</th>\n",
       "      <td>755.000000</td>\n",
       "      <td>845.000000</td>\n",
       "      <td>807.000000</td>\n",
       "      <td>632.000000</td>\n",
       "      <td>616.000000</td>\n",
       "      <td>585.000000</td>\n",
       "    </tr>\n",
       "    <tr>\n",
       "      <th>2</th>\n",
       "      <td>1970.340454</td>\n",
       "      <td>2339.308350</td>\n",
       "      <td>2001.430786</td>\n",
       "      <td>1795.925537</td>\n",
       "      <td>1695.094971</td>\n",
       "      <td>1565.693604</td>\n",
       "    </tr>\n",
       "    <tr>\n",
       "      <th>3</th>\n",
       "      <td>56411.500000</td>\n",
       "      <td>52280.015625</td>\n",
       "      <td>64635.925781</td>\n",
       "      <td>145650.125000</td>\n",
       "      <td>146573.468750</td>\n",
       "      <td>128260.828125</td>\n",
       "    </tr>\n",
       "    <tr>\n",
       "      <th>4</th>\n",
       "      <td>562.000000</td>\n",
       "      <td>602.000000</td>\n",
       "      <td>584.000000</td>\n",
       "      <td>1187.000000</td>\n",
       "      <td>1059.000000</td>\n",
       "      <td>1012.249939</td>\n",
       "    </tr>\n",
       "    <tr>\n",
       "      <th>...</th>\n",
       "      <td>...</td>\n",
       "      <td>...</td>\n",
       "      <td>...</td>\n",
       "      <td>...</td>\n",
       "      <td>...</td>\n",
       "      <td>...</td>\n",
       "    </tr>\n",
       "    <tr>\n",
       "      <th>3877</th>\n",
       "      <td>352.111328</td>\n",
       "      <td>307.359314</td>\n",
       "      <td>368.413605</td>\n",
       "      <td>902.443115</td>\n",
       "      <td>852.180664</td>\n",
       "      <td>939.801208</td>\n",
       "    </tr>\n",
       "    <tr>\n",
       "      <th>3878</th>\n",
       "      <td>2512.000000</td>\n",
       "      <td>1996.000000</td>\n",
       "      <td>3208.000000</td>\n",
       "      <td>1697.000000</td>\n",
       "      <td>2005.000000</td>\n",
       "      <td>1695.000000</td>\n",
       "    </tr>\n",
       "    <tr>\n",
       "      <th>3879</th>\n",
       "      <td>530.809448</td>\n",
       "      <td>500.286652</td>\n",
       "      <td>729.000000</td>\n",
       "      <td>6539.441895</td>\n",
       "      <td>5886.029785</td>\n",
       "      <td>5865.681641</td>\n",
       "    </tr>\n",
       "    <tr>\n",
       "      <th>3880</th>\n",
       "      <td>269.000000</td>\n",
       "      <td>295.000000</td>\n",
       "      <td>330.000000</td>\n",
       "      <td>162.000000</td>\n",
       "      <td>156.000000</td>\n",
       "      <td>191.000000</td>\n",
       "    </tr>\n",
       "    <tr>\n",
       "      <th>3881</th>\n",
       "      <td>20105.685547</td>\n",
       "      <td>35265.863281</td>\n",
       "      <td>18700.068359</td>\n",
       "      <td>25168.390625</td>\n",
       "      <td>35221.781250</td>\n",
       "      <td>31393.162109</td>\n",
       "    </tr>\n",
       "  </tbody>\n",
       "</table>\n",
       "<p>3882 rows × 6 columns</p>\n",
       "</div>"
      ],
      "text/plain": [
       "            Bulk 0        Bulk 1        Bulk 2         Bulk 3         Bulk 4  \\\n",
       "0      1677.378296   2553.272461   2512.293945    4270.180176    4251.043945   \n",
       "1       755.000000    845.000000    807.000000     632.000000     616.000000   \n",
       "2      1970.340454   2339.308350   2001.430786    1795.925537    1695.094971   \n",
       "3     56411.500000  52280.015625  64635.925781  145650.125000  146573.468750   \n",
       "4       562.000000    602.000000    584.000000    1187.000000    1059.000000   \n",
       "...            ...           ...           ...            ...            ...   \n",
       "3877    352.111328    307.359314    368.413605     902.443115     852.180664   \n",
       "3878   2512.000000   1996.000000   3208.000000    1697.000000    2005.000000   \n",
       "3879    530.809448    500.286652    729.000000    6539.441895    5886.029785   \n",
       "3880    269.000000    295.000000    330.000000     162.000000     156.000000   \n",
       "3881  20105.685547  35265.863281  18700.068359   25168.390625   35221.781250   \n",
       "\n",
       "             Bulk 5  \n",
       "0       3804.370605  \n",
       "1        585.000000  \n",
       "2       1565.693604  \n",
       "3     128260.828125  \n",
       "4       1012.249939  \n",
       "...             ...  \n",
       "3877     939.801208  \n",
       "3878    1695.000000  \n",
       "3879    5865.681641  \n",
       "3880     191.000000  \n",
       "3881   31393.162109  \n",
       "\n",
       "[3882 rows x 6 columns]"
      ]
     },
     "execution_count": 8,
     "metadata": {},
     "output_type": "execute_result"
    }
   ],
   "source": [
    "cleaned_psis"
   ]
  },
  {
   "cell_type": "code",
   "execution_count": 9,
   "metadata": {},
   "outputs": [],
   "source": [
    "output_table= model.predict(cleaned_psis) #this takes a minute ... \n",
    "output_table.to_csv('rnasieve_jcoffman007_0dpa.csv')"
   ]
  },
  {
   "cell_type": "code",
   "execution_count": 10,
   "metadata": {},
   "outputs": [
    {
     "data": {
      "text/plain": [
       "[[(0.14817625693657605, 0.2522257776969925),\n",
       "  (0.04421673270254172, 0.14156653365788358),\n",
       "  (0.05120504291769731, 0.2061147834158816),\n",
       "  (0.020639718878636457, 0.07017400146019934),\n",
       "  (0.05197381118038216, 0.15510349768865153),\n",
       "  (0.383230088098422, 0.47537375536613574)],\n",
       " [(0.17872401482629008, 0.2614287809676977),\n",
       "  (0.06432421407511865, 0.17644793882487103),\n",
       "  (0.05577699950633644, 0.2121001377708042),\n",
       "  (0.031073935567842992, 0.0700020201285564),\n",
       "  (0.049299109716623365, 0.13182444176720404),\n",
       "  (0.33883156033149336, 0.4301668465171616)],\n",
       " [(0.16421407066108018, 0.2513309108158178),\n",
       "  (0.0414339273975909, 0.13352855742351166),\n",
       "  (0.03381002104199164, 0.14741611736915172),\n",
       "  (0.024078668064715553, 0.06571041831268526),\n",
       "  (0.042914132407006235, 0.13501582848856172),\n",
       "  (0.43871552850431683, 0.5218318195135705)],\n",
       " [(0.0, 1.0), (0.0, 1.0), (0.0, 1.0), (0.0, 1.0), (0.0, 1.0), (0.0, 1.0)],\n",
       " [(0.0, 1.0), (0.0, 1.0), (0.0, 1.0), (0.0, 1.0), (0.0, 1.0), (0.0, 1.0)],\n",
       " [(0.0, 1.0), (0.0, 1.0), (0.0, 1.0), (0.0, 1.0), (0.0, 1.0), (0.0, 1.0)]]"
      ]
     },
     "execution_count": 10,
     "metadata": {},
     "output_type": "execute_result"
    }
   ],
   "source": [
    "# In this example, the intervals at a significance level of 0.05 indicate the estimate is poor.\n",
    "# We set sig=0.9999 for the sake of visualization.\n",
    "model.compute_marginal_confidence_intervals(sig=0.2)"
   ]
  },
  {
   "cell_type": "code",
   "execution_count": 11,
   "metadata": {},
   "outputs": [
    {
     "data": {
      "text/html": [
       "\n",
       "<div id=\"altair-viz-5c6f9bb658e44844991d3fd7fcffeb49\"></div>\n",
       "<script type=\"text/javascript\">\n",
       "  var VEGA_DEBUG = (typeof VEGA_DEBUG == \"undefined\") ? {} : VEGA_DEBUG;\n",
       "  (function(spec, embedOpt){\n",
       "    let outputDiv = document.currentScript.previousElementSibling;\n",
       "    if (outputDiv.id !== \"altair-viz-5c6f9bb658e44844991d3fd7fcffeb49\") {\n",
       "      outputDiv = document.getElementById(\"altair-viz-5c6f9bb658e44844991d3fd7fcffeb49\");\n",
       "    }\n",
       "    const paths = {\n",
       "      \"vega\": \"https://cdn.jsdelivr.net/npm//vega@5?noext\",\n",
       "      \"vega-lib\": \"https://cdn.jsdelivr.net/npm//vega-lib?noext\",\n",
       "      \"vega-lite\": \"https://cdn.jsdelivr.net/npm//vega-lite@4.17.0?noext\",\n",
       "      \"vega-embed\": \"https://cdn.jsdelivr.net/npm//vega-embed@6?noext\",\n",
       "    };\n",
       "\n",
       "    function maybeLoadScript(lib, version) {\n",
       "      var key = `${lib.replace(\"-\", \"\")}_version`;\n",
       "      return (VEGA_DEBUG[key] == version) ?\n",
       "        Promise.resolve(paths[lib]) :\n",
       "        new Promise(function(resolve, reject) {\n",
       "          var s = document.createElement('script');\n",
       "          document.getElementsByTagName(\"head\")[0].appendChild(s);\n",
       "          s.async = true;\n",
       "          s.onload = () => {\n",
       "            VEGA_DEBUG[key] = version;\n",
       "            return resolve(paths[lib]);\n",
       "          };\n",
       "          s.onerror = () => reject(`Error loading script: ${paths[lib]}`);\n",
       "          s.src = paths[lib];\n",
       "        });\n",
       "    }\n",
       "\n",
       "    function showError(err) {\n",
       "      outputDiv.innerHTML = `<div class=\"error\" style=\"color:red;\">${err}</div>`;\n",
       "      throw err;\n",
       "    }\n",
       "\n",
       "    function displayChart(vegaEmbed) {\n",
       "      vegaEmbed(outputDiv, spec, embedOpt)\n",
       "        .catch(err => showError(`Javascript Error: ${err.message}<br>This usually means there's a typo in your chart specification. See the javascript console for the full traceback.`));\n",
       "    }\n",
       "\n",
       "    if(typeof define === \"function\" && define.amd) {\n",
       "      requirejs.config({paths});\n",
       "      require([\"vega-embed\"], displayChart, err => showError(`Error loading script: ${err.message}`));\n",
       "    } else {\n",
       "      maybeLoadScript(\"vega\", \"5\")\n",
       "        .then(() => maybeLoadScript(\"vega-lite\", \"4.17.0\"))\n",
       "        .then(() => maybeLoadScript(\"vega-embed\", \"6\"))\n",
       "        .catch(showError)\n",
       "        .then(() => displayChart(vegaEmbed));\n",
       "    }\n",
       "  })({\"config\": {\"view\": {\"continuousWidth\": 400, \"continuousHeight\": 300}}, \"data\": {\"name\": \"data-623bcf2d9a286a7b69ed8f031ae415ea\"}, \"facet\": {\"column\": {\"field\": \"index\", \"title\": \"Bulk\", \"type\": \"nominal\"}}, \"spec\": {\"layer\": [{\"mark\": \"bar\", \"encoding\": {\"color\": {\"field\": \"cell_type\", \"type\": \"nominal\"}, \"x\": {\"axis\": {\"labels\": false, \"title\": \"Cell Type\"}, \"field\": \"cell_type\", \"type\": \"nominal\"}, \"y\": {\"axis\": {\"title\": \"Proportion\"}, \"field\": \"proportion\", \"type\": \"quantitative\"}}}, {\"mark\": \"errorbar\", \"encoding\": {\"x\": {\"axis\": {\"labels\": false, \"title\": \"Cell Type\"}, \"field\": \"cell_type\", \"type\": \"nominal\"}, \"y\": {\"field\": \"ci_low\", \"type\": \"quantitative\"}, \"y2\": {\"field\": \"ci_high\"}}}]}, \"title\": \"Bar visualization \", \"$schema\": \"https://vega.github.io/schema/vega-lite/v4.17.0.json\", \"datasets\": {\"data-623bcf2d9a286a7b69ed8f031ae415ea\": [{\"index\": \"Bulk 0\", \"cell_type\": \"Basal Epithelial\", \"proportion\": 0.20020101731678427, \"ci_err\": 0.05202476038020823, \"ci_low\": 0.14817625693657605, \"ci_high\": 0.2522257776969925}, {\"index\": \"Bulk 1\", \"cell_type\": \"Basal Epithelial\", \"proportion\": 0.2200763978969939, \"ci_err\": 0.041352383070703824, \"ci_low\": 0.17872401482629008, \"ci_high\": 0.2614287809676977}, {\"index\": \"Bulk 2\", \"cell_type\": \"Basal Epithelial\", \"proportion\": 0.207772490738449, \"ci_err\": 0.04355842007736882, \"ci_low\": 0.16421407066108018, \"ci_high\": 0.2513309108158178}, {\"index\": \"Bulk 3\", \"cell_type\": \"Basal Epithelial\", \"proportion\": 0.36979106943586704, \"ci_err\": 0.5, \"ci_low\": 0.0, \"ci_high\": 0.869791069435867}, {\"index\": \"Bulk 4\", \"cell_type\": \"Basal Epithelial\", \"proportion\": 0.36159110296024033, \"ci_err\": 0.5, \"ci_low\": 0.0, \"ci_high\": 0.8615911029602403}, {\"index\": \"Bulk 5\", \"cell_type\": \"Basal Epithelial\", \"proportion\": 0.41406385871463053, \"ci_err\": 0.5, \"ci_low\": 0.0, \"ci_high\": 0.9140638587146306}, {\"index\": \"Bulk 0\", \"cell_type\": \"Hematopoietic\", \"proportion\": 0.09289163318021265, \"ci_err\": 0.048674900477670924, \"ci_low\": 0.04421673270254173, \"ci_high\": 0.14156653365788358}, {\"index\": \"Bulk 1\", \"cell_type\": \"Hematopoietic\", \"proportion\": 0.12038607644999484, \"ci_err\": 0.05606186237487619, \"ci_low\": 0.06432421407511865, \"ci_high\": 0.17644793882487103}, {\"index\": \"Bulk 2\", \"cell_type\": \"Hematopoietic\", \"proportion\": 0.08748124241055127, \"ci_err\": 0.04604731501296038, \"ci_low\": 0.04143392739759089, \"ci_high\": 0.13352855742351166}, {\"index\": \"Bulk 3\", \"cell_type\": \"Hematopoietic\", \"proportion\": 0.0, \"ci_err\": 0.5, \"ci_low\": 0.0, \"ci_high\": 0.5}, {\"index\": \"Bulk 4\", \"cell_type\": \"Hematopoietic\", \"proportion\": 0.0, \"ci_err\": 0.5, \"ci_low\": 0.0, \"ci_high\": 0.5}, {\"index\": \"Bulk 5\", \"cell_type\": \"Hematopoietic\", \"proportion\": 0.0, \"ci_err\": 0.5, \"ci_low\": 0.0, \"ci_high\": 0.5}, {\"index\": \"Bulk 0\", \"cell_type\": \"Intermediate Epithelial\", \"proportion\": 0.12865991316678946, \"ci_err\": 0.07745487024909214, \"ci_low\": 0.05120504291769731, \"ci_high\": 0.2061147834158816}, {\"index\": \"Bulk 1\", \"cell_type\": \"Intermediate Epithelial\", \"proportion\": 0.13393856863857032, \"ci_err\": 0.07816156913223388, \"ci_low\": 0.05577699950633644, \"ci_high\": 0.2121001377708042}, {\"index\": \"Bulk 2\", \"cell_type\": \"Intermediate Epithelial\", \"proportion\": 0.09061306920557169, \"ci_err\": 0.05680304816358004, \"ci_low\": 0.03381002104199165, \"ci_high\": 0.14741611736915172}, {\"index\": \"Bulk 3\", \"cell_type\": \"Intermediate Epithelial\", \"proportion\": 0.08077028478514493, \"ci_err\": 0.5, \"ci_low\": 0.0, \"ci_high\": 0.5807702847851449}, {\"index\": \"Bulk 4\", \"cell_type\": \"Intermediate Epithelial\", \"proportion\": 0.07948241391803687, \"ci_err\": 0.5, \"ci_low\": 0.0, \"ci_high\": 0.5794824139180369}, {\"index\": \"Bulk 5\", \"cell_type\": \"Intermediate Epithelial\", \"proportion\": 0.015486773164972805, \"ci_err\": 0.5, \"ci_low\": 0.0, \"ci_high\": 0.5154867731649728}, {\"index\": \"Bulk 0\", \"cell_type\": \"Mesenchymal\", \"proportion\": 0.0454068601694179, \"ci_err\": 0.02476714129078144, \"ci_low\": 0.020639718878636457, \"ci_high\": 0.07017400146019934}, {\"index\": \"Bulk 1\", \"cell_type\": \"Mesenchymal\", \"proportion\": 0.050537977848199696, \"ci_err\": 0.019464042280356704, \"ci_low\": 0.031073935567842992, \"ci_high\": 0.0700020201285564}, {\"index\": \"Bulk 2\", \"cell_type\": \"Mesenchymal\", \"proportion\": 0.044894543188700405, \"ci_err\": 0.020815875123984855, \"ci_low\": 0.02407866806471555, \"ci_high\": 0.06571041831268526}, {\"index\": \"Bulk 3\", \"cell_type\": \"Mesenchymal\", \"proportion\": 0.09583400127236773, \"ci_err\": 0.5, \"ci_low\": 0.0, \"ci_high\": 0.5958340012723677}, {\"index\": \"Bulk 4\", \"cell_type\": \"Mesenchymal\", \"proportion\": 0.08912460986786397, \"ci_err\": 0.5, \"ci_low\": 0.0, \"ci_high\": 0.589124609867864}, {\"index\": \"Bulk 5\", \"cell_type\": \"Mesenchymal\", \"proportion\": 0.10969024002444863, \"ci_err\": 0.5, \"ci_low\": 0.0, \"ci_high\": 0.6096902400244486}, {\"index\": \"Bulk 0\", \"cell_type\": \"Mucosal-like\", \"proportion\": 0.10353865443451685, \"ci_err\": 0.051564843254134685, \"ci_low\": 0.05197381118038216, \"ci_high\": 0.15510349768865153}, {\"index\": \"Bulk 1\", \"cell_type\": \"Mucosal-like\", \"proportion\": 0.0905617757419137, \"ci_err\": 0.041262666025290336, \"ci_low\": 0.04929910971662336, \"ci_high\": 0.13182444176720404}, {\"index\": \"Bulk 2\", \"cell_type\": \"Mucosal-like\", \"proportion\": 0.08896498044778398, \"ci_err\": 0.04605084804077775, \"ci_low\": 0.04291413240700623, \"ci_high\": 0.13501582848856172}, {\"index\": \"Bulk 3\", \"cell_type\": \"Mucosal-like\", \"proportion\": 0.052101984185733134, \"ci_err\": 0.5, \"ci_low\": 0.0, \"ci_high\": 0.5521019841857331}, {\"index\": \"Bulk 4\", \"cell_type\": \"Mucosal-like\", \"proportion\": 0.052756019455018816, \"ci_err\": 0.5, \"ci_low\": 0.0, \"ci_high\": 0.5527560194550188}, {\"index\": \"Bulk 5\", \"cell_type\": \"Mucosal-like\", \"proportion\": 0.05670927022869542, \"ci_err\": 0.5, \"ci_low\": 0.0, \"ci_high\": 0.5567092702286954}, {\"index\": \"Bulk 0\", \"cell_type\": \"Superficial Epithelial\", \"proportion\": 0.4293019217322789, \"ci_err\": 0.04607183363385686, \"ci_low\": 0.383230088098422, \"ci_high\": 0.47537375536613574}, {\"index\": \"Bulk 1\", \"cell_type\": \"Superficial Epithelial\", \"proportion\": 0.3844992034243275, \"ci_err\": 0.04566764309283411, \"ci_low\": 0.33883156033149336, \"ci_high\": 0.4301668465171616}, {\"index\": \"Bulk 2\", \"cell_type\": \"Superficial Epithelial\", \"proportion\": 0.48027367400894366, \"ci_err\": 0.04155814550462683, \"ci_low\": 0.43871552850431683, \"ci_high\": 0.5218318195135705}, {\"index\": \"Bulk 3\", \"cell_type\": \"Superficial Epithelial\", \"proportion\": 0.4015026603208872, \"ci_err\": 0.5, \"ci_low\": 0.0, \"ci_high\": 0.9015026603208872}, {\"index\": \"Bulk 4\", \"cell_type\": \"Superficial Epithelial\", \"proportion\": 0.41704585379884, \"ci_err\": 0.5, \"ci_low\": 0.0, \"ci_high\": 0.91704585379884}, {\"index\": \"Bulk 5\", \"cell_type\": \"Superficial Epithelial\", \"proportion\": 0.4040498578672526, \"ci_err\": 0.5, \"ci_low\": 0.0, \"ci_high\": 0.9040498578672527}]}}, {\"mode\": \"vega-lite\"});\n",
       "</script>"
      ],
      "text/plain": [
       "alt.FacetChart(...)"
      ]
     },
     "execution_count": 11,
     "metadata": {},
     "output_type": "execute_result"
    }
   ],
   "source": [
    "model.plot_proportions('bar').properties(title=\"Bar visualization \")"
   ]
  },
  {
   "cell_type": "code",
   "execution_count": 12,
   "metadata": {},
   "outputs": [
    {
     "data": {
      "text/html": [
       "\n",
       "<div id=\"altair-viz-bdffddba1ac54faf9632117599aebb01\"></div>\n",
       "<script type=\"text/javascript\">\n",
       "  var VEGA_DEBUG = (typeof VEGA_DEBUG == \"undefined\") ? {} : VEGA_DEBUG;\n",
       "  (function(spec, embedOpt){\n",
       "    let outputDiv = document.currentScript.previousElementSibling;\n",
       "    if (outputDiv.id !== \"altair-viz-bdffddba1ac54faf9632117599aebb01\") {\n",
       "      outputDiv = document.getElementById(\"altair-viz-bdffddba1ac54faf9632117599aebb01\");\n",
       "    }\n",
       "    const paths = {\n",
       "      \"vega\": \"https://cdn.jsdelivr.net/npm//vega@5?noext\",\n",
       "      \"vega-lib\": \"https://cdn.jsdelivr.net/npm//vega-lib?noext\",\n",
       "      \"vega-lite\": \"https://cdn.jsdelivr.net/npm//vega-lite@4.17.0?noext\",\n",
       "      \"vega-embed\": \"https://cdn.jsdelivr.net/npm//vega-embed@6?noext\",\n",
       "    };\n",
       "\n",
       "    function maybeLoadScript(lib, version) {\n",
       "      var key = `${lib.replace(\"-\", \"\")}_version`;\n",
       "      return (VEGA_DEBUG[key] == version) ?\n",
       "        Promise.resolve(paths[lib]) :\n",
       "        new Promise(function(resolve, reject) {\n",
       "          var s = document.createElement('script');\n",
       "          document.getElementsByTagName(\"head\")[0].appendChild(s);\n",
       "          s.async = true;\n",
       "          s.onload = () => {\n",
       "            VEGA_DEBUG[key] = version;\n",
       "            return resolve(paths[lib]);\n",
       "          };\n",
       "          s.onerror = () => reject(`Error loading script: ${paths[lib]}`);\n",
       "          s.src = paths[lib];\n",
       "        });\n",
       "    }\n",
       "\n",
       "    function showError(err) {\n",
       "      outputDiv.innerHTML = `<div class=\"error\" style=\"color:red;\">${err}</div>`;\n",
       "      throw err;\n",
       "    }\n",
       "\n",
       "    function displayChart(vegaEmbed) {\n",
       "      vegaEmbed(outputDiv, spec, embedOpt)\n",
       "        .catch(err => showError(`Javascript Error: ${err.message}<br>This usually means there's a typo in your chart specification. See the javascript console for the full traceback.`));\n",
       "    }\n",
       "\n",
       "    if(typeof define === \"function\" && define.amd) {\n",
       "      requirejs.config({paths});\n",
       "      require([\"vega-embed\"], displayChart, err => showError(`Error loading script: ${err.message}`));\n",
       "    } else {\n",
       "      maybeLoadScript(\"vega\", \"5\")\n",
       "        .then(() => maybeLoadScript(\"vega-lite\", \"4.17.0\"))\n",
       "        .then(() => maybeLoadScript(\"vega-embed\", \"6\"))\n",
       "        .catch(showError)\n",
       "        .then(() => displayChart(vegaEmbed));\n",
       "    }\n",
       "  })({\"config\": {\"view\": {\"continuousWidth\": 400, \"continuousHeight\": 300}}, \"data\": {\"name\": \"data-623bcf2d9a286a7b69ed8f031ae415ea\"}, \"mark\": \"bar\", \"encoding\": {\"color\": {\"field\": \"cell_type\", \"type\": \"nominal\"}, \"x\": {\"axis\": {\"title\": \"Bulk\"}, \"field\": \"index\", \"type\": \"nominal\"}, \"y\": {\"aggregate\": \"sum\", \"axis\": {\"title\": \"Proportion\"}, \"field\": \"proportion\", \"stack\": \"normalize\", \"type\": \"quantitative\"}}, \"title\": \"Stacked visualization\", \"$schema\": \"https://vega.github.io/schema/vega-lite/v4.17.0.json\", \"datasets\": {\"data-623bcf2d9a286a7b69ed8f031ae415ea\": [{\"index\": \"Bulk 0\", \"cell_type\": \"Basal Epithelial\", \"proportion\": 0.20020101731678427, \"ci_err\": 0.05202476038020823, \"ci_low\": 0.14817625693657605, \"ci_high\": 0.2522257776969925}, {\"index\": \"Bulk 1\", \"cell_type\": \"Basal Epithelial\", \"proportion\": 0.2200763978969939, \"ci_err\": 0.041352383070703824, \"ci_low\": 0.17872401482629008, \"ci_high\": 0.2614287809676977}, {\"index\": \"Bulk 2\", \"cell_type\": \"Basal Epithelial\", \"proportion\": 0.207772490738449, \"ci_err\": 0.04355842007736882, \"ci_low\": 0.16421407066108018, \"ci_high\": 0.2513309108158178}, {\"index\": \"Bulk 3\", \"cell_type\": \"Basal Epithelial\", \"proportion\": 0.36979106943586704, \"ci_err\": 0.5, \"ci_low\": 0.0, \"ci_high\": 0.869791069435867}, {\"index\": \"Bulk 4\", \"cell_type\": \"Basal Epithelial\", \"proportion\": 0.36159110296024033, \"ci_err\": 0.5, \"ci_low\": 0.0, \"ci_high\": 0.8615911029602403}, {\"index\": \"Bulk 5\", \"cell_type\": \"Basal Epithelial\", \"proportion\": 0.41406385871463053, \"ci_err\": 0.5, \"ci_low\": 0.0, \"ci_high\": 0.9140638587146306}, {\"index\": \"Bulk 0\", \"cell_type\": \"Hematopoietic\", \"proportion\": 0.09289163318021265, \"ci_err\": 0.048674900477670924, \"ci_low\": 0.04421673270254173, \"ci_high\": 0.14156653365788358}, {\"index\": \"Bulk 1\", \"cell_type\": \"Hematopoietic\", \"proportion\": 0.12038607644999484, \"ci_err\": 0.05606186237487619, \"ci_low\": 0.06432421407511865, \"ci_high\": 0.17644793882487103}, {\"index\": \"Bulk 2\", \"cell_type\": \"Hematopoietic\", \"proportion\": 0.08748124241055127, \"ci_err\": 0.04604731501296038, \"ci_low\": 0.04143392739759089, \"ci_high\": 0.13352855742351166}, {\"index\": \"Bulk 3\", \"cell_type\": \"Hematopoietic\", \"proportion\": 0.0, \"ci_err\": 0.5, \"ci_low\": 0.0, \"ci_high\": 0.5}, {\"index\": \"Bulk 4\", \"cell_type\": \"Hematopoietic\", \"proportion\": 0.0, \"ci_err\": 0.5, \"ci_low\": 0.0, \"ci_high\": 0.5}, {\"index\": \"Bulk 5\", \"cell_type\": \"Hematopoietic\", \"proportion\": 0.0, \"ci_err\": 0.5, \"ci_low\": 0.0, \"ci_high\": 0.5}, {\"index\": \"Bulk 0\", \"cell_type\": \"Intermediate Epithelial\", \"proportion\": 0.12865991316678946, \"ci_err\": 0.07745487024909214, \"ci_low\": 0.05120504291769731, \"ci_high\": 0.2061147834158816}, {\"index\": \"Bulk 1\", \"cell_type\": \"Intermediate Epithelial\", \"proportion\": 0.13393856863857032, \"ci_err\": 0.07816156913223388, \"ci_low\": 0.05577699950633644, \"ci_high\": 0.2121001377708042}, {\"index\": \"Bulk 2\", \"cell_type\": \"Intermediate Epithelial\", \"proportion\": 0.09061306920557169, \"ci_err\": 0.05680304816358004, \"ci_low\": 0.03381002104199165, \"ci_high\": 0.14741611736915172}, {\"index\": \"Bulk 3\", \"cell_type\": \"Intermediate Epithelial\", \"proportion\": 0.08077028478514493, \"ci_err\": 0.5, \"ci_low\": 0.0, \"ci_high\": 0.5807702847851449}, {\"index\": \"Bulk 4\", \"cell_type\": \"Intermediate Epithelial\", \"proportion\": 0.07948241391803687, \"ci_err\": 0.5, \"ci_low\": 0.0, \"ci_high\": 0.5794824139180369}, {\"index\": \"Bulk 5\", \"cell_type\": \"Intermediate Epithelial\", \"proportion\": 0.015486773164972805, \"ci_err\": 0.5, \"ci_low\": 0.0, \"ci_high\": 0.5154867731649728}, {\"index\": \"Bulk 0\", \"cell_type\": \"Mesenchymal\", \"proportion\": 0.0454068601694179, \"ci_err\": 0.02476714129078144, \"ci_low\": 0.020639718878636457, \"ci_high\": 0.07017400146019934}, {\"index\": \"Bulk 1\", \"cell_type\": \"Mesenchymal\", \"proportion\": 0.050537977848199696, \"ci_err\": 0.019464042280356704, \"ci_low\": 0.031073935567842992, \"ci_high\": 0.0700020201285564}, {\"index\": \"Bulk 2\", \"cell_type\": \"Mesenchymal\", \"proportion\": 0.044894543188700405, \"ci_err\": 0.020815875123984855, \"ci_low\": 0.02407866806471555, \"ci_high\": 0.06571041831268526}, {\"index\": \"Bulk 3\", \"cell_type\": \"Mesenchymal\", \"proportion\": 0.09583400127236773, \"ci_err\": 0.5, \"ci_low\": 0.0, \"ci_high\": 0.5958340012723677}, {\"index\": \"Bulk 4\", \"cell_type\": \"Mesenchymal\", \"proportion\": 0.08912460986786397, \"ci_err\": 0.5, \"ci_low\": 0.0, \"ci_high\": 0.589124609867864}, {\"index\": \"Bulk 5\", \"cell_type\": \"Mesenchymal\", \"proportion\": 0.10969024002444863, \"ci_err\": 0.5, \"ci_low\": 0.0, \"ci_high\": 0.6096902400244486}, {\"index\": \"Bulk 0\", \"cell_type\": \"Mucosal-like\", \"proportion\": 0.10353865443451685, \"ci_err\": 0.051564843254134685, \"ci_low\": 0.05197381118038216, \"ci_high\": 0.15510349768865153}, {\"index\": \"Bulk 1\", \"cell_type\": \"Mucosal-like\", \"proportion\": 0.0905617757419137, \"ci_err\": 0.041262666025290336, \"ci_low\": 0.04929910971662336, \"ci_high\": 0.13182444176720404}, {\"index\": \"Bulk 2\", \"cell_type\": \"Mucosal-like\", \"proportion\": 0.08896498044778398, \"ci_err\": 0.04605084804077775, \"ci_low\": 0.04291413240700623, \"ci_high\": 0.13501582848856172}, {\"index\": \"Bulk 3\", \"cell_type\": \"Mucosal-like\", \"proportion\": 0.052101984185733134, \"ci_err\": 0.5, \"ci_low\": 0.0, \"ci_high\": 0.5521019841857331}, {\"index\": \"Bulk 4\", \"cell_type\": \"Mucosal-like\", \"proportion\": 0.052756019455018816, \"ci_err\": 0.5, \"ci_low\": 0.0, \"ci_high\": 0.5527560194550188}, {\"index\": \"Bulk 5\", \"cell_type\": \"Mucosal-like\", \"proportion\": 0.05670927022869542, \"ci_err\": 0.5, \"ci_low\": 0.0, \"ci_high\": 0.5567092702286954}, {\"index\": \"Bulk 0\", \"cell_type\": \"Superficial Epithelial\", \"proportion\": 0.4293019217322789, \"ci_err\": 0.04607183363385686, \"ci_low\": 0.383230088098422, \"ci_high\": 0.47537375536613574}, {\"index\": \"Bulk 1\", \"cell_type\": \"Superficial Epithelial\", \"proportion\": 0.3844992034243275, \"ci_err\": 0.04566764309283411, \"ci_low\": 0.33883156033149336, \"ci_high\": 0.4301668465171616}, {\"index\": \"Bulk 2\", \"cell_type\": \"Superficial Epithelial\", \"proportion\": 0.48027367400894366, \"ci_err\": 0.04155814550462683, \"ci_low\": 0.43871552850431683, \"ci_high\": 0.5218318195135705}, {\"index\": \"Bulk 3\", \"cell_type\": \"Superficial Epithelial\", \"proportion\": 0.4015026603208872, \"ci_err\": 0.5, \"ci_low\": 0.0, \"ci_high\": 0.9015026603208872}, {\"index\": \"Bulk 4\", \"cell_type\": \"Superficial Epithelial\", \"proportion\": 0.41704585379884, \"ci_err\": 0.5, \"ci_low\": 0.0, \"ci_high\": 0.91704585379884}, {\"index\": \"Bulk 5\", \"cell_type\": \"Superficial Epithelial\", \"proportion\": 0.4040498578672526, \"ci_err\": 0.5, \"ci_low\": 0.0, \"ci_high\": 0.9040498578672527}]}}, {\"mode\": \"vega-lite\"});\n",
       "</script>"
      ],
      "text/plain": [
       "alt.Chart(...)"
      ]
     },
     "execution_count": 12,
     "metadata": {},
     "output_type": "execute_result"
    }
   ],
   "source": [
    "model.plot_proportions('stacked').properties(title=\"Stacked visualization\")"
   ]
  },
  {
   "cell_type": "code",
   "execution_count": null,
   "metadata": {},
   "outputs": [],
   "source": []
  }
 ],
 "metadata": {
  "kernelspec": {
   "display_name": "Python 3",
   "language": "python",
   "name": "python3"
  },
  "language_info": {
   "codemirror_mode": {
    "name": "ipython",
    "version": 3
   },
   "file_extension": ".py",
   "mimetype": "text/x-python",
   "name": "python",
   "nbconvert_exporter": "python",
   "pygments_lexer": "ipython3",
   "version": "3.7.0"
  }
 },
 "nbformat": 4,
 "nbformat_minor": 5
}

{
 "cells": [
  {
   "cell_type": "code",
   "execution_count": 51,
   "outputs": [],
   "source": [
    "import pandas as pd"
   ],
   "metadata": {
    "collapsed": false,
    "pycharm": {
     "name": "#%%\n"
    }
   }
  },
  {
   "cell_type": "code",
   "execution_count": 52,
   "outputs": [
    {
     "data": {
      "text/plain": "                  cluster                gene  p_val  avg_logFC  pct.1  pct.2  \\\n0  Superficial Epithelial   si:ch211-207n23.2    0.0   3.783526  0.983  0.256   \n1  Superficial Epithelial          zgc:111983    0.0   3.634558  0.987  0.295   \n2  Superficial Epithelial      CABZ01088053.1    0.0   3.398964  0.935  0.188   \n3  Superficial Epithelial            krt1-19d    0.0   3.254499  0.877  0.123   \n4  Superficial Epithelial     si:dkey-247k7.2    0.0   3.182882  0.961  0.117   \n5  Superficial Epithelial               cldne    0.0   3.068289  0.982  0.149   \n6  Superficial Epithelial               gig2l    0.0   3.018676  0.514  0.165   \n7  Superficial Epithelial    si:ch211-157c3.4    0.0   2.870359  0.983  0.268   \n8  Superficial Epithelial      CABZ01072255.2    0.0   2.858588  0.876  0.105   \n9  Superficial Epithelial  si:ch211-217k17.10    0.0   2.838415  0.886  0.096   \n\n   p_val_adj  \n0        0.0  \n1        0.0  \n2        0.0  \n3        0.0  \n4        0.0  \n5        0.0  \n6        0.0  \n7        0.0  \n8        0.0  \n9        0.0  ",
      "text/html": "<div>\n<style scoped>\n    .dataframe tbody tr th:only-of-type {\n        vertical-align: middle;\n    }\n\n    .dataframe tbody tr th {\n        vertical-align: top;\n    }\n\n    .dataframe thead th {\n        text-align: right;\n    }\n</style>\n<table border=\"1\" class=\"dataframe\">\n  <thead>\n    <tr style=\"text-align: right;\">\n      <th></th>\n      <th>cluster</th>\n      <th>gene</th>\n      <th>p_val</th>\n      <th>avg_logFC</th>\n      <th>pct.1</th>\n      <th>pct.2</th>\n      <th>p_val_adj</th>\n    </tr>\n  </thead>\n  <tbody>\n    <tr>\n      <th>0</th>\n      <td>Superficial Epithelial</td>\n      <td>si:ch211-207n23.2</td>\n      <td>0.0</td>\n      <td>3.783526</td>\n      <td>0.983</td>\n      <td>0.256</td>\n      <td>0.0</td>\n    </tr>\n    <tr>\n      <th>1</th>\n      <td>Superficial Epithelial</td>\n      <td>zgc:111983</td>\n      <td>0.0</td>\n      <td>3.634558</td>\n      <td>0.987</td>\n      <td>0.295</td>\n      <td>0.0</td>\n    </tr>\n    <tr>\n      <th>2</th>\n      <td>Superficial Epithelial</td>\n      <td>CABZ01088053.1</td>\n      <td>0.0</td>\n      <td>3.398964</td>\n      <td>0.935</td>\n      <td>0.188</td>\n      <td>0.0</td>\n    </tr>\n    <tr>\n      <th>3</th>\n      <td>Superficial Epithelial</td>\n      <td>krt1-19d</td>\n      <td>0.0</td>\n      <td>3.254499</td>\n      <td>0.877</td>\n      <td>0.123</td>\n      <td>0.0</td>\n    </tr>\n    <tr>\n      <th>4</th>\n      <td>Superficial Epithelial</td>\n      <td>si:dkey-247k7.2</td>\n      <td>0.0</td>\n      <td>3.182882</td>\n      <td>0.961</td>\n      <td>0.117</td>\n      <td>0.0</td>\n    </tr>\n    <tr>\n      <th>5</th>\n      <td>Superficial Epithelial</td>\n      <td>cldne</td>\n      <td>0.0</td>\n      <td>3.068289</td>\n      <td>0.982</td>\n      <td>0.149</td>\n      <td>0.0</td>\n    </tr>\n    <tr>\n      <th>6</th>\n      <td>Superficial Epithelial</td>\n      <td>gig2l</td>\n      <td>0.0</td>\n      <td>3.018676</td>\n      <td>0.514</td>\n      <td>0.165</td>\n      <td>0.0</td>\n    </tr>\n    <tr>\n      <th>7</th>\n      <td>Superficial Epithelial</td>\n      <td>si:ch211-157c3.4</td>\n      <td>0.0</td>\n      <td>2.870359</td>\n      <td>0.983</td>\n      <td>0.268</td>\n      <td>0.0</td>\n    </tr>\n    <tr>\n      <th>8</th>\n      <td>Superficial Epithelial</td>\n      <td>CABZ01072255.2</td>\n      <td>0.0</td>\n      <td>2.858588</td>\n      <td>0.876</td>\n      <td>0.105</td>\n      <td>0.0</td>\n    </tr>\n    <tr>\n      <th>9</th>\n      <td>Superficial Epithelial</td>\n      <td>si:ch211-217k17.10</td>\n      <td>0.0</td>\n      <td>2.838415</td>\n      <td>0.886</td>\n      <td>0.096</td>\n      <td>0.0</td>\n    </tr>\n  </tbody>\n</table>\n</div>"
     },
     "execution_count": 52,
     "metadata": {},
     "output_type": "execute_result"
    }
   ],
   "source": [
    "# create a data frame for the Hou gene list\n",
    "#hou = pd.read_csv(\"..\\data\\Hou_gene_list.csv\")\n",
    "\n",
    "# read in full marker file as Hou\n",
    "hou = pd.read_csv(\"..\\data\\Hou_gene_list_full.csv\")\n",
    "\n",
    "# drop the empty columns\n",
    "hou = hou.drop(columns=['Unnamed: 7', 'Unnamed: 8'])\n",
    "hou.head(10)"
   ],
   "metadata": {
    "collapsed": false,
    "pycharm": {
     "name": "#%%\n"
    }
   }
  },
  {
   "cell_type": "code",
   "execution_count": 127,
   "outputs": [],
   "source": [
    "hartig_file = \"..\\data\\Hartig_0dpa_vs_2dpa_treated.csv\"\n",
    "file = '0dpa_vs_2dpa_treated'\n",
    "tablename = 'summary_' + file + '.png'\n",
    "plotname = 'plot_' + file + '.png'"
   ],
   "metadata": {
    "collapsed": false,
    "pycharm": {
     "name": "#%%\n"
    }
   }
  },
  {
   "cell_type": "code",
   "execution_count": 128,
   "outputs": [
    {
     "data": {
      "text/plain": "               GeneID     logFC    logCPM         LR    PValue       FDR  \\\n0  ENSDARG00000096664  6.750942  8.415291  12.790960  0.000348  0.027011   \n1  ENSDARG00000045548  6.179994  5.746958  12.624282  0.000381  0.027011   \n2  ENSDARG00000001452  5.917229  6.061651  13.789897  0.000204  0.023705   \n3  ENSDARG00000021948  5.621858  6.661723  13.077832  0.000299  0.026051   \n4  ENSDARG00000036082  5.474147  4.870825   9.797602  0.001747  0.045524   \n5  ENSDARG00000019949  5.417130  7.673472  16.142072  0.000059  0.019541   \n6  ENSDARG00000088514  5.348578  9.633832   9.504746  0.002049  0.047931   \n7  ENSDARG00000099371  5.111424  7.092561  14.415906  0.000147  0.023402   \n8  ENSDARG00000053130  5.060389  6.841580  13.152227  0.000287  0.025873   \n9  ENSDARG00000037997  4.989129  5.980453  13.983435  0.000184  0.023705   \n\n       DiffExp     Symbol                                        Description  \\\n0  upregulated     cxl34c  CX chemokine ligand 34c [Source:ZFIN;Acc:ZDB-G...   \n1  upregulated       lepb     leptin b [Source:ZFIN;Acc:ZDB-GENE-041210-183]   \n2  upregulated     adam8a  ADAM metallopeptidase domain 8a [Source:ZFIN;A...   \n3  upregulated        tnc   tenascin C [Source:ZFIN;Acc:ZDB-GENE-980526-104]   \n4  upregulated      tph1b  tryptophan hydroxylase 1b [Source:ZFIN;Acc:ZDB...   \n5  upregulated  serpinh1b  serpin peptidase inhibitor, clade H (heat shoc...   \n6  upregulated       and1  actinodin1 [Source:ZFIN;Acc:ZDB-GENE-030131-9105]   \n7  upregulated      cygb1   cytoglobin 1 [Source:ZFIN;Acc:ZDB-GENE-020513-1]   \n8  upregulated      pcp4a  Purkinje cell protein 4a [Source:ZFIN;Acc:ZDB-...   \n9  upregulated      tubb5  tubulin, beta 5 [Source:ZFIN;Acc:ZDB-GENE-0311...   \n\n         GeneType  ...  CTRL_2dpa_3_TPM  TREAT_2dpa_1_TPM  TREAT_2dpa_2_TPM  \\\n0  protein_coding  ...         9.770111         10.096804         10.068577   \n1  protein_coding  ...         7.455249          7.657034          7.524105   \n2  protein_coding  ...         6.713800          8.243027          8.242038   \n3  protein_coding  ...         7.906436          7.393338          7.768130   \n4  protein_coding  ...         6.400855          6.049154          5.900339   \n5  protein_coding  ...         7.393473          9.336945          9.342107   \n6  protein_coding  ...         9.201008          9.419230          8.633525   \n7  protein_coding  ...         7.446919          8.622279          8.115794   \n8  protein_coding  ...         7.426697          7.791800          7.788705   \n9  protein_coding  ...         5.884571          7.066940          7.559671   \n\n   TREAT_2dpa_3_TPM  CTRL_4dpa_1_TPM  CTRL_4dpa_2_TPM  CTRL_4dpa_3_TPM  \\\n0          9.388004         7.350394         8.555127         8.252641   \n1          6.880204         4.183884         5.430261         4.163816   \n2          7.751025         5.157801         6.147729         5.112020   \n3          6.921246         6.468530         6.819720         6.664502   \n4          5.841380         2.246788         3.059996         2.241811   \n5          8.666609         7.562396         8.803368         7.990667   \n6          8.639434        10.312942        11.564395        11.002472   \n7          7.662799         6.536648         7.526371         7.532190   \n8          6.535035         6.801087         7.251695         7.641190   \n9          7.123006         6.148701         6.026423         6.102089   \n\n   TREAT_4dpa_1_TPM  TREAT_4dpa_2_TPM  TREAT_4dpa_3_TPM  \n0          6.527213          5.852775          6.943827  \n1          4.532095          4.283667          5.433722  \n2          4.254273          4.430261          4.629480  \n3          6.816643          6.627680          7.049166  \n4          2.011473          1.835303          2.221947  \n5          7.954885          7.399144          8.003888  \n6         10.734213         10.798324         11.168389  \n7          7.728374          7.275234          6.918364  \n8          7.743859          6.978435          8.225546  \n9          5.659353          5.986687          6.633806  \n\n[10 rows x 28 columns]",
      "text/html": "<div>\n<style scoped>\n    .dataframe tbody tr th:only-of-type {\n        vertical-align: middle;\n    }\n\n    .dataframe tbody tr th {\n        vertical-align: top;\n    }\n\n    .dataframe thead th {\n        text-align: right;\n    }\n</style>\n<table border=\"1\" class=\"dataframe\">\n  <thead>\n    <tr style=\"text-align: right;\">\n      <th></th>\n      <th>GeneID</th>\n      <th>logFC</th>\n      <th>logCPM</th>\n      <th>LR</th>\n      <th>PValue</th>\n      <th>FDR</th>\n      <th>DiffExp</th>\n      <th>Symbol</th>\n      <th>Description</th>\n      <th>GeneType</th>\n      <th>...</th>\n      <th>CTRL_2dpa_3_TPM</th>\n      <th>TREAT_2dpa_1_TPM</th>\n      <th>TREAT_2dpa_2_TPM</th>\n      <th>TREAT_2dpa_3_TPM</th>\n      <th>CTRL_4dpa_1_TPM</th>\n      <th>CTRL_4dpa_2_TPM</th>\n      <th>CTRL_4dpa_3_TPM</th>\n      <th>TREAT_4dpa_1_TPM</th>\n      <th>TREAT_4dpa_2_TPM</th>\n      <th>TREAT_4dpa_3_TPM</th>\n    </tr>\n  </thead>\n  <tbody>\n    <tr>\n      <th>0</th>\n      <td>ENSDARG00000096664</td>\n      <td>6.750942</td>\n      <td>8.415291</td>\n      <td>12.790960</td>\n      <td>0.000348</td>\n      <td>0.027011</td>\n      <td>upregulated</td>\n      <td>cxl34c</td>\n      <td>CX chemokine ligand 34c [Source:ZFIN;Acc:ZDB-G...</td>\n      <td>protein_coding</td>\n      <td>...</td>\n      <td>9.770111</td>\n      <td>10.096804</td>\n      <td>10.068577</td>\n      <td>9.388004</td>\n      <td>7.350394</td>\n      <td>8.555127</td>\n      <td>8.252641</td>\n      <td>6.527213</td>\n      <td>5.852775</td>\n      <td>6.943827</td>\n    </tr>\n    <tr>\n      <th>1</th>\n      <td>ENSDARG00000045548</td>\n      <td>6.179994</td>\n      <td>5.746958</td>\n      <td>12.624282</td>\n      <td>0.000381</td>\n      <td>0.027011</td>\n      <td>upregulated</td>\n      <td>lepb</td>\n      <td>leptin b [Source:ZFIN;Acc:ZDB-GENE-041210-183]</td>\n      <td>protein_coding</td>\n      <td>...</td>\n      <td>7.455249</td>\n      <td>7.657034</td>\n      <td>7.524105</td>\n      <td>6.880204</td>\n      <td>4.183884</td>\n      <td>5.430261</td>\n      <td>4.163816</td>\n      <td>4.532095</td>\n      <td>4.283667</td>\n      <td>5.433722</td>\n    </tr>\n    <tr>\n      <th>2</th>\n      <td>ENSDARG00000001452</td>\n      <td>5.917229</td>\n      <td>6.061651</td>\n      <td>13.789897</td>\n      <td>0.000204</td>\n      <td>0.023705</td>\n      <td>upregulated</td>\n      <td>adam8a</td>\n      <td>ADAM metallopeptidase domain 8a [Source:ZFIN;A...</td>\n      <td>protein_coding</td>\n      <td>...</td>\n      <td>6.713800</td>\n      <td>8.243027</td>\n      <td>8.242038</td>\n      <td>7.751025</td>\n      <td>5.157801</td>\n      <td>6.147729</td>\n      <td>5.112020</td>\n      <td>4.254273</td>\n      <td>4.430261</td>\n      <td>4.629480</td>\n    </tr>\n    <tr>\n      <th>3</th>\n      <td>ENSDARG00000021948</td>\n      <td>5.621858</td>\n      <td>6.661723</td>\n      <td>13.077832</td>\n      <td>0.000299</td>\n      <td>0.026051</td>\n      <td>upregulated</td>\n      <td>tnc</td>\n      <td>tenascin C [Source:ZFIN;Acc:ZDB-GENE-980526-104]</td>\n      <td>protein_coding</td>\n      <td>...</td>\n      <td>7.906436</td>\n      <td>7.393338</td>\n      <td>7.768130</td>\n      <td>6.921246</td>\n      <td>6.468530</td>\n      <td>6.819720</td>\n      <td>6.664502</td>\n      <td>6.816643</td>\n      <td>6.627680</td>\n      <td>7.049166</td>\n    </tr>\n    <tr>\n      <th>4</th>\n      <td>ENSDARG00000036082</td>\n      <td>5.474147</td>\n      <td>4.870825</td>\n      <td>9.797602</td>\n      <td>0.001747</td>\n      <td>0.045524</td>\n      <td>upregulated</td>\n      <td>tph1b</td>\n      <td>tryptophan hydroxylase 1b [Source:ZFIN;Acc:ZDB...</td>\n      <td>protein_coding</td>\n      <td>...</td>\n      <td>6.400855</td>\n      <td>6.049154</td>\n      <td>5.900339</td>\n      <td>5.841380</td>\n      <td>2.246788</td>\n      <td>3.059996</td>\n      <td>2.241811</td>\n      <td>2.011473</td>\n      <td>1.835303</td>\n      <td>2.221947</td>\n    </tr>\n    <tr>\n      <th>5</th>\n      <td>ENSDARG00000019949</td>\n      <td>5.417130</td>\n      <td>7.673472</td>\n      <td>16.142072</td>\n      <td>0.000059</td>\n      <td>0.019541</td>\n      <td>upregulated</td>\n      <td>serpinh1b</td>\n      <td>serpin peptidase inhibitor, clade H (heat shoc...</td>\n      <td>protein_coding</td>\n      <td>...</td>\n      <td>7.393473</td>\n      <td>9.336945</td>\n      <td>9.342107</td>\n      <td>8.666609</td>\n      <td>7.562396</td>\n      <td>8.803368</td>\n      <td>7.990667</td>\n      <td>7.954885</td>\n      <td>7.399144</td>\n      <td>8.003888</td>\n    </tr>\n    <tr>\n      <th>6</th>\n      <td>ENSDARG00000088514</td>\n      <td>5.348578</td>\n      <td>9.633832</td>\n      <td>9.504746</td>\n      <td>0.002049</td>\n      <td>0.047931</td>\n      <td>upregulated</td>\n      <td>and1</td>\n      <td>actinodin1 [Source:ZFIN;Acc:ZDB-GENE-030131-9105]</td>\n      <td>protein_coding</td>\n      <td>...</td>\n      <td>9.201008</td>\n      <td>9.419230</td>\n      <td>8.633525</td>\n      <td>8.639434</td>\n      <td>10.312942</td>\n      <td>11.564395</td>\n      <td>11.002472</td>\n      <td>10.734213</td>\n      <td>10.798324</td>\n      <td>11.168389</td>\n    </tr>\n    <tr>\n      <th>7</th>\n      <td>ENSDARG00000099371</td>\n      <td>5.111424</td>\n      <td>7.092561</td>\n      <td>14.415906</td>\n      <td>0.000147</td>\n      <td>0.023402</td>\n      <td>upregulated</td>\n      <td>cygb1</td>\n      <td>cytoglobin 1 [Source:ZFIN;Acc:ZDB-GENE-020513-1]</td>\n      <td>protein_coding</td>\n      <td>...</td>\n      <td>7.446919</td>\n      <td>8.622279</td>\n      <td>8.115794</td>\n      <td>7.662799</td>\n      <td>6.536648</td>\n      <td>7.526371</td>\n      <td>7.532190</td>\n      <td>7.728374</td>\n      <td>7.275234</td>\n      <td>6.918364</td>\n    </tr>\n    <tr>\n      <th>8</th>\n      <td>ENSDARG00000053130</td>\n      <td>5.060389</td>\n      <td>6.841580</td>\n      <td>13.152227</td>\n      <td>0.000287</td>\n      <td>0.025873</td>\n      <td>upregulated</td>\n      <td>pcp4a</td>\n      <td>Purkinje cell protein 4a [Source:ZFIN;Acc:ZDB-...</td>\n      <td>protein_coding</td>\n      <td>...</td>\n      <td>7.426697</td>\n      <td>7.791800</td>\n      <td>7.788705</td>\n      <td>6.535035</td>\n      <td>6.801087</td>\n      <td>7.251695</td>\n      <td>7.641190</td>\n      <td>7.743859</td>\n      <td>6.978435</td>\n      <td>8.225546</td>\n    </tr>\n    <tr>\n      <th>9</th>\n      <td>ENSDARG00000037997</td>\n      <td>4.989129</td>\n      <td>5.980453</td>\n      <td>13.983435</td>\n      <td>0.000184</td>\n      <td>0.023705</td>\n      <td>upregulated</td>\n      <td>tubb5</td>\n      <td>tubulin, beta 5 [Source:ZFIN;Acc:ZDB-GENE-0311...</td>\n      <td>protein_coding</td>\n      <td>...</td>\n      <td>5.884571</td>\n      <td>7.066940</td>\n      <td>7.559671</td>\n      <td>7.123006</td>\n      <td>6.148701</td>\n      <td>6.026423</td>\n      <td>6.102089</td>\n      <td>5.659353</td>\n      <td>5.986687</td>\n      <td>6.633806</td>\n    </tr>\n  </tbody>\n</table>\n<p>10 rows × 28 columns</p>\n</div>"
     },
     "execution_count": 128,
     "metadata": {},
     "output_type": "execute_result"
    }
   ],
   "source": [
    "#create a data frame for the Hartig gene list\n",
    "hartig = pd.read_csv(hartig_file)\n",
    "hartig.head(10)"
   ],
   "metadata": {
    "collapsed": false,
    "pycharm": {
     "name": "#%%\n"
    }
   }
  },
  {
   "cell_type": "code",
   "execution_count": 129,
   "outputs": [
    {
     "data": {
      "text/plain": "               gene_hou        gene_hartig              GeneID  \\\n0     si:ch211-207n23.2  si:ch211-207n23.2  ENSDARG00000097157   \n1            zgc:111983         zgc:111983  ENSDARG00000006588   \n2              krt1-19d           krt1-19d  ENSDARG00000023082   \n3       si:dkey-247k7.2    si:dkey-247k7.2  ENSDARG00000103199   \n4                 cldne              cldne  ENSDARG00000043128   \n...                 ...                ...                 ...   \n1044               lsm6               lsm6  ENSDARG00000036995   \n1045            cxcl12a            cxcl12a  ENSDARG00000037116   \n1046             cirbpb             cirbpb  ENSDARG00000013351   \n1047              rbbp4              rbbp4  ENSDARG00000029058   \n1048           ebna1bp2           ebna1bp2  ENSDARG00000054980   \n\n                     cluster        DiffExp  logFC_hou  logFC_hartig  \n0     Superficial Epithelial           none   3.783526     -3.112703  \n1     Superficial Epithelial  downregulated   3.634558     -2.860280  \n2     Superficial Epithelial           none   3.254499     -0.240512  \n3     Superficial Epithelial           none   3.182882     -2.785712  \n4     Superficial Epithelial  downregulated   3.068289     -2.698828  \n...                      ...            ...        ...           ...  \n1044             Mesenchymal           none   0.650483      0.416705  \n1045             Mesenchymal           none   0.645527     -1.293536  \n1046             Mesenchymal           none   0.645116     -0.136961  \n1047             Mesenchymal           none   0.644503      0.221650  \n1048             Mesenchymal           none   0.643765      0.422000  \n\n[1049 rows x 7 columns]",
      "text/html": "<div>\n<style scoped>\n    .dataframe tbody tr th:only-of-type {\n        vertical-align: middle;\n    }\n\n    .dataframe tbody tr th {\n        vertical-align: top;\n    }\n\n    .dataframe thead th {\n        text-align: right;\n    }\n</style>\n<table border=\"1\" class=\"dataframe\">\n  <thead>\n    <tr style=\"text-align: right;\">\n      <th></th>\n      <th>gene_hou</th>\n      <th>gene_hartig</th>\n      <th>GeneID</th>\n      <th>cluster</th>\n      <th>DiffExp</th>\n      <th>logFC_hou</th>\n      <th>logFC_hartig</th>\n    </tr>\n  </thead>\n  <tbody>\n    <tr>\n      <th>0</th>\n      <td>si:ch211-207n23.2</td>\n      <td>si:ch211-207n23.2</td>\n      <td>ENSDARG00000097157</td>\n      <td>Superficial Epithelial</td>\n      <td>none</td>\n      <td>3.783526</td>\n      <td>-3.112703</td>\n    </tr>\n    <tr>\n      <th>1</th>\n      <td>zgc:111983</td>\n      <td>zgc:111983</td>\n      <td>ENSDARG00000006588</td>\n      <td>Superficial Epithelial</td>\n      <td>downregulated</td>\n      <td>3.634558</td>\n      <td>-2.860280</td>\n    </tr>\n    <tr>\n      <th>2</th>\n      <td>krt1-19d</td>\n      <td>krt1-19d</td>\n      <td>ENSDARG00000023082</td>\n      <td>Superficial Epithelial</td>\n      <td>none</td>\n      <td>3.254499</td>\n      <td>-0.240512</td>\n    </tr>\n    <tr>\n      <th>3</th>\n      <td>si:dkey-247k7.2</td>\n      <td>si:dkey-247k7.2</td>\n      <td>ENSDARG00000103199</td>\n      <td>Superficial Epithelial</td>\n      <td>none</td>\n      <td>3.182882</td>\n      <td>-2.785712</td>\n    </tr>\n    <tr>\n      <th>4</th>\n      <td>cldne</td>\n      <td>cldne</td>\n      <td>ENSDARG00000043128</td>\n      <td>Superficial Epithelial</td>\n      <td>downregulated</td>\n      <td>3.068289</td>\n      <td>-2.698828</td>\n    </tr>\n    <tr>\n      <th>...</th>\n      <td>...</td>\n      <td>...</td>\n      <td>...</td>\n      <td>...</td>\n      <td>...</td>\n      <td>...</td>\n      <td>...</td>\n    </tr>\n    <tr>\n      <th>1044</th>\n      <td>lsm6</td>\n      <td>lsm6</td>\n      <td>ENSDARG00000036995</td>\n      <td>Mesenchymal</td>\n      <td>none</td>\n      <td>0.650483</td>\n      <td>0.416705</td>\n    </tr>\n    <tr>\n      <th>1045</th>\n      <td>cxcl12a</td>\n      <td>cxcl12a</td>\n      <td>ENSDARG00000037116</td>\n      <td>Mesenchymal</td>\n      <td>none</td>\n      <td>0.645527</td>\n      <td>-1.293536</td>\n    </tr>\n    <tr>\n      <th>1046</th>\n      <td>cirbpb</td>\n      <td>cirbpb</td>\n      <td>ENSDARG00000013351</td>\n      <td>Mesenchymal</td>\n      <td>none</td>\n      <td>0.645116</td>\n      <td>-0.136961</td>\n    </tr>\n    <tr>\n      <th>1047</th>\n      <td>rbbp4</td>\n      <td>rbbp4</td>\n      <td>ENSDARG00000029058</td>\n      <td>Mesenchymal</td>\n      <td>none</td>\n      <td>0.644503</td>\n      <td>0.221650</td>\n    </tr>\n    <tr>\n      <th>1048</th>\n      <td>ebna1bp2</td>\n      <td>ebna1bp2</td>\n      <td>ENSDARG00000054980</td>\n      <td>Mesenchymal</td>\n      <td>none</td>\n      <td>0.643765</td>\n      <td>0.422000</td>\n    </tr>\n  </tbody>\n</table>\n<p>1049 rows × 7 columns</p>\n</div>"
     },
     "execution_count": 129,
     "metadata": {},
     "output_type": "execute_result"
    }
   ],
   "source": [
    "# create a new data frame that contains only those rows that have matching values in both of the original data frames\n",
    "# based on the 'gene' column in Hou and 'symbol' column in Hartig\n",
    "merged_gene_list = pd.merge(left=hou, right=hartig, left_on='gene', right_on='Symbol')\n",
    "\n",
    "# only include the listed columns: gene (Hou), symbol (Hartig), geneID, cluster, diffExp, avg_logFC (Hou), and logFC (Hartig)\n",
    "merged_gene_list = merged_gene_list.loc[:, ['gene', 'Symbol', 'GeneID', 'cluster', 'DiffExp', 'avg_logFC', 'logFC']]\n",
    "merged_gene_list.columns = [\"gene_hou\", \"gene_hartig\", \"GeneID\", \"cluster\", \"DiffExp\", \"logFC_hou\", \"logFC_hartig\"]\n",
    "merged_gene_list"
   ],
   "metadata": {
    "collapsed": false,
    "pycharm": {
     "name": "#%%\n"
    }
   }
  },
  {
   "cell_type": "code",
   "execution_count": 130,
   "outputs": [
    {
     "data": {
      "text/plain": "DiffExp\ndownregulated     77\nnone             887\nupregulated       85\nName: DiffExp, dtype: int64"
     },
     "execution_count": 130,
     "metadata": {},
     "output_type": "execute_result"
    }
   ],
   "source": [
    "# count how many genes of each type of DiffExp are present in the merged gene list\n",
    "counts = merged_gene_list.groupby('DiffExp')['DiffExp'].count()\n",
    "counts\n",
    "\n",
    "# there are 38 downregulated genes and 1011 non-differentially expressed genes"
   ],
   "metadata": {
    "collapsed": false,
    "pycharm": {
     "name": "#%%\n"
    }
   }
  },
  {
   "cell_type": "code",
   "execution_count": 131,
   "outputs": [
    {
     "data": {
      "text/plain": "               gene_hou         gene_hartig              GeneID  \\\n1            zgc:111983          zgc:111983  ENSDARG00000006588   \n4                 cldne               cldne  ENSDARG00000043128   \n8    si:ch211-217k17.10  si:ch211-217k17.10  ENSDARG00000079345   \n10      si:dkey-7c18.24     si:dkey-7c18.24  ENSDARG00000041433   \n11       si:dkeyp-1h4.6      si:dkeyp-1h4.6  ENSDARG00000093936   \n..                  ...                 ...                 ...   \n862      CABZ01040076.1      CABZ01040076.1  ENSDARG00000101802   \n874             gpr183a             gpr183a  ENSDARG00000010317   \n881      si:dkey-1h24.6      si:dkey-1h24.6  ENSDARG00000092653   \n883               abi3a               abi3a  ENSDARG00000060072   \n899   si:ch211-106h4.12   si:ch211-106h4.12  ENSDARG00000092920   \n\n                    cluster        DiffExp  logFC_hou  logFC_hartig  \n1    Superficial Epithelial  downregulated   3.634558     -2.860280  \n4    Superficial Epithelial  downregulated   3.068289     -2.698828  \n8    Superficial Epithelial  downregulated   2.838415     -3.300152  \n10   Superficial Epithelial  downregulated   2.686304     -2.529367  \n11   Superficial Epithelial  downregulated   2.650668     -3.267372  \n..                      ...            ...        ...           ...  \n862           Hematopoietic  downregulated   0.731284     -2.365699  \n874           Hematopoietic  downregulated   0.668759     -1.902391  \n881           Hematopoietic  downregulated   0.628053     -2.076909  \n883           Hematopoietic  downregulated   0.620248     -1.845389  \n899             Mesenchymal  downregulated   1.582189     -4.762562  \n\n[77 rows x 7 columns]",
      "text/html": "<div>\n<style scoped>\n    .dataframe tbody tr th:only-of-type {\n        vertical-align: middle;\n    }\n\n    .dataframe tbody tr th {\n        vertical-align: top;\n    }\n\n    .dataframe thead th {\n        text-align: right;\n    }\n</style>\n<table border=\"1\" class=\"dataframe\">\n  <thead>\n    <tr style=\"text-align: right;\">\n      <th></th>\n      <th>gene_hou</th>\n      <th>gene_hartig</th>\n      <th>GeneID</th>\n      <th>cluster</th>\n      <th>DiffExp</th>\n      <th>logFC_hou</th>\n      <th>logFC_hartig</th>\n    </tr>\n  </thead>\n  <tbody>\n    <tr>\n      <th>1</th>\n      <td>zgc:111983</td>\n      <td>zgc:111983</td>\n      <td>ENSDARG00000006588</td>\n      <td>Superficial Epithelial</td>\n      <td>downregulated</td>\n      <td>3.634558</td>\n      <td>-2.860280</td>\n    </tr>\n    <tr>\n      <th>4</th>\n      <td>cldne</td>\n      <td>cldne</td>\n      <td>ENSDARG00000043128</td>\n      <td>Superficial Epithelial</td>\n      <td>downregulated</td>\n      <td>3.068289</td>\n      <td>-2.698828</td>\n    </tr>\n    <tr>\n      <th>8</th>\n      <td>si:ch211-217k17.10</td>\n      <td>si:ch211-217k17.10</td>\n      <td>ENSDARG00000079345</td>\n      <td>Superficial Epithelial</td>\n      <td>downregulated</td>\n      <td>2.838415</td>\n      <td>-3.300152</td>\n    </tr>\n    <tr>\n      <th>10</th>\n      <td>si:dkey-7c18.24</td>\n      <td>si:dkey-7c18.24</td>\n      <td>ENSDARG00000041433</td>\n      <td>Superficial Epithelial</td>\n      <td>downregulated</td>\n      <td>2.686304</td>\n      <td>-2.529367</td>\n    </tr>\n    <tr>\n      <th>11</th>\n      <td>si:dkeyp-1h4.6</td>\n      <td>si:dkeyp-1h4.6</td>\n      <td>ENSDARG00000093936</td>\n      <td>Superficial Epithelial</td>\n      <td>downregulated</td>\n      <td>2.650668</td>\n      <td>-3.267372</td>\n    </tr>\n    <tr>\n      <th>...</th>\n      <td>...</td>\n      <td>...</td>\n      <td>...</td>\n      <td>...</td>\n      <td>...</td>\n      <td>...</td>\n      <td>...</td>\n    </tr>\n    <tr>\n      <th>862</th>\n      <td>CABZ01040076.1</td>\n      <td>CABZ01040076.1</td>\n      <td>ENSDARG00000101802</td>\n      <td>Hematopoietic</td>\n      <td>downregulated</td>\n      <td>0.731284</td>\n      <td>-2.365699</td>\n    </tr>\n    <tr>\n      <th>874</th>\n      <td>gpr183a</td>\n      <td>gpr183a</td>\n      <td>ENSDARG00000010317</td>\n      <td>Hematopoietic</td>\n      <td>downregulated</td>\n      <td>0.668759</td>\n      <td>-1.902391</td>\n    </tr>\n    <tr>\n      <th>881</th>\n      <td>si:dkey-1h24.6</td>\n      <td>si:dkey-1h24.6</td>\n      <td>ENSDARG00000092653</td>\n      <td>Hematopoietic</td>\n      <td>downregulated</td>\n      <td>0.628053</td>\n      <td>-2.076909</td>\n    </tr>\n    <tr>\n      <th>883</th>\n      <td>abi3a</td>\n      <td>abi3a</td>\n      <td>ENSDARG00000060072</td>\n      <td>Hematopoietic</td>\n      <td>downregulated</td>\n      <td>0.620248</td>\n      <td>-1.845389</td>\n    </tr>\n    <tr>\n      <th>899</th>\n      <td>si:ch211-106h4.12</td>\n      <td>si:ch211-106h4.12</td>\n      <td>ENSDARG00000092920</td>\n      <td>Mesenchymal</td>\n      <td>downregulated</td>\n      <td>1.582189</td>\n      <td>-4.762562</td>\n    </tr>\n  </tbody>\n</table>\n<p>77 rows × 7 columns</p>\n</div>"
     },
     "execution_count": 131,
     "metadata": {},
     "output_type": "execute_result"
    }
   ],
   "source": [
    "# create a dataframe of the differentially expressed genes that exist in both gene lists\n",
    "downreg = merged_gene_list.loc[merged_gene_list['DiffExp'] == 'downregulated']\n",
    "downreg"
   ],
   "metadata": {
    "collapsed": false,
    "pycharm": {
     "name": "#%%\n"
    }
   }
  },
  {
   "cell_type": "code",
   "execution_count": 132,
   "outputs": [
    {
     "data": {
      "text/plain": "array(['Superficial Epithelial', 'Mucosal-like',\n       'Intermediate Epithelial', 'Hematopoietic', 'Basal Epithelial',\n       'Mesenchymal'], dtype=object)"
     },
     "execution_count": 132,
     "metadata": {},
     "output_type": "execute_result"
    }
   ],
   "source": [
    "# get a list of all the cell types to then parse the gene list into separate cell cluster dataframes\n",
    "merged_gene_list.cluster.unique()"
   ],
   "metadata": {
    "collapsed": false,
    "pycharm": {
     "name": "#%%\n"
    }
   }
  },
  {
   "cell_type": "code",
   "execution_count": 133,
   "outputs": [],
   "source": [
    "from statsmodels import robust"
   ],
   "metadata": {
    "collapsed": false,
    "pycharm": {
     "name": "#%%\n"
    }
   }
  },
  {
   "cell_type": "code",
   "execution_count": 134,
   "outputs": [
    {
     "data": {
      "text/plain": "count    181.000000\nmean      -1.691156\nstd        0.935274\nmin       -4.899526\n25%       -2.283304\n50%       -1.639091\n75%       -1.093351\nmax        0.476495\nMAD        0.896001\ndtype: float64"
     },
     "execution_count": 134,
     "metadata": {},
     "output_type": "execute_result"
    }
   ],
   "source": [
    "superficial = merged_gene_list[merged_gene_list['cluster'] == \"Superficial Epithelial\"]\n",
    "superficial_MAD = robust.mad(superficial.logFC_hartig)\n",
    "ser = pd.Series(superficial_MAD, index = ['MAD'])\n",
    "superficial_stats = superficial.logFC_hartig.describe()\n",
    "superficial_stats = superficial_stats.append(ser)\n",
    "superficial_stats"
   ],
   "metadata": {
    "collapsed": false,
    "pycharm": {
     "name": "#%%\n"
    }
   }
  },
  {
   "cell_type": "code",
   "execution_count": 135,
   "outputs": [
    {
     "data": {
      "text/plain": "count    169.000000\nmean      -0.997480\nstd        1.115490\nmin       -4.899526\n25%       -1.663383\n50%       -0.954725\n75%       -0.353728\nmax        2.638820\nMAD        1.031915\ndtype: float64"
     },
     "execution_count": 135,
     "metadata": {},
     "output_type": "execute_result"
    }
   ],
   "source": [
    "mucosal = merged_gene_list[merged_gene_list['cluster'] == \"Mucosal-like\"]\n",
    "mucosal_MAD = robust.mad(mucosal.logFC_hartig)\n",
    "ser = pd.Series(mucosal_MAD, index = ['MAD'])\n",
    "mucosal_stats = mucosal.logFC_hartig.describe()\n",
    "mucosal_stats = mucosal_stats.append(ser)\n",
    "mucosal_stats"
   ],
   "metadata": {
    "collapsed": false,
    "pycharm": {
     "name": "#%%\n"
    }
   }
  },
  {
   "cell_type": "code",
   "execution_count": 136,
   "outputs": [
    {
     "data": {
      "text/plain": "count    155.000000\nmean       0.046724\nstd        1.500788\nmin       -2.151148\n25%       -0.860000\n50%       -0.325669\n75%        0.628373\nmax        6.750942\nMAD        1.134047\ndtype: float64"
     },
     "execution_count": 136,
     "metadata": {},
     "output_type": "execute_result"
    }
   ],
   "source": [
    "intermediate = merged_gene_list[merged_gene_list['cluster'] == \"Intermediate Epithelial\"]\n",
    "intermediate_MAD = robust.mad(intermediate.logFC_hartig)\n",
    "ser = pd.Series(intermediate_MAD, index = ['MAD'])\n",
    "intermediate_stats = intermediate.logFC_hartig.describe()\n",
    "intermediate_stats = intermediate_stats.append(ser)\n",
    "intermediate_stats"
   ],
   "metadata": {
    "collapsed": false,
    "pycharm": {
     "name": "#%%\n"
    }
   }
  },
  {
   "cell_type": "code",
   "execution_count": 137,
   "outputs": [
    {
     "data": {
      "text/plain": "count    188.000000\nmean       1.272596\nstd        1.599675\nmin       -3.774328\n25%        0.191919\n50%        1.100714\n75%        2.382267\nmax        5.917229\nMAD        1.519939\ndtype: float64"
     },
     "execution_count": 137,
     "metadata": {},
     "output_type": "execute_result"
    }
   ],
   "source": [
    "basal = merged_gene_list[merged_gene_list['cluster'] == \"Basal Epithelial\"]\n",
    "basal_MAD = robust.mad(basal.logFC_hartig)\n",
    "ser = pd.Series(basal_MAD, index = ['MAD'])\n",
    "basal_stats = basal.logFC_hartig.describe()\n",
    "basal_stats = basal_stats.append(ser)\n",
    "basal_stats"
   ],
   "metadata": {
    "collapsed": false,
    "pycharm": {
     "name": "#%%\n"
    }
   }
  },
  {
   "cell_type": "code",
   "execution_count": 138,
   "outputs": [
    {
     "data": {
      "text/plain": "count    173.000000\nmean      -0.842570\nstd        0.835295\nmin       -3.288884\n25%       -1.324158\n50%       -0.816715\n75%       -0.228864\nmax        1.036925\nMAD        0.831164\ndtype: float64"
     },
     "execution_count": 138,
     "metadata": {},
     "output_type": "execute_result"
    }
   ],
   "source": [
    "hema = merged_gene_list[merged_gene_list['cluster'] == \"Hematopoietic\"]\n",
    "hema_MAD = robust.mad(hema.logFC_hartig)\n",
    "ser = pd.Series(hema_MAD, index = ['MAD'])\n",
    "hema_stats = hema.logFC_hartig.describe()\n",
    "hema_stats = hema_stats.append(ser)\n",
    "hema_stats"
   ],
   "metadata": {
    "collapsed": false,
    "pycharm": {
     "name": "#%%\n"
    }
   }
  },
  {
   "cell_type": "code",
   "execution_count": 139,
   "outputs": [
    {
     "data": {
      "text/plain": "count    183.000000\nmean       1.137951\nstd        1.489256\nmin       -4.762562\n25%        0.254250\n50%        0.656372\n75%        2.003801\nmax        6.179994\nMAD        0.836512\ndtype: float64"
     },
     "execution_count": 139,
     "metadata": {},
     "output_type": "execute_result"
    }
   ],
   "source": [
    "mesenchymal = merged_gene_list[merged_gene_list['cluster'] == \"Mesenchymal\"]\n",
    "mesenchymal_MAD = robust.mad(mesenchymal.logFC_hartig)\n",
    "ser = pd.Series(mesenchymal_MAD, index = ['MAD'])\n",
    "mesenchymal_stats = mesenchymal.logFC_hartig.describe()\n",
    "mesenchymal_stats = mesenchymal_stats.append(ser)\n",
    "mesenchymal_stats"
   ],
   "metadata": {
    "collapsed": false,
    "pycharm": {
     "name": "#%%\n"
    }
   }
  },
  {
   "cell_type": "code",
   "execution_count": 140,
   "outputs": [
    {
     "data": {
      "text/plain": "<Figure size 432x288 with 1 Axes>",
      "image/png": "[encoded data removed]"
     },
     "metadata": {},
     "output_type": "display_data"
    }
   ],
   "source": [
    "# box plot their distributions\n",
    "\n",
    "import seaborn as sns\n",
    "import matplotlib.pyplot as plt\n",
    "\n",
    "sns.set(style=\"whitegrid\")\n",
    "\n",
    "ax = sns.boxplot(x=\"cluster\", y=\"logFC_hartig\", data=merged_gene_list, showfliers = False).set_title(file)\n",
    "ax = sns.stripplot(x=\"cluster\", y=\"logFC_hartig\", data=merged_gene_list, color=\"0.5\", alpha=0.25)\n",
    "ax.set_xticklabels(ax.get_xticklabels(),rotation = 90)\n",
    "plt.savefig(plotname, bbox_inches='tight')\n",
    "plt.show()"
   ],
   "metadata": {
    "collapsed": false,
    "pycharm": {
     "name": "#%%\n"
    }
   }
  },
  {
   "cell_type": "code",
   "execution_count": 141,
   "outputs": [],
   "source": [
    "summary = pd.DataFrame(superficial_stats)\n",
    "summary.columns = [\"superficial\"]\n",
    "summary['intermediate'] = intermediate_stats\n",
    "summary['basal'] = basal_stats\n",
    "summary['mucosal-like'] = mucosal_stats\n",
    "summary['mesenchymal'] = mesenchymal_stats\n",
    "summary['hematopoietic'] = hema_stats"
   ],
   "metadata": {
    "collapsed": false,
    "pycharm": {
     "name": "#%%\n"
    }
   }
  },
  {
   "cell_type": "code",
   "execution_count": 142,
   "outputs": [
    {
     "data": {
      "text/plain": "       superficial  intermediate       basal  mucosal-like  mesenchymal  \\\ncount   181.000000    155.000000  188.000000    169.000000   183.000000   \nmean     -1.691156      0.046724    1.272596     -0.997480     1.137951   \nstd       0.935274      1.500788    1.599675      1.115490     1.489256   \nmin      -4.899526     -2.151148   -3.774328     -4.899526    -4.762562   \n25%      -2.283304     -0.860000    0.191919     -1.663383     0.254250   \n50%      -1.639091     -0.325669    1.100714     -0.954725     0.656372   \n75%      -1.093351      0.628373    2.382267     -0.353728     2.003801   \nmax       0.476495      6.750942    5.917229      2.638820     6.179994   \nMAD       0.896001      1.134047    1.519939      1.031915     0.836512   \n\n       hematopoietic  \ncount     173.000000  \nmean       -0.842570  \nstd         0.835295  \nmin        -3.288884  \n25%        -1.324158  \n50%        -0.816715  \n75%        -0.228864  \nmax         1.036925  \nMAD         0.831164  ",
      "text/html": "<div>\n<style scoped>\n    .dataframe tbody tr th:only-of-type {\n        vertical-align: middle;\n    }\n\n    .dataframe tbody tr th {\n        vertical-align: top;\n    }\n\n    .dataframe thead th {\n        text-align: right;\n    }\n</style>\n<table border=\"1\" class=\"dataframe\">\n  <thead>\n    <tr style=\"text-align: right;\">\n      <th></th>\n      <th>superficial</th>\n      <th>intermediate</th>\n      <th>basal</th>\n      <th>mucosal-like</th>\n      <th>mesenchymal</th>\n      <th>hematopoietic</th>\n    </tr>\n  </thead>\n  <tbody>\n    <tr>\n      <th>count</th>\n      <td>181.000000</td>\n      <td>155.000000</td>\n      <td>188.000000</td>\n      <td>169.000000</td>\n      <td>183.000000</td>\n      <td>173.000000</td>\n    </tr>\n    <tr>\n      <th>mean</th>\n      <td>-1.691156</td>\n      <td>0.046724</td>\n      <td>1.272596</td>\n      <td>-0.997480</td>\n      <td>1.137951</td>\n      <td>-0.842570</td>\n    </tr>\n    <tr>\n      <th>std</th>\n      <td>0.935274</td>\n      <td>1.500788</td>\n      <td>1.599675</td>\n      <td>1.115490</td>\n      <td>1.489256</td>\n      <td>0.835295</td>\n    </tr>\n    <tr>\n      <th>min</th>\n      <td>-4.899526</td>\n      <td>-2.151148</td>\n      <td>-3.774328</td>\n      <td>-4.899526</td>\n      <td>-4.762562</td>\n      <td>-3.288884</td>\n    </tr>\n    <tr>\n      <th>25%</th>\n      <td>-2.283304</td>\n      <td>-0.860000</td>\n      <td>0.191919</td>\n      <td>-1.663383</td>\n      <td>0.254250</td>\n      <td>-1.324158</td>\n    </tr>\n    <tr>\n      <th>50%</th>\n      <td>-1.639091</td>\n      <td>-0.325669</td>\n      <td>1.100714</td>\n      <td>-0.954725</td>\n      <td>0.656372</td>\n      <td>-0.816715</td>\n    </tr>\n    <tr>\n      <th>75%</th>\n      <td>-1.093351</td>\n      <td>0.628373</td>\n      <td>2.382267</td>\n      <td>-0.353728</td>\n      <td>2.003801</td>\n      <td>-0.228864</td>\n    </tr>\n    <tr>\n      <th>max</th>\n      <td>0.476495</td>\n      <td>6.750942</td>\n      <td>5.917229</td>\n      <td>2.638820</td>\n      <td>6.179994</td>\n      <td>1.036925</td>\n    </tr>\n    <tr>\n      <th>MAD</th>\n      <td>0.896001</td>\n      <td>1.134047</td>\n      <td>1.519939</td>\n      <td>1.031915</td>\n      <td>0.836512</td>\n      <td>0.831164</td>\n    </tr>\n  </tbody>\n</table>\n</div>"
     },
     "execution_count": 142,
     "metadata": {},
     "output_type": "execute_result"
    }
   ],
   "source": [
    "summary"
   ],
   "metadata": {
    "collapsed": false,
    "pycharm": {
     "name": "#%%\n"
    }
   }
  },
  {
   "cell_type": "code",
   "execution_count": 143,
   "outputs": [],
   "source": [
    "import dataframe_image as dfi\n",
    "df_styled = summary.style.background_gradient()\n",
    "df_styled = summary.style.set_caption(file)\n",
    "dfi.export(df_styled, tablename)"
   ],
   "metadata": {
    "collapsed": false,
    "pycharm": {
     "name": "#%%\n"
    }
   }
  },
  {
   "cell_type": "code",
   "execution_count": null,
   "outputs": [],
   "source": [],
   "metadata": {
    "collapsed": false,
    "pycharm": {
     "name": "#%%\n"
    }
   }
  }
 ],
 "metadata": {
  "kernelspec": {
   "display_name": "Python 3",
   "language": "python",
   "name": "python3"
  },
  "language_info": {
   "codemirror_mode": {
    "name": "ipython",
    "version": 2
   },
   "file_extension": ".py",
   "mimetype": "text/x-python",
   "name": "python",
   "nbconvert_exporter": "python",
   "pygments_lexer": "ipython2",
   "version": "2.7.6"
  }
 },
 "nbformat": 4,
 "nbformat_minor": 0
}
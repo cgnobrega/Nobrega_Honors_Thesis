{
 "cells": [
  {
   "cell_type": "code",
   "execution_count": 1,
   "metadata": {
    "collapsed": true
   },
   "outputs": [
    {
     "name": "stdout",
     "output_type": "stream",
     "text": [
      "Hello, this is a test\n"
     ]
    }
   ],
   "source": [
    "print(\"Hello, this is a test\")"
   ]
  },
  {
   "cell_type": "code",
   "execution_count": 2,
   "outputs": [],
   "source": [
    "import pandas as pd"
   ],
   "metadata": {
    "collapsed": false,
    "pycharm": {
     "name": "#%%\n"
    }
   }
  },
  {
   "cell_type": "code",
   "execution_count": 3,
   "outputs": [
    {
     "data": {
      "text/plain": "                  cluster                gene  p_val  avg_logFC  pct.1  pct.2  \\\n0  Superficial Epithelial   si:ch211-207n23.2    0.0   3.783526  0.983  0.256   \n1  Superficial Epithelial          zgc:111983    0.0   3.634558  0.987  0.295   \n2  Superficial Epithelial      CABZ01088053.1    0.0   3.398964  0.935  0.188   \n3  Superficial Epithelial            krt1-19d    0.0   3.254499  0.877  0.123   \n4  Superficial Epithelial     si:dkey-247k7.2    0.0   3.182882  0.961  0.117   \n5  Superficial Epithelial               cldne    0.0   3.068289  0.982  0.149   \n6  Superficial Epithelial               gig2l    0.0   3.018676  0.514  0.165   \n7  Superficial Epithelial    si:ch211-157c3.4    0.0   2.870359  0.983  0.268   \n8  Superficial Epithelial      CABZ01072255.2    0.0   2.858588  0.876  0.105   \n9  Superficial Epithelial  si:ch211-217k17.10    0.0   2.838415  0.886  0.096   \n\n   p_val_adj  \n0        0.0  \n1        0.0  \n2        0.0  \n3        0.0  \n4        0.0  \n5        0.0  \n6        0.0  \n7        0.0  \n8        0.0  \n9        0.0  ",
      "text/html": "<div>\n<style scoped>\n    .dataframe tbody tr th:only-of-type {\n        vertical-align: middle;\n    }\n\n    .dataframe tbody tr th {\n        vertical-align: top;\n    }\n\n    .dataframe thead th {\n        text-align: right;\n    }\n</style>\n<table border=\"1\" class=\"dataframe\">\n  <thead>\n    <tr style=\"text-align: right;\">\n      <th></th>\n      <th>cluster</th>\n      <th>gene</th>\n      <th>p_val</th>\n      <th>avg_logFC</th>\n      <th>pct.1</th>\n      <th>pct.2</th>\n      <th>p_val_adj</th>\n    </tr>\n  </thead>\n  <tbody>\n    <tr>\n      <th>0</th>\n      <td>Superficial Epithelial</td>\n      <td>si:ch211-207n23.2</td>\n      <td>0.0</td>\n      <td>3.783526</td>\n      <td>0.983</td>\n      <td>0.256</td>\n      <td>0.0</td>\n    </tr>\n    <tr>\n      <th>1</th>\n      <td>Superficial Epithelial</td>\n      <td>zgc:111983</td>\n      <td>0.0</td>\n      <td>3.634558</td>\n      <td>0.987</td>\n      <td>0.295</td>\n      <td>0.0</td>\n    </tr>\n    <tr>\n      <th>2</th>\n      <td>Superficial Epithelial</td>\n      <td>CABZ01088053.1</td>\n      <td>0.0</td>\n      <td>3.398964</td>\n      <td>0.935</td>\n      <td>0.188</td>\n      <td>0.0</td>\n    </tr>\n    <tr>\n      <th>3</th>\n      <td>Superficial Epithelial</td>\n      <td>krt1-19d</td>\n      <td>0.0</td>\n      <td>3.254499</td>\n      <td>0.877</td>\n      <td>0.123</td>\n      <td>0.0</td>\n    </tr>\n    <tr>\n      <th>4</th>\n      <td>Superficial Epithelial</td>\n      <td>si:dkey-247k7.2</td>\n      <td>0.0</td>\n      <td>3.182882</td>\n      <td>0.961</td>\n      <td>0.117</td>\n      <td>0.0</td>\n    </tr>\n    <tr>\n      <th>5</th>\n      <td>Superficial Epithelial</td>\n      <td>cldne</td>\n      <td>0.0</td>\n      <td>3.068289</td>\n      <td>0.982</td>\n      <td>0.149</td>\n      <td>0.0</td>\n    </tr>\n    <tr>\n      <th>6</th>\n      <td>Superficial Epithelial</td>\n      <td>gig2l</td>\n      <td>0.0</td>\n      <td>3.018676</td>\n      <td>0.514</td>\n      <td>0.165</td>\n      <td>0.0</td>\n    </tr>\n    <tr>\n      <th>7</th>\n      <td>Superficial Epithelial</td>\n      <td>si:ch211-157c3.4</td>\n      <td>0.0</td>\n      <td>2.870359</td>\n      <td>0.983</td>\n      <td>0.268</td>\n      <td>0.0</td>\n    </tr>\n    <tr>\n      <th>8</th>\n      <td>Superficial Epithelial</td>\n      <td>CABZ01072255.2</td>\n      <td>0.0</td>\n      <td>2.858588</td>\n      <td>0.876</td>\n      <td>0.105</td>\n      <td>0.0</td>\n    </tr>\n    <tr>\n      <th>9</th>\n      <td>Superficial Epithelial</td>\n      <td>si:ch211-217k17.10</td>\n      <td>0.0</td>\n      <td>2.838415</td>\n      <td>0.886</td>\n      <td>0.096</td>\n      <td>0.0</td>\n    </tr>\n  </tbody>\n</table>\n</div>"
     },
     "execution_count": 3,
     "metadata": {},
     "output_type": "execute_result"
    }
   ],
   "source": [
    "# create a data frame for the Hou gene list\n",
    "#hou = pd.read_csv(\"..\\data\\Hou_gene_list.csv\")\n",
    "\n",
    "# read in full marker file as Hou\n",
    "hou = pd.read_csv(\"..\\data\\Hou_gene_list_full.csv\")\n",
    "\n",
    "# drop the empty columns\n",
    "hou = hou.drop(columns=['Unnamed: 7', 'Unnamed: 8'])\n",
    "hou.head(10)"
   ],
   "metadata": {
    "collapsed": false,
    "pycharm": {
     "name": "#%%\n"
    }
   }
  },
  {
   "cell_type": "code",
   "execution_count": 4,
   "outputs": [
    {
     "data": {
      "text/plain": "               GeneID     logFC    logCPM         LR        PValue  \\\n0  ENSDARG00000105096 -6.495832  2.398769  47.430783  5.700000e-12   \n1  ENSDARG00000036292 -6.761098  2.685079  37.518610  9.050000e-10   \n2  ENSDARG00000103520 -6.446571  2.675062  36.043263  1.930000e-09   \n3  ENSDARG00000045671 -6.149764  2.634098  34.177625  5.030000e-09   \n4  ENSDARG00000078731 -5.297894  2.172497  27.592737  1.500000e-07   \n5  ENSDARG00000095026 -4.667588  2.418922  25.912473  3.570000e-07   \n6  ENSDARG00000075791 -4.514841  2.348269  24.986063  5.770000e-07   \n7  ENSDARG00000071012 -4.951097  2.083999  22.784758  1.810000e-06   \n8  ENSDARG00000060566 -5.110833  2.230976  21.863601  2.930000e-06   \n9  ENSDARG00000042008 -4.786807  2.684332  21.455344  3.620000e-06   \n\n            FDR        DiffExp             Symbol  \\\n0  1.040000e-07  downregulated  si:ch1073-67j19.1   \n1  8.280000e-06  downregulated               cdx4   \n2  1.180000e-05  downregulated         BX005082.2   \n3  2.300000e-05  downregulated            ifng1-1   \n4  5.477190e-04  downregulated         BX005336.3   \n5  1.088967e-03  downregulated   si:dkey-58f10.14   \n6  1.508744e-03  downregulated    si:dkey-79f11.5   \n7  4.142393e-03  downregulated             ifit14   \n8  5.948687e-03  downregulated              cluhb   \n9  6.021493e-03  downregulated         BX936298.1   \n\n                                         Description        GeneType  ...  \\\n0  si:ch1073-67j19.1 [Source:ZFIN;Acc:ZDB-GENE-14...  protein_coding  ...   \n1  caudal type homeobox 4 [Source:ZFIN;Acc:ZDB-GE...  protein_coding  ...   \n2                                                NaN  protein_coding  ...   \n3  interferon, gamma 1-1 [Source:ZFIN;Acc:ZDB-GEN...  protein_coding  ...   \n4                                                NaN  protein_coding  ...   \n5  si:dkey-58f10.14 [Source:ZFIN;Acc:ZDB-GENE-060...  protein_coding  ...   \n6  si:dkey-79f11.5 [Source:ZFIN;Acc:ZDB-GENE-0301...  protein_coding  ...   \n7  interferon-induced protein with tetratricopept...  protein_coding  ...   \n8  clustered mitochondria (cluA/CLU1) homolog b [...  protein_coding  ...   \n9                                                NaN  protein_coding  ...   \n\n   CTRL_2dpa_3_TPM  TREAT_2dpa_1_TPM  TREAT_2dpa_2_TPM  TREAT_2dpa_3_TPM  \\\n0         1.696982         -0.138044          0.260336         -0.228501   \n1         2.241811          0.426511         -0.164697         -0.363015   \n2         3.067691          0.771499          0.674114         -0.623223   \n3         2.642658          0.636985          1.231799          0.276254   \n4         1.861216          0.071545          0.457362          0.447290   \n5         2.231799          1.276254          1.071545          1.457362   \n6         2.988937          1.246788          1.252641          1.241811   \n7         2.457362          0.447290          0.112020         -0.138044   \n8         1.771499         -0.325886         -0.623223         -0.180988   \n9         2.260336          0.771499          0.674114          0.376777   \n\n   CTRL_4dpa_1_TPM  CTRL_4dpa_2_TPM  CTRL_4dpa_3_TPM  TREAT_4dpa_1_TPM  \\\n0        -0.325886        -0.623223        -0.180988          0.246788   \n1         0.231799         0.276254         0.071545          2.042324   \n2        -0.180988         1.246788         0.252641          1.241811   \n3         0.071545         0.457362         0.447290          1.696982   \n4         0.112020        -0.138044         0.260336          0.771499   \n5         0.447290         1.112020        -0.138044          1.845298   \n6        -0.573489        -0.164697        -0.363015          0.231799   \n7         0.260336        -0.228501        -0.325886          0.376777   \n8         0.246788         0.252641         0.241811          0.426511   \n9        -0.180988         0.246788         0.252641          2.241811   \n\n   TREAT_4dpa_2_TPM  TREAT_4dpa_3_TPM  \n0          0.252641          0.241811  \n1          0.447290          1.696982  \n2          0.426511          1.420265  \n3          0.861956          1.845298  \n4          0.674114          0.376777  \n5         -0.228501          1.259077  \n6          1.276254          1.656507  \n7         -0.180988          1.246788  \n8          0.835303          0.636985  \n9          1.426511          2.157231  \n\n[10 rows x 28 columns]",
      "text/html": "<div>\n<style scoped>\n    .dataframe tbody tr th:only-of-type {\n        vertical-align: middle;\n    }\n\n    .dataframe tbody tr th {\n        vertical-align: top;\n    }\n\n    .dataframe thead th {\n        text-align: right;\n    }\n</style>\n<table border=\"1\" class=\"dataframe\">\n  <thead>\n    <tr style=\"text-align: right;\">\n      <th></th>\n      <th>GeneID</th>\n      <th>logFC</th>\n      <th>logCPM</th>\n      <th>LR</th>\n      <th>PValue</th>\n      <th>FDR</th>\n      <th>DiffExp</th>\n      <th>Symbol</th>\n      <th>Description</th>\n      <th>GeneType</th>\n      <th>...</th>\n      <th>CTRL_2dpa_3_TPM</th>\n      <th>TREAT_2dpa_1_TPM</th>\n      <th>TREAT_2dpa_2_TPM</th>\n      <th>TREAT_2dpa_3_TPM</th>\n      <th>CTRL_4dpa_1_TPM</th>\n      <th>CTRL_4dpa_2_TPM</th>\n      <th>CTRL_4dpa_3_TPM</th>\n      <th>TREAT_4dpa_1_TPM</th>\n      <th>TREAT_4dpa_2_TPM</th>\n      <th>TREAT_4dpa_3_TPM</th>\n    </tr>\n  </thead>\n  <tbody>\n    <tr>\n      <th>0</th>\n      <td>ENSDARG00000105096</td>\n      <td>-6.495832</td>\n      <td>2.398769</td>\n      <td>47.430783</td>\n      <td>5.700000e-12</td>\n      <td>1.040000e-07</td>\n      <td>downregulated</td>\n      <td>si:ch1073-67j19.1</td>\n      <td>si:ch1073-67j19.1 [Source:ZFIN;Acc:ZDB-GENE-14...</td>\n      <td>protein_coding</td>\n      <td>...</td>\n      <td>1.696982</td>\n      <td>-0.138044</td>\n      <td>0.260336</td>\n      <td>-0.228501</td>\n      <td>-0.325886</td>\n      <td>-0.623223</td>\n      <td>-0.180988</td>\n      <td>0.246788</td>\n      <td>0.252641</td>\n      <td>0.241811</td>\n    </tr>\n    <tr>\n      <th>1</th>\n      <td>ENSDARG00000036292</td>\n      <td>-6.761098</td>\n      <td>2.685079</td>\n      <td>37.518610</td>\n      <td>9.050000e-10</td>\n      <td>8.280000e-06</td>\n      <td>downregulated</td>\n      <td>cdx4</td>\n      <td>caudal type homeobox 4 [Source:ZFIN;Acc:ZDB-GE...</td>\n      <td>protein_coding</td>\n      <td>...</td>\n      <td>2.241811</td>\n      <td>0.426511</td>\n      <td>-0.164697</td>\n      <td>-0.363015</td>\n      <td>0.231799</td>\n      <td>0.276254</td>\n      <td>0.071545</td>\n      <td>2.042324</td>\n      <td>0.447290</td>\n      <td>1.696982</td>\n    </tr>\n    <tr>\n      <th>2</th>\n      <td>ENSDARG00000103520</td>\n      <td>-6.446571</td>\n      <td>2.675062</td>\n      <td>36.043263</td>\n      <td>1.930000e-09</td>\n      <td>1.180000e-05</td>\n      <td>downregulated</td>\n      <td>BX005082.2</td>\n      <td>NaN</td>\n      <td>protein_coding</td>\n      <td>...</td>\n      <td>3.067691</td>\n      <td>0.771499</td>\n      <td>0.674114</td>\n      <td>-0.623223</td>\n      <td>-0.180988</td>\n      <td>1.246788</td>\n      <td>0.252641</td>\n      <td>1.241811</td>\n      <td>0.426511</td>\n      <td>1.420265</td>\n    </tr>\n    <tr>\n      <th>3</th>\n      <td>ENSDARG00000045671</td>\n      <td>-6.149764</td>\n      <td>2.634098</td>\n      <td>34.177625</td>\n      <td>5.030000e-09</td>\n      <td>2.300000e-05</td>\n      <td>downregulated</td>\n      <td>ifng1-1</td>\n      <td>interferon, gamma 1-1 [Source:ZFIN;Acc:ZDB-GEN...</td>\n      <td>protein_coding</td>\n      <td>...</td>\n      <td>2.642658</td>\n      <td>0.636985</td>\n      <td>1.231799</td>\n      <td>0.276254</td>\n      <td>0.071545</td>\n      <td>0.457362</td>\n      <td>0.447290</td>\n      <td>1.696982</td>\n      <td>0.861956</td>\n      <td>1.845298</td>\n    </tr>\n    <tr>\n      <th>4</th>\n      <td>ENSDARG00000078731</td>\n      <td>-5.297894</td>\n      <td>2.172497</td>\n      <td>27.592737</td>\n      <td>1.500000e-07</td>\n      <td>5.477190e-04</td>\n      <td>downregulated</td>\n      <td>BX005336.3</td>\n      <td>NaN</td>\n      <td>protein_coding</td>\n      <td>...</td>\n      <td>1.861216</td>\n      <td>0.071545</td>\n      <td>0.457362</td>\n      <td>0.447290</td>\n      <td>0.112020</td>\n      <td>-0.138044</td>\n      <td>0.260336</td>\n      <td>0.771499</td>\n      <td>0.674114</td>\n      <td>0.376777</td>\n    </tr>\n    <tr>\n      <th>5</th>\n      <td>ENSDARG00000095026</td>\n      <td>-4.667588</td>\n      <td>2.418922</td>\n      <td>25.912473</td>\n      <td>3.570000e-07</td>\n      <td>1.088967e-03</td>\n      <td>downregulated</td>\n      <td>si:dkey-58f10.14</td>\n      <td>si:dkey-58f10.14 [Source:ZFIN;Acc:ZDB-GENE-060...</td>\n      <td>protein_coding</td>\n      <td>...</td>\n      <td>2.231799</td>\n      <td>1.276254</td>\n      <td>1.071545</td>\n      <td>1.457362</td>\n      <td>0.447290</td>\n      <td>1.112020</td>\n      <td>-0.138044</td>\n      <td>1.845298</td>\n      <td>-0.228501</td>\n      <td>1.259077</td>\n    </tr>\n    <tr>\n      <th>6</th>\n      <td>ENSDARG00000075791</td>\n      <td>-4.514841</td>\n      <td>2.348269</td>\n      <td>24.986063</td>\n      <td>5.770000e-07</td>\n      <td>1.508744e-03</td>\n      <td>downregulated</td>\n      <td>si:dkey-79f11.5</td>\n      <td>si:dkey-79f11.5 [Source:ZFIN;Acc:ZDB-GENE-0301...</td>\n      <td>protein_coding</td>\n      <td>...</td>\n      <td>2.988937</td>\n      <td>1.246788</td>\n      <td>1.252641</td>\n      <td>1.241811</td>\n      <td>-0.573489</td>\n      <td>-0.164697</td>\n      <td>-0.363015</td>\n      <td>0.231799</td>\n      <td>1.276254</td>\n      <td>1.656507</td>\n    </tr>\n    <tr>\n      <th>7</th>\n      <td>ENSDARG00000071012</td>\n      <td>-4.951097</td>\n      <td>2.083999</td>\n      <td>22.784758</td>\n      <td>1.810000e-06</td>\n      <td>4.142393e-03</td>\n      <td>downregulated</td>\n      <td>ifit14</td>\n      <td>interferon-induced protein with tetratricopept...</td>\n      <td>protein_coding</td>\n      <td>...</td>\n      <td>2.457362</td>\n      <td>0.447290</td>\n      <td>0.112020</td>\n      <td>-0.138044</td>\n      <td>0.260336</td>\n      <td>-0.228501</td>\n      <td>-0.325886</td>\n      <td>0.376777</td>\n      <td>-0.180988</td>\n      <td>1.246788</td>\n    </tr>\n    <tr>\n      <th>8</th>\n      <td>ENSDARG00000060566</td>\n      <td>-5.110833</td>\n      <td>2.230976</td>\n      <td>21.863601</td>\n      <td>2.930000e-06</td>\n      <td>5.948687e-03</td>\n      <td>downregulated</td>\n      <td>cluhb</td>\n      <td>clustered mitochondria (cluA/CLU1) homolog b [...</td>\n      <td>protein_coding</td>\n      <td>...</td>\n      <td>1.771499</td>\n      <td>-0.325886</td>\n      <td>-0.623223</td>\n      <td>-0.180988</td>\n      <td>0.246788</td>\n      <td>0.252641</td>\n      <td>0.241811</td>\n      <td>0.426511</td>\n      <td>0.835303</td>\n      <td>0.636985</td>\n    </tr>\n    <tr>\n      <th>9</th>\n      <td>ENSDARG00000042008</td>\n      <td>-4.786807</td>\n      <td>2.684332</td>\n      <td>21.455344</td>\n      <td>3.620000e-06</td>\n      <td>6.021493e-03</td>\n      <td>downregulated</td>\n      <td>BX936298.1</td>\n      <td>NaN</td>\n      <td>protein_coding</td>\n      <td>...</td>\n      <td>2.260336</td>\n      <td>0.771499</td>\n      <td>0.674114</td>\n      <td>0.376777</td>\n      <td>-0.180988</td>\n      <td>0.246788</td>\n      <td>0.252641</td>\n      <td>2.241811</td>\n      <td>1.426511</td>\n      <td>2.157231</td>\n    </tr>\n  </tbody>\n</table>\n<p>10 rows × 28 columns</p>\n</div>"
     },
     "execution_count": 4,
     "metadata": {},
     "output_type": "execute_result"
    }
   ],
   "source": [
    "#create a data frame for the Hartig gene list\n",
    "hartig = pd.read_csv(\"..\\data\\Hartig_gene_list.csv\")\n",
    "hartig.head(10)"
   ],
   "metadata": {
    "collapsed": false,
    "pycharm": {
     "name": "#%%\n"
    }
   }
  },
  {
   "cell_type": "code",
   "execution_count": 5,
   "outputs": [
    {
     "data": {
      "text/plain": "               gene_hou        gene_hartig              GeneID  \\\n0     si:ch211-207n23.2  si:ch211-207n23.2  ENSDARG00000097157   \n1            zgc:111983         zgc:111983  ENSDARG00000006588   \n2              krt1-19d           krt1-19d  ENSDARG00000023082   \n3       si:dkey-247k7.2    si:dkey-247k7.2  ENSDARG00000103199   \n4                 cldne              cldne  ENSDARG00000043128   \n...                 ...                ...                 ...   \n1044               lsm6               lsm6  ENSDARG00000036995   \n1045            cxcl12a            cxcl12a  ENSDARG00000037116   \n1046             cirbpb             cirbpb  ENSDARG00000013351   \n1047              rbbp4              rbbp4  ENSDARG00000029058   \n1048           ebna1bp2           ebna1bp2  ENSDARG00000054980   \n\n                     cluster DiffExp  logFC_hou  logFC_hartig  \n0     Superficial Epithelial    none   3.783526     -2.015353  \n1     Superficial Epithelial    none   3.634558     -0.618203  \n2     Superficial Epithelial    none   3.254499      3.592442  \n3     Superficial Epithelial    none   3.182882     -1.147063  \n4     Superficial Epithelial    none   3.068289     -1.581959  \n...                      ...     ...        ...           ...  \n1044             Mesenchymal    none   0.650483     -1.498464  \n1045             Mesenchymal    none   0.645527      0.069844  \n1046             Mesenchymal    none   0.645116     -0.392708  \n1047             Mesenchymal    none   0.644503     -1.840075  \n1048             Mesenchymal    none   0.643765     -0.879020  \n\n[1049 rows x 7 columns]",
      "text/html": "<div>\n<style scoped>\n    .dataframe tbody tr th:only-of-type {\n        vertical-align: middle;\n    }\n\n    .dataframe tbody tr th {\n        vertical-align: top;\n    }\n\n    .dataframe thead th {\n        text-align: right;\n    }\n</style>\n<table border=\"1\" class=\"dataframe\">\n  <thead>\n    <tr style=\"text-align: right;\">\n      <th></th>\n      <th>gene_hou</th>\n      <th>gene_hartig</th>\n      <th>GeneID</th>\n      <th>cluster</th>\n      <th>DiffExp</th>\n      <th>logFC_hou</th>\n      <th>logFC_hartig</th>\n    </tr>\n  </thead>\n  <tbody>\n    <tr>\n      <th>0</th>\n      <td>si:ch211-207n23.2</td>\n      <td>si:ch211-207n23.2</td>\n      <td>ENSDARG00000097157</td>\n      <td>Superficial Epithelial</td>\n      <td>none</td>\n      <td>3.783526</td>\n      <td>-2.015353</td>\n    </tr>\n    <tr>\n      <th>1</th>\n      <td>zgc:111983</td>\n      <td>zgc:111983</td>\n      <td>ENSDARG00000006588</td>\n      <td>Superficial Epithelial</td>\n      <td>none</td>\n      <td>3.634558</td>\n      <td>-0.618203</td>\n    </tr>\n    <tr>\n      <th>2</th>\n      <td>krt1-19d</td>\n      <td>krt1-19d</td>\n      <td>ENSDARG00000023082</td>\n      <td>Superficial Epithelial</td>\n      <td>none</td>\n      <td>3.254499</td>\n      <td>3.592442</td>\n    </tr>\n    <tr>\n      <th>3</th>\n      <td>si:dkey-247k7.2</td>\n      <td>si:dkey-247k7.2</td>\n      <td>ENSDARG00000103199</td>\n      <td>Superficial Epithelial</td>\n      <td>none</td>\n      <td>3.182882</td>\n      <td>-1.147063</td>\n    </tr>\n    <tr>\n      <th>4</th>\n      <td>cldne</td>\n      <td>cldne</td>\n      <td>ENSDARG00000043128</td>\n      <td>Superficial Epithelial</td>\n      <td>none</td>\n      <td>3.068289</td>\n      <td>-1.581959</td>\n    </tr>\n    <tr>\n      <th>...</th>\n      <td>...</td>\n      <td>...</td>\n      <td>...</td>\n      <td>...</td>\n      <td>...</td>\n      <td>...</td>\n      <td>...</td>\n    </tr>\n    <tr>\n      <th>1044</th>\n      <td>lsm6</td>\n      <td>lsm6</td>\n      <td>ENSDARG00000036995</td>\n      <td>Mesenchymal</td>\n      <td>none</td>\n      <td>0.650483</td>\n      <td>-1.498464</td>\n    </tr>\n    <tr>\n      <th>1045</th>\n      <td>cxcl12a</td>\n      <td>cxcl12a</td>\n      <td>ENSDARG00000037116</td>\n      <td>Mesenchymal</td>\n      <td>none</td>\n      <td>0.645527</td>\n      <td>0.069844</td>\n    </tr>\n    <tr>\n      <th>1046</th>\n      <td>cirbpb</td>\n      <td>cirbpb</td>\n      <td>ENSDARG00000013351</td>\n      <td>Mesenchymal</td>\n      <td>none</td>\n      <td>0.645116</td>\n      <td>-0.392708</td>\n    </tr>\n    <tr>\n      <th>1047</th>\n      <td>rbbp4</td>\n      <td>rbbp4</td>\n      <td>ENSDARG00000029058</td>\n      <td>Mesenchymal</td>\n      <td>none</td>\n      <td>0.644503</td>\n      <td>-1.840075</td>\n    </tr>\n    <tr>\n      <th>1048</th>\n      <td>ebna1bp2</td>\n      <td>ebna1bp2</td>\n      <td>ENSDARG00000054980</td>\n      <td>Mesenchymal</td>\n      <td>none</td>\n      <td>0.643765</td>\n      <td>-0.879020</td>\n    </tr>\n  </tbody>\n</table>\n<p>1049 rows × 7 columns</p>\n</div>"
     },
     "execution_count": 5,
     "metadata": {},
     "output_type": "execute_result"
    }
   ],
   "source": [
    "# create a new data frame that contains only those rows that have matching values in both of the original data frames\n",
    "# based on the 'gene' column in Hou and 'symbol' column in Hartig\n",
    "merged_gene_list = pd.merge(left=hou, right=hartig, left_on='gene', right_on='Symbol')\n",
    "\n",
    "# only include the listed columns: gene (Hou), symbol (Hartig), geneID, cluster, diffExp, avg_logFC (Hou), and logFC (Hartig)\n",
    "merged_gene_list = merged_gene_list.loc[:, ['gene', 'Symbol', 'GeneID', 'cluster', 'DiffExp', 'avg_logFC', 'logFC']]\n",
    "merged_gene_list.columns = [\"gene_hou\", \"gene_hartig\", \"GeneID\", \"cluster\", \"DiffExp\", \"logFC_hou\", \"logFC_hartig\"]\n",
    "merged_gene_list"
   ],
   "metadata": {
    "collapsed": false,
    "pycharm": {
     "name": "#%%\n"
    }
   }
  },
  {
   "cell_type": "code",
   "execution_count": 6,
   "outputs": [
    {
     "data": {
      "text/plain": "DiffExp\ndownregulated      38\nnone             1011\nName: DiffExp, dtype: int64"
     },
     "execution_count": 6,
     "metadata": {},
     "output_type": "execute_result"
    }
   ],
   "source": [
    "# count how many genes of each type of DiffExp are present in the merged gene list\n",
    "counts = merged_gene_list.groupby('DiffExp')['DiffExp'].count()\n",
    "counts\n",
    "\n",
    "# there are 38 downregulated genes and 1011 non-differentially expressed genes"
   ],
   "metadata": {
    "collapsed": false,
    "pycharm": {
     "name": "#%%\n"
    }
   }
  },
  {
   "cell_type": "code",
   "execution_count": 7,
   "outputs": [
    {
     "data": {
      "text/plain": "               gene_hou        gene_hartig              GeneID  \\\n5                 gig2l              gig2l  ENSDARG00000091730   \n6                 gig2l              gig2l  ENSDARG00000091730   \n51           zgc:152791         zgc:152791  ENSDARG00000039243   \n113           lgals3bpa          lgals3bpa  ENSDARG00000037805   \n181             rnf213a            rnf213a  ENSDARG00000099465   \n214          zgc:194655         zgc:194655  ENSDARG00000100942   \n265    si:ch211-71m22.1   si:ch211-71m22.1  ENSDARG00000058638   \n312          zgc:113425         zgc:113425  ENSDARG00000026616   \n348               gig2h              gig2h  ENSDARG00000103444   \n360                irf7               irf7  ENSDARG00000045661   \n419                 saa                saa  ENSDARG00000045999   \n442    si:ch211-134a4.4   si:ch211-134a4.4  ENSDARG00000099332   \n463    si:ch211-134a4.1   si:ch211-134a4.1  ENSDARG00000104775   \n539                 txn                txn  ENSDARG00000044125   \n746              fabp7b             fabp7b  ENSDARG00000034650   \n752           lgals3bpb          lgals3bpb  ENSDARG00000040528   \n754     si:dkey-30j10.5    si:dkey-30j10.5  ENSDARG00000093186   \n758    si:ch211-147m6.2   si:ch211-147m6.2  ENSDARG00000103769   \n761               mafbb              mafbb  ENSDARG00000070542   \n767                c1qa               c1qa  ENSDARG00000044613   \n770    si:ch211-194m7.4   si:ch211-194m7.4  ENSDARG00000100346   \n782              havcr1             havcr1  ENSDARG00000040178   \n786    si:ch211-194m7.8   si:ch211-194m7.8  ENSDARG00000104947   \n788               marco              marco  ENSDARG00000059294   \n796              slc7a7             slc7a7  ENSDARG00000055226   \n797              cmklr1             cmklr1  ENSDARG00000090890   \n808    si:ch211-147m6.1   si:ch211-147m6.1  ENSDARG00000086947   \n820                tnfb               tnfb  ENSDARG00000013598   \n821          FO834888.1         FO834888.1  ENSDARG00000055550   \n837   si:ch211-153b23.7  si:ch211-153b23.7  ENSDARG00000088612   \n840             samsn1a            samsn1a  ENSDARG00000054543   \n842    si:ch73-236c18.6   si:ch73-236c18.6  ENSDARG00000104415   \n854     si:dkey-26c10.5    si:dkey-26c10.5  ENSDARG00000088023   \n861               dram1              dram1  ENSDARG00000045561   \n880                irf8               irf8  ENSDARG00000056407   \n884               gig2i              gig2i  ENSDARG00000099325   \n904              ponzr1             ponzr1  ENSDARG00000090444   \n1022              ube2c              ube2c  ENSDARG00000035770   \n\n                      cluster        DiffExp  logFC_hou  logFC_hartig  \n5      Superficial Epithelial  downregulated   3.018676     -8.514214  \n6                Mucosal-like  downregulated   1.614395     -8.514214  \n51     Superficial Epithelial  downregulated   1.486291     -5.231428  \n113    Superficial Epithelial  downregulated   1.071215     -4.752018  \n181    Superficial Epithelial  downregulated   0.750814     -3.983005  \n214    Superficial Epithelial  downregulated   0.665518     -4.910327  \n265              Mucosal-like  downregulated   0.595282     -6.891833  \n312              Mucosal-like  downregulated   0.276705     -2.566707  \n348              Mucosal-like  downregulated   0.534017     -6.955152  \n360              Mucosal-like  downregulated   0.533854     -7.385670  \n419   Intermediate Epithelial  downregulated   1.134108     -7.731900  \n442   Intermediate Epithelial  downregulated   0.671971     -3.564534  \n463   Intermediate Epithelial  downregulated   0.502860     -4.095478  \n539   Intermediate Epithelial  downregulated   0.254109     -5.276263  \n746             Hematopoietic  downregulated   3.186422     -3.605687  \n752             Hematopoietic  downregulated   2.764786     -7.329802  \n754             Hematopoietic  downregulated   2.683245     -6.577659  \n758             Hematopoietic  downregulated   2.319529     -3.486127  \n761             Hematopoietic  downregulated   2.255517     -2.416224  \n767             Hematopoietic  downregulated   1.908779     -2.884738  \n770             Hematopoietic  downregulated   1.842962     -3.771633  \n782             Hematopoietic  downregulated   1.649288     -3.732067  \n786             Hematopoietic  downregulated   1.574795     -2.902804  \n788             Hematopoietic  downregulated   1.556130     -3.831743  \n796             Hematopoietic  downregulated   1.396678     -2.646055  \n797             Hematopoietic  downregulated   1.389822     -3.211637  \n808             Hematopoietic  downregulated   1.226348     -2.557225  \n820             Hematopoietic  downregulated   1.077595     -3.094760  \n821             Hematopoietic  downregulated   1.042149     -4.873957  \n837             Hematopoietic  downregulated   0.899149     -3.098033  \n840             Hematopoietic  downregulated   0.882246     -2.697860  \n842             Hematopoietic  downregulated   0.871194     -2.286119  \n854             Hematopoietic  downregulated   0.793486     -3.950422  \n861             Hematopoietic  downregulated   0.732209     -5.325324  \n880             Hematopoietic  downregulated   0.629130     -2.971135  \n884             Hematopoietic  downregulated   0.616495     -4.633636  \n904               Mesenchymal  downregulated   1.443716     -4.956457  \n1022              Mesenchymal  downregulated   0.693858     -3.353697  ",
      "text/html": "<div>\n<style scoped>\n    .dataframe tbody tr th:only-of-type {\n        vertical-align: middle;\n    }\n\n    .dataframe tbody tr th {\n        vertical-align: top;\n    }\n\n    .dataframe thead th {\n        text-align: right;\n    }\n</style>\n<table border=\"1\" class=\"dataframe\">\n  <thead>\n    <tr style=\"text-align: right;\">\n      <th></th>\n      <th>gene_hou</th>\n      <th>gene_hartig</th>\n      <th>GeneID</th>\n      <th>cluster</th>\n      <th>DiffExp</th>\n      <th>logFC_hou</th>\n      <th>logFC_hartig</th>\n    </tr>\n  </thead>\n  <tbody>\n    <tr>\n      <th>5</th>\n      <td>gig2l</td>\n      <td>gig2l</td>\n      <td>ENSDARG00000091730</td>\n      <td>Superficial Epithelial</td>\n      <td>downregulated</td>\n      <td>3.018676</td>\n      <td>-8.514214</td>\n    </tr>\n    <tr>\n      <th>6</th>\n      <td>gig2l</td>\n      <td>gig2l</td>\n      <td>ENSDARG00000091730</td>\n      <td>Mucosal-like</td>\n      <td>downregulated</td>\n      <td>1.614395</td>\n      <td>-8.514214</td>\n    </tr>\n    <tr>\n      <th>51</th>\n      <td>zgc:152791</td>\n      <td>zgc:152791</td>\n      <td>ENSDARG00000039243</td>\n      <td>Superficial Epithelial</td>\n      <td>downregulated</td>\n      <td>1.486291</td>\n      <td>-5.231428</td>\n    </tr>\n    <tr>\n      <th>113</th>\n      <td>lgals3bpa</td>\n      <td>lgals3bpa</td>\n      <td>ENSDARG00000037805</td>\n      <td>Superficial Epithelial</td>\n      <td>downregulated</td>\n      <td>1.071215</td>\n      <td>-4.752018</td>\n    </tr>\n    <tr>\n      <th>181</th>\n      <td>rnf213a</td>\n      <td>rnf213a</td>\n      <td>ENSDARG00000099465</td>\n      <td>Superficial Epithelial</td>\n      <td>downregulated</td>\n      <td>0.750814</td>\n      <td>-3.983005</td>\n    </tr>\n    <tr>\n      <th>214</th>\n      <td>zgc:194655</td>\n      <td>zgc:194655</td>\n      <td>ENSDARG00000100942</td>\n      <td>Superficial Epithelial</td>\n      <td>downregulated</td>\n      <td>0.665518</td>\n      <td>-4.910327</td>\n    </tr>\n    <tr>\n      <th>265</th>\n      <td>si:ch211-71m22.1</td>\n      <td>si:ch211-71m22.1</td>\n      <td>ENSDARG00000058638</td>\n      <td>Mucosal-like</td>\n      <td>downregulated</td>\n      <td>0.595282</td>\n      <td>-6.891833</td>\n    </tr>\n    <tr>\n      <th>312</th>\n      <td>zgc:113425</td>\n      <td>zgc:113425</td>\n      <td>ENSDARG00000026616</td>\n      <td>Mucosal-like</td>\n      <td>downregulated</td>\n      <td>0.276705</td>\n      <td>-2.566707</td>\n    </tr>\n    <tr>\n      <th>348</th>\n      <td>gig2h</td>\n      <td>gig2h</td>\n      <td>ENSDARG00000103444</td>\n      <td>Mucosal-like</td>\n      <td>downregulated</td>\n      <td>0.534017</td>\n      <td>-6.955152</td>\n    </tr>\n    <tr>\n      <th>360</th>\n      <td>irf7</td>\n      <td>irf7</td>\n      <td>ENSDARG00000045661</td>\n      <td>Mucosal-like</td>\n      <td>downregulated</td>\n      <td>0.533854</td>\n      <td>-7.385670</td>\n    </tr>\n    <tr>\n      <th>419</th>\n      <td>saa</td>\n      <td>saa</td>\n      <td>ENSDARG00000045999</td>\n      <td>Intermediate Epithelial</td>\n      <td>downregulated</td>\n      <td>1.134108</td>\n      <td>-7.731900</td>\n    </tr>\n    <tr>\n      <th>442</th>\n      <td>si:ch211-134a4.4</td>\n      <td>si:ch211-134a4.4</td>\n      <td>ENSDARG00000099332</td>\n      <td>Intermediate Epithelial</td>\n      <td>downregulated</td>\n      <td>0.671971</td>\n      <td>-3.564534</td>\n    </tr>\n    <tr>\n      <th>463</th>\n      <td>si:ch211-134a4.1</td>\n      <td>si:ch211-134a4.1</td>\n      <td>ENSDARG00000104775</td>\n      <td>Intermediate Epithelial</td>\n      <td>downregulated</td>\n      <td>0.502860</td>\n      <td>-4.095478</td>\n    </tr>\n    <tr>\n      <th>539</th>\n      <td>txn</td>\n      <td>txn</td>\n      <td>ENSDARG00000044125</td>\n      <td>Intermediate Epithelial</td>\n      <td>downregulated</td>\n      <td>0.254109</td>\n      <td>-5.276263</td>\n    </tr>\n    <tr>\n      <th>746</th>\n      <td>fabp7b</td>\n      <td>fabp7b</td>\n      <td>ENSDARG00000034650</td>\n      <td>Hematopoietic</td>\n      <td>downregulated</td>\n      <td>3.186422</td>\n      <td>-3.605687</td>\n    </tr>\n    <tr>\n      <th>752</th>\n      <td>lgals3bpb</td>\n      <td>lgals3bpb</td>\n      <td>ENSDARG00000040528</td>\n      <td>Hematopoietic</td>\n      <td>downregulated</td>\n      <td>2.764786</td>\n      <td>-7.329802</td>\n    </tr>\n    <tr>\n      <th>754</th>\n      <td>si:dkey-30j10.5</td>\n      <td>si:dkey-30j10.5</td>\n      <td>ENSDARG00000093186</td>\n      <td>Hematopoietic</td>\n      <td>downregulated</td>\n      <td>2.683245</td>\n      <td>-6.577659</td>\n    </tr>\n    <tr>\n      <th>758</th>\n      <td>si:ch211-147m6.2</td>\n      <td>si:ch211-147m6.2</td>\n      <td>ENSDARG00000103769</td>\n      <td>Hematopoietic</td>\n      <td>downregulated</td>\n      <td>2.319529</td>\n      <td>-3.486127</td>\n    </tr>\n    <tr>\n      <th>761</th>\n      <td>mafbb</td>\n      <td>mafbb</td>\n      <td>ENSDARG00000070542</td>\n      <td>Hematopoietic</td>\n      <td>downregulated</td>\n      <td>2.255517</td>\n      <td>-2.416224</td>\n    </tr>\n    <tr>\n      <th>767</th>\n      <td>c1qa</td>\n      <td>c1qa</td>\n      <td>ENSDARG00000044613</td>\n      <td>Hematopoietic</td>\n      <td>downregulated</td>\n      <td>1.908779</td>\n      <td>-2.884738</td>\n    </tr>\n    <tr>\n      <th>770</th>\n      <td>si:ch211-194m7.4</td>\n      <td>si:ch211-194m7.4</td>\n      <td>ENSDARG00000100346</td>\n      <td>Hematopoietic</td>\n      <td>downregulated</td>\n      <td>1.842962</td>\n      <td>-3.771633</td>\n    </tr>\n    <tr>\n      <th>782</th>\n      <td>havcr1</td>\n      <td>havcr1</td>\n      <td>ENSDARG00000040178</td>\n      <td>Hematopoietic</td>\n      <td>downregulated</td>\n      <td>1.649288</td>\n      <td>-3.732067</td>\n    </tr>\n    <tr>\n      <th>786</th>\n      <td>si:ch211-194m7.8</td>\n      <td>si:ch211-194m7.8</td>\n      <td>ENSDARG00000104947</td>\n      <td>Hematopoietic</td>\n      <td>downregulated</td>\n      <td>1.574795</td>\n      <td>-2.902804</td>\n    </tr>\n    <tr>\n      <th>788</th>\n      <td>marco</td>\n      <td>marco</td>\n      <td>ENSDARG00000059294</td>\n      <td>Hematopoietic</td>\n      <td>downregulated</td>\n      <td>1.556130</td>\n      <td>-3.831743</td>\n    </tr>\n    <tr>\n      <th>796</th>\n      <td>slc7a7</td>\n      <td>slc7a7</td>\n      <td>ENSDARG00000055226</td>\n      <td>Hematopoietic</td>\n      <td>downregulated</td>\n      <td>1.396678</td>\n      <td>-2.646055</td>\n    </tr>\n    <tr>\n      <th>797</th>\n      <td>cmklr1</td>\n      <td>cmklr1</td>\n      <td>ENSDARG00000090890</td>\n      <td>Hematopoietic</td>\n      <td>downregulated</td>\n      <td>1.389822</td>\n      <td>-3.211637</td>\n    </tr>\n    <tr>\n      <th>808</th>\n      <td>si:ch211-147m6.1</td>\n      <td>si:ch211-147m6.1</td>\n      <td>ENSDARG00000086947</td>\n      <td>Hematopoietic</td>\n      <td>downregulated</td>\n      <td>1.226348</td>\n      <td>-2.557225</td>\n    </tr>\n    <tr>\n      <th>820</th>\n      <td>tnfb</td>\n      <td>tnfb</td>\n      <td>ENSDARG00000013598</td>\n      <td>Hematopoietic</td>\n      <td>downregulated</td>\n      <td>1.077595</td>\n      <td>-3.094760</td>\n    </tr>\n    <tr>\n      <th>821</th>\n      <td>FO834888.1</td>\n      <td>FO834888.1</td>\n      <td>ENSDARG00000055550</td>\n      <td>Hematopoietic</td>\n      <td>downregulated</td>\n      <td>1.042149</td>\n      <td>-4.873957</td>\n    </tr>\n    <tr>\n      <th>837</th>\n      <td>si:ch211-153b23.7</td>\n      <td>si:ch211-153b23.7</td>\n      <td>ENSDARG00000088612</td>\n      <td>Hematopoietic</td>\n      <td>downregulated</td>\n      <td>0.899149</td>\n      <td>-3.098033</td>\n    </tr>\n    <tr>\n      <th>840</th>\n      <td>samsn1a</td>\n      <td>samsn1a</td>\n      <td>ENSDARG00000054543</td>\n      <td>Hematopoietic</td>\n      <td>downregulated</td>\n      <td>0.882246</td>\n      <td>-2.697860</td>\n    </tr>\n    <tr>\n      <th>842</th>\n      <td>si:ch73-236c18.6</td>\n      <td>si:ch73-236c18.6</td>\n      <td>ENSDARG00000104415</td>\n      <td>Hematopoietic</td>\n      <td>downregulated</td>\n      <td>0.871194</td>\n      <td>-2.286119</td>\n    </tr>\n    <tr>\n      <th>854</th>\n      <td>si:dkey-26c10.5</td>\n      <td>si:dkey-26c10.5</td>\n      <td>ENSDARG00000088023</td>\n      <td>Hematopoietic</td>\n      <td>downregulated</td>\n      <td>0.793486</td>\n      <td>-3.950422</td>\n    </tr>\n    <tr>\n      <th>861</th>\n      <td>dram1</td>\n      <td>dram1</td>\n      <td>ENSDARG00000045561</td>\n      <td>Hematopoietic</td>\n      <td>downregulated</td>\n      <td>0.732209</td>\n      <td>-5.325324</td>\n    </tr>\n    <tr>\n      <th>880</th>\n      <td>irf8</td>\n      <td>irf8</td>\n      <td>ENSDARG00000056407</td>\n      <td>Hematopoietic</td>\n      <td>downregulated</td>\n      <td>0.629130</td>\n      <td>-2.971135</td>\n    </tr>\n    <tr>\n      <th>884</th>\n      <td>gig2i</td>\n      <td>gig2i</td>\n      <td>ENSDARG00000099325</td>\n      <td>Hematopoietic</td>\n      <td>downregulated</td>\n      <td>0.616495</td>\n      <td>-4.633636</td>\n    </tr>\n    <tr>\n      <th>904</th>\n      <td>ponzr1</td>\n      <td>ponzr1</td>\n      <td>ENSDARG00000090444</td>\n      <td>Mesenchymal</td>\n      <td>downregulated</td>\n      <td>1.443716</td>\n      <td>-4.956457</td>\n    </tr>\n    <tr>\n      <th>1022</th>\n      <td>ube2c</td>\n      <td>ube2c</td>\n      <td>ENSDARG00000035770</td>\n      <td>Mesenchymal</td>\n      <td>downregulated</td>\n      <td>0.693858</td>\n      <td>-3.353697</td>\n    </tr>\n  </tbody>\n</table>\n</div>"
     },
     "execution_count": 7,
     "metadata": {},
     "output_type": "execute_result"
    }
   ],
   "source": [
    "# create a dataframe of the differentially expressed genes that exist in both gene lists\n",
    "downreg = merged_gene_list.loc[merged_gene_list['DiffExp'] == 'downregulated']\n",
    "downreg"
   ],
   "metadata": {
    "collapsed": false,
    "pycharm": {
     "name": "#%%\n"
    }
   }
  },
  {
   "cell_type": "code",
   "execution_count": 8,
   "outputs": [
    {
     "data": {
      "text/plain": "array(['Superficial Epithelial', 'Mucosal-like',\n       'Intermediate Epithelial', 'Hematopoietic', 'Basal Epithelial',\n       'Mesenchymal'], dtype=object)"
     },
     "execution_count": 8,
     "metadata": {},
     "output_type": "execute_result"
    }
   ],
   "source": [
    "# get a list of all the cell types to then parse the gene list into separate cell cluster dataframes\n",
    "merged_gene_list.cluster.unique()"
   ],
   "metadata": {
    "collapsed": false,
    "pycharm": {
     "name": "#%%\n"
    }
   }
  },
  {
   "cell_type": "code",
   "execution_count": 9,
   "outputs": [],
   "source": [
    "from statsmodels import robust"
   ],
   "metadata": {
    "collapsed": false,
    "pycharm": {
     "name": "#%%\n"
    }
   }
  },
  {
   "cell_type": "code",
   "execution_count": 10,
   "outputs": [
    {
     "data": {
      "text/plain": "count    181.000000\nmean      -0.287836\nstd        1.655434\nmin       -8.514214\n25%       -0.817170\n50%       -0.233228\n75%        0.535095\nmax        4.201565\nMAD        1.077113\ndtype: float64"
     },
     "execution_count": 10,
     "metadata": {},
     "output_type": "execute_result"
    }
   ],
   "source": [
    "superficial = merged_gene_list[merged_gene_list['cluster'] == \"Superficial Epithelial\"]\n",
    "superficial_MAD = robust.mad(superficial.logFC_hartig)\n",
    "ser = pd.Series(superficial_MAD, index = ['MAD'])\n",
    "superficial_stats = superficial.logFC_hartig.describe()\n",
    "superficial_stats = superficial_stats.append(ser)\n",
    "superficial_stats"
   ],
   "metadata": {
    "collapsed": false,
    "pycharm": {
     "name": "#%%\n"
    }
   }
  },
  {
   "cell_type": "code",
   "execution_count": 11,
   "outputs": [
    {
     "data": {
      "text/plain": "count    169.000000\nmean      -0.755800\nstd        1.543351\nmin       -8.514214\n25%       -1.393815\n50%       -0.603544\n75%        0.123697\nmax        3.367445\nMAD        1.136380\ndtype: float64"
     },
     "execution_count": 11,
     "metadata": {},
     "output_type": "execute_result"
    }
   ],
   "source": [
    "mucosal = merged_gene_list[merged_gene_list['cluster'] == \"Mucosal-like\"]\n",
    "mucosal_MAD = robust.mad(mucosal.logFC_hartig)\n",
    "ser = pd.Series(mucosal_MAD, index = ['MAD'])\n",
    "mucosal_stats = mucosal.logFC_hartig.describe()\n",
    "mucosal_stats = mucosal_stats.append(ser)\n",
    "mucosal_stats"
   ],
   "metadata": {
    "collapsed": false,
    "pycharm": {
     "name": "#%%\n"
    }
   }
  },
  {
   "cell_type": "code",
   "execution_count": 12,
   "outputs": [
    {
     "data": {
      "text/plain": "count    155.000000\nmean      -0.157247\nstd        1.405361\nmin       -7.731900\n25%       -0.720322\n50%       -0.129340\n75%        0.808101\nmax        2.636492\nMAD        1.088647\ndtype: float64"
     },
     "execution_count": 12,
     "metadata": {},
     "output_type": "execute_result"
    }
   ],
   "source": [
    "intermediate = merged_gene_list[merged_gene_list['cluster'] == \"Intermediate Epithelial\"]\n",
    "intermediate_MAD = robust.mad(intermediate.logFC_hartig)\n",
    "ser = pd.Series(intermediate_MAD, index = ['MAD'])\n",
    "intermediate_stats = intermediate.logFC_hartig.describe()\n",
    "intermediate_stats = intermediate_stats.append(ser)\n",
    "intermediate_stats"
   ],
   "metadata": {
    "collapsed": false,
    "pycharm": {
     "name": "#%%\n"
    }
   }
  },
  {
   "cell_type": "code",
   "execution_count": 13,
   "outputs": [
    {
     "data": {
      "text/plain": "count    188.000000\nmean       0.325237\nstd        0.863848\nmin       -2.433650\n25%       -0.197845\n50%        0.421837\n75%        0.896150\nmax        2.952315\nMAD        0.786545\ndtype: float64"
     },
     "execution_count": 13,
     "metadata": {},
     "output_type": "execute_result"
    }
   ],
   "source": [
    "basal = merged_gene_list[merged_gene_list['cluster'] == \"Basal Epithelial\"]\n",
    "basal_MAD = robust.mad(basal.logFC_hartig)\n",
    "ser = pd.Series(basal_MAD, index = ['MAD'])\n",
    "basal_stats = basal.logFC_hartig.describe()\n",
    "basal_stats = basal_stats.append(ser)\n",
    "basal_stats"
   ],
   "metadata": {
    "collapsed": false,
    "pycharm": {
     "name": "#%%\n"
    }
   }
  },
  {
   "cell_type": "code",
   "execution_count": 14,
   "outputs": [
    {
     "data": {
      "text/plain": "count    173.000000\nmean      -1.553245\nstd        1.192524\nmin       -7.329802\n25%       -2.129938\n50%       -1.364175\n75%       -0.758648\nmax        1.112360\nMAD        0.961034\ndtype: float64"
     },
     "execution_count": 14,
     "metadata": {},
     "output_type": "execute_result"
    }
   ],
   "source": [
    "hema = merged_gene_list[merged_gene_list['cluster'] == \"Hematopoietic\"]\n",
    "hema_MAD = robust.mad(hema.logFC_hartig)\n",
    "ser = pd.Series(hema_MAD, index = ['MAD'])\n",
    "hema_stats = hema.logFC_hartig.describe()\n",
    "hema_stats = hema_stats.append(ser)\n",
    "hema_stats"
   ],
   "metadata": {
    "collapsed": false,
    "pycharm": {
     "name": "#%%\n"
    }
   }
  },
  {
   "cell_type": "code",
   "execution_count": 15,
   "outputs": [
    {
     "data": {
      "text/plain": "count    183.000000\nmean      -0.399315\nstd        1.082268\nmin       -4.956457\n25%       -1.005145\n50%       -0.342955\n75%        0.359384\nmax        2.952315\nMAD        1.006866\ndtype: float64"
     },
     "execution_count": 15,
     "metadata": {},
     "output_type": "execute_result"
    }
   ],
   "source": [
    "mesenchymal = merged_gene_list[merged_gene_list['cluster'] == \"Mesenchymal\"]\n",
    "mesenchymal_MAD = robust.mad(mesenchymal.logFC_hartig)\n",
    "ser = pd.Series(mesenchymal_MAD, index = ['MAD'])\n",
    "mesenchymal_stats = mesenchymal.logFC_hartig.describe()\n",
    "mesenchymal_stats = mesenchymal_stats.append(ser)\n",
    "mesenchymal_stats"
   ],
   "metadata": {
    "collapsed": false,
    "pycharm": {
     "name": "#%%\n"
    }
   }
  },
  {
   "cell_type": "code",
   "execution_count": 16,
   "outputs": [],
   "source": [
    "import plotnine as p9"
   ],
   "metadata": {
    "collapsed": false,
    "pycharm": {
     "name": "#%%\n"
    }
   }
  },
  {
   "cell_type": "code",
   "execution_count": 50,
   "outputs": [
    {
     "data": {
      "text/plain": "<Figure size 432x288 with 1 Axes>",
      "image/png": "[encoded data removed]"
     },
     "metadata": {},
     "output_type": "display_data"
    }
   ],
   "source": [
    "# box plot their distributions\n",
    "\n",
    "import seaborn as sns\n",
    "import matplotlib.pyplot as plt\n",
    "\n",
    "sns.set(style=\"whitegrid\")\n",
    "\n",
    "ax = sns.boxplot(x=\"cluster\", y=\"logFC_hartig\", data=merged_gene_list, showfliers = False)\n",
    "ax = sns.stripplot(x=\"cluster\", y=\"logFC_hartig\", data=merged_gene_list, color=\"0.5\", alpha=0.25)\n",
    "ax.set_xticklabels(ax.get_xticklabels(),rotation = 90)\n",
    "\n",
    "plt.show()"
   ],
   "metadata": {
    "collapsed": false,
    "pycharm": {
     "name": "#%%\n"
    }
   }
  },
  {
   "cell_type": "code",
   "execution_count": null,
   "outputs": [],
   "source": [],
   "metadata": {
    "collapsed": false,
    "pycharm": {
     "name": "#%%\n"
    }
   }
  }
 ],
 "metadata": {
  "kernelspec": {
   "display_name": "Python 3",
   "language": "python",
   "name": "python3"
  },
  "language_info": {
   "codemirror_mode": {
    "name": "ipython",
    "version": 2
   },
   "file_extension": ".py",
   "mimetype": "text/x-python",
   "name": "python",
   "nbconvert_exporter": "python",
   "pygments_lexer": "ipython2",
   "version": "2.7.6"
  }
 },
 "nbformat": 4,
 "nbformat_minor": 0
}
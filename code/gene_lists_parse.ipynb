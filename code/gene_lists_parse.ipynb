{
 "cells": [
  {
   "cell_type": "code",
   "execution_count": 1,
   "metadata": {
    "collapsed": true
   },
   "outputs": [
    {
     "name": "stdout",
     "output_type": "stream",
     "text": [
      "Hello, this is a test\n"
     ]
    }
   ],
   "source": [
    "print(\"Hello, this is a test\")"
   ]
  },
  {
   "cell_type": "code",
   "execution_count": 2,
   "outputs": [],
   "source": [
    "import pandas as pd"
   ],
   "metadata": {
    "collapsed": false,
    "pycharm": {
     "name": "#%%\n"
    }
   }
  },
  {
   "cell_type": "code",
   "execution_count": 3,
   "outputs": [
    {
     "data": {
      "text/plain": "                  cluster                gene  p_val  avg_logFC  pct.1  pct.2  \\\n0  Superficial Epithelial   si:ch211-207n23.2    0.0   3.783526  0.983  0.256   \n1  Superficial Epithelial          zgc:111983    0.0   3.634558  0.987  0.295   \n2  Superficial Epithelial      CABZ01088053.1    0.0   3.398964  0.935  0.188   \n3  Superficial Epithelial            krt1-19d    0.0   3.254499  0.877  0.123   \n4  Superficial Epithelial     si:dkey-247k7.2    0.0   3.182882  0.961  0.117   \n5  Superficial Epithelial               cldne    0.0   3.068289  0.982  0.149   \n6  Superficial Epithelial               gig2l    0.0   3.018676  0.514  0.165   \n7  Superficial Epithelial    si:ch211-157c3.4    0.0   2.870359  0.983  0.268   \n8  Superficial Epithelial      CABZ01072255.2    0.0   2.858588  0.876  0.105   \n9  Superficial Epithelial  si:ch211-217k17.10    0.0   2.838415  0.886  0.096   \n\n   p_val_adj  \n0        0.0  \n1        0.0  \n2        0.0  \n3        0.0  \n4        0.0  \n5        0.0  \n6        0.0  \n7        0.0  \n8        0.0  \n9        0.0  ",
      "text/html": "<div>\n<style scoped>\n    .dataframe tbody tr th:only-of-type {\n        vertical-align: middle;\n    }\n\n    .dataframe tbody tr th {\n        vertical-align: top;\n    }\n\n    .dataframe thead th {\n        text-align: right;\n    }\n</style>\n<table border=\"1\" class=\"dataframe\">\n  <thead>\n    <tr style=\"text-align: right;\">\n      <th></th>\n      <th>cluster</th>\n      <th>gene</th>\n      <th>p_val</th>\n      <th>avg_logFC</th>\n      <th>pct.1</th>\n      <th>pct.2</th>\n      <th>p_val_adj</th>\n    </tr>\n  </thead>\n  <tbody>\n    <tr>\n      <th>0</th>\n      <td>Superficial Epithelial</td>\n      <td>si:ch211-207n23.2</td>\n      <td>0.0</td>\n      <td>3.783526</td>\n      <td>0.983</td>\n      <td>0.256</td>\n      <td>0.0</td>\n    </tr>\n    <tr>\n      <th>1</th>\n      <td>Superficial Epithelial</td>\n      <td>zgc:111983</td>\n      <td>0.0</td>\n      <td>3.634558</td>\n      <td>0.987</td>\n      <td>0.295</td>\n      <td>0.0</td>\n    </tr>\n    <tr>\n      <th>2</th>\n      <td>Superficial Epithelial</td>\n      <td>CABZ01088053.1</td>\n      <td>0.0</td>\n      <td>3.398964</td>\n      <td>0.935</td>\n      <td>0.188</td>\n      <td>0.0</td>\n    </tr>\n    <tr>\n      <th>3</th>\n      <td>Superficial Epithelial</td>\n      <td>krt1-19d</td>\n      <td>0.0</td>\n      <td>3.254499</td>\n      <td>0.877</td>\n      <td>0.123</td>\n      <td>0.0</td>\n    </tr>\n    <tr>\n      <th>4</th>\n      <td>Superficial Epithelial</td>\n      <td>si:dkey-247k7.2</td>\n      <td>0.0</td>\n      <td>3.182882</td>\n      <td>0.961</td>\n      <td>0.117</td>\n      <td>0.0</td>\n    </tr>\n    <tr>\n      <th>5</th>\n      <td>Superficial Epithelial</td>\n      <td>cldne</td>\n      <td>0.0</td>\n      <td>3.068289</td>\n      <td>0.982</td>\n      <td>0.149</td>\n      <td>0.0</td>\n    </tr>\n    <tr>\n      <th>6</th>\n      <td>Superficial Epithelial</td>\n      <td>gig2l</td>\n      <td>0.0</td>\n      <td>3.018676</td>\n      <td>0.514</td>\n      <td>0.165</td>\n      <td>0.0</td>\n    </tr>\n    <tr>\n      <th>7</th>\n      <td>Superficial Epithelial</td>\n      <td>si:ch211-157c3.4</td>\n      <td>0.0</td>\n      <td>2.870359</td>\n      <td>0.983</td>\n      <td>0.268</td>\n      <td>0.0</td>\n    </tr>\n    <tr>\n      <th>8</th>\n      <td>Superficial Epithelial</td>\n      <td>CABZ01072255.2</td>\n      <td>0.0</td>\n      <td>2.858588</td>\n      <td>0.876</td>\n      <td>0.105</td>\n      <td>0.0</td>\n    </tr>\n    <tr>\n      <th>9</th>\n      <td>Superficial Epithelial</td>\n      <td>si:ch211-217k17.10</td>\n      <td>0.0</td>\n      <td>2.838415</td>\n      <td>0.886</td>\n      <td>0.096</td>\n      <td>0.0</td>\n    </tr>\n  </tbody>\n</table>\n</div>"
     },
     "execution_count": 3,
     "metadata": {},
     "output_type": "execute_result"
    }
   ],
   "source": [
    "# create a data frame for the Hou gene list\n",
    "hou = pd.read_csv(\"..\\data\\Hou_gene_list.csv\")\n",
    "\n",
    "# drop the empty columns\n",
    "hou = hou.drop(columns=['Unnamed: 7', 'Unnamed: 8'])\n",
    "hou.head(10)"
   ],
   "metadata": {
    "collapsed": false,
    "pycharm": {
     "name": "#%%\n"
    }
   }
  },
  {
   "cell_type": "code",
   "execution_count": 4,
   "outputs": [
    {
     "data": {
      "text/plain": "               GeneID     logFC    logCPM         LR        PValue  \\\n0  ENSDARG00000105096 -6.495832  2.398769  47.430783  5.700000e-12   \n1  ENSDARG00000036292 -6.761098  2.685079  37.518610  9.050000e-10   \n2  ENSDARG00000103520 -6.446571  2.675062  36.043263  1.930000e-09   \n3  ENSDARG00000045671 -6.149764  2.634098  34.177625  5.030000e-09   \n4  ENSDARG00000078731 -5.297894  2.172497  27.592737  1.500000e-07   \n5  ENSDARG00000095026 -4.667588  2.418922  25.912473  3.570000e-07   \n6  ENSDARG00000075791 -4.514841  2.348269  24.986063  5.770000e-07   \n7  ENSDARG00000071012 -4.951097  2.083999  22.784758  1.810000e-06   \n8  ENSDARG00000060566 -5.110833  2.230976  21.863601  2.930000e-06   \n9  ENSDARG00000042008 -4.786807  2.684332  21.455344  3.620000e-06   \n\n            FDR        DiffExp             Symbol  \\\n0  1.040000e-07  downregulated  si:ch1073-67j19.1   \n1  8.280000e-06  downregulated               cdx4   \n2  1.180000e-05  downregulated         BX005082.2   \n3  2.300000e-05  downregulated            ifng1-1   \n4  5.477190e-04  downregulated         BX005336.3   \n5  1.088967e-03  downregulated   si:dkey-58f10.14   \n6  1.508744e-03  downregulated    si:dkey-79f11.5   \n7  4.142393e-03  downregulated             ifit14   \n8  5.948687e-03  downregulated              cluhb   \n9  6.021493e-03  downregulated         BX936298.1   \n\n                                         Description        GeneType  ...  \\\n0  si:ch1073-67j19.1 [Source:ZFIN;Acc:ZDB-GENE-14...  protein_coding  ...   \n1  caudal type homeobox 4 [Source:ZFIN;Acc:ZDB-GE...  protein_coding  ...   \n2                                                NaN  protein_coding  ...   \n3  interferon, gamma 1-1 [Source:ZFIN;Acc:ZDB-GEN...  protein_coding  ...   \n4                                                NaN  protein_coding  ...   \n5  si:dkey-58f10.14 [Source:ZFIN;Acc:ZDB-GENE-060...  protein_coding  ...   \n6  si:dkey-79f11.5 [Source:ZFIN;Acc:ZDB-GENE-0301...  protein_coding  ...   \n7  interferon-induced protein with tetratricopept...  protein_coding  ...   \n8  clustered mitochondria (cluA/CLU1) homolog b [...  protein_coding  ...   \n9                                                NaN  protein_coding  ...   \n\n   CTRL_2dpa_3_TPM  TREAT_2dpa_1_TPM  TREAT_2dpa_2_TPM  TREAT_2dpa_3_TPM  \\\n0         1.696982         -0.138044          0.260336         -0.228501   \n1         2.241811          0.426511         -0.164697         -0.363015   \n2         3.067691          0.771499          0.674114         -0.623223   \n3         2.642658          0.636985          1.231799          0.276254   \n4         1.861216          0.071545          0.457362          0.447290   \n5         2.231799          1.276254          1.071545          1.457362   \n6         2.988937          1.246788          1.252641          1.241811   \n7         2.457362          0.447290          0.112020         -0.138044   \n8         1.771499         -0.325886         -0.623223         -0.180988   \n9         2.260336          0.771499          0.674114          0.376777   \n\n   CTRL_4dpa_1_TPM  CTRL_4dpa_2_TPM  CTRL_4dpa_3_TPM  TREAT_4dpa_1_TPM  \\\n0        -0.325886        -0.623223        -0.180988          0.246788   \n1         0.231799         0.276254         0.071545          2.042324   \n2        -0.180988         1.246788         0.252641          1.241811   \n3         0.071545         0.457362         0.447290          1.696982   \n4         0.112020        -0.138044         0.260336          0.771499   \n5         0.447290         1.112020        -0.138044          1.845298   \n6        -0.573489        -0.164697        -0.363015          0.231799   \n7         0.260336        -0.228501        -0.325886          0.376777   \n8         0.246788         0.252641         0.241811          0.426511   \n9        -0.180988         0.246788         0.252641          2.241811   \n\n   TREAT_4dpa_2_TPM  TREAT_4dpa_3_TPM  \n0          0.252641          0.241811  \n1          0.447290          1.696982  \n2          0.426511          1.420265  \n3          0.861956          1.845298  \n4          0.674114          0.376777  \n5         -0.228501          1.259077  \n6          1.276254          1.656507  \n7         -0.180988          1.246788  \n8          0.835303          0.636985  \n9          1.426511          2.157231  \n\n[10 rows x 28 columns]",
      "text/html": "<div>\n<style scoped>\n    .dataframe tbody tr th:only-of-type {\n        vertical-align: middle;\n    }\n\n    .dataframe tbody tr th {\n        vertical-align: top;\n    }\n\n    .dataframe thead th {\n        text-align: right;\n    }\n</style>\n<table border=\"1\" class=\"dataframe\">\n  <thead>\n    <tr style=\"text-align: right;\">\n      <th></th>\n      <th>GeneID</th>\n      <th>logFC</th>\n      <th>logCPM</th>\n      <th>LR</th>\n      <th>PValue</th>\n      <th>FDR</th>\n      <th>DiffExp</th>\n      <th>Symbol</th>\n      <th>Description</th>\n      <th>GeneType</th>\n      <th>...</th>\n      <th>CTRL_2dpa_3_TPM</th>\n      <th>TREAT_2dpa_1_TPM</th>\n      <th>TREAT_2dpa_2_TPM</th>\n      <th>TREAT_2dpa_3_TPM</th>\n      <th>CTRL_4dpa_1_TPM</th>\n      <th>CTRL_4dpa_2_TPM</th>\n      <th>CTRL_4dpa_3_TPM</th>\n      <th>TREAT_4dpa_1_TPM</th>\n      <th>TREAT_4dpa_2_TPM</th>\n      <th>TREAT_4dpa_3_TPM</th>\n    </tr>\n  </thead>\n  <tbody>\n    <tr>\n      <th>0</th>\n      <td>ENSDARG00000105096</td>\n      <td>-6.495832</td>\n      <td>2.398769</td>\n      <td>47.430783</td>\n      <td>5.700000e-12</td>\n      <td>1.040000e-07</td>\n      <td>downregulated</td>\n      <td>si:ch1073-67j19.1</td>\n      <td>si:ch1073-67j19.1 [Source:ZFIN;Acc:ZDB-GENE-14...</td>\n      <td>protein_coding</td>\n      <td>...</td>\n      <td>1.696982</td>\n      <td>-0.138044</td>\n      <td>0.260336</td>\n      <td>-0.228501</td>\n      <td>-0.325886</td>\n      <td>-0.623223</td>\n      <td>-0.180988</td>\n      <td>0.246788</td>\n      <td>0.252641</td>\n      <td>0.241811</td>\n    </tr>\n    <tr>\n      <th>1</th>\n      <td>ENSDARG00000036292</td>\n      <td>-6.761098</td>\n      <td>2.685079</td>\n      <td>37.518610</td>\n      <td>9.050000e-10</td>\n      <td>8.280000e-06</td>\n      <td>downregulated</td>\n      <td>cdx4</td>\n      <td>caudal type homeobox 4 [Source:ZFIN;Acc:ZDB-GE...</td>\n      <td>protein_coding</td>\n      <td>...</td>\n      <td>2.241811</td>\n      <td>0.426511</td>\n      <td>-0.164697</td>\n      <td>-0.363015</td>\n      <td>0.231799</td>\n      <td>0.276254</td>\n      <td>0.071545</td>\n      <td>2.042324</td>\n      <td>0.447290</td>\n      <td>1.696982</td>\n    </tr>\n    <tr>\n      <th>2</th>\n      <td>ENSDARG00000103520</td>\n      <td>-6.446571</td>\n      <td>2.675062</td>\n      <td>36.043263</td>\n      <td>1.930000e-09</td>\n      <td>1.180000e-05</td>\n      <td>downregulated</td>\n      <td>BX005082.2</td>\n      <td>NaN</td>\n      <td>protein_coding</td>\n      <td>...</td>\n      <td>3.067691</td>\n      <td>0.771499</td>\n      <td>0.674114</td>\n      <td>-0.623223</td>\n      <td>-0.180988</td>\n      <td>1.246788</td>\n      <td>0.252641</td>\n      <td>1.241811</td>\n      <td>0.426511</td>\n      <td>1.420265</td>\n    </tr>\n    <tr>\n      <th>3</th>\n      <td>ENSDARG00000045671</td>\n      <td>-6.149764</td>\n      <td>2.634098</td>\n      <td>34.177625</td>\n      <td>5.030000e-09</td>\n      <td>2.300000e-05</td>\n      <td>downregulated</td>\n      <td>ifng1-1</td>\n      <td>interferon, gamma 1-1 [Source:ZFIN;Acc:ZDB-GEN...</td>\n      <td>protein_coding</td>\n      <td>...</td>\n      <td>2.642658</td>\n      <td>0.636985</td>\n      <td>1.231799</td>\n      <td>0.276254</td>\n      <td>0.071545</td>\n      <td>0.457362</td>\n      <td>0.447290</td>\n      <td>1.696982</td>\n      <td>0.861956</td>\n      <td>1.845298</td>\n    </tr>\n    <tr>\n      <th>4</th>\n      <td>ENSDARG00000078731</td>\n      <td>-5.297894</td>\n      <td>2.172497</td>\n      <td>27.592737</td>\n      <td>1.500000e-07</td>\n      <td>5.477190e-04</td>\n      <td>downregulated</td>\n      <td>BX005336.3</td>\n      <td>NaN</td>\n      <td>protein_coding</td>\n      <td>...</td>\n      <td>1.861216</td>\n      <td>0.071545</td>\n      <td>0.457362</td>\n      <td>0.447290</td>\n      <td>0.112020</td>\n      <td>-0.138044</td>\n      <td>0.260336</td>\n      <td>0.771499</td>\n      <td>0.674114</td>\n      <td>0.376777</td>\n    </tr>\n    <tr>\n      <th>5</th>\n      <td>ENSDARG00000095026</td>\n      <td>-4.667588</td>\n      <td>2.418922</td>\n      <td>25.912473</td>\n      <td>3.570000e-07</td>\n      <td>1.088967e-03</td>\n      <td>downregulated</td>\n      <td>si:dkey-58f10.14</td>\n      <td>si:dkey-58f10.14 [Source:ZFIN;Acc:ZDB-GENE-060...</td>\n      <td>protein_coding</td>\n      <td>...</td>\n      <td>2.231799</td>\n      <td>1.276254</td>\n      <td>1.071545</td>\n      <td>1.457362</td>\n      <td>0.447290</td>\n      <td>1.112020</td>\n      <td>-0.138044</td>\n      <td>1.845298</td>\n      <td>-0.228501</td>\n      <td>1.259077</td>\n    </tr>\n    <tr>\n      <th>6</th>\n      <td>ENSDARG00000075791</td>\n      <td>-4.514841</td>\n      <td>2.348269</td>\n      <td>24.986063</td>\n      <td>5.770000e-07</td>\n      <td>1.508744e-03</td>\n      <td>downregulated</td>\n      <td>si:dkey-79f11.5</td>\n      <td>si:dkey-79f11.5 [Source:ZFIN;Acc:ZDB-GENE-0301...</td>\n      <td>protein_coding</td>\n      <td>...</td>\n      <td>2.988937</td>\n      <td>1.246788</td>\n      <td>1.252641</td>\n      <td>1.241811</td>\n      <td>-0.573489</td>\n      <td>-0.164697</td>\n      <td>-0.363015</td>\n      <td>0.231799</td>\n      <td>1.276254</td>\n      <td>1.656507</td>\n    </tr>\n    <tr>\n      <th>7</th>\n      <td>ENSDARG00000071012</td>\n      <td>-4.951097</td>\n      <td>2.083999</td>\n      <td>22.784758</td>\n      <td>1.810000e-06</td>\n      <td>4.142393e-03</td>\n      <td>downregulated</td>\n      <td>ifit14</td>\n      <td>interferon-induced protein with tetratricopept...</td>\n      <td>protein_coding</td>\n      <td>...</td>\n      <td>2.457362</td>\n      <td>0.447290</td>\n      <td>0.112020</td>\n      <td>-0.138044</td>\n      <td>0.260336</td>\n      <td>-0.228501</td>\n      <td>-0.325886</td>\n      <td>0.376777</td>\n      <td>-0.180988</td>\n      <td>1.246788</td>\n    </tr>\n    <tr>\n      <th>8</th>\n      <td>ENSDARG00000060566</td>\n      <td>-5.110833</td>\n      <td>2.230976</td>\n      <td>21.863601</td>\n      <td>2.930000e-06</td>\n      <td>5.948687e-03</td>\n      <td>downregulated</td>\n      <td>cluhb</td>\n      <td>clustered mitochondria (cluA/CLU1) homolog b [...</td>\n      <td>protein_coding</td>\n      <td>...</td>\n      <td>1.771499</td>\n      <td>-0.325886</td>\n      <td>-0.623223</td>\n      <td>-0.180988</td>\n      <td>0.246788</td>\n      <td>0.252641</td>\n      <td>0.241811</td>\n      <td>0.426511</td>\n      <td>0.835303</td>\n      <td>0.636985</td>\n    </tr>\n    <tr>\n      <th>9</th>\n      <td>ENSDARG00000042008</td>\n      <td>-4.786807</td>\n      <td>2.684332</td>\n      <td>21.455344</td>\n      <td>3.620000e-06</td>\n      <td>6.021493e-03</td>\n      <td>downregulated</td>\n      <td>BX936298.1</td>\n      <td>NaN</td>\n      <td>protein_coding</td>\n      <td>...</td>\n      <td>2.260336</td>\n      <td>0.771499</td>\n      <td>0.674114</td>\n      <td>0.376777</td>\n      <td>-0.180988</td>\n      <td>0.246788</td>\n      <td>0.252641</td>\n      <td>2.241811</td>\n      <td>1.426511</td>\n      <td>2.157231</td>\n    </tr>\n  </tbody>\n</table>\n<p>10 rows × 28 columns</p>\n</div>"
     },
     "execution_count": 4,
     "metadata": {},
     "output_type": "execute_result"
    }
   ],
   "source": [
    "#create a data frame for the Hartig gene list\n",
    "hartig = pd.read_csv(\"..\\data\\Hartig_gene_list.csv\")\n",
    "hartig.head(10)"
   ],
   "metadata": {
    "collapsed": false,
    "pycharm": {
     "name": "#%%\n"
    }
   }
  },
  {
   "cell_type": "code",
   "execution_count": 5,
   "outputs": [
    {
     "data": {
      "text/plain": "              gene_hou        gene_hartig              GeneID  \\\n0    si:ch211-207n23.2  si:ch211-207n23.2  ENSDARG00000097157   \n1           zgc:111983         zgc:111983  ENSDARG00000006588   \n2             krt1-19d           krt1-19d  ENSDARG00000023082   \n3      si:dkey-247k7.2    si:dkey-247k7.2  ENSDARG00000103199   \n4                cldne              cldne  ENSDARG00000043128   \n..                 ...                ...                 ...   \n255  si:ch211-288g17.3  si:ch211-288g17.3  ENSDARG00000070959   \n256              hspe1              hspe1  ENSDARG00000056167   \n257               fuom               fuom  ENSDARG00000039422   \n258            aldh1a2            aldh1a2  ENSDARG00000053493   \n259             prrx1a             prrx1a  ENSDARG00000033971   \n\n                    cluster DiffExp  logFC_hou  logFC_hartig  \n0    Superficial Epithelial    none   3.783526     -2.015353  \n1    Superficial Epithelial    none   3.634558     -0.618203  \n2    Superficial Epithelial    none   3.254499      3.592442  \n3    Superficial Epithelial    none   3.182882     -1.147063  \n4    Superficial Epithelial    none   3.068289     -1.581959  \n..                      ...     ...        ...           ...  \n255             Mesenchymal    none   1.037452     -1.031619  \n256             Mesenchymal    none   1.036903     -2.146114  \n257             Mesenchymal    none   1.031990     -0.080967  \n258             Mesenchymal    none   1.029945     -0.970811  \n259             Mesenchymal    none   1.027367     -0.019982  \n\n[260 rows x 7 columns]",
      "text/html": "<div>\n<style scoped>\n    .dataframe tbody tr th:only-of-type {\n        vertical-align: middle;\n    }\n\n    .dataframe tbody tr th {\n        vertical-align: top;\n    }\n\n    .dataframe thead th {\n        text-align: right;\n    }\n</style>\n<table border=\"1\" class=\"dataframe\">\n  <thead>\n    <tr style=\"text-align: right;\">\n      <th></th>\n      <th>gene_hou</th>\n      <th>gene_hartig</th>\n      <th>GeneID</th>\n      <th>cluster</th>\n      <th>DiffExp</th>\n      <th>logFC_hou</th>\n      <th>logFC_hartig</th>\n    </tr>\n  </thead>\n  <tbody>\n    <tr>\n      <th>0</th>\n      <td>si:ch211-207n23.2</td>\n      <td>si:ch211-207n23.2</td>\n      <td>ENSDARG00000097157</td>\n      <td>Superficial Epithelial</td>\n      <td>none</td>\n      <td>3.783526</td>\n      <td>-2.015353</td>\n    </tr>\n    <tr>\n      <th>1</th>\n      <td>zgc:111983</td>\n      <td>zgc:111983</td>\n      <td>ENSDARG00000006588</td>\n      <td>Superficial Epithelial</td>\n      <td>none</td>\n      <td>3.634558</td>\n      <td>-0.618203</td>\n    </tr>\n    <tr>\n      <th>2</th>\n      <td>krt1-19d</td>\n      <td>krt1-19d</td>\n      <td>ENSDARG00000023082</td>\n      <td>Superficial Epithelial</td>\n      <td>none</td>\n      <td>3.254499</td>\n      <td>3.592442</td>\n    </tr>\n    <tr>\n      <th>3</th>\n      <td>si:dkey-247k7.2</td>\n      <td>si:dkey-247k7.2</td>\n      <td>ENSDARG00000103199</td>\n      <td>Superficial Epithelial</td>\n      <td>none</td>\n      <td>3.182882</td>\n      <td>-1.147063</td>\n    </tr>\n    <tr>\n      <th>4</th>\n      <td>cldne</td>\n      <td>cldne</td>\n      <td>ENSDARG00000043128</td>\n      <td>Superficial Epithelial</td>\n      <td>none</td>\n      <td>3.068289</td>\n      <td>-1.581959</td>\n    </tr>\n    <tr>\n      <th>...</th>\n      <td>...</td>\n      <td>...</td>\n      <td>...</td>\n      <td>...</td>\n      <td>...</td>\n      <td>...</td>\n      <td>...</td>\n    </tr>\n    <tr>\n      <th>255</th>\n      <td>si:ch211-288g17.3</td>\n      <td>si:ch211-288g17.3</td>\n      <td>ENSDARG00000070959</td>\n      <td>Mesenchymal</td>\n      <td>none</td>\n      <td>1.037452</td>\n      <td>-1.031619</td>\n    </tr>\n    <tr>\n      <th>256</th>\n      <td>hspe1</td>\n      <td>hspe1</td>\n      <td>ENSDARG00000056167</td>\n      <td>Mesenchymal</td>\n      <td>none</td>\n      <td>1.036903</td>\n      <td>-2.146114</td>\n    </tr>\n    <tr>\n      <th>257</th>\n      <td>fuom</td>\n      <td>fuom</td>\n      <td>ENSDARG00000039422</td>\n      <td>Mesenchymal</td>\n      <td>none</td>\n      <td>1.031990</td>\n      <td>-0.080967</td>\n    </tr>\n    <tr>\n      <th>258</th>\n      <td>aldh1a2</td>\n      <td>aldh1a2</td>\n      <td>ENSDARG00000053493</td>\n      <td>Mesenchymal</td>\n      <td>none</td>\n      <td>1.029945</td>\n      <td>-0.970811</td>\n    </tr>\n    <tr>\n      <th>259</th>\n      <td>prrx1a</td>\n      <td>prrx1a</td>\n      <td>ENSDARG00000033971</td>\n      <td>Mesenchymal</td>\n      <td>none</td>\n      <td>1.027367</td>\n      <td>-0.019982</td>\n    </tr>\n  </tbody>\n</table>\n<p>260 rows × 7 columns</p>\n</div>"
     },
     "execution_count": 5,
     "metadata": {},
     "output_type": "execute_result"
    }
   ],
   "source": [
    "# create a new data frame that contains only those rows that have matching values in both of the original data frames\n",
    "# based on the 'gene' column in Hou and 'symbol' column in Hartig\n",
    "merged_gene_list = pd.merge(left=hou, right=hartig, left_on='gene', right_on='Symbol')\n",
    "\n",
    "# only include the listed columns: gene (Hou), symbol (Hartig), geneID, cluster, diffExp, avg_logFC (Hou), and logFC (Hartig)\n",
    "merged_gene_list = merged_gene_list.loc[:, ['gene', 'Symbol', 'GeneID', 'cluster', 'DiffExp', 'avg_logFC', 'logFC']]\n",
    "merged_gene_list.columns = [\"gene_hou\", \"gene_hartig\", \"GeneID\", \"cluster\", \"DiffExp\", \"logFC_hou\", \"logFC_hartig\"]\n",
    "merged_gene_list"
   ],
   "metadata": {
    "collapsed": false,
    "pycharm": {
     "name": "#%%\n"
    }
   }
  },
  {
   "cell_type": "code",
   "execution_count": 6,
   "outputs": [
    {
     "data": {
      "text/plain": "DiffExp\ndownregulated     11\nnone             249\nName: DiffExp, dtype: int64"
     },
     "execution_count": 6,
     "metadata": {},
     "output_type": "execute_result"
    }
   ],
   "source": [
    "# count how many genes of each type of DiffExp are present in the merged gene list\n",
    "counts = merged_gene_list.groupby('DiffExp')['DiffExp'].count()\n",
    "counts\n",
    "\n",
    "# there are 11 downregulated genes and 249 non-differentially expressed genes"
   ],
   "metadata": {
    "collapsed": false,
    "pycharm": {
     "name": "#%%\n"
    }
   }
  },
  {
   "cell_type": "code",
   "execution_count": 7,
   "outputs": [
    {
     "data": {
      "text/plain": "             gene_hou       gene_hartig              GeneID  \\\n5               gig2l             gig2l  ENSDARG00000091730   \n97                saa               saa  ENSDARG00000045999   \n122  si:ch211-134a4.4  si:ch211-134a4.4  ENSDARG00000099332   \n180            fabp7b            fabp7b  ENSDARG00000034650   \n186         lgals3bpb         lgals3bpb  ENSDARG00000040528   \n188   si:dkey-30j10.5   si:dkey-30j10.5  ENSDARG00000093186   \n193  si:ch211-147m6.2  si:ch211-147m6.2  ENSDARG00000103769   \n196             mafbb             mafbb  ENSDARG00000070542   \n205              c1qa              c1qa  ENSDARG00000044613   \n208  si:ch211-194m7.4  si:ch211-194m7.4  ENSDARG00000100346   \n232            ponzr1            ponzr1  ENSDARG00000090444   \n\n                     cluster        DiffExp  logFC_hou  logFC_hartig  \n5     Superficial Epithelial  downregulated   3.018676     -8.514214  \n97   Intermediate Epithelial  downregulated   1.134108     -7.731900  \n122  Intermediate Epithelial  downregulated   0.671971     -3.564534  \n180            Hematopoietic  downregulated   3.186422     -3.605687  \n186            Hematopoietic  downregulated   2.764786     -7.329802  \n188            Hematopoietic  downregulated   2.683245     -6.577659  \n193            Hematopoietic  downregulated   2.319529     -3.486127  \n196            Hematopoietic  downregulated   2.255517     -2.416224  \n205            Hematopoietic  downregulated   1.908779     -2.884738  \n208            Hematopoietic  downregulated   1.842962     -3.771633  \n232              Mesenchymal  downregulated   1.443716     -4.956457  ",
      "text/html": "<div>\n<style scoped>\n    .dataframe tbody tr th:only-of-type {\n        vertical-align: middle;\n    }\n\n    .dataframe tbody tr th {\n        vertical-align: top;\n    }\n\n    .dataframe thead th {\n        text-align: right;\n    }\n</style>\n<table border=\"1\" class=\"dataframe\">\n  <thead>\n    <tr style=\"text-align: right;\">\n      <th></th>\n      <th>gene_hou</th>\n      <th>gene_hartig</th>\n      <th>GeneID</th>\n      <th>cluster</th>\n      <th>DiffExp</th>\n      <th>logFC_hou</th>\n      <th>logFC_hartig</th>\n    </tr>\n  </thead>\n  <tbody>\n    <tr>\n      <th>5</th>\n      <td>gig2l</td>\n      <td>gig2l</td>\n      <td>ENSDARG00000091730</td>\n      <td>Superficial Epithelial</td>\n      <td>downregulated</td>\n      <td>3.018676</td>\n      <td>-8.514214</td>\n    </tr>\n    <tr>\n      <th>97</th>\n      <td>saa</td>\n      <td>saa</td>\n      <td>ENSDARG00000045999</td>\n      <td>Intermediate Epithelial</td>\n      <td>downregulated</td>\n      <td>1.134108</td>\n      <td>-7.731900</td>\n    </tr>\n    <tr>\n      <th>122</th>\n      <td>si:ch211-134a4.4</td>\n      <td>si:ch211-134a4.4</td>\n      <td>ENSDARG00000099332</td>\n      <td>Intermediate Epithelial</td>\n      <td>downregulated</td>\n      <td>0.671971</td>\n      <td>-3.564534</td>\n    </tr>\n    <tr>\n      <th>180</th>\n      <td>fabp7b</td>\n      <td>fabp7b</td>\n      <td>ENSDARG00000034650</td>\n      <td>Hematopoietic</td>\n      <td>downregulated</td>\n      <td>3.186422</td>\n      <td>-3.605687</td>\n    </tr>\n    <tr>\n      <th>186</th>\n      <td>lgals3bpb</td>\n      <td>lgals3bpb</td>\n      <td>ENSDARG00000040528</td>\n      <td>Hematopoietic</td>\n      <td>downregulated</td>\n      <td>2.764786</td>\n      <td>-7.329802</td>\n    </tr>\n    <tr>\n      <th>188</th>\n      <td>si:dkey-30j10.5</td>\n      <td>si:dkey-30j10.5</td>\n      <td>ENSDARG00000093186</td>\n      <td>Hematopoietic</td>\n      <td>downregulated</td>\n      <td>2.683245</td>\n      <td>-6.577659</td>\n    </tr>\n    <tr>\n      <th>193</th>\n      <td>si:ch211-147m6.2</td>\n      <td>si:ch211-147m6.2</td>\n      <td>ENSDARG00000103769</td>\n      <td>Hematopoietic</td>\n      <td>downregulated</td>\n      <td>2.319529</td>\n      <td>-3.486127</td>\n    </tr>\n    <tr>\n      <th>196</th>\n      <td>mafbb</td>\n      <td>mafbb</td>\n      <td>ENSDARG00000070542</td>\n      <td>Hematopoietic</td>\n      <td>downregulated</td>\n      <td>2.255517</td>\n      <td>-2.416224</td>\n    </tr>\n    <tr>\n      <th>205</th>\n      <td>c1qa</td>\n      <td>c1qa</td>\n      <td>ENSDARG00000044613</td>\n      <td>Hematopoietic</td>\n      <td>downregulated</td>\n      <td>1.908779</td>\n      <td>-2.884738</td>\n    </tr>\n    <tr>\n      <th>208</th>\n      <td>si:ch211-194m7.4</td>\n      <td>si:ch211-194m7.4</td>\n      <td>ENSDARG00000100346</td>\n      <td>Hematopoietic</td>\n      <td>downregulated</td>\n      <td>1.842962</td>\n      <td>-3.771633</td>\n    </tr>\n    <tr>\n      <th>232</th>\n      <td>ponzr1</td>\n      <td>ponzr1</td>\n      <td>ENSDARG00000090444</td>\n      <td>Mesenchymal</td>\n      <td>downregulated</td>\n      <td>1.443716</td>\n      <td>-4.956457</td>\n    </tr>\n  </tbody>\n</table>\n</div>"
     },
     "execution_count": 7,
     "metadata": {},
     "output_type": "execute_result"
    }
   ],
   "source": [
    "# create a dataframe of the differentially expressed genes that exist in both gene lists\n",
    "downreg = merged_gene_list.loc[merged_gene_list['DiffExp'] == 'downregulated']\n",
    "downreg"
   ],
   "metadata": {
    "collapsed": false,
    "pycharm": {
     "name": "#%%\n"
    }
   }
  },
  {
   "cell_type": "code",
   "execution_count": 8,
   "outputs": [
    {
     "data": {
      "text/plain": "array(['Superficial Epithelial', 'Mucosal-like',\n       'Intermediate Epithelial', 'Basal Epithelial', 'Hematopoietic',\n       'Mesenchymal'], dtype=object)"
     },
     "execution_count": 8,
     "metadata": {},
     "output_type": "execute_result"
    }
   ],
   "source": [
    "# get a list of all the cell types to then parse the gene list into separate cell cluster dataframes\n",
    "merged_gene_list.cluster.unique()"
   ],
   "metadata": {
    "collapsed": false,
    "pycharm": {
     "name": "#%%\n"
    }
   }
  },
  {
   "cell_type": "code",
   "execution_count": 22,
   "outputs": [
    {
     "data": {
      "text/plain": "             gene_hou         gene_hartig              GeneID  \\\n0   si:ch211-207n23.2   si:ch211-207n23.2  ENSDARG00000097157   \n1          zgc:111983          zgc:111983  ENSDARG00000006588   \n2            krt1-19d            krt1-19d  ENSDARG00000023082   \n3     si:dkey-247k7.2     si:dkey-247k7.2  ENSDARG00000103199   \n4               cldne               cldne  ENSDARG00000043128   \n5               gig2l               gig2l  ENSDARG00000091730   \n6    si:ch211-157c3.4    si:ch211-157c3.4  ENSDARG00000087093   \n7  si:ch211-217k17.10  si:ch211-217k17.10  ENSDARG00000079345   \n8            mid1ip1a            mid1ip1a  ENSDARG00000041051   \n9     si:dkey-7c18.24     si:dkey-7c18.24  ENSDARG00000041433   \n\n                  cluster        DiffExp  logFC_hou  logFC_hartig  \n0  Superficial Epithelial           none   3.783526     -2.015353  \n1  Superficial Epithelial           none   3.634558     -0.618203  \n2  Superficial Epithelial           none   3.254499      3.592442  \n3  Superficial Epithelial           none   3.182882     -1.147063  \n4  Superficial Epithelial           none   3.068289     -1.581959  \n5  Superficial Epithelial  downregulated   3.018676     -8.514214  \n6  Superficial Epithelial           none   2.870359      0.540960  \n7  Superficial Epithelial           none   2.838415     -2.796754  \n8  Superficial Epithelial           none   2.732965      1.151470  \n9  Superficial Epithelial           none   2.686304     -0.451556  ",
      "text/html": "<div>\n<style scoped>\n    .dataframe tbody tr th:only-of-type {\n        vertical-align: middle;\n    }\n\n    .dataframe tbody tr th {\n        vertical-align: top;\n    }\n\n    .dataframe thead th {\n        text-align: right;\n    }\n</style>\n<table border=\"1\" class=\"dataframe\">\n  <thead>\n    <tr style=\"text-align: right;\">\n      <th></th>\n      <th>gene_hou</th>\n      <th>gene_hartig</th>\n      <th>GeneID</th>\n      <th>cluster</th>\n      <th>DiffExp</th>\n      <th>logFC_hou</th>\n      <th>logFC_hartig</th>\n    </tr>\n  </thead>\n  <tbody>\n    <tr>\n      <th>0</th>\n      <td>si:ch211-207n23.2</td>\n      <td>si:ch211-207n23.2</td>\n      <td>ENSDARG00000097157</td>\n      <td>Superficial Epithelial</td>\n      <td>none</td>\n      <td>3.783526</td>\n      <td>-2.015353</td>\n    </tr>\n    <tr>\n      <th>1</th>\n      <td>zgc:111983</td>\n      <td>zgc:111983</td>\n      <td>ENSDARG00000006588</td>\n      <td>Superficial Epithelial</td>\n      <td>none</td>\n      <td>3.634558</td>\n      <td>-0.618203</td>\n    </tr>\n    <tr>\n      <th>2</th>\n      <td>krt1-19d</td>\n      <td>krt1-19d</td>\n      <td>ENSDARG00000023082</td>\n      <td>Superficial Epithelial</td>\n      <td>none</td>\n      <td>3.254499</td>\n      <td>3.592442</td>\n    </tr>\n    <tr>\n      <th>3</th>\n      <td>si:dkey-247k7.2</td>\n      <td>si:dkey-247k7.2</td>\n      <td>ENSDARG00000103199</td>\n      <td>Superficial Epithelial</td>\n      <td>none</td>\n      <td>3.182882</td>\n      <td>-1.147063</td>\n    </tr>\n    <tr>\n      <th>4</th>\n      <td>cldne</td>\n      <td>cldne</td>\n      <td>ENSDARG00000043128</td>\n      <td>Superficial Epithelial</td>\n      <td>none</td>\n      <td>3.068289</td>\n      <td>-1.581959</td>\n    </tr>\n    <tr>\n      <th>5</th>\n      <td>gig2l</td>\n      <td>gig2l</td>\n      <td>ENSDARG00000091730</td>\n      <td>Superficial Epithelial</td>\n      <td>downregulated</td>\n      <td>3.018676</td>\n      <td>-8.514214</td>\n    </tr>\n    <tr>\n      <th>6</th>\n      <td>si:ch211-157c3.4</td>\n      <td>si:ch211-157c3.4</td>\n      <td>ENSDARG00000087093</td>\n      <td>Superficial Epithelial</td>\n      <td>none</td>\n      <td>2.870359</td>\n      <td>0.540960</td>\n    </tr>\n    <tr>\n      <th>7</th>\n      <td>si:ch211-217k17.10</td>\n      <td>si:ch211-217k17.10</td>\n      <td>ENSDARG00000079345</td>\n      <td>Superficial Epithelial</td>\n      <td>none</td>\n      <td>2.838415</td>\n      <td>-2.796754</td>\n    </tr>\n    <tr>\n      <th>8</th>\n      <td>mid1ip1a</td>\n      <td>mid1ip1a</td>\n      <td>ENSDARG00000041051</td>\n      <td>Superficial Epithelial</td>\n      <td>none</td>\n      <td>2.732965</td>\n      <td>1.151470</td>\n    </tr>\n    <tr>\n      <th>9</th>\n      <td>si:dkey-7c18.24</td>\n      <td>si:dkey-7c18.24</td>\n      <td>ENSDARG00000041433</td>\n      <td>Superficial Epithelial</td>\n      <td>none</td>\n      <td>2.686304</td>\n      <td>-0.451556</td>\n    </tr>\n  </tbody>\n</table>\n</div>"
     },
     "execution_count": 22,
     "metadata": {},
     "output_type": "execute_result"
    }
   ],
   "source": [
    "superficial = merged_gene_list[merged_gene_list['cluster'] == \"Superficial Epithelial\"]\n",
    "superficial.head(10)"
   ],
   "metadata": {
    "collapsed": false,
    "pycharm": {
     "name": "#%%\n"
    }
   }
  },
  {
   "cell_type": "code",
   "execution_count": 23,
   "outputs": [
    {
     "data": {
      "text/plain": "            gene_hou       gene_hartig              GeneID       cluster  \\\n43  si:ch73-359m17.5  si:ch73-359m17.5  ENSDARG00000101088  Mucosal-like   \n44  si:ch73-359m17.7  si:ch73-359m17.7  ENSDARG00000103319  Mucosal-like   \n45             cldnh             cldnh  ENSDARG00000069503  Mucosal-like   \n46            gng13a            gng13a  ENSDARG00000024740  Mucosal-like   \n47  si:ch211-152c2.3  si:ch211-152c2.3  ENSDARG00000045898  Mucosal-like   \n48  si:ch73-343g19.4  si:ch73-343g19.4  ENSDARG00000104398  Mucosal-like   \n49  si:ch73-359m17.9  si:ch73-359m17.9  ENSDARG00000098662  Mucosal-like   \n50           prr15la           prr15la  ENSDARG00000025615  Mucosal-like   \n51              vil1              vil1  ENSDARG00000040466  Mucosal-like   \n52            pou2f3            pou2f3  ENSDARG00000052387  Mucosal-like   \n\n   DiffExp  logFC_hou  logFC_hartig  \n43    none   3.009315     -0.474318  \n44    none   2.956284      0.606663  \n45    none   2.806342     -1.430868  \n46    none   2.422746      0.629550  \n47    none   2.209991      1.007335  \n48    none   1.925771     -3.294250  \n49    none   1.690850     -1.749032  \n50    none   1.325638      0.024151  \n51    none   1.128014      0.764247  \n52    none   1.114771     -0.448782  ",
      "text/html": "<div>\n<style scoped>\n    .dataframe tbody tr th:only-of-type {\n        vertical-align: middle;\n    }\n\n    .dataframe tbody tr th {\n        vertical-align: top;\n    }\n\n    .dataframe thead th {\n        text-align: right;\n    }\n</style>\n<table border=\"1\" class=\"dataframe\">\n  <thead>\n    <tr style=\"text-align: right;\">\n      <th></th>\n      <th>gene_hou</th>\n      <th>gene_hartig</th>\n      <th>GeneID</th>\n      <th>cluster</th>\n      <th>DiffExp</th>\n      <th>logFC_hou</th>\n      <th>logFC_hartig</th>\n    </tr>\n  </thead>\n  <tbody>\n    <tr>\n      <th>43</th>\n      <td>si:ch73-359m17.5</td>\n      <td>si:ch73-359m17.5</td>\n      <td>ENSDARG00000101088</td>\n      <td>Mucosal-like</td>\n      <td>none</td>\n      <td>3.009315</td>\n      <td>-0.474318</td>\n    </tr>\n    <tr>\n      <th>44</th>\n      <td>si:ch73-359m17.7</td>\n      <td>si:ch73-359m17.7</td>\n      <td>ENSDARG00000103319</td>\n      <td>Mucosal-like</td>\n      <td>none</td>\n      <td>2.956284</td>\n      <td>0.606663</td>\n    </tr>\n    <tr>\n      <th>45</th>\n      <td>cldnh</td>\n      <td>cldnh</td>\n      <td>ENSDARG00000069503</td>\n      <td>Mucosal-like</td>\n      <td>none</td>\n      <td>2.806342</td>\n      <td>-1.430868</td>\n    </tr>\n    <tr>\n      <th>46</th>\n      <td>gng13a</td>\n      <td>gng13a</td>\n      <td>ENSDARG00000024740</td>\n      <td>Mucosal-like</td>\n      <td>none</td>\n      <td>2.422746</td>\n      <td>0.629550</td>\n    </tr>\n    <tr>\n      <th>47</th>\n      <td>si:ch211-152c2.3</td>\n      <td>si:ch211-152c2.3</td>\n      <td>ENSDARG00000045898</td>\n      <td>Mucosal-like</td>\n      <td>none</td>\n      <td>2.209991</td>\n      <td>1.007335</td>\n    </tr>\n    <tr>\n      <th>48</th>\n      <td>si:ch73-343g19.4</td>\n      <td>si:ch73-343g19.4</td>\n      <td>ENSDARG00000104398</td>\n      <td>Mucosal-like</td>\n      <td>none</td>\n      <td>1.925771</td>\n      <td>-3.294250</td>\n    </tr>\n    <tr>\n      <th>49</th>\n      <td>si:ch73-359m17.9</td>\n      <td>si:ch73-359m17.9</td>\n      <td>ENSDARG00000098662</td>\n      <td>Mucosal-like</td>\n      <td>none</td>\n      <td>1.690850</td>\n      <td>-1.749032</td>\n    </tr>\n    <tr>\n      <th>50</th>\n      <td>prr15la</td>\n      <td>prr15la</td>\n      <td>ENSDARG00000025615</td>\n      <td>Mucosal-like</td>\n      <td>none</td>\n      <td>1.325638</td>\n      <td>0.024151</td>\n    </tr>\n    <tr>\n      <th>51</th>\n      <td>vil1</td>\n      <td>vil1</td>\n      <td>ENSDARG00000040466</td>\n      <td>Mucosal-like</td>\n      <td>none</td>\n      <td>1.128014</td>\n      <td>0.764247</td>\n    </tr>\n    <tr>\n      <th>52</th>\n      <td>pou2f3</td>\n      <td>pou2f3</td>\n      <td>ENSDARG00000052387</td>\n      <td>Mucosal-like</td>\n      <td>none</td>\n      <td>1.114771</td>\n      <td>-0.448782</td>\n    </tr>\n  </tbody>\n</table>\n</div>"
     },
     "execution_count": 23,
     "metadata": {},
     "output_type": "execute_result"
    }
   ],
   "source": [
    "mucosal = merged_gene_list[merged_gene_list['cluster'] == \"Mucosal-like\"]\n",
    "mucosal.head(10)"
   ],
   "metadata": {
    "collapsed": false,
    "pycharm": {
     "name": "#%%\n"
    }
   }
  },
  {
   "cell_type": "code",
   "execution_count": 24,
   "outputs": [
    {
     "data": {
      "text/plain": "      gene_hou gene_hartig              GeneID                  cluster  \\\n83       krt94       krt94  ENSDARG00000044975  Intermediate Epithelial   \n84       krt93       krt93  ENSDARG00000044976  Intermediate Epithelial   \n85       cldna       cldna  ENSDARG00000069888  Intermediate Epithelial   \n86        krt5        krt5  ENSDARG00000058371  Intermediate Epithelial   \n87  zgc:194948  zgc:194948  ENSDARG00000103164  Intermediate Epithelial   \n88     srd5a2a     srd5a2a  ENSDARG00000043587  Intermediate Epithelial   \n89  serpinb1l4  serpinb1l4  ENSDARG00000096888  Intermediate Epithelial   \n90       gstp1       gstp1  ENSDARG00000104068  Intermediate Epithelial   \n91  zgc:173729  zgc:173729  ENSDARG00000057263  Intermediate Epithelial   \n92      ccl27a      ccl27a  ENSDARG00000058570  Intermediate Epithelial   \n\n   DiffExp  logFC_hou  logFC_hartig  \n83    none   2.460201      2.091978  \n84    none   1.827586      2.348522  \n85    none   1.757019     -0.327562  \n86    none   1.517741      1.800313  \n87    none   1.428737      0.245984  \n88    none   1.419464      0.284146  \n89    none   1.404506      0.035227  \n90    none   1.343818     -0.330600  \n91    none   1.264301     -0.840544  \n92    none   1.255464      0.813371  ",
      "text/html": "<div>\n<style scoped>\n    .dataframe tbody tr th:only-of-type {\n        vertical-align: middle;\n    }\n\n    .dataframe tbody tr th {\n        vertical-align: top;\n    }\n\n    .dataframe thead th {\n        text-align: right;\n    }\n</style>\n<table border=\"1\" class=\"dataframe\">\n  <thead>\n    <tr style=\"text-align: right;\">\n      <th></th>\n      <th>gene_hou</th>\n      <th>gene_hartig</th>\n      <th>GeneID</th>\n      <th>cluster</th>\n      <th>DiffExp</th>\n      <th>logFC_hou</th>\n      <th>logFC_hartig</th>\n    </tr>\n  </thead>\n  <tbody>\n    <tr>\n      <th>83</th>\n      <td>krt94</td>\n      <td>krt94</td>\n      <td>ENSDARG00000044975</td>\n      <td>Intermediate Epithelial</td>\n      <td>none</td>\n      <td>2.460201</td>\n      <td>2.091978</td>\n    </tr>\n    <tr>\n      <th>84</th>\n      <td>krt93</td>\n      <td>krt93</td>\n      <td>ENSDARG00000044976</td>\n      <td>Intermediate Epithelial</td>\n      <td>none</td>\n      <td>1.827586</td>\n      <td>2.348522</td>\n    </tr>\n    <tr>\n      <th>85</th>\n      <td>cldna</td>\n      <td>cldna</td>\n      <td>ENSDARG00000069888</td>\n      <td>Intermediate Epithelial</td>\n      <td>none</td>\n      <td>1.757019</td>\n      <td>-0.327562</td>\n    </tr>\n    <tr>\n      <th>86</th>\n      <td>krt5</td>\n      <td>krt5</td>\n      <td>ENSDARG00000058371</td>\n      <td>Intermediate Epithelial</td>\n      <td>none</td>\n      <td>1.517741</td>\n      <td>1.800313</td>\n    </tr>\n    <tr>\n      <th>87</th>\n      <td>zgc:194948</td>\n      <td>zgc:194948</td>\n      <td>ENSDARG00000103164</td>\n      <td>Intermediate Epithelial</td>\n      <td>none</td>\n      <td>1.428737</td>\n      <td>0.245984</td>\n    </tr>\n    <tr>\n      <th>88</th>\n      <td>srd5a2a</td>\n      <td>srd5a2a</td>\n      <td>ENSDARG00000043587</td>\n      <td>Intermediate Epithelial</td>\n      <td>none</td>\n      <td>1.419464</td>\n      <td>0.284146</td>\n    </tr>\n    <tr>\n      <th>89</th>\n      <td>serpinb1l4</td>\n      <td>serpinb1l4</td>\n      <td>ENSDARG00000096888</td>\n      <td>Intermediate Epithelial</td>\n      <td>none</td>\n      <td>1.404506</td>\n      <td>0.035227</td>\n    </tr>\n    <tr>\n      <th>90</th>\n      <td>gstp1</td>\n      <td>gstp1</td>\n      <td>ENSDARG00000104068</td>\n      <td>Intermediate Epithelial</td>\n      <td>none</td>\n      <td>1.343818</td>\n      <td>-0.330600</td>\n    </tr>\n    <tr>\n      <th>91</th>\n      <td>zgc:173729</td>\n      <td>zgc:173729</td>\n      <td>ENSDARG00000057263</td>\n      <td>Intermediate Epithelial</td>\n      <td>none</td>\n      <td>1.264301</td>\n      <td>-0.840544</td>\n    </tr>\n    <tr>\n      <th>92</th>\n      <td>ccl27a</td>\n      <td>ccl27a</td>\n      <td>ENSDARG00000058570</td>\n      <td>Intermediate Epithelial</td>\n      <td>none</td>\n      <td>1.255464</td>\n      <td>0.813371</td>\n    </tr>\n  </tbody>\n</table>\n</div>"
     },
     "execution_count": 24,
     "metadata": {},
     "output_type": "execute_result"
    }
   ],
   "source": [
    "intermediate = merged_gene_list[merged_gene_list['cluster'] == \"Intermediate Epithelial\"]\n",
    "intermediate.head(10)"
   ],
   "metadata": {
    "collapsed": false,
    "pycharm": {
     "name": "#%%\n"
    }
   }
  },
  {
   "cell_type": "code",
   "execution_count": 25,
   "outputs": [
    {
     "data": {
      "text/plain": "     gene_hou gene_hartig              GeneID           cluster DiffExp  \\\n128     sparc       sparc  ENSDARG00000019353  Basal Epithelial    none   \n129     cldni       cldni  ENSDARG00000054616  Basal Epithelial    none   \n130     apoeb       apoeb  ENSDARG00000040295  Basal Epithelial    none   \n131     itgb4       itgb4  ENSDARG00000028507  Basal Epithelial    none   \n132  col17a1b    col17a1b  ENSDARG00000079011  Basal Epithelial    none   \n133    alpi.1      alpi.1  ENSDARG00000015273  Basal Epithelial    none   \n134      epgn        epgn  ENSDARG00000104992  Basal Epithelial    none   \n135   col1a1b     col1a1b  ENSDARG00000035809  Basal Epithelial    none   \n136    col1a2      col1a2  ENSDARG00000020007  Basal Epithelial    none   \n137     lamc2       lamc2  ENSDARG00000068288  Basal Epithelial    none   \n\n     logFC_hou  logFC_hartig  \n128   2.322881      1.413962  \n129   2.224847      0.557653  \n130   2.055978      0.805641  \n131   1.902069      0.420908  \n132   1.900367      0.806302  \n133   1.811310      1.103267  \n134   1.773800     -0.343138  \n135   1.588550      1.610108  \n136   1.548891      1.418572  \n137   1.494501     -0.755605  ",
      "text/html": "<div>\n<style scoped>\n    .dataframe tbody tr th:only-of-type {\n        vertical-align: middle;\n    }\n\n    .dataframe tbody tr th {\n        vertical-align: top;\n    }\n\n    .dataframe thead th {\n        text-align: right;\n    }\n</style>\n<table border=\"1\" class=\"dataframe\">\n  <thead>\n    <tr style=\"text-align: right;\">\n      <th></th>\n      <th>gene_hou</th>\n      <th>gene_hartig</th>\n      <th>GeneID</th>\n      <th>cluster</th>\n      <th>DiffExp</th>\n      <th>logFC_hou</th>\n      <th>logFC_hartig</th>\n    </tr>\n  </thead>\n  <tbody>\n    <tr>\n      <th>128</th>\n      <td>sparc</td>\n      <td>sparc</td>\n      <td>ENSDARG00000019353</td>\n      <td>Basal Epithelial</td>\n      <td>none</td>\n      <td>2.322881</td>\n      <td>1.413962</td>\n    </tr>\n    <tr>\n      <th>129</th>\n      <td>cldni</td>\n      <td>cldni</td>\n      <td>ENSDARG00000054616</td>\n      <td>Basal Epithelial</td>\n      <td>none</td>\n      <td>2.224847</td>\n      <td>0.557653</td>\n    </tr>\n    <tr>\n      <th>130</th>\n      <td>apoeb</td>\n      <td>apoeb</td>\n      <td>ENSDARG00000040295</td>\n      <td>Basal Epithelial</td>\n      <td>none</td>\n      <td>2.055978</td>\n      <td>0.805641</td>\n    </tr>\n    <tr>\n      <th>131</th>\n      <td>itgb4</td>\n      <td>itgb4</td>\n      <td>ENSDARG00000028507</td>\n      <td>Basal Epithelial</td>\n      <td>none</td>\n      <td>1.902069</td>\n      <td>0.420908</td>\n    </tr>\n    <tr>\n      <th>132</th>\n      <td>col17a1b</td>\n      <td>col17a1b</td>\n      <td>ENSDARG00000079011</td>\n      <td>Basal Epithelial</td>\n      <td>none</td>\n      <td>1.900367</td>\n      <td>0.806302</td>\n    </tr>\n    <tr>\n      <th>133</th>\n      <td>alpi.1</td>\n      <td>alpi.1</td>\n      <td>ENSDARG00000015273</td>\n      <td>Basal Epithelial</td>\n      <td>none</td>\n      <td>1.811310</td>\n      <td>1.103267</td>\n    </tr>\n    <tr>\n      <th>134</th>\n      <td>epgn</td>\n      <td>epgn</td>\n      <td>ENSDARG00000104992</td>\n      <td>Basal Epithelial</td>\n      <td>none</td>\n      <td>1.773800</td>\n      <td>-0.343138</td>\n    </tr>\n    <tr>\n      <th>135</th>\n      <td>col1a1b</td>\n      <td>col1a1b</td>\n      <td>ENSDARG00000035809</td>\n      <td>Basal Epithelial</td>\n      <td>none</td>\n      <td>1.588550</td>\n      <td>1.610108</td>\n    </tr>\n    <tr>\n      <th>136</th>\n      <td>col1a2</td>\n      <td>col1a2</td>\n      <td>ENSDARG00000020007</td>\n      <td>Basal Epithelial</td>\n      <td>none</td>\n      <td>1.548891</td>\n      <td>1.418572</td>\n    </tr>\n    <tr>\n      <th>137</th>\n      <td>lamc2</td>\n      <td>lamc2</td>\n      <td>ENSDARG00000068288</td>\n      <td>Basal Epithelial</td>\n      <td>none</td>\n      <td>1.494501</td>\n      <td>-0.755605</td>\n    </tr>\n  </tbody>\n</table>\n</div>"
     },
     "execution_count": 25,
     "metadata": {},
     "output_type": "execute_result"
    }
   ],
   "source": [
    "basal = merged_gene_list[merged_gene_list['cluster'] == \"Basal Epithelial\"]\n",
    "basal.head(10)"
   ],
   "metadata": {
    "collapsed": false,
    "pycharm": {
     "name": "#%%\n"
    }
   }
  },
  {
   "cell_type": "code",
   "execution_count": 26,
   "outputs": [
    {
     "data": {
      "text/plain": "           gene_hou     gene_hartig              GeneID        cluster  \\\n176          cxcl19          cxcl19  ENSDARG00000102776  Hematopoietic   \n177            grn1            grn1  ENSDARG00000089362  Hematopoietic   \n178            ctsd            ctsd  ENSDARG00000057698  Hematopoietic   \n179            lgmn            lgmn  ENSDARG00000039150  Hematopoietic   \n180          fabp7b          fabp7b  ENSDARG00000034650  Hematopoietic   \n181  si:dkey-5n18.1  si:dkey-5n18.1  ENSDARG00000043436  Hematopoietic   \n182            c1qc            c1qc  ENSDARG00000095627  Hematopoietic   \n183            ctsz            ctsz  ENSDARG00000043081  Hematopoietic   \n184           ctsba           ctsba  ENSDARG00000055120  Hematopoietic   \n185            c1qb            c1qb  ENSDARG00000044612  Hematopoietic   \n\n           DiffExp  logFC_hou  logFC_hartig  \n176           none   3.674253     -1.261595  \n177           none   3.617530     -3.258821  \n178           none   3.291597     -1.379690  \n179           none   3.203404     -2.278029  \n180  downregulated   3.186422     -3.605687  \n181           none   2.997493     -1.956973  \n182           none   2.944827     -2.189097  \n183           none   2.910314     -1.766688  \n184           none   2.844197     -1.913099  \n185           none   2.793005     -2.203856  ",
      "text/html": "<div>\n<style scoped>\n    .dataframe tbody tr th:only-of-type {\n        vertical-align: middle;\n    }\n\n    .dataframe tbody tr th {\n        vertical-align: top;\n    }\n\n    .dataframe thead th {\n        text-align: right;\n    }\n</style>\n<table border=\"1\" class=\"dataframe\">\n  <thead>\n    <tr style=\"text-align: right;\">\n      <th></th>\n      <th>gene_hou</th>\n      <th>gene_hartig</th>\n      <th>GeneID</th>\n      <th>cluster</th>\n      <th>DiffExp</th>\n      <th>logFC_hou</th>\n      <th>logFC_hartig</th>\n    </tr>\n  </thead>\n  <tbody>\n    <tr>\n      <th>176</th>\n      <td>cxcl19</td>\n      <td>cxcl19</td>\n      <td>ENSDARG00000102776</td>\n      <td>Hematopoietic</td>\n      <td>none</td>\n      <td>3.674253</td>\n      <td>-1.261595</td>\n    </tr>\n    <tr>\n      <th>177</th>\n      <td>grn1</td>\n      <td>grn1</td>\n      <td>ENSDARG00000089362</td>\n      <td>Hematopoietic</td>\n      <td>none</td>\n      <td>3.617530</td>\n      <td>-3.258821</td>\n    </tr>\n    <tr>\n      <th>178</th>\n      <td>ctsd</td>\n      <td>ctsd</td>\n      <td>ENSDARG00000057698</td>\n      <td>Hematopoietic</td>\n      <td>none</td>\n      <td>3.291597</td>\n      <td>-1.379690</td>\n    </tr>\n    <tr>\n      <th>179</th>\n      <td>lgmn</td>\n      <td>lgmn</td>\n      <td>ENSDARG00000039150</td>\n      <td>Hematopoietic</td>\n      <td>none</td>\n      <td>3.203404</td>\n      <td>-2.278029</td>\n    </tr>\n    <tr>\n      <th>180</th>\n      <td>fabp7b</td>\n      <td>fabp7b</td>\n      <td>ENSDARG00000034650</td>\n      <td>Hematopoietic</td>\n      <td>downregulated</td>\n      <td>3.186422</td>\n      <td>-3.605687</td>\n    </tr>\n    <tr>\n      <th>181</th>\n      <td>si:dkey-5n18.1</td>\n      <td>si:dkey-5n18.1</td>\n      <td>ENSDARG00000043436</td>\n      <td>Hematopoietic</td>\n      <td>none</td>\n      <td>2.997493</td>\n      <td>-1.956973</td>\n    </tr>\n    <tr>\n      <th>182</th>\n      <td>c1qc</td>\n      <td>c1qc</td>\n      <td>ENSDARG00000095627</td>\n      <td>Hematopoietic</td>\n      <td>none</td>\n      <td>2.944827</td>\n      <td>-2.189097</td>\n    </tr>\n    <tr>\n      <th>183</th>\n      <td>ctsz</td>\n      <td>ctsz</td>\n      <td>ENSDARG00000043081</td>\n      <td>Hematopoietic</td>\n      <td>none</td>\n      <td>2.910314</td>\n      <td>-1.766688</td>\n    </tr>\n    <tr>\n      <th>184</th>\n      <td>ctsba</td>\n      <td>ctsba</td>\n      <td>ENSDARG00000055120</td>\n      <td>Hematopoietic</td>\n      <td>none</td>\n      <td>2.844197</td>\n      <td>-1.913099</td>\n    </tr>\n    <tr>\n      <th>185</th>\n      <td>c1qb</td>\n      <td>c1qb</td>\n      <td>ENSDARG00000044612</td>\n      <td>Hematopoietic</td>\n      <td>none</td>\n      <td>2.793005</td>\n      <td>-2.203856</td>\n    </tr>\n  </tbody>\n</table>\n</div>"
     },
     "execution_count": 26,
     "metadata": {},
     "output_type": "execute_result"
    }
   ],
   "source": [
    "hema = merged_gene_list[merged_gene_list['cluster'] == \"Hematopoietic\"]\n",
    "hema.head(10)"
   ],
   "metadata": {
    "collapsed": false,
    "pycharm": {
     "name": "#%%\n"
    }
   }
  },
  {
   "cell_type": "code",
   "execution_count": 27,
   "outputs": [
    {
     "data": {
      "text/plain": "            gene_hou      gene_hartig              GeneID      cluster  \\\n214            pcp4a            pcp4a  ENSDARG00000053130  Mesenchymal   \n215             and2             and2  ENSDARG00000079302  Mesenchymal   \n216          c1qtnf5          c1qtnf5  ENSDARG00000056134  Mesenchymal   \n217             lepb             lepb  ENSDARG00000045548  Mesenchymal   \n218          tnfaip6          tnfaip6  ENSDARG00000093440  Mesenchymal   \n219         serpine1         serpine1  ENSDARG00000056795  Mesenchymal   \n220            dkk3b            dkk3b  ENSDARG00000070683  Mesenchymal   \n221              tnc              tnc  ENSDARG00000021948  Mesenchymal   \n222  si:dkey-12l12.1  si:dkey-12l12.1  ENSDARG00000094422  Mesenchymal   \n223   CABZ01056516.1   CABZ01056516.1  ENSDARG00000102467  Mesenchymal   \n\n    DiffExp  logFC_hou  logFC_hartig  \n214    none   3.078231      1.038199  \n215    none   2.871976     -0.168843  \n216    none   2.451365      0.290807  \n217    none   2.383241     -0.918149  \n218    none   2.213627     -1.127099  \n219    none   2.034767     -0.565439  \n220    none   1.837909      0.057013  \n221    none   1.821817     -0.134358  \n222    none   1.761669      0.571107  \n223    none   1.695420     -0.558114  ",
      "text/html": "<div>\n<style scoped>\n    .dataframe tbody tr th:only-of-type {\n        vertical-align: middle;\n    }\n\n    .dataframe tbody tr th {\n        vertical-align: top;\n    }\n\n    .dataframe thead th {\n        text-align: right;\n    }\n</style>\n<table border=\"1\" class=\"dataframe\">\n  <thead>\n    <tr style=\"text-align: right;\">\n      <th></th>\n      <th>gene_hou</th>\n      <th>gene_hartig</th>\n      <th>GeneID</th>\n      <th>cluster</th>\n      <th>DiffExp</th>\n      <th>logFC_hou</th>\n      <th>logFC_hartig</th>\n    </tr>\n  </thead>\n  <tbody>\n    <tr>\n      <th>214</th>\n      <td>pcp4a</td>\n      <td>pcp4a</td>\n      <td>ENSDARG00000053130</td>\n      <td>Mesenchymal</td>\n      <td>none</td>\n      <td>3.078231</td>\n      <td>1.038199</td>\n    </tr>\n    <tr>\n      <th>215</th>\n      <td>and2</td>\n      <td>and2</td>\n      <td>ENSDARG00000079302</td>\n      <td>Mesenchymal</td>\n      <td>none</td>\n      <td>2.871976</td>\n      <td>-0.168843</td>\n    </tr>\n    <tr>\n      <th>216</th>\n      <td>c1qtnf5</td>\n      <td>c1qtnf5</td>\n      <td>ENSDARG00000056134</td>\n      <td>Mesenchymal</td>\n      <td>none</td>\n      <td>2.451365</td>\n      <td>0.290807</td>\n    </tr>\n    <tr>\n      <th>217</th>\n      <td>lepb</td>\n      <td>lepb</td>\n      <td>ENSDARG00000045548</td>\n      <td>Mesenchymal</td>\n      <td>none</td>\n      <td>2.383241</td>\n      <td>-0.918149</td>\n    </tr>\n    <tr>\n      <th>218</th>\n      <td>tnfaip6</td>\n      <td>tnfaip6</td>\n      <td>ENSDARG00000093440</td>\n      <td>Mesenchymal</td>\n      <td>none</td>\n      <td>2.213627</td>\n      <td>-1.127099</td>\n    </tr>\n    <tr>\n      <th>219</th>\n      <td>serpine1</td>\n      <td>serpine1</td>\n      <td>ENSDARG00000056795</td>\n      <td>Mesenchymal</td>\n      <td>none</td>\n      <td>2.034767</td>\n      <td>-0.565439</td>\n    </tr>\n    <tr>\n      <th>220</th>\n      <td>dkk3b</td>\n      <td>dkk3b</td>\n      <td>ENSDARG00000070683</td>\n      <td>Mesenchymal</td>\n      <td>none</td>\n      <td>1.837909</td>\n      <td>0.057013</td>\n    </tr>\n    <tr>\n      <th>221</th>\n      <td>tnc</td>\n      <td>tnc</td>\n      <td>ENSDARG00000021948</td>\n      <td>Mesenchymal</td>\n      <td>none</td>\n      <td>1.821817</td>\n      <td>-0.134358</td>\n    </tr>\n    <tr>\n      <th>222</th>\n      <td>si:dkey-12l12.1</td>\n      <td>si:dkey-12l12.1</td>\n      <td>ENSDARG00000094422</td>\n      <td>Mesenchymal</td>\n      <td>none</td>\n      <td>1.761669</td>\n      <td>0.571107</td>\n    </tr>\n    <tr>\n      <th>223</th>\n      <td>CABZ01056516.1</td>\n      <td>CABZ01056516.1</td>\n      <td>ENSDARG00000102467</td>\n      <td>Mesenchymal</td>\n      <td>none</td>\n      <td>1.695420</td>\n      <td>-0.558114</td>\n    </tr>\n  </tbody>\n</table>\n</div>"
     },
     "execution_count": 27,
     "metadata": {},
     "output_type": "execute_result"
    }
   ],
   "source": [
    "mesenchymal = merged_gene_list[merged_gene_list['cluster'] == \"Mesenchymal\"]\n",
    "mesenchymal.head(10)"
   ],
   "metadata": {
    "collapsed": false,
    "pycharm": {
     "name": "#%%\n"
    }
   }
  },
  {
   "cell_type": "code",
   "execution_count": 8,
   "outputs": [],
   "source": [
    "# new method to include \"fuzzy\" matches (difference of one character)\n",
    "\n",
    "def match(s1, s2):\n",
    "    s1 = str(s1)\n",
    "    s2 = str(s2)\n",
    "    if len(s1) != len(s2):\n",
    "        return False\n",
    "    combo = zip(s1, s2)\n",
    "    return any(c1 != c2 for c1, c2 in combo) and all(c1 == c2 for c1, c2 in combo)\n",
    "test ={'genes':['test']}\n",
    "fuzzy = pd.DataFrame(test)\n",
    "for index, row in hou.iterrows():\n",
    "    for index2, row2 in hartig.iterrows():\n",
    "        houGene = row['gene']\n",
    "        hartigGene = row2['Symbol']\n",
    "        if houGene == hartigGene:\n",
    "            fuzzy.loc[len(fuzzy.index)] = row['gene']\n",
    "        elif match(houGene, hartigGene)==True:\n",
    "            fuzzy.loc[len(fuzzy.index)] = row['gene']\n",
    "# need to add a condition where we don't add to the df if the gene is already in it"
   ],
   "metadata": {
    "collapsed": false,
    "pycharm": {
     "name": "#%%\n"
    }
   }
  },
  {
   "cell_type": "code",
   "execution_count": 9,
   "outputs": [
    {
     "data": {
      "text/plain": "                 genes\n0                 test\n1    si:ch211-207n23.2\n2    si:ch211-207n23.2\n3           zgc:111983\n4           zgc:111983\n..                 ...\n823            aldh1a2\n824            aldh1a2\n825             prrx1a\n826             prrx1a\n827             prrx1a\n\n[828 rows x 1 columns]",
      "text/html": "<div>\n<style scoped>\n    .dataframe tbody tr th:only-of-type {\n        vertical-align: middle;\n    }\n\n    .dataframe tbody tr th {\n        vertical-align: top;\n    }\n\n    .dataframe thead th {\n        text-align: right;\n    }\n</style>\n<table border=\"1\" class=\"dataframe\">\n  <thead>\n    <tr style=\"text-align: right;\">\n      <th></th>\n      <th>genes</th>\n    </tr>\n  </thead>\n  <tbody>\n    <tr>\n      <th>0</th>\n      <td>test</td>\n    </tr>\n    <tr>\n      <th>1</th>\n      <td>si:ch211-207n23.2</td>\n    </tr>\n    <tr>\n      <th>2</th>\n      <td>si:ch211-207n23.2</td>\n    </tr>\n    <tr>\n      <th>3</th>\n      <td>zgc:111983</td>\n    </tr>\n    <tr>\n      <th>4</th>\n      <td>zgc:111983</td>\n    </tr>\n    <tr>\n      <th>...</th>\n      <td>...</td>\n    </tr>\n    <tr>\n      <th>823</th>\n      <td>aldh1a2</td>\n    </tr>\n    <tr>\n      <th>824</th>\n      <td>aldh1a2</td>\n    </tr>\n    <tr>\n      <th>825</th>\n      <td>prrx1a</td>\n    </tr>\n    <tr>\n      <th>826</th>\n      <td>prrx1a</td>\n    </tr>\n    <tr>\n      <th>827</th>\n      <td>prrx1a</td>\n    </tr>\n  </tbody>\n</table>\n<p>828 rows × 1 columns</p>\n</div>"
     },
     "execution_count": 9,
     "metadata": {},
     "output_type": "execute_result"
    }
   ],
   "source": [
    "fuzzy"
   ],
   "metadata": {
    "collapsed": false,
    "pycharm": {
     "name": "#%%\n"
    }
   }
  },
  {
   "cell_type": "code",
   "execution_count": null,
   "outputs": [],
   "source": [],
   "metadata": {
    "collapsed": false,
    "pycharm": {
     "name": "#%%\n"
    }
   }
  }
 ],
 "metadata": {
  "kernelspec": {
   "display_name": "Python 3",
   "language": "python",
   "name": "python3"
  },
  "language_info": {
   "codemirror_mode": {
    "name": "ipython",
    "version": 2
   },
   "file_extension": ".py",
   "mimetype": "text/x-python",
   "name": "python",
   "nbconvert_exporter": "python",
   "pygments_lexer": "ipython2",
   "version": "2.7.6"
  }
 },
 "nbformat": 4,
 "nbformat_minor": 0
}
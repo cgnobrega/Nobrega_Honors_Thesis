{
 "cells": [
  {
   "cell_type": "code",
   "execution_count": 1,
   "metadata": {},
   "outputs": [],
   "source": [
    "%load_ext autoreload\n",
    "%autoreload 2"
   ]
  },
  {
   "cell_type": "code",
   "execution_count": 2,
   "metadata": {},
   "outputs": [],
   "source": [
    "import sys\n",
    "sys.path.append('../')"
   ]
  },
  {
   "cell_type": "code",
   "execution_count": 3,
   "metadata": {},
   "outputs": [],
   "source": [
    "from collections import defaultdict\n",
    "import numpy as np\n",
    "import pandas as pd\n",
    "import anndata\n",
    "from rnasieve.preprocessing import model_from_raw_counts"
   ]
  },
  {
   "cell_type": "code",
   "execution_count": 6,
   "metadata": {},
   "outputs": [
    {
     "name": "stderr",
     "output_type": "stream",
     "text": [
      "A subdirectory or file ..\\example_data already exists.\n",
      "Downloading...\n",
      "From: https://drive.google.com/uc?id=1U3u-mbM7dnSSINqipq-fdjrMr8Fk__rr\n",
      "To: C:\\Users\\nobre\\OneDrive\\Desktop\\FALL 2021\\BIO 500\\Nobrega_Honors_Thesis\\Nobrega_Honors_Thesis\\example_data\\muscle_subset_bulk.h5ad\n",
      "100%|██████████| 4.01M/4.01M [00:00<00:00, 4.16MB/s]\n",
      "[WinError 32] The process cannot access the file because it is being used by another process: 'C:\\\\Users\\\\nobre\\\\OneDrive\\\\Desktop\\\\FALL 2021\\\\BIO 500\\\\Nobrega_Honors_Thesis\\\\Nobrega_Honors_Thesis\\\\example_data\\\\muscle_subset_bulk.h5aduas5m7w3tmp'\n",
      "Downloading...\n",
      "From: https://drive.google.com/uc?id=1wKQ_XWnK2tDJNS709u707uXlj2pqnvfX\n",
      "To: C:\\Users\\nobre\\OneDrive\\Desktop\\FALL 2021\\BIO 500\\Nobrega_Honors_Thesis\\Nobrega_Honors_Thesis\\example_data\\muscle_subset.h5ad\n",
      "100%|██████████| 28.8M/28.8M [00:05<00:00, 5.27MB/s]\n",
      "[WinError 32] The process cannot access the file because it is being used by another process: 'C:\\\\Users\\\\nobre\\\\OneDrive\\\\Desktop\\\\FALL 2021\\\\BIO 500\\\\Nobrega_Honors_Thesis\\\\Nobrega_Honors_Thesis\\\\example_data\\\\muscle_subset.h5adz3z7arhwtmp'\n"
     ]
    }
   ],
   "source": [
    "# Download example data. See example_data.ipynb to see how it was preprocessed.\n",
    "#!pip3 install gdown\n",
    "import gdown\n",
    "\n",
    "!mkdir ..\\example_data\n",
    "gdown.download('https://drive.google.com/uc?id=1U3u-mbM7dnSSINqipq-fdjrMr8Fk__rr', '../example_data/muscle_subset_bulk.h5ad')\n",
    "gdown.download('https://drive.google.com/uc?id=1wKQ_XWnK2tDJNS709u707uXlj2pqnvfX', '../example_data/muscle_subset.h5ad')"
   ]
  },
  {
   "cell_type": "code",
   "execution_count": 7,
   "metadata": {
    "scrolled": true
   },
   "outputs": [
    {
     "name": "stdout",
     "output_type": "stream",
     "text": [
      "Aggregating by ontology class...\n",
      "Aggregating bulks by age group...\n",
      "Done!\n"
     ]
    }
   ],
   "source": [
    "# Example raw count prep\n",
    "subset_bulk = anndata.read_h5ad('../example_data/muscle_subset_bulk.h5ad')\n",
    "subset = anndata.read_h5ad('../example_data/muscle_subset.h5ad')\n",
    "\n",
    "# Raw counts prep\n",
    "print('Aggregating by ontology class...')\n",
    "counts_by_onto_class = {}\n",
    "for i in range(len(subset)):\n",
    "    sc = subset[i]\n",
    "    if len(sc.obs['cell_ontology_class']) == 0:\n",
    "        continue\n",
    "    cell_onto_class = sc.obs['cell_ontology_class'][0]\n",
    "    if cell_onto_class not in counts_by_onto_class:\n",
    "        counts_by_onto_class[cell_onto_class] = np.empty((sc.X.shape[1], 0), dtype=np.float32)\n",
    "    counts_by_onto_class[cell_onto_class] = np.hstack(\n",
    "        (counts_by_onto_class[cell_onto_class], sc.X.toarray().reshape(-1, 1)))\n",
    "    \n",
    "# Bulk prep\n",
    "print('Aggregating bulks by age group...')\n",
    "G = subset_bulk.n_vars\n",
    "bulk_by_age = defaultdict(list)\n",
    "for i in range(len(subset_bulk)):\n",
    "    bulk = subset_bulk[i]\n",
    "    if len(bulk.obs['Age']) == 0:\n",
    "        continue\n",
    "    age = bulk.obs['Age'][0]\n",
    "    bulk_by_age[age].append(bulk.X.toarray().reshape(-1, 1))\n",
    "\n",
    "bulk_labels = []\n",
    "psis = np.empty((G, 0), dtype=np.float32)\n",
    "for age in sorted(bulk_by_age.keys()):\n",
    "    bulks = bulk_by_age[age]\n",
    "    for i in range(len(bulks)):\n",
    "        bulk_labels.append(\"{} months, subject {}\".format(age, i))\n",
    "        psis = np.hstack((psis, bulks[i]))\n",
    "        \n",
    "print('Done!')"
   ]
  },
  {
   "cell_type": "code",
   "execution_count": 8,
   "metadata": {},
   "outputs": [],
   "source": [
    "model, cleaned_psis = model_from_raw_counts(counts_by_onto_class, psis[:, :2]) #2 is arbitrary here"
   ]
  },
  {
   "cell_type": "code",
   "execution_count": 9,
   "metadata": {
    "scrolled": true
   },
   "outputs": [
    {
     "data": {
      "text/plain": "          B cell  T cell  endothelial cell  macrophage  mesenchymal stem cell  \\\nBulk 0  0.027962     0.0          0.149952    0.243373               0.146388   \nBulk 1  0.037864     0.0          0.141347    0.286524               0.219249   \n\n        skeletal muscle satellite cell  \nBulk 0                        0.432325  \nBulk 1                        0.315016  ",
      "text/html": "<div>\n<style scoped>\n    .dataframe tbody tr th:only-of-type {\n        vertical-align: middle;\n    }\n\n    .dataframe tbody tr th {\n        vertical-align: top;\n    }\n\n    .dataframe thead th {\n        text-align: right;\n    }\n</style>\n<table border=\"1\" class=\"dataframe\">\n  <thead>\n    <tr style=\"text-align: right;\">\n      <th></th>\n      <th>B cell</th>\n      <th>T cell</th>\n      <th>endothelial cell</th>\n      <th>macrophage</th>\n      <th>mesenchymal stem cell</th>\n      <th>skeletal muscle satellite cell</th>\n    </tr>\n  </thead>\n  <tbody>\n    <tr>\n      <th>Bulk 0</th>\n      <td>0.027962</td>\n      <td>0.0</td>\n      <td>0.149952</td>\n      <td>0.243373</td>\n      <td>0.146388</td>\n      <td>0.432325</td>\n    </tr>\n    <tr>\n      <th>Bulk 1</th>\n      <td>0.037864</td>\n      <td>0.0</td>\n      <td>0.141347</td>\n      <td>0.286524</td>\n      <td>0.219249</td>\n      <td>0.315016</td>\n    </tr>\n  </tbody>\n</table>\n</div>"
     },
     "execution_count": 9,
     "metadata": {},
     "output_type": "execute_result"
    }
   ],
   "source": [
    "model.predict(cleaned_psis)"
   ]
  },
  {
   "cell_type": "code",
   "execution_count": 10,
   "metadata": {},
   "outputs": [
    {
     "data": {
      "text/plain": "[[(0.005397159556887816, 0.05052618121334371),\n  (0.0, 0.027483344629423374),\n  (0.14701967720820378, 0.15288404127797853),\n  (0.23995195912463785, 0.2467949809124842),\n  (0.14294818334933937, 0.14982743272804674),\n  (0.37960853252094834, 0.4850418521081296)],\n [(0.010698673728502063, 0.0650298248978245),\n  (0.0, 0.02557179433682272),\n  (0.13677379183665095, 0.14592113889683977),\n  (0.28109788423676113, 0.2919491978683965),\n  (0.2151222600765967, 0.2233753843716598),\n  (0.25276135293683943, 0.37727049114992894)]]"
     },
     "execution_count": 10,
     "metadata": {},
     "output_type": "execute_result"
    }
   ],
   "source": [
    "# In this example, the intervals at a significance level of 0.05 indicate the estimate is poor.\n",
    "# We set sig=0.9999 for the sake of visualization.\n",
    "model.compute_marginal_confidence_intervals(sig=0.9999)"
   ]
  },
  {
   "cell_type": "code",
   "execution_count": 11,
   "metadata": {},
   "outputs": [
    {
     "data": {
      "text/html": "\n<div id=\"altair-viz-e9a834b94bec4390b90355b5590b6c99\"></div>\n<script type=\"text/javascript\">\n  var VEGA_DEBUG = (typeof VEGA_DEBUG == \"undefined\") ? {} : VEGA_DEBUG;\n  (function(spec, embedOpt){\n    let outputDiv = document.currentScript.previousElementSibling;\n    if (outputDiv.id !== \"altair-viz-e9a834b94bec4390b90355b5590b6c99\") {\n      outputDiv = document.getElementById(\"altair-viz-e9a834b94bec4390b90355b5590b6c99\");\n    }\n    const paths = {\n      \"vega\": \"https://cdn.jsdelivr.net/npm//vega@5?noext\",\n      \"vega-lib\": \"https://cdn.jsdelivr.net/npm//vega-lib?noext\",\n      \"vega-lite\": \"https://cdn.jsdelivr.net/npm//vega-lite@4.17.0?noext\",\n      \"vega-embed\": \"https://cdn.jsdelivr.net/npm//vega-embed@6?noext\",\n    };\n\n    function maybeLoadScript(lib, version) {\n      var key = `${lib.replace(\"-\", \"\")}_version`;\n      return (VEGA_DEBUG[key] == version) ?\n        Promise.resolve(paths[lib]) :\n        new Promise(function(resolve, reject) {\n          var s = document.createElement('script');\n          document.getElementsByTagName(\"head\")[0].appendChild(s);\n          s.async = true;\n          s.onload = () => {\n            VEGA_DEBUG[key] = version;\n            return resolve(paths[lib]);\n          };\n          s.onerror = () => reject(`Error loading script: ${paths[lib]}`);\n          s.src = paths[lib];\n        });\n    }\n\n    function showError(err) {\n      outputDiv.innerHTML = `<div class=\"error\" style=\"color:red;\">${err}</div>`;\n      throw err;\n    }\n\n    function displayChart(vegaEmbed) {\n      vegaEmbed(outputDiv, spec, embedOpt)\n        .catch(err => showError(`Javascript Error: ${err.message}<br>This usually means there's a typo in your chart specification. See the javascript console for the full traceback.`));\n    }\n\n    if(typeof define === \"function\" && define.amd) {\n      requirejs.config({paths});\n      require([\"vega-embed\"], displayChart, err => showError(`Error loading script: ${err.message}`));\n    } else {\n      maybeLoadScript(\"vega\", \"5\")\n        .then(() => maybeLoadScript(\"vega-lite\", \"4.17.0\"))\n        .then(() => maybeLoadScript(\"vega-embed\", \"6\"))\n        .catch(showError)\n        .then(() => displayChart(vegaEmbed));\n    }\n  })({\"config\": {\"view\": {\"continuousWidth\": 400, \"continuousHeight\": 300}}, \"data\": {\"name\": \"data-bb2a6f8d8c2241919e397307c726c218\"}, \"facet\": {\"column\": {\"field\": \"index\", \"title\": \"Bulk\", \"type\": \"nominal\"}}, \"spec\": {\"layer\": [{\"mark\": \"bar\", \"encoding\": {\"color\": {\"field\": \"cell_type\", \"type\": \"nominal\"}, \"x\": {\"axis\": {\"labels\": false, \"title\": \"Cell Type\"}, \"field\": \"cell_type\", \"type\": \"nominal\"}, \"y\": {\"axis\": {\"title\": \"Proportion\"}, \"field\": \"proportion\", \"type\": \"quantitative\"}}}, {\"mark\": \"errorbar\", \"encoding\": {\"x\": {\"axis\": {\"labels\": false, \"title\": \"Cell Type\"}, \"field\": \"cell_type\", \"type\": \"nominal\"}, \"y\": {\"field\": \"ci_low\", \"type\": \"quantitative\"}, \"y2\": {\"field\": \"ci_high\"}}}]}, \"title\": \"Muscle Proportion Estimates\", \"$schema\": \"https://vega.github.io/schema/vega-lite/v4.17.0.json\", \"datasets\": {\"data-bb2a6f8d8c2241919e397307c726c218\": [{\"index\": \"Bulk 0\", \"cell_type\": \"B cell\", \"proportion\": 0.02796167038511576, \"ci_err\": 0.022564510828227947, \"ci_low\": 0.005397159556887812, \"ci_high\": 0.05052618121334371}, {\"index\": \"Bulk 1\", \"cell_type\": \"B cell\", \"proportion\": 0.03786424931316328, \"ci_err\": 0.027165575584661216, \"ci_low\": 0.010698673728502067, \"ci_high\": 0.0650298248978245}, {\"index\": \"Bulk 0\", \"cell_type\": \"T cell\", \"proportion\": 0.0, \"ci_err\": 0.013741672314711687, \"ci_low\": 0.0, \"ci_high\": 0.013741672314711687}, {\"index\": \"Bulk 1\", \"cell_type\": \"T cell\", \"proportion\": 0.0, \"ci_err\": 0.01278589716841136, \"ci_low\": 0.0, \"ci_high\": 0.01278589716841136}, {\"index\": \"Bulk 0\", \"cell_type\": \"endothelial cell\", \"proportion\": 0.14995185924309115, \"ci_err\": 0.002932182034887376, \"ci_low\": 0.14701967720820378, \"ci_high\": 0.15288404127797853}, {\"index\": \"Bulk 1\", \"cell_type\": \"endothelial cell\", \"proportion\": 0.14134746536674536, \"ci_err\": 0.004573673530094413, \"ci_low\": 0.13677379183665095, \"ci_high\": 0.14592113889683977}, {\"index\": \"Bulk 0\", \"cell_type\": \"macrophage\", \"proportion\": 0.24337347001856102, \"ci_err\": 0.003421510893923174, \"ci_low\": 0.23995195912463785, \"ci_high\": 0.2467949809124842}, {\"index\": \"Bulk 1\", \"cell_type\": \"macrophage\", \"proportion\": 0.2865235410525788, \"ci_err\": 0.005425656815817692, \"ci_low\": 0.28109788423676113, \"ci_high\": 0.2919491978683965}, {\"index\": \"Bulk 0\", \"cell_type\": \"mesenchymal stem cell\", \"proportion\": 0.14638780803869306, \"ci_err\": 0.0034396246893536875, \"ci_low\": 0.14294818334933937, \"ci_high\": 0.14982743272804674}, {\"index\": \"Bulk 1\", \"cell_type\": \"mesenchymal stem cell\", \"proportion\": 0.21924882222412825, \"ci_err\": 0.004126562147531543, \"ci_low\": 0.2151222600765967, \"ci_high\": 0.2233753843716598}, {\"index\": \"Bulk 0\", \"cell_type\": \"skeletal muscle satellite cell\", \"proportion\": 0.432325192314539, \"ci_err\": 0.05271665979359064, \"ci_low\": 0.37960853252094834, \"ci_high\": 0.4850418521081296}, {\"index\": \"Bulk 1\", \"cell_type\": \"skeletal muscle satellite cell\", \"proportion\": 0.3150159220433842, \"ci_err\": 0.062254569106544755, \"ci_low\": 0.25276135293683943, \"ci_high\": 0.37727049114992894}]}}, {\"mode\": \"vega-lite\"});\n</script>",
      "text/plain": "alt.FacetChart(...)"
     },
     "execution_count": 11,
     "metadata": {},
     "output_type": "execute_result"
    }
   ],
   "source": [
    "model.plot_proportions('bar').properties(title=\"Muscle Proportion Estimates\")"
   ]
  },
  {
   "cell_type": "code",
   "execution_count": 12,
   "metadata": {},
   "outputs": [
    {
     "data": {
      "text/html": "\n<div id=\"altair-viz-3d50203baa1b4ca4934bec2cc010e0d6\"></div>\n<script type=\"text/javascript\">\n  var VEGA_DEBUG = (typeof VEGA_DEBUG == \"undefined\") ? {} : VEGA_DEBUG;\n  (function(spec, embedOpt){\n    let outputDiv = document.currentScript.previousElementSibling;\n    if (outputDiv.id !== \"altair-viz-3d50203baa1b4ca4934bec2cc010e0d6\") {\n      outputDiv = document.getElementById(\"altair-viz-3d50203baa1b4ca4934bec2cc010e0d6\");\n    }\n    const paths = {\n      \"vega\": \"https://cdn.jsdelivr.net/npm//vega@5?noext\",\n      \"vega-lib\": \"https://cdn.jsdelivr.net/npm//vega-lib?noext\",\n      \"vega-lite\": \"https://cdn.jsdelivr.net/npm//vega-lite@4.17.0?noext\",\n      \"vega-embed\": \"https://cdn.jsdelivr.net/npm//vega-embed@6?noext\",\n    };\n\n    function maybeLoadScript(lib, version) {\n      var key = `${lib.replace(\"-\", \"\")}_version`;\n      return (VEGA_DEBUG[key] == version) ?\n        Promise.resolve(paths[lib]) :\n        new Promise(function(resolve, reject) {\n          var s = document.createElement('script');\n          document.getElementsByTagName(\"head\")[0].appendChild(s);\n          s.async = true;\n          s.onload = () => {\n            VEGA_DEBUG[key] = version;\n            return resolve(paths[lib]);\n          };\n          s.onerror = () => reject(`Error loading script: ${paths[lib]}`);\n          s.src = paths[lib];\n        });\n    }\n\n    function showError(err) {\n      outputDiv.innerHTML = `<div class=\"error\" style=\"color:red;\">${err}</div>`;\n      throw err;\n    }\n\n    function displayChart(vegaEmbed) {\n      vegaEmbed(outputDiv, spec, embedOpt)\n        .catch(err => showError(`Javascript Error: ${err.message}<br>This usually means there's a typo in your chart specification. See the javascript console for the full traceback.`));\n    }\n\n    if(typeof define === \"function\" && define.amd) {\n      requirejs.config({paths});\n      require([\"vega-embed\"], displayChart, err => showError(`Error loading script: ${err.message}`));\n    } else {\n      maybeLoadScript(\"vega\", \"5\")\n        .then(() => maybeLoadScript(\"vega-lite\", \"4.17.0\"))\n        .then(() => maybeLoadScript(\"vega-embed\", \"6\"))\n        .catch(showError)\n        .then(() => displayChart(vegaEmbed));\n    }\n  })({\"config\": {\"view\": {\"continuousWidth\": 400, \"continuousHeight\": 300}}, \"data\": {\"name\": \"data-bb2a6f8d8c2241919e397307c726c218\"}, \"mark\": \"bar\", \"encoding\": {\"color\": {\"field\": \"cell_type\", \"type\": \"nominal\"}, \"x\": {\"axis\": {\"title\": \"Bulk\"}, \"field\": \"index\", \"type\": \"nominal\"}, \"y\": {\"aggregate\": \"sum\", \"axis\": {\"title\": \"Proportion\"}, \"field\": \"proportion\", \"stack\": \"normalize\", \"type\": \"quantitative\"}}, \"title\": \"Muscle Proportion Estimates\", \"$schema\": \"https://vega.github.io/schema/vega-lite/v4.17.0.json\", \"datasets\": {\"data-bb2a6f8d8c2241919e397307c726c218\": [{\"index\": \"Bulk 0\", \"cell_type\": \"B cell\", \"proportion\": 0.02796167038511576, \"ci_err\": 0.022564510828227947, \"ci_low\": 0.005397159556887812, \"ci_high\": 0.05052618121334371}, {\"index\": \"Bulk 1\", \"cell_type\": \"B cell\", \"proportion\": 0.03786424931316328, \"ci_err\": 0.027165575584661216, \"ci_low\": 0.010698673728502067, \"ci_high\": 0.0650298248978245}, {\"index\": \"Bulk 0\", \"cell_type\": \"T cell\", \"proportion\": 0.0, \"ci_err\": 0.013741672314711687, \"ci_low\": 0.0, \"ci_high\": 0.013741672314711687}, {\"index\": \"Bulk 1\", \"cell_type\": \"T cell\", \"proportion\": 0.0, \"ci_err\": 0.01278589716841136, \"ci_low\": 0.0, \"ci_high\": 0.01278589716841136}, {\"index\": \"Bulk 0\", \"cell_type\": \"endothelial cell\", \"proportion\": 0.14995185924309115, \"ci_err\": 0.002932182034887376, \"ci_low\": 0.14701967720820378, \"ci_high\": 0.15288404127797853}, {\"index\": \"Bulk 1\", \"cell_type\": \"endothelial cell\", \"proportion\": 0.14134746536674536, \"ci_err\": 0.004573673530094413, \"ci_low\": 0.13677379183665095, \"ci_high\": 0.14592113889683977}, {\"index\": \"Bulk 0\", \"cell_type\": \"macrophage\", \"proportion\": 0.24337347001856102, \"ci_err\": 0.003421510893923174, \"ci_low\": 0.23995195912463785, \"ci_high\": 0.2467949809124842}, {\"index\": \"Bulk 1\", \"cell_type\": \"macrophage\", \"proportion\": 0.2865235410525788, \"ci_err\": 0.005425656815817692, \"ci_low\": 0.28109788423676113, \"ci_high\": 0.2919491978683965}, {\"index\": \"Bulk 0\", \"cell_type\": \"mesenchymal stem cell\", \"proportion\": 0.14638780803869306, \"ci_err\": 0.0034396246893536875, \"ci_low\": 0.14294818334933937, \"ci_high\": 0.14982743272804674}, {\"index\": \"Bulk 1\", \"cell_type\": \"mesenchymal stem cell\", \"proportion\": 0.21924882222412825, \"ci_err\": 0.004126562147531543, \"ci_low\": 0.2151222600765967, \"ci_high\": 0.2233753843716598}, {\"index\": \"Bulk 0\", \"cell_type\": \"skeletal muscle satellite cell\", \"proportion\": 0.432325192314539, \"ci_err\": 0.05271665979359064, \"ci_low\": 0.37960853252094834, \"ci_high\": 0.4850418521081296}, {\"index\": \"Bulk 1\", \"cell_type\": \"skeletal muscle satellite cell\", \"proportion\": 0.3150159220433842, \"ci_err\": 0.062254569106544755, \"ci_low\": 0.25276135293683943, \"ci_high\": 0.37727049114992894}]}}, {\"mode\": \"vega-lite\"});\n</script>",
      "text/plain": "alt.Chart(...)"
     },
     "execution_count": 12,
     "metadata": {},
     "output_type": "execute_result"
    }
   ],
   "source": [
    "model.plot_proportions('stacked').properties(title=\"Muscle Proportion Estimates\")"
   ]
  },
  {
   "cell_type": "code",
   "execution_count": null,
   "outputs": [],
   "source": [],
   "metadata": {
    "collapsed": false,
    "pycharm": {
     "name": "#%%\n"
    }
   }
  }
 ],
 "metadata": {
  "kernelspec": {
   "display_name": "Python 3",
   "language": "python",
   "name": "python3"
  },
  "language_info": {
   "codemirror_mode": {
    "name": "ipython",
    "version": 3
   },
   "file_extension": ".py",
   "mimetype": "text/x-python",
   "name": "python",
   "nbconvert_exporter": "python",
   "pygments_lexer": "ipython3",
   "version": "3.9.4"
  }
 },
 "nbformat": 4,
 "nbformat_minor": 2
}
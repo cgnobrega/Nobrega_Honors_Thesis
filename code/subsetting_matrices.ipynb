{
 "cells": [
  {
   "cell_type": "markdown",
   "metadata": {},
   "source": [
    "## Subetting matrices\n",
    "\n",
    "TODO: \n",
    "- subset `fill_Hartig_shared_gene_counts.csv.gz` and `jcoffman_007/jcoffman_007.adult_zebrafish_2015_tailfin.design.txt` to only include cols/rows (respectively) for 0, 2, 4 days (separately) in order with cort first and veh second\n",
    "- subset `fill_sorted_matched_Hou_shared_gene_counts.csv.gz` and `sorted_labeled_GSE137971_cells.csv.gz` to only include columns/rows (respectively) that begin with 0dpa, 2dpa, 4dpa (separately)"
   ]
  },
  {
   "cell_type": "code",
   "execution_count": 2,
   "metadata": {},
   "outputs": [],
   "source": [
    "import pandas as pd\n",
    "import os\n",
    "import numpy as np"
   ]
  },
  {
   "cell_type": "markdown",
   "metadata": {},
   "source": [
    "# Bulk Design Files"
   ]
  },
  {
   "cell_type": "code",
   "execution_count": 3,
   "metadata": {},
   "outputs": [],
   "source": [
    "bulk_design = pd.read_csv(\"jcoffman_007/jcoffman_007.adult_zebrafish_2015_tailfin.design.txt\", sep='\\t')"
   ]
  },
  {
   "cell_type": "code",
   "execution_count": 4,
   "metadata": {},
   "outputs": [],
   "source": [
    "# reindex rows so that the dataframe is sorted to match name aggregation sorting (cort 0, 2, 4 then veh 0, 2, 4)\n",
    "bulk_design = bulk_design.reindex([3, 4, 5, 9, 10, 11, 15, 16, 17, 0, 1, 2, 6, 7, 8, 12, 13, 14])\n",
    "bulk_design = bulk_design.reset_index(drop = True)"
   ]
  },
  {
   "cell_type": "code",
   "execution_count": 5,
   "metadata": {},
   "outputs": [],
   "source": [
    "# export the reindexed dataframe to use on all samples\n",
    "bulk_design_file = os.path.join('.', 'all_bulk_design_file.csv.gz')\n",
    "bulk_design.to_csv(bulk_design_file, index=False, compression=\"gzip\")"
   ]
  },
  {
   "cell_type": "code",
   "execution_count": 6,
   "metadata": {},
   "outputs": [],
   "source": [
    "# group the design dataframe by dpa and split into 0, 2, and 4 as separate dataframes\n",
    "gb = bulk_design.groupby('dpa')    \n",
    "bulk_design_0dpa, bulk_design_2dpa, bulk_design_4dpa = [gb.get_group(x) for x in gb.groups]"
   ]
  },
  {
   "cell_type": "code",
   "execution_count": 7,
   "metadata": {},
   "outputs": [],
   "source": [
    "# check contents\n",
    "#print(bulk_design_0dpa)\n",
    "#print(bulk_design_2dpa)\n",
    "#print(bulk_design_4dpa)"
   ]
  },
  {
   "cell_type": "code",
   "execution_count": 8,
   "metadata": {},
   "outputs": [],
   "source": [
    "# export bulk 0dpa design\n",
    "bulk_design_0dpa_file = os.path.join('.', 'bulk_design_0dpa.csv.gz')\n",
    "bulk_design_0dpa.to_csv(bulk_design_0dpa_file, index=False, compression=\"gzip\")"
   ]
  },
  {
   "cell_type": "code",
   "execution_count": 9,
   "metadata": {},
   "outputs": [],
   "source": [
    "# export bulk 2dpa design\n",
    "bulk_design_2dpa_file = os.path.join('.', 'bulk_design_2dpa.csv.gz')\n",
    "bulk_design_2dpa.to_csv(bulk_design_2dpa_file, index=False, compression=\"gzip\")"
   ]
  },
  {
   "cell_type": "code",
   "execution_count": 10,
   "metadata": {},
   "outputs": [],
   "source": [
    "# export bulk 4dpa design\n",
    "bulk_design_4dpa_file = os.path.join('.', 'bulk_design_4dpa.csv.gz')\n",
    "bulk_design_4dpa.to_csv(bulk_design_4dpa_file, index=False, compression=\"gzip\")"
   ]
  },
  {
   "cell_type": "markdown",
   "metadata": {},
   "source": [
    "# Bulk Count Files"
   ]
  },
  {
   "cell_type": "code",
   "execution_count": 11,
   "metadata": {},
   "outputs": [],
   "source": [
    "bulk_count = pd.read_csv(\"fill_Hartig_shared_gene_counts.csv.gz\", compression=\"gzip\")"
   ]
  },
  {
   "cell_type": "code",
   "execution_count": 12,
   "metadata": {},
   "outputs": [],
   "source": [
    "# reindex cols so that the dataframe is sorted to match name aggregation sorting (cort 0, 2, 4 then veh 0, 2, 4)\n",
    "bulk_count_col = list(bulk_count.columns.values.tolist())\n",
    "col_order = [0, 4, 5, 6, 10, 11, 12, 16, 17, 18, 1, 2, 3, 7, 8, 9, 13, 14, 15]\n",
    "bulk_count_col = [bulk_count_col[i] for i in col_order]\n",
    "bulk_count = bulk_count[bulk_count_col]"
   ]
  },
  {
   "cell_type": "code",
   "execution_count": 13,
   "metadata": {},
   "outputs": [
    {
     "name": "stdout",
     "output_type": "stream",
     "text": [
      "match\n"
     ]
    }
   ],
   "source": [
    "# checking if the bulk count and bulk design files match in their ordering of samples \n",
    "# excluding the first value of the count list because it is the column name for 'genes'\n",
    "count = bulk_count.columns.values.tolist()\n",
    "design = bulk_design['sample'].tolist()\n",
    "if count[1:] == design:\n",
    "    print(\"match\")\n",
    "else: \n",
    "    print(\"no match\")"
   ]
  },
  {
   "cell_type": "code",
   "execution_count": 14,
   "metadata": {},
   "outputs": [],
   "source": [
    "# match is verified, export the reindexed dataframe to use on all samples\n",
    "bulk_count_file = os.path.join('.', 'all_bulk_count_file.csv.gz')\n",
    "bulk_count.to_csv(bulk_count_file,\n",
    "           index=False,\n",
    "           compression=\"gzip\")"
   ]
  },
  {
   "cell_type": "code",
   "execution_count": 15,
   "metadata": {},
   "outputs": [],
   "source": [
    "# create a list of the sample names for each day to use as reference\n",
    "# adding 'genes' so that when subsetting columns, the gene column is included\n",
    "samples_0dpa = ['genes'] + bulk_design_0dpa['sample'].tolist()\n",
    "samples_2dpa = ['genes'] + bulk_design_2dpa['sample'].tolist()\n",
    "samples_4dpa = ['genes'] + bulk_design_4dpa['sample'].tolist()"
   ]
  },
  {
   "cell_type": "code",
   "execution_count": 16,
   "metadata": {},
   "outputs": [],
   "source": [
    "# subsetting bulk count into only 0dpa based on sample list from above\n",
    "bulk_count_0dpa = bulk_count[bulk_count.columns[bulk_count.columns.isin(samples_0dpa)]]"
   ]
  },
  {
   "cell_type": "code",
   "execution_count": 17,
   "metadata": {},
   "outputs": [],
   "source": [
    "# subsetting bulk count into only 2dpa based on sample list from above\n",
    "bulk_count_2dpa = bulk_count[bulk_count.columns[bulk_count.columns.isin(samples_2dpa)]]"
   ]
  },
  {
   "cell_type": "code",
   "execution_count": 18,
   "metadata": {},
   "outputs": [],
   "source": [
    "# subsetting bulk count into only 4dpa based on sample list from above\n",
    "bulk_count_4dpa = bulk_count[bulk_count.columns[bulk_count.columns.isin(samples_4dpa)]]"
   ]
  },
  {
   "cell_type": "code",
   "execution_count": 19,
   "metadata": {},
   "outputs": [],
   "source": [
    "# export bulk 0dpa count\n",
    "bulk_count_0dpa_file = os.path.join('.', 'bulk_count_0dpa.csv.gz')\n",
    "bulk_count_0dpa.to_csv(bulk_count_0dpa_file, index=False, compression=\"gzip\")"
   ]
  },
  {
   "cell_type": "code",
   "execution_count": 20,
   "metadata": {},
   "outputs": [],
   "source": [
    "# export bulk 2dpa count\n",
    "bulk_count_2dpa_file = os.path.join('.', 'bulk_count_2dpa.csv.gz')\n",
    "bulk_count_2dpa.to_csv(bulk_count_2dpa_file, index=False, compression=\"gzip\")"
   ]
  },
  {
   "cell_type": "code",
   "execution_count": 21,
   "metadata": {},
   "outputs": [],
   "source": [
    "# export bulk 4dpa count\n",
    "bulk_count_4dpa_file = os.path.join('.', 'bulk_count_4dpa.csv.gz')\n",
    "bulk_count_4dpa.to_csv(bulk_count_4dpa_file, index=False, compression=\"gzip\")"
   ]
  },
  {
   "cell_type": "markdown",
   "metadata": {},
   "source": [
    "# Single Count Files"
   ]
  },
  {
   "cell_type": "code",
   "execution_count": 22,
   "metadata": {},
   "outputs": [],
   "source": [
    "single_count = pd.read_csv(\"fill_sorted_matched_Hou_shared_gene_counts.csv.gz\", compression=\"gzip\")"
   ]
  },
  {
   "cell_type": "code",
   "execution_count": 23,
   "metadata": {},
   "outputs": [],
   "source": [
    "# filter the columns to only select those that start with 0dpa (which in this data is 'samp1' or 'samp2')\n",
    "prefixes = ['genes', 'samp1', 'samp2']\n",
    "filter_col = [col for col in single_count if col.startswith(tuple(prefixes))]\n",
    "single_count_0dpa = single_count[filter_col]"
   ]
  },
  {
   "cell_type": "code",
   "execution_count": 24,
   "metadata": {},
   "outputs": [],
   "source": [
    "# filter the columns to only select those that start with 2dpa\n",
    "prefixes = ['genes', '2dpa']\n",
    "filter_col = [col for col in single_count if col.startswith(tuple(prefixes))]\n",
    "single_count_2dpa = single_count[filter_col]"
   ]
  },
  {
   "cell_type": "code",
   "execution_count": 25,
   "metadata": {},
   "outputs": [],
   "source": [
    "# filter the columns to only select those that start with 4dpa\n",
    "prefixes = ['genes', '4dpa']\n",
    "filter_col = [col for col in single_count if col.startswith(tuple(prefixes))]\n",
    "single_count_4dpa = single_count[filter_col]"
   ]
  },
  {
   "cell_type": "code",
   "execution_count": 26,
   "metadata": {},
   "outputs": [],
   "source": [
    "# export single 0dpa count\n",
    "single_count_0dpa_file = os.path.join('.', 'single_count_0dpa.csv.gz')\n",
    "single_count_0dpa.to_csv(single_count_0dpa_file, index=False, compression=\"gzip\")"
   ]
  },
  {
   "cell_type": "code",
   "execution_count": 27,
   "metadata": {},
   "outputs": [],
   "source": [
    "# export single 2dpa count\n",
    "single_count_2dpa_file = os.path.join('.', 'single_count_2dpa.csv.gz')\n",
    "single_count_2dpa.to_csv(single_count_2dpa_file, index=False, compression=\"gzip\")"
   ]
  },
  {
   "cell_type": "code",
   "execution_count": 28,
   "metadata": {},
   "outputs": [],
   "source": [
    "# export single 4dpa count\n",
    "single_count_4dpa_file = os.path.join('.', 'single_count_4dpa.csv.gz')\n",
    "single_count_4dpa.to_csv(single_count_4dpa_file, index=False, compression=\"gzip\")"
   ]
  },
  {
   "cell_type": "markdown",
   "metadata": {},
   "source": [
    "# Single Design Files"
   ]
  },
  {
   "cell_type": "code",
   "execution_count": 29,
   "metadata": {},
   "outputs": [],
   "source": [
    "single_design = pd.read_csv(\"sorted_labeled_GSE137971_cells.csv.gz\", compression=\"gzip\")"
   ]
  },
  {
   "cell_type": "code",
   "execution_count": 30,
   "metadata": {},
   "outputs": [],
   "source": [
    "# filter design file rows by rows that contain 0dpa (which in this data is 'samp1' or 'samp2')\n",
    "single_design_0dpa = single_design[single_design['samples'].str.contains('samp1|samp2')]"
   ]
  },
  {
   "cell_type": "code",
   "execution_count": 31,
   "metadata": {},
   "outputs": [],
   "source": [
    "# filter design file rows by rows that contain 2dpa \n",
    "single_design_2dpa = single_design[single_design['samples'].str.contains('2dpa')]"
   ]
  },
  {
   "cell_type": "code",
   "execution_count": 32,
   "metadata": {},
   "outputs": [],
   "source": [
    "# filter design file rows by rows that contain 4dpa \n",
    "single_design_4dpa = single_design[single_design['samples'].str.contains('4dpa')]"
   ]
  },
  {
   "cell_type": "code",
   "execution_count": 33,
   "metadata": {},
   "outputs": [],
   "source": [
    "# export single 0dpa design\n",
    "single_design_0dpa_file = os.path.join('.', 'single_design_0dpa.csv.gz')\n",
    "single_design_0dpa.to_csv(single_design_0dpa_file, index=False, compression=\"gzip\")"
   ]
  },
  {
   "cell_type": "code",
   "execution_count": 34,
   "metadata": {},
   "outputs": [],
   "source": [
    "# export single 2dpa design\n",
    "single_design_2dpa_file = os.path.join('.', 'single_design_2dpa.csv.gz')\n",
    "single_design_2dpa.to_csv(single_design_2dpa_file, index=False, compression=\"gzip\")"
   ]
  },
  {
   "cell_type": "code",
   "execution_count": 35,
   "metadata": {},
   "outputs": [],
   "source": [
    "# export single 4dpa design\n",
    "single_design_4dpa_file = os.path.join('.', 'single_design_4dpa.csv.gz')\n",
    "single_design_4dpa.to_csv(single_design_4dpa_file, index=False, compression=\"gzip\")"
   ]
  }
 ],
 "metadata": {
  "kernelspec": {
   "display_name": "Python 3",
   "language": "python",
   "name": "python3"
  },
  "language_info": {
   "codemirror_mode": {
    "name": "ipython",
    "version": 3
   },
   "file_extension": ".py",
   "mimetype": "text/x-python",
   "name": "python",
   "nbconvert_exporter": "python",
   "pygments_lexer": "ipython3",
   "version": "3.7.0"
  }
 },
 "nbformat": 4,
 "nbformat_minor": 2
}

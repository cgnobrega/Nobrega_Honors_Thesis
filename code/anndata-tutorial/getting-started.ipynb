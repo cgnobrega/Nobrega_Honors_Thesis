{
 "cells": [
  {
   "cell_type": "markdown",
   "metadata": {},
   "source": [
    "# Getting started with anndata"
   ]
  },
  {
   "cell_type": "markdown",
   "metadata": {},
   "source": [
    "In this tutorial, we introduce basic properties of the central object, [AnnData](http://anndata.readthedocs.io/en/latest/anndata.AnnData.html).\n",
    "\n",
    "The whole purpose of `AnnData` is to make book-keeping for understanding high-dimensional measured data in light of annotated metadata easier."
   ]
  },
  {
   "cell_type": "markdown",
   "metadata": {},
   "source": [
    "<div class=\"alert alert-info\">\n",
    "\n",
    "**Note**\n",
    "    \n",
    "* Download the notebook by clicking on the _Edit on GitHub_ button. On GitHub, you can download using the _Raw_ button via right-click and _Save Link As_. Alternatively, download the whole [anndata-tutorial](https://github.com/theislab/anndata-tutorials) repository.\n",
    "* In Jupyter notebooks and lab, you can see the documentation for a python function by hitting ``SHIFT + TAB``. Hit it twice to expand the view.\n",
    "* This tutorial started out as a [blog post in 2017](https://falexwolf.me/2017/introducing-anndata/).\n",
    "\n",
    "</div>"
   ]
  },
  {
   "cell_type": "code",
   "execution_count": 4,
   "metadata": {
    "collapsed": false,
    "jupyter": {
     "outputs_hidden": false
    }
   },
   "outputs": [
    {
     "name": "stdout",
     "output_type": "stream",
     "text": [
      "0.7.8\n"
     ]
    }
   ],
   "source": [
    "import numpy as np\n",
    "import pandas as pd\n",
    "import anndata as ad\n",
    "print(ad.__version__)"
   ]
  },
  {
   "cell_type": "markdown",
   "metadata": {},
   "source": [
    "Let's look at a data matrix with `n_obs` observations (samples) of `n_vars` variables (features)."
   ]
  },
  {
   "cell_type": "code",
   "execution_count": 5,
   "metadata": {},
   "outputs": [],
   "source": [
    "n_obs, n_vars = 10000, 10\n",
    "X = np.random.random((n_obs, n_vars))"
   ]
  },
  {
   "cell_type": "markdown",
   "metadata": {},
   "source": [
    "<div class=\"alert alert-info\">\n",
    "\n",
    "**Note**\n",
    "\n",
    "* The convention is that observations of sets of variables are stored in the rows of a data matrix $\\mathbf{X}$. This is the convention of the statistics & machine learning textbooks ([Hastie et al., 2009](https://web.stanford.edu/~hastie/ElemStatLearn/); [Murphy,  2012](https://mitpress.mit.edu/books/machine-learning-0)), of _tidy data_ [(Wickham, 2014)](https://doi.org/10.18637/jss.v059.i10), and of established statistics and machine learning packages in Python ([statsmodels](http://www.statsmodels.org/stable/index.html), [scikit-learn](http://scikit-learn.org/)).\n",
    "\n",
    "* In software for transcriptomic data in R, the opposite convention is used: the observed expression of a gene across a set of samples is stored in rows of a matrix.\n",
    "    \n",
    "* In some tools that convert to _tidy data_ format, data is cast to a long table format that spreads samples across many rows storing multiple variables in one column, for instance, in [tidySummarizeExperiment](https://doi.org/doi:10.18129/B9.bioc.tidySummarizedExperiment). Adoption of the original _tidy data_ definition by Wickham seems hence not consistent.\n",
    "\n",
    "</div>"
   ]
  },
  {
   "cell_type": "markdown",
   "metadata": {},
   "source": [
    "Let's make this a dataframe and name the variables:"
   ]
  },
  {
   "cell_type": "code",
   "execution_count": 6,
   "metadata": {},
   "outputs": [],
   "source": [
    "df = pd.DataFrame(X, columns=list('ABCDEFGHIJ'), index=np.arange(n_obs, dtype=int).astype(str))"
   ]
  },
  {
   "cell_type": "code",
   "execution_count": 7,
   "metadata": {},
   "outputs": [
    {
     "data": {
      "text/plain": "          A         B         C         D         E         F         G  \\\n0  0.686067  0.165131  0.188873  0.760640  0.345323  0.015675  0.807935   \n1  0.796617  0.194364  0.729599  0.894906  0.538508  0.075444  0.591099   \n2  0.750019  0.402359  0.445108  0.206691  0.753859  0.333737  0.461930   \n3  0.203210  0.669006  0.218466  0.891857  0.194046  0.014161  0.135321   \n4  0.289227  0.189112  0.404395  0.225374  0.276039  0.178365  0.449441   \n\n          H         I         J  \n0  0.058725  0.889631  0.303586  \n1  0.326530  0.290197  0.780713  \n2  0.001083  0.719836  0.780723  \n3  0.100129  0.241680  0.393725  \n4  0.619450  0.500090  0.247056  ",
      "text/html": "<div>\n<style scoped>\n    .dataframe tbody tr th:only-of-type {\n        vertical-align: middle;\n    }\n\n    .dataframe tbody tr th {\n        vertical-align: top;\n    }\n\n    .dataframe thead th {\n        text-align: right;\n    }\n</style>\n<table border=\"1\" class=\"dataframe\">\n  <thead>\n    <tr style=\"text-align: right;\">\n      <th></th>\n      <th>A</th>\n      <th>B</th>\n      <th>C</th>\n      <th>D</th>\n      <th>E</th>\n      <th>F</th>\n      <th>G</th>\n      <th>H</th>\n      <th>I</th>\n      <th>J</th>\n    </tr>\n  </thead>\n  <tbody>\n    <tr>\n      <th>0</th>\n      <td>0.686067</td>\n      <td>0.165131</td>\n      <td>0.188873</td>\n      <td>0.760640</td>\n      <td>0.345323</td>\n      <td>0.015675</td>\n      <td>0.807935</td>\n      <td>0.058725</td>\n      <td>0.889631</td>\n      <td>0.303586</td>\n    </tr>\n    <tr>\n      <th>1</th>\n      <td>0.796617</td>\n      <td>0.194364</td>\n      <td>0.729599</td>\n      <td>0.894906</td>\n      <td>0.538508</td>\n      <td>0.075444</td>\n      <td>0.591099</td>\n      <td>0.326530</td>\n      <td>0.290197</td>\n      <td>0.780713</td>\n    </tr>\n    <tr>\n      <th>2</th>\n      <td>0.750019</td>\n      <td>0.402359</td>\n      <td>0.445108</td>\n      <td>0.206691</td>\n      <td>0.753859</td>\n      <td>0.333737</td>\n      <td>0.461930</td>\n      <td>0.001083</td>\n      <td>0.719836</td>\n      <td>0.780723</td>\n    </tr>\n    <tr>\n      <th>3</th>\n      <td>0.203210</td>\n      <td>0.669006</td>\n      <td>0.218466</td>\n      <td>0.891857</td>\n      <td>0.194046</td>\n      <td>0.014161</td>\n      <td>0.135321</td>\n      <td>0.100129</td>\n      <td>0.241680</td>\n      <td>0.393725</td>\n    </tr>\n    <tr>\n      <th>4</th>\n      <td>0.289227</td>\n      <td>0.189112</td>\n      <td>0.404395</td>\n      <td>0.225374</td>\n      <td>0.276039</td>\n      <td>0.178365</td>\n      <td>0.449441</td>\n      <td>0.619450</td>\n      <td>0.500090</td>\n      <td>0.247056</td>\n    </tr>\n  </tbody>\n</table>\n</div>"
     },
     "execution_count": 7,
     "metadata": {},
     "output_type": "execute_result"
    }
   ],
   "source": [
    "df.head()"
   ]
  },
  {
   "cell_type": "markdown",
   "metadata": {},
   "source": [
    "Let's imagine that the observations come from instruments characterizing 10 readouts in a multi-year study with samples taken from different subjects at different sites. We'd typically get that information in some format and then store it in another DataFrame:"
   ]
  },
  {
   "cell_type": "code",
   "execution_count": 8,
   "metadata": {
    "collapsed": false,
    "jupyter": {
     "outputs_hidden": false
    }
   },
   "outputs": [],
   "source": [
    "obs_meta = pd.DataFrame({\n",
    "        'time_yr': np.random.choice([0, 2, 4, 8], n_obs),\n",
    "        'subject_id': np.random.choice(['subject 1', 'subject 2', 'subject 4', 'subject 8'], n_obs),\n",
    "        'instrument_type': np.random.choice(['type a', 'type b'], n_obs),\n",
    "        'site': np.random.choice(['site x', 'site y'], n_obs),\n",
    "    },\n",
    "    index=np.arange(n_obs, dtype=int).astype(str),    # these are the same IDs of observations as above!\n",
    ")"
   ]
  },
  {
   "cell_type": "markdown",
   "metadata": {},
   "source": [
    "We'd like to understand the readout data in light of the metadata, which will require training models that take into account the metadata.\n",
    "\n",
    "Let us join the readout data with the metadata."
   ]
  },
  {
   "cell_type": "code",
   "execution_count": 9,
   "metadata": {
    "collapsed": false,
    "jupyter": {
     "outputs_hidden": false
    }
   },
   "outputs": [],
   "source": [
    "adata = ad.AnnData(df, obs=obs_meta)"
   ]
  },
  {
   "cell_type": "markdown",
   "metadata": {},
   "source": [
    "We now have a single data container that keeps track of everything:"
   ]
  },
  {
   "cell_type": "code",
   "execution_count": 10,
   "metadata": {
    "collapsed": false,
    "jupyter": {
     "outputs_hidden": false
    }
   },
   "outputs": [
    {
     "name": "stdout",
     "output_type": "stream",
     "text": [
      "AnnData object with n_obs × n_vars = 10000 × 10\n",
      "    obs: 'time_yr', 'subject_id', 'instrument_type', 'site'\n"
     ]
    }
   ],
   "source": [
    "print(adata)"
   ]
  },
  {
   "cell_type": "markdown",
   "metadata": {},
   "source": [
    "If we want DataFrames back, we'd do:"
   ]
  },
  {
   "cell_type": "code",
   "execution_count": 11,
   "metadata": {},
   "outputs": [
    {
     "data": {
      "text/plain": "          A         B         C         D         E         F         G  \\\n0  0.686067  0.165131  0.188873  0.760640  0.345323  0.015675  0.807935   \n1  0.796617  0.194364  0.729599  0.894906  0.538508  0.075444  0.591099   \n2  0.750019  0.402359  0.445108  0.206691  0.753859  0.333737  0.461930   \n3  0.203210  0.669006  0.218466  0.891857  0.194046  0.014161  0.135321   \n4  0.289227  0.189112  0.404395  0.225374  0.276039  0.178365  0.449441   \n\n          H         I         J  \n0  0.058725  0.889630  0.303586  \n1  0.326530  0.290197  0.780713  \n2  0.001083  0.719836  0.780723  \n3  0.100129  0.241680  0.393725  \n4  0.619450  0.500090  0.247056  ",
      "text/html": "<div>\n<style scoped>\n    .dataframe tbody tr th:only-of-type {\n        vertical-align: middle;\n    }\n\n    .dataframe tbody tr th {\n        vertical-align: top;\n    }\n\n    .dataframe thead th {\n        text-align: right;\n    }\n</style>\n<table border=\"1\" class=\"dataframe\">\n  <thead>\n    <tr style=\"text-align: right;\">\n      <th></th>\n      <th>A</th>\n      <th>B</th>\n      <th>C</th>\n      <th>D</th>\n      <th>E</th>\n      <th>F</th>\n      <th>G</th>\n      <th>H</th>\n      <th>I</th>\n      <th>J</th>\n    </tr>\n  </thead>\n  <tbody>\n    <tr>\n      <th>0</th>\n      <td>0.686067</td>\n      <td>0.165131</td>\n      <td>0.188873</td>\n      <td>0.760640</td>\n      <td>0.345323</td>\n      <td>0.015675</td>\n      <td>0.807935</td>\n      <td>0.058725</td>\n      <td>0.889630</td>\n      <td>0.303586</td>\n    </tr>\n    <tr>\n      <th>1</th>\n      <td>0.796617</td>\n      <td>0.194364</td>\n      <td>0.729599</td>\n      <td>0.894906</td>\n      <td>0.538508</td>\n      <td>0.075444</td>\n      <td>0.591099</td>\n      <td>0.326530</td>\n      <td>0.290197</td>\n      <td>0.780713</td>\n    </tr>\n    <tr>\n      <th>2</th>\n      <td>0.750019</td>\n      <td>0.402359</td>\n      <td>0.445108</td>\n      <td>0.206691</td>\n      <td>0.753859</td>\n      <td>0.333737</td>\n      <td>0.461930</td>\n      <td>0.001083</td>\n      <td>0.719836</td>\n      <td>0.780723</td>\n    </tr>\n    <tr>\n      <th>3</th>\n      <td>0.203210</td>\n      <td>0.669006</td>\n      <td>0.218466</td>\n      <td>0.891857</td>\n      <td>0.194046</td>\n      <td>0.014161</td>\n      <td>0.135321</td>\n      <td>0.100129</td>\n      <td>0.241680</td>\n      <td>0.393725</td>\n    </tr>\n    <tr>\n      <th>4</th>\n      <td>0.289227</td>\n      <td>0.189112</td>\n      <td>0.404395</td>\n      <td>0.225374</td>\n      <td>0.276039</td>\n      <td>0.178365</td>\n      <td>0.449441</td>\n      <td>0.619450</td>\n      <td>0.500090</td>\n      <td>0.247056</td>\n    </tr>\n  </tbody>\n</table>\n</div>"
     },
     "execution_count": 11,
     "metadata": {},
     "output_type": "execute_result"
    }
   ],
   "source": [
    "adata.to_df().head()"
   ]
  },
  {
   "cell_type": "code",
   "execution_count": 12,
   "metadata": {},
   "outputs": [
    {
     "data": {
      "text/plain": "   time_yr subject_id instrument_type    site\n0        8  subject 2          type b  site x\n1        8  subject 2          type b  site y\n2        2  subject 2          type a  site y\n3        4  subject 1          type a  site x\n4        0  subject 4          type b  site x",
      "text/html": "<div>\n<style scoped>\n    .dataframe tbody tr th:only-of-type {\n        vertical-align: middle;\n    }\n\n    .dataframe tbody tr th {\n        vertical-align: top;\n    }\n\n    .dataframe thead th {\n        text-align: right;\n    }\n</style>\n<table border=\"1\" class=\"dataframe\">\n  <thead>\n    <tr style=\"text-align: right;\">\n      <th></th>\n      <th>time_yr</th>\n      <th>subject_id</th>\n      <th>instrument_type</th>\n      <th>site</th>\n    </tr>\n  </thead>\n  <tbody>\n    <tr>\n      <th>0</th>\n      <td>8</td>\n      <td>subject 2</td>\n      <td>type b</td>\n      <td>site x</td>\n    </tr>\n    <tr>\n      <th>1</th>\n      <td>8</td>\n      <td>subject 2</td>\n      <td>type b</td>\n      <td>site y</td>\n    </tr>\n    <tr>\n      <th>2</th>\n      <td>2</td>\n      <td>subject 2</td>\n      <td>type a</td>\n      <td>site y</td>\n    </tr>\n    <tr>\n      <th>3</th>\n      <td>4</td>\n      <td>subject 1</td>\n      <td>type a</td>\n      <td>site x</td>\n    </tr>\n    <tr>\n      <th>4</th>\n      <td>0</td>\n      <td>subject 4</td>\n      <td>type b</td>\n      <td>site x</td>\n    </tr>\n  </tbody>\n</table>\n</div>"
     },
     "execution_count": 12,
     "metadata": {},
     "output_type": "execute_result"
    }
   ],
   "source": [
    "adata.obs.head()"
   ]
  },
  {
   "cell_type": "markdown",
   "metadata": {},
   "source": [
    "## Subsetting"
   ]
  },
  {
   "cell_type": "markdown",
   "metadata": {},
   "source": [
    "One of the most important operations on the joint data matrix is subsetting. For instance, to focus on only subsets of variables or observations, or to define train-test splits for a machine learning model."
   ]
  },
  {
   "cell_type": "markdown",
   "metadata": {},
   "source": [
    "<div class=\"alert alert-info\">\n",
    "\n",
    "**Note**\n",
    "\n",
    "Similar to numpy arrays, AnnData objects can either hold actual data or reference another `AnnData` object. In the later case, they are referred to as \"view\", as in numpy.\n",
    "\n",
    "Subsetting AnnData objects always returns views, which has two advantages:\n",
    "\n",
    "- no new memory is allocated\n",
    "- it is possible to modify the underlying AnnData object\n",
    "\n",
    "You can get an actual AnnData object from a view by calling `.copy()` on the view. Usually, this is not necessary, as any modification of elements of a view (calling `.[]` on an attribute of the view) internally calls `.copy()` and makes the view an AnnData object that holds actual data. See the example below.\n",
    "    \n",
    "</div>"
   ]
  },
  {
   "cell_type": "code",
   "execution_count": 13,
   "metadata": {
    "collapsed": false,
    "jupyter": {
     "outputs_hidden": false
    }
   },
   "outputs": [
    {
     "data": {
      "text/plain": "AnnData object with n_obs × n_vars = 10000 × 10\n    obs: 'time_yr', 'subject_id', 'instrument_type', 'site'"
     },
     "execution_count": 13,
     "metadata": {},
     "output_type": "execute_result"
    }
   ],
   "source": [
    "adata"
   ]
  },
  {
   "cell_type": "markdown",
   "metadata": {},
   "source": [
    "Get access to the first 5 rows for variables `'A'` and `'C'`."
   ]
  },
  {
   "cell_type": "markdown",
   "metadata": {},
   "source": [
    "<div class=\"alert alert-info\">\n",
    "\n",
    "**Note**\n",
    "\n",
    "Indexing into AnnData will assume that integer arguments to `[]` behave like `.iloc` in pandas, whereas string arguments behave like `.loc`. `AnnData` always assumes string indices.\n",
    "    \n",
    "</div> "
   ]
  },
  {
   "cell_type": "code",
   "execution_count": 14,
   "metadata": {
    "collapsed": false,
    "jupyter": {
     "outputs_hidden": false
    }
   },
   "outputs": [
    {
     "data": {
      "text/plain": "View of AnnData object with n_obs × n_vars = 5 × 2\n    obs: 'time_yr', 'subject_id', 'instrument_type', 'site'"
     },
     "execution_count": 14,
     "metadata": {},
     "output_type": "execute_result"
    }
   ],
   "source": [
    "adata[:5, ['A', 'C']]"
   ]
  },
  {
   "cell_type": "markdown",
   "metadata": {},
   "source": [
    "This is a view! If we want an `AnnData` that holds the data in memory, let's call `.copy()`"
   ]
  },
  {
   "cell_type": "code",
   "execution_count": 15,
   "metadata": {},
   "outputs": [],
   "source": [
    "adata_subset = adata[:5, ['A', 'C']].copy()"
   ]
  },
  {
   "cell_type": "markdown",
   "metadata": {},
   "source": [
    "For a view, we can also set the first 3 elements of a column."
   ]
  },
  {
   "cell_type": "code",
   "execution_count": 16,
   "metadata": {
    "collapsed": false,
    "jupyter": {
     "outputs_hidden": false
    }
   },
   "outputs": [
    {
     "name": "stdout",
     "output_type": "stream",
     "text": [
      "[[0.6860666871070862], [0.7966173887252808], [0.750019371509552]]\n",
      "[[0.0], [0.0], [0.0]]\n"
     ]
    }
   ],
   "source": [
    "print(adata[:3, 'A'].X.tolist())\n",
    "adata[:3, 'A'].X = [0, 0, 0]\n",
    "print(adata[:3, 'A'].X.tolist())"
   ]
  },
  {
   "cell_type": "markdown",
   "metadata": {},
   "source": [
    "A convenience design choice is the following: If you try to access parts of a view of an AnnData, the content will be auto-copied and a data-storing object will be generated."
   ]
  },
  {
   "cell_type": "code",
   "execution_count": 17,
   "metadata": {
    "collapsed": false,
    "jupyter": {
     "outputs_hidden": false
    }
   },
   "outputs": [],
   "source": [
    "adata_subset = adata[:3, ['A', 'B']]"
   ]
  },
  {
   "cell_type": "code",
   "execution_count": 18,
   "metadata": {
    "collapsed": false,
    "jupyter": {
     "outputs_hidden": false
    }
   },
   "outputs": [
    {
     "data": {
      "text/plain": "View of AnnData object with n_obs × n_vars = 3 × 2\n    obs: 'time_yr', 'subject_id', 'instrument_type', 'site'"
     },
     "execution_count": 18,
     "metadata": {},
     "output_type": "execute_result"
    }
   ],
   "source": [
    "adata_subset"
   ]
  },
  {
   "cell_type": "code",
   "execution_count": 19,
   "metadata": {
    "collapsed": false,
    "jupyter": {
     "outputs_hidden": false
    }
   },
   "outputs": [
    {
     "name": "stderr",
     "output_type": "stream",
     "text": [
      "Trying to set attribute `.obs` of view, copying.\n"
     ]
    }
   ],
   "source": [
    "adata_subset.obs['foo'] = range(3)"
   ]
  },
  {
   "cell_type": "markdown",
   "metadata": {},
   "source": [
    "Now `adata_subset` stores the actual data and is no longer just a reference to `adata`."
   ]
  },
  {
   "cell_type": "code",
   "execution_count": 20,
   "metadata": {
    "collapsed": false,
    "jupyter": {
     "outputs_hidden": false
    }
   },
   "outputs": [
    {
     "data": {
      "text/plain": "AnnData object with n_obs × n_vars = 3 × 2\n    obs: 'time_yr', 'subject_id', 'instrument_type', 'site', 'foo'"
     },
     "execution_count": 20,
     "metadata": {},
     "output_type": "execute_result"
    }
   ],
   "source": [
    "adata_subset"
   ]
  },
  {
   "cell_type": "markdown",
   "metadata": {},
   "source": [
    "Evidently, you can use all of pandas to slice with sequences or boolean indices."
   ]
  },
  {
   "cell_type": "code",
   "execution_count": 21,
   "metadata": {
    "collapsed": false,
    "jupyter": {
     "outputs_hidden": false
    }
   },
   "outputs": [
    {
     "data": {
      "text/plain": "   time_yr subject_id instrument_type    site\n2        2  subject 2          type a  site y\n3        4  subject 1          type a  site x\n5        2  subject 8          type b  site y\n6        4  subject 4          type a  site x\n7        2  subject 8          type b  site y",
      "text/html": "<div>\n<style scoped>\n    .dataframe tbody tr th:only-of-type {\n        vertical-align: middle;\n    }\n\n    .dataframe tbody tr th {\n        vertical-align: top;\n    }\n\n    .dataframe thead th {\n        text-align: right;\n    }\n</style>\n<table border=\"1\" class=\"dataframe\">\n  <thead>\n    <tr style=\"text-align: right;\">\n      <th></th>\n      <th>time_yr</th>\n      <th>subject_id</th>\n      <th>instrument_type</th>\n      <th>site</th>\n    </tr>\n  </thead>\n  <tbody>\n    <tr>\n      <th>2</th>\n      <td>2</td>\n      <td>subject 2</td>\n      <td>type a</td>\n      <td>site y</td>\n    </tr>\n    <tr>\n      <th>3</th>\n      <td>4</td>\n      <td>subject 1</td>\n      <td>type a</td>\n      <td>site x</td>\n    </tr>\n    <tr>\n      <th>5</th>\n      <td>2</td>\n      <td>subject 8</td>\n      <td>type b</td>\n      <td>site y</td>\n    </tr>\n    <tr>\n      <th>6</th>\n      <td>4</td>\n      <td>subject 4</td>\n      <td>type a</td>\n      <td>site x</td>\n    </tr>\n    <tr>\n      <th>7</th>\n      <td>2</td>\n      <td>subject 8</td>\n      <td>type b</td>\n      <td>site y</td>\n    </tr>\n  </tbody>\n</table>\n</div>"
     },
     "execution_count": 21,
     "metadata": {},
     "output_type": "execute_result"
    }
   ],
   "source": [
    "adata[adata.obs.time_yr.isin([2, 4])].obs.head()"
   ]
  },
  {
   "cell_type": "markdown",
   "metadata": {},
   "source": [
    "## Writing the results to disk"
   ]
  },
  {
   "cell_type": "markdown",
   "metadata": {},
   "source": [
    "`AnnData` comes with its own persistent HDF5-based file format: `h5ad`. If string columns with small number ofs categories aren't yet categoricals, `AnnData` will auto-transform to categoricals."
   ]
  },
  {
   "cell_type": "code",
   "execution_count": 22,
   "metadata": {},
   "outputs": [
    {
     "name": "stderr",
     "output_type": "stream",
     "text": [
      "... storing 'subject_id' as categorical\n",
      "... storing 'instrument_type' as categorical\n",
      "... storing 'site' as categorical\n"
     ]
    }
   ],
   "source": [
    "adata.write('my_results.h5ad')"
   ]
  },
  {
   "cell_type": "code",
   "execution_count": 23,
   "metadata": {
    "collapsed": false,
    "jupyter": {
     "outputs_hidden": false
    }
   },
   "outputs": [
    {
     "name": "stderr",
     "output_type": "stream",
     "text": [
      "'my_results.h5ad': unable to open file\n"
     ]
    }
   ],
   "source": [
    "!h5ls 'my_results.h5ad'"
   ]
  },
  {
   "cell_type": "markdown",
   "metadata": {},
   "source": [
    "## Partial reading of large data"
   ]
  },
  {
   "cell_type": "markdown",
   "metadata": {},
   "source": [
    "If a single `.h5ad` is very large, you can partially read it into memory by using backed mode:"
   ]
  },
  {
   "cell_type": "code",
   "execution_count": 24,
   "metadata": {},
   "outputs": [],
   "source": [
    "adata = ad.read('my_results.h5ad', backed='r')"
   ]
  },
  {
   "cell_type": "code",
   "execution_count": 25,
   "metadata": {},
   "outputs": [
    {
     "data": {
      "text/plain": "True"
     },
     "execution_count": 25,
     "metadata": {},
     "output_type": "execute_result"
    }
   ],
   "source": [
    "adata.isbacked"
   ]
  },
  {
   "cell_type": "markdown",
   "metadata": {},
   "source": [
    "If you do this, you'll need to remember that the `AnnData` object has an open connection to the file used for reading:"
   ]
  },
  {
   "cell_type": "code",
   "execution_count": 26,
   "metadata": {},
   "outputs": [
    {
     "data": {
      "text/plain": "WindowsPath('my_results.h5ad')"
     },
     "execution_count": 26,
     "metadata": {},
     "output_type": "execute_result"
    }
   ],
   "source": [
    "adata.filename"
   ]
  },
  {
   "cell_type": "markdown",
   "metadata": {},
   "source": [
    "As we're using it in read-only mode, we can't damage anything. To proceed with this tutorial, we still need to explicitly close it: "
   ]
  },
  {
   "cell_type": "code",
   "execution_count": 27,
   "metadata": {},
   "outputs": [],
   "source": [
    "adata.file.close()"
   ]
  },
  {
   "cell_type": "markdown",
   "metadata": {},
   "source": [
    "## Manipulating the object on disk"
   ]
  },
  {
   "cell_type": "markdown",
   "metadata": {},
   "source": [
    "You just saw that if you index AnnData, you get a view on elements of these data containers that essentially behaves the same as the containers themselves, but doesn't take additional memory.\n",
    "\n",
    "You can do something similar when backing an AnnData object with a file, then AnnData will act as a view on this file, and still essentially behave the same."
   ]
  },
  {
   "cell_type": "code",
   "execution_count": 28,
   "metadata": {},
   "outputs": [],
   "source": [
    "adata = ad.read('my_results.h5ad', backed='r+')"
   ]
  },
  {
   "cell_type": "markdown",
   "metadata": {},
   "source": [
    "See whether the backing file has been created."
   ]
  },
  {
   "cell_type": "code",
   "execution_count": 29,
   "metadata": {
    "collapsed": false,
    "jupyter": {
     "outputs_hidden": false
    }
   },
   "outputs": [
    {
     "name": "stdout",
     "output_type": "stream",
     "text": [
      "[[0.]\n",
      " [0.]\n",
      " [0.]]\n"
     ]
    }
   ],
   "source": [
    "print(adata[:3, 'A'].X)"
   ]
  },
  {
   "cell_type": "code",
   "execution_count": 30,
   "metadata": {
    "collapsed": false,
    "jupyter": {
     "outputs_hidden": false
    }
   },
   "outputs": [
    {
     "data": {
      "text/plain": "AnnData object with n_obs × n_vars = 10000 × 10 backed at 'my_results.h5ad'\n    obs: 'time_yr', 'subject_id', 'instrument_type', 'site'"
     },
     "execution_count": 30,
     "metadata": {},
     "output_type": "execute_result"
    }
   ],
   "source": [
    "adata"
   ]
  },
  {
   "cell_type": "markdown",
   "metadata": {},
   "source": [
    "By nature of subsetting being a view, you can edit the backed object through the `[]` access as if it was in memory:"
   ]
  },
  {
   "cell_type": "code",
   "execution_count": 31,
   "metadata": {
    "collapsed": false,
    "jupyter": {
     "outputs_hidden": false
    }
   },
   "outputs": [],
   "source": [
    "adata[:3, 'A'].X = [1, 1, 1]"
   ]
  },
  {
   "cell_type": "code",
   "execution_count": 32,
   "metadata": {
    "collapsed": false,
    "jupyter": {
     "outputs_hidden": false
    }
   },
   "outputs": [
    {
     "name": "stdout",
     "output_type": "stream",
     "text": [
      "[[1.]\n",
      " [1.]\n",
      " [1.]]\n"
     ]
    }
   ],
   "source": [
    "print(adata[:3, 'A'].X)"
   ]
  },
  {
   "cell_type": "markdown",
   "metadata": {},
   "source": [
    "To save changes to the file:"
   ]
  },
  {
   "cell_type": "code",
   "execution_count": 33,
   "metadata": {},
   "outputs": [],
   "source": [
    "adata.file.close()"
   ]
  }
 ],
 "metadata": {
  "anaconda-cloud": {},
  "kernelspec": {
   "display_name": "Python 3",
   "language": "python",
   "name": "python3"
  },
  "language_info": {
   "codemirror_mode": {
    "name": "ipython",
    "version": 3
   },
   "file_extension": ".py",
   "mimetype": "text/x-python",
   "name": "python",
   "nbconvert_exporter": "python",
   "pygments_lexer": "ipython3",
   "version": "3.7.6"
  }
 },
 "nbformat": 4,
 "nbformat_minor": 4
}